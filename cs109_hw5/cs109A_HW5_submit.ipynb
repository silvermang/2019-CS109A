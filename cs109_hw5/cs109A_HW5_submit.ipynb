{
 "cells": [
  {
   "cell_type": "markdown",
   "metadata": {},
   "source": [
    "\n",
    "# <img style=\"float: left; padding-right: 10px; width: 45px\" src=\"https://raw.githubusercontent.com/Harvard-IACS/2018-CS109A/master/content/styles/iacs.png\"> CS109A Introduction to Data Science\n",
    "\n",
    "## Homework 5: $k$-NN Classification, ROC, and PCA\n",
    "\n",
    "**Harvard University**<br/>\n",
    "**Fall 2019**<br/>\n",
    "**Instructors**: Pavlos Protopapas, Kevin Rader, and Chris Tanner\n",
    "\n",
    "<hr style=\"height:2pt\">\n",
    "\n"
   ]
  },
  {
   "cell_type": "code",
   "execution_count": 1,
   "metadata": {},
   "outputs": [
    {
     "data": {
      "text/html": [
       "<style>\n",
       "blockquote { background: #AEDE94; }\n",
       "h1 { \n",
       "    padding-top: 25px;\n",
       "    padding-bottom: 25px;\n",
       "    text-align: left; \n",
       "    padding-left: 10px;\n",
       "    background-color: #DDDDDD; \n",
       "    color: black;\n",
       "}\n",
       "h2 { \n",
       "    padding-top: 10px;\n",
       "    padding-bottom: 10px;\n",
       "    text-align: left; \n",
       "    padding-left: 5px;\n",
       "    background-color: #EEEEEE; \n",
       "    color: black;\n",
       "}\n",
       "\n",
       "div.exercise {\n",
       "\tbackground-color: #ffcccc;\n",
       "\tborder-color: #E9967A; \t\n",
       "\tborder-left: 5px solid #800080; \n",
       "\tpadding: 0.5em;\n",
       "}\n",
       "\n",
       "span.sub-q {\n",
       "\tfont-weight: bold;\n",
       "}\n",
       "div.theme {\n",
       "\tbackground-color: #DDDDDD;\n",
       "\tborder-color: #E9967A; \t\n",
       "\tborder-left: 5px solid #800080; \n",
       "\tpadding: 0.5em;\n",
       "\tfont-size: 18pt;\n",
       "}\n",
       "div.gc { \n",
       "\tbackground-color: #AEDE94;\n",
       "\tborder-color: #E9967A; \t \n",
       "\tborder-left: 5px solid #800080; \n",
       "\tpadding: 0.5em;\n",
       "\tfont-size: 12pt;\n",
       "}\n",
       "p.q1 { \n",
       "    padding-top: 5px;\n",
       "    padding-bottom: 5px;\n",
       "    text-align: left; \n",
       "    padding-left: 5px;\n",
       "    background-color: #EEEEEE; \n",
       "    color: black;\n",
       "}\n",
       "header {\n",
       "   padding-top: 35px;\n",
       "    padding-bottom: 35px;\n",
       "    text-align: left; \n",
       "    padding-left: 10px;\n",
       "    background-color: #DDDDDD; \n",
       "    color: black;\n",
       "}\n",
       "</style>\n",
       "\n"
      ],
      "text/plain": [
       "<IPython.core.display.HTML object>"
      ]
     },
     "execution_count": 1,
     "metadata": {},
     "output_type": "execute_result"
    }
   ],
   "source": [
    "#RUN THIS CELL \n",
    "import requests\n",
    "from IPython.core.display import HTML\n",
    "styles = requests.get(\"https://raw.githubusercontent.com/Harvard-IACS/2018-CS109A/master/content/styles/cs109.css\").text\n",
    "HTML(styles)"
   ]
  },
  {
   "cell_type": "markdown",
   "metadata": {},
   "source": [
    "### INSTRUCTIONS\n",
    "\n",
    "- To submit your assignment follow the instructions given in Canvas.\n",
    "- Restart the kernel and run the whole notebook again before you submit. \n",
    "- As much as possible, try and stick to the hints and functions we import at the top of the homework, as those are the ideas and tools the class supports and is aiming to teach. And if a problem specifies a particular library you're required to use that library, and possibly others from the import list.\n",
    "- Please use .head() when viewing data. Do not submit a notebook that is excessively long because output was not suppressed or otherwise limited."
   ]
  },
  {
   "cell_type": "code",
   "execution_count": 2,
   "metadata": {},
   "outputs": [],
   "source": [
    "import numpy as np\n",
    "import pandas as pd\n",
    "from scipy.stats import ttest_ind\n",
    "pd.set_option('display.max_columns', 25)\n",
    "\n",
    "from sklearn.linear_model import LinearRegression\n",
    "from sklearn.linear_model import LogisticRegression\n",
    "from sklearn.linear_model import LogisticRegressionCV\n",
    "from sklearn.linear_model import LassoCV\n",
    "\n",
    "from sklearn.neighbors import KNeighborsClassifier\n",
    "from sklearn.model_selection import cross_val_score\n",
    "from sklearn.metrics import accuracy_score\n",
    "from sklearn.model_selection import KFold\n",
    "from sklearn.preprocessing import MinMaxScaler\n",
    "from sklearn.model_selection import train_test_split\n",
    "from sklearn.decomposition import PCA\n",
    "from sklearn import metrics\n",
    "from sklearn.metrics import confusion_matrix\n",
    "from sklearn.metrics import roc_auc_score\n",
    "\n",
    "import matplotlib\n",
    "import matplotlib.pyplot as plt\n",
    "%matplotlib inline\n",
    "\n",
    "import statsmodels.api as sm\n",
    "from statsmodels.api import OLS\n",
    "\n",
    "import seaborn as sns\n",
    "sns.set()"
   ]
  },
  {
   "cell_type": "markdown",
   "metadata": {},
   "source": [
    "\n",
    "## Continuing Cancer Classification from Gene Expressions\n",
    "\n",
    "In this problem, we will continue to work with the 2-class (ALL vs. AML) cancer classification problem from homework 4. The dataset is provided in the file `data/hw4_enhance.csv` and is the same as the previous HW.  Recall: **0 indicates the ALL** class and **1 indicates the AML** class within `Cancer_type`, and columns 2-7130 contain expression levels of 7129 genes recorded from each tissue sample. \n",
    "\n",
    "In the following questions, we will handle the high dimensionality of this problem directly by applying Principal Component Analysis (PCA), and then use the resulting PCA-transformed in logistic regression and $k$-NN modeling."
   ]
  },
  {
   "cell_type": "markdown",
   "metadata": {},
   "source": [
    "<div class='exercise'><b> Question 1 [20 pts]: Baseline Modeling </b></div>\n",
    "\n",
    "First step is to split the observations into an approximate 80-20 train-test split.  Below is the same code from HW4 to do this for you (we again want to make sure everyone has the same splits). Use the training data set to answer the following questions:\n"
   ]
  },
  {
   "cell_type": "markdown",
   "metadata": {},
   "source": [
    "**First step is to split the observations into an approximate 80-20 train-test split. Below is some code to do this for you (we want to make sure everyone has the same splits). `Cancer_type` is again our target column.**"
   ]
  },
  {
   "cell_type": "code",
   "execution_count": 3,
   "metadata": {},
   "outputs": [],
   "source": [
    "np.random.seed(10)\n",
    "df = pd.read_csv('data/hw4_enhance.csv', index_col=0)\n",
    "\n",
    "X_train, X_test, y_train, y_test =train_test_split(df.loc[:, df.columns != 'Cancer_type'], \n",
    "                                                         df.Cancer_type, test_size=0.2, \n",
    "                                                         random_state = 109, \n",
    "                                                         stratify = df.Cancer_type)"
   ]
  },
  {
   "cell_type": "markdown",
   "metadata": {},
   "source": [
    "**1.1** Begin by normalizing all predictors just like you did in HW4.  Use these versions of the predictors throughout this assignment.\n",
    "\n",
    "**1.2** Fit an 'unregularized' multiple logistic regression model (set C=100000) with all the gene predictors from the data set (you did this in HW4).  Report the misclassification rate on both the train and test sets.\n",
    "\n",
    "**1.3** Use regularization to improve the predictions from the multiple logistic regression model. Specifically, use LASSO-like regularization and cross-validation to train the model on the training set (you did this in HW4).  Report the classification accuracy on both the train and test sets.\n",
    "\n",
    "**1.4** Use 5-fold cross-validation to select $k$ for a $k$-NN classification model based on the full predictor set.  Choose between `k = 1,2,5,10,20,50,100,200,500`. \n",
    "\n",
    "**1.5** Provide the confusion matrix for all 3 models above and report the false positive and false negative rates (all in the test set).  Briefly interpret what you notice.\n"
   ]
  },
  {
   "cell_type": "markdown",
   "metadata": {},
   "source": [
    "<hr>\n",
    "\n",
    "### Solutions"
   ]
  },
  {
   "cell_type": "markdown",
   "metadata": {},
   "source": [
    "**1.1 Begin by normalizing all predictors just like you did in HW4.  Use these versions of the predictors throughout this assignment.**"
   ]
  },
  {
   "cell_type": "code",
   "execution_count": 4,
   "metadata": {},
   "outputs": [
    {
     "data": {
      "text/html": [
       "<div>\n",
       "<style scoped>\n",
       "    .dataframe tbody tr th:only-of-type {\n",
       "        vertical-align: middle;\n",
       "    }\n",
       "\n",
       "    .dataframe tbody tr th {\n",
       "        vertical-align: top;\n",
       "    }\n",
       "\n",
       "    .dataframe thead th {\n",
       "        text-align: right;\n",
       "    }\n",
       "</style>\n",
       "<table border=\"1\" class=\"dataframe\">\n",
       "  <thead>\n",
       "    <tr style=\"text-align: right;\">\n",
       "      <th></th>\n",
       "      <th>AFFX-BioB-5_at</th>\n",
       "      <th>AFFX-BioB-M_at</th>\n",
       "      <th>AFFX-BioB-3_at</th>\n",
       "      <th>AFFX-BioC-5_at</th>\n",
       "      <th>AFFX-BioC-3_at</th>\n",
       "      <th>AFFX-BioDn-5_at</th>\n",
       "      <th>AFFX-BioDn-3_at</th>\n",
       "      <th>AFFX-CreX-5_at</th>\n",
       "      <th>AFFX-CreX-3_at</th>\n",
       "      <th>AFFX-BioB-5_st</th>\n",
       "      <th>AFFX-BioB-M_st</th>\n",
       "      <th>AFFX-BioB-3_st</th>\n",
       "      <th>...</th>\n",
       "      <th>U11863_at</th>\n",
       "      <th>U29175_at</th>\n",
       "      <th>U48730_at</th>\n",
       "      <th>U58516_at</th>\n",
       "      <th>U73738_at</th>\n",
       "      <th>X06956_at</th>\n",
       "      <th>X16699_at</th>\n",
       "      <th>X83863_at</th>\n",
       "      <th>Z17240_at</th>\n",
       "      <th>L49218_f_at</th>\n",
       "      <th>M71243_f_at</th>\n",
       "      <th>Z78285_f_at</th>\n",
       "    </tr>\n",
       "  </thead>\n",
       "  <tbody>\n",
       "    <tr>\n",
       "      <th>486</th>\n",
       "      <td>0.574689</td>\n",
       "      <td>0.652904</td>\n",
       "      <td>0.528552</td>\n",
       "      <td>0.202384</td>\n",
       "      <td>0.504132</td>\n",
       "      <td>0.309107</td>\n",
       "      <td>0.439480</td>\n",
       "      <td>0.524446</td>\n",
       "      <td>0.723161</td>\n",
       "      <td>0.411162</td>\n",
       "      <td>0.621681</td>\n",
       "      <td>0.321146</td>\n",
       "      <td>...</td>\n",
       "      <td>0.477952</td>\n",
       "      <td>0.622254</td>\n",
       "      <td>0.516278</td>\n",
       "      <td>0.391074</td>\n",
       "      <td>0.752595</td>\n",
       "      <td>0.484137</td>\n",
       "      <td>0.683508</td>\n",
       "      <td>0.389115</td>\n",
       "      <td>0.413169</td>\n",
       "      <td>0.562775</td>\n",
       "      <td>0.538180</td>\n",
       "      <td>0.524258</td>\n",
       "    </tr>\n",
       "    <tr>\n",
       "      <th>604</th>\n",
       "      <td>0.587407</td>\n",
       "      <td>0.535608</td>\n",
       "      <td>0.249427</td>\n",
       "      <td>0.171417</td>\n",
       "      <td>0.752874</td>\n",
       "      <td>0.513878</td>\n",
       "      <td>0.655342</td>\n",
       "      <td>0.464181</td>\n",
       "      <td>0.324602</td>\n",
       "      <td>0.559483</td>\n",
       "      <td>0.674740</td>\n",
       "      <td>0.341671</td>\n",
       "      <td>...</td>\n",
       "      <td>0.435211</td>\n",
       "      <td>0.519185</td>\n",
       "      <td>0.635019</td>\n",
       "      <td>0.317177</td>\n",
       "      <td>0.700050</td>\n",
       "      <td>0.336964</td>\n",
       "      <td>0.454571</td>\n",
       "      <td>0.406687</td>\n",
       "      <td>0.339430</td>\n",
       "      <td>0.452814</td>\n",
       "      <td>0.388218</td>\n",
       "      <td>0.380795</td>\n",
       "    </tr>\n",
       "    <tr>\n",
       "      <th>341</th>\n",
       "      <td>0.446787</td>\n",
       "      <td>0.630576</td>\n",
       "      <td>0.554963</td>\n",
       "      <td>0.413946</td>\n",
       "      <td>0.662329</td>\n",
       "      <td>0.665892</td>\n",
       "      <td>0.145850</td>\n",
       "      <td>0.648430</td>\n",
       "      <td>0.478307</td>\n",
       "      <td>0.551411</td>\n",
       "      <td>0.289416</td>\n",
       "      <td>0.329466</td>\n",
       "      <td>...</td>\n",
       "      <td>0.410134</td>\n",
       "      <td>0.253019</td>\n",
       "      <td>0.439609</td>\n",
       "      <td>0.233910</td>\n",
       "      <td>0.235984</td>\n",
       "      <td>0.343672</td>\n",
       "      <td>0.733797</td>\n",
       "      <td>0.369846</td>\n",
       "      <td>0.323172</td>\n",
       "      <td>0.500478</td>\n",
       "      <td>0.457391</td>\n",
       "      <td>0.556345</td>\n",
       "    </tr>\n",
       "    <tr>\n",
       "      <th>117</th>\n",
       "      <td>0.568391</td>\n",
       "      <td>0.666018</td>\n",
       "      <td>0.735454</td>\n",
       "      <td>0.564376</td>\n",
       "      <td>0.662796</td>\n",
       "      <td>0.302675</td>\n",
       "      <td>0.513584</td>\n",
       "      <td>0.359108</td>\n",
       "      <td>0.706408</td>\n",
       "      <td>0.272227</td>\n",
       "      <td>0.395238</td>\n",
       "      <td>0.394697</td>\n",
       "      <td>...</td>\n",
       "      <td>0.474741</td>\n",
       "      <td>0.450396</td>\n",
       "      <td>0.574234</td>\n",
       "      <td>0.449615</td>\n",
       "      <td>0.426995</td>\n",
       "      <td>0.390941</td>\n",
       "      <td>0.650875</td>\n",
       "      <td>0.615891</td>\n",
       "      <td>0.251946</td>\n",
       "      <td>0.695112</td>\n",
       "      <td>0.436069</td>\n",
       "      <td>0.458655</td>\n",
       "    </tr>\n",
       "    <tr>\n",
       "      <th>516</th>\n",
       "      <td>0.532581</td>\n",
       "      <td>0.834889</td>\n",
       "      <td>0.357527</td>\n",
       "      <td>0.447480</td>\n",
       "      <td>0.631015</td>\n",
       "      <td>0.198841</td>\n",
       "      <td>0.678084</td>\n",
       "      <td>0.515280</td>\n",
       "      <td>0.487490</td>\n",
       "      <td>0.440010</td>\n",
       "      <td>0.505418</td>\n",
       "      <td>0.301920</td>\n",
       "      <td>...</td>\n",
       "      <td>0.263812</td>\n",
       "      <td>0.532818</td>\n",
       "      <td>0.539831</td>\n",
       "      <td>0.543511</td>\n",
       "      <td>0.528163</td>\n",
       "      <td>0.442338</td>\n",
       "      <td>0.578272</td>\n",
       "      <td>0.404435</td>\n",
       "      <td>0.531047</td>\n",
       "      <td>0.372191</td>\n",
       "      <td>0.751796</td>\n",
       "      <td>0.469227</td>\n",
       "    </tr>\n",
       "  </tbody>\n",
       "</table>\n",
       "<p>5 rows × 7129 columns</p>\n",
       "</div>"
      ],
      "text/plain": [
       "     AFFX-BioB-5_at  AFFX-BioB-M_at  AFFX-BioB-3_at  AFFX-BioC-5_at  \\\n",
       "486        0.574689        0.652904        0.528552        0.202384   \n",
       "604        0.587407        0.535608        0.249427        0.171417   \n",
       "341        0.446787        0.630576        0.554963        0.413946   \n",
       "117        0.568391        0.666018        0.735454        0.564376   \n",
       "516        0.532581        0.834889        0.357527        0.447480   \n",
       "\n",
       "     AFFX-BioC-3_at  AFFX-BioDn-5_at  AFFX-BioDn-3_at  AFFX-CreX-5_at  \\\n",
       "486        0.504132         0.309107         0.439480        0.524446   \n",
       "604        0.752874         0.513878         0.655342        0.464181   \n",
       "341        0.662329         0.665892         0.145850        0.648430   \n",
       "117        0.662796         0.302675         0.513584        0.359108   \n",
       "516        0.631015         0.198841         0.678084        0.515280   \n",
       "\n",
       "     AFFX-CreX-3_at  AFFX-BioB-5_st  AFFX-BioB-M_st  AFFX-BioB-3_st  ...  \\\n",
       "486        0.723161        0.411162        0.621681        0.321146  ...   \n",
       "604        0.324602        0.559483        0.674740        0.341671  ...   \n",
       "341        0.478307        0.551411        0.289416        0.329466  ...   \n",
       "117        0.706408        0.272227        0.395238        0.394697  ...   \n",
       "516        0.487490        0.440010        0.505418        0.301920  ...   \n",
       "\n",
       "     U11863_at  U29175_at  U48730_at  U58516_at  U73738_at  X06956_at  \\\n",
       "486   0.477952   0.622254   0.516278   0.391074   0.752595   0.484137   \n",
       "604   0.435211   0.519185   0.635019   0.317177   0.700050   0.336964   \n",
       "341   0.410134   0.253019   0.439609   0.233910   0.235984   0.343672   \n",
       "117   0.474741   0.450396   0.574234   0.449615   0.426995   0.390941   \n",
       "516   0.263812   0.532818   0.539831   0.543511   0.528163   0.442338   \n",
       "\n",
       "     X16699_at  X83863_at  Z17240_at  L49218_f_at  M71243_f_at  Z78285_f_at  \n",
       "486   0.683508   0.389115   0.413169     0.562775     0.538180     0.524258  \n",
       "604   0.454571   0.406687   0.339430     0.452814     0.388218     0.380795  \n",
       "341   0.733797   0.369846   0.323172     0.500478     0.457391     0.556345  \n",
       "117   0.650875   0.615891   0.251946     0.695112     0.436069     0.458655  \n",
       "516   0.578272   0.404435   0.531047     0.372191     0.751796     0.469227  \n",
       "\n",
       "[5 rows x 7129 columns]"
      ]
     },
     "execution_count": 4,
     "metadata": {},
     "output_type": "execute_result"
    }
   ],
   "source": [
    "# your code here\n",
    "X_train = pd.DataFrame(MinMaxScaler().fit_transform(X_train), columns=X_train.columns, index = X_train.index)\n",
    "X_test = pd.DataFrame(MinMaxScaler().fit_transform(X_test), columns = X_test.columns, index = X_test.index)\n",
    "X_train.head()"
   ]
  },
  {
   "cell_type": "code",
   "execution_count": 5,
   "metadata": {},
   "outputs": [
    {
     "name": "stdout",
     "output_type": "stream",
     "text": [
      "(601, 7129)\n"
     ]
    }
   ],
   "source": [
    "print(X_train.shape)"
   ]
  },
  {
   "cell_type": "markdown",
   "metadata": {},
   "source": [
    "**1.2 Fit an 'unregularized' multiple logistic regression model (set C=100000) with all the gene predictors from the data set (you did this in HW4).  Report the misclassification rate on both the train and test sets.**"
   ]
  },
  {
   "cell_type": "code",
   "execution_count": 6,
   "metadata": {},
   "outputs": [
    {
     "name": "stdout",
     "output_type": "stream",
     "text": [
      "The misclassification rate of the logistic model on the training set is 0.0.\n",
      "The misclassification rate of the logistic model on the test set is 0.2715231788079471.\n"
     ]
    }
   ],
   "source": [
    "# your code here\n",
    "# your code here\n",
    "multiReg = LogisticRegression(C = 1000000, solver = 'lbfgs').fit(X_train, y_train)\n",
    "multiRegPredictTrain = multiReg.predict_proba(X_train)[:, 1]\n",
    "multiRegPredictTest = multiReg.predict_proba(X_test)[:, 1]\n",
    "\n",
    "for i in range(len(multiRegPredictTrain)):\n",
    "    if multiRegPredictTrain[i] > .5:\n",
    "        multiRegPredictTrain[i] = 1\n",
    "    else:\n",
    "        multiRegPredictTrain[i] = 0\n",
    "        \n",
    "for i in range(len(multiRegPredictTest)):\n",
    "    if multiRegPredictTest[i] > .5:\n",
    "        multiRegPredictTest[i] = 1\n",
    "    else:\n",
    "        multiRegPredictTest[i] = 0\n",
    "        \n",
    "print(\"The misclassification rate of the logistic model on the training set is {}.\".format(1-accuracy_score(multiRegPredictTrain, y_train)))\n",
    "print(\"The misclassification rate of the logistic model on the test set is {}.\".format(1-accuracy_score(multiRegPredictTest, y_test)))"
   ]
  },
  {
   "cell_type": "markdown",
   "metadata": {},
   "source": [
    "**1.3 Use regularization to improve the predictions from the multiple logistic regression model. Specifically, use LASSO-like regularization and cross-validation to train the model on the training set (you did this in HW4).  Report the misclassification rate on both the train and test sets.**"
   ]
  },
  {
   "cell_type": "code",
   "execution_count": 7,
   "metadata": {},
   "outputs": [
    {
     "name": "stdout",
     "output_type": "stream",
     "text": [
      "Misclassification rate using cross validation on the training set: 0.08985024958402665\n",
      "Misclassification rate using cross validation on the test set: 0.17880794701986757\n"
     ]
    }
   ],
   "source": [
    "# your code here\n",
    "# your code here\n",
    "crossValidPavlos = LogisticRegressionCV(cv = 10, solver = 'liblinear', penalty = 'l1').fit(X_train, y_train)\n",
    "\n",
    "predictionCV = crossValidPavlos.predict_proba(X_train)[:, 1]\n",
    "for i in range(len(predictionCV)):\n",
    "    if predictionCV[i] > .5:\n",
    "        predictionCV[i] = 1\n",
    "    else:\n",
    "        predictionCV[i] = 0\n",
    "        \n",
    "CVAccuracyTrain = accuracy_score(predictionCV, y_train)\n",
    "print(\"Misclassification rate using cross validation on the training set: {}\".format(1-CVAccuracyTrain))\n",
    "\n",
    "predictionCVTest = crossValidPavlos.predict_proba(X_test)[:, 1]\n",
    "for i in range(len(predictionCVTest)):\n",
    "    if predictionCVTest[i] > .5:\n",
    "        predictionCVTest[i] = 1\n",
    "    else:\n",
    "        predictionCVTest[i] = 0\n",
    "CVAccuracyTest = accuracy_score(predictionCVTest, y_test)\n",
    "print(\"Misclassification rate using cross validation on the test set: {}\".format(1-CVAccuracyTest))"
   ]
  },
  {
   "cell_type": "markdown",
   "metadata": {},
   "source": [
    "**1.4 Use 5-fold cross-validation to select $k$ for a $k$-NN classification model based on the full predictor set.  Choose between `ks = [1,2,3,4,5,7,9,10,15,25]`.  Report your chosen $k$, and report the misclassification rate on both the train and test sets for the model using your chosen $k$.**"
   ]
  },
  {
   "cell_type": "code",
   "execution_count": 8,
   "metadata": {},
   "outputs": [
    {
     "name": "stdout",
     "output_type": "stream",
     "text": [
      "The best k for our classification model will be 7\n",
      "The k = 7 model has a misclassification rate on the training set of 0.12482811306340713\n",
      "The k = 7 model has a misclassification rate on the test set of 0.13907284768211925\n"
     ]
    }
   ],
   "source": [
    "# your code here\n",
    "k_list = [1, 2, 3, 4, 5, 7, 9, 10, 15, 25]\n",
    "best_k = 0\n",
    "best_model = None\n",
    "best_score = -1\n",
    "\n",
    "for k in k_list:\n",
    "    model = KNeighborsClassifier(n_neighbors = k)\n",
    "    cv_scores = cross_val_score(model, X_train, y_train, cv = 5)\n",
    "    mean_score = np.mean(cv_scores)\n",
    "    if mean_score > best_score:\n",
    "        best_score = mean_score\n",
    "        best_model = model\n",
    "        best_k = k\n",
    "knn = best_model.fit(X_train, y_train)\n",
    "\n",
    "best_test_score = np.mean(knn.score(X_test, y_test))\n",
    "print(\"The best k for our classification model will be {}\".format(best_k))\n",
    "print(\"The k = {} model has a misclassification rate on the training set of {}\".format(best_k, 1-best_score))\n",
    "print(\"The k = {} model has a misclassification rate on the test set of {}\".format(best_k, 1-best_test_score))"
   ]
  },
  {
   "cell_type": "code",
   "execution_count": 9,
   "metadata": {},
   "outputs": [],
   "source": [
    "knnPredictTest = knn.predict(X_test)"
   ]
  },
  {
   "cell_type": "markdown",
   "metadata": {},
   "source": [
    "**1.5 Provide the confusion matrix for all 3 models above and report the false positive and false negative rates (all in the test set).  Briefly interpret what you notice.**"
   ]
  },
  {
   "cell_type": "code",
   "execution_count": 10,
   "metadata": {},
   "outputs": [
    {
     "name": "stdout",
     "output_type": "stream",
     "text": [
      "Confusion Matrix for Multiple Regression Predictions\n",
      "[[66 11]\n",
      " [30 44]]\n",
      "False positive rates for multiple regression predictions: 0.14285714285714285\n",
      "False negative rates for multiple regression predictions: 0.40540540540540543\n",
      "\n",
      "Confusion Matrix for LASSO-Regularized with Cross-Validation Model Predictions\n",
      "[[67 10]\n",
      " [17 57]]\n",
      "False positive rates for LASSO-regularized with Cross-Validation predictions: 0.12987012987012986\n",
      "False negative rates for LASSO-regularized with Cross-Validation predictions: 0.22972972972972974\n",
      "\n",
      "Confusion Matrix for k-NN Classification with Cross Validation Model Predictions\n",
      "[[67 10]\n",
      " [11 63]]\n",
      "False positive rates for k-NN classification with Cross-Validation predictions: 0.12987012987012986\n",
      "False negative rates for k-NN classification with Cross-Validation predictions: 0.14864864864864866\n"
     ]
    }
   ],
   "source": [
    "# your code here\n",
    "regressConf = confusion_matrix(y_test, multiRegPredictTest)\n",
    "CVConf = confusion_matrix(y_test, predictionCVTest)\n",
    "knnConf = confusion_matrix(y_test, knnPredictTest)\n",
    "\n",
    "print(\"Confusion Matrix for Multiple Regression Predictions\")\n",
    "print(regressConf)\n",
    "print(\"False positive rates for multiple regression predictions: {}\".format(regressConf[0][1]/np.sum(regressConf[0])))\n",
    "print(\"False negative rates for multiple regression predictions: {}\".format(regressConf[1][0]/np.sum(regressConf[1])))\n",
    "print(\"\")\n",
    "print(\"Confusion Matrix for LASSO-Regularized with Cross-Validation Model Predictions\")\n",
    "print(CVConf)\n",
    "print(\"False positive rates for LASSO-regularized with Cross-Validation predictions: {}\".format(CVConf[0][1]/np.sum(CVConf[0])))\n",
    "print(\"False negative rates for LASSO-regularized with Cross-Validation predictions: {}\".format(CVConf[1][0]/np.sum(CVConf[1])))\n",
    "print(\"\")\n",
    "print(\"Confusion Matrix for k-NN Classification with Cross Validation Model Predictions\")\n",
    "print(knnConf)\n",
    "print(\"False positive rates for k-NN classification with Cross-Validation predictions: {}\".format(knnConf[0][1]/np.sum(knnConf[0])))\n",
    "print(\"False negative rates for k-NN classification with Cross-Validation predictions: {}\".format(knnConf[1][0]/np.sum(knnConf[1])))"
   ]
  },
  {
   "cell_type": "markdown",
   "metadata": {},
   "source": [
    "I notice that the false positive rates are quite similar between all three models, ranging from ..1298 to .1429, whereas the false negative rates have a great deal of variability. The multiple regression model had the highest false negative rate with .4054, followed by the LASSO-regularized model with a much lower yet still significant false negative rate of .2297, and finally the k-NN model with a still significant but much lower false positive rate of .1486. None of these results are particularly promising. Especially with a disease like cancer, being diagnosed as negative or safe from the disease when you are in fact actually positive can have devastating consequences for one's life and possibility of pursuing early and effective treatment."
   ]
  },
  {
   "cell_type": "markdown",
   "metadata": {},
   "source": [
    "<div class='exercise'><b> Question 2 [20 pts]: Performing Principal Components Analysis </b></div>"
   ]
  },
  {
   "cell_type": "markdown",
   "metadata": {},
   "source": [
    "**2.1** Create the full PCA decomposition of `X_train` and apply the transformation to both `X_train` and `X_test`.  Report the shape of both of these.  What is the limiting factor for the maximum number of PCA components for this data set? \n",
    "\n",
    "**2.2** PCA is often solely used to help in visualizing high-dimensional problems.  Plot the scatterplot of the second PCA vector of train on the $Y$-axis and the first PCA vector of train on the $X$-axis (be sure to denote the classes via different color/markings).  In 2-3 sentences, explain why using the scatterplot of the top 2 PCA vectors is a useful approach to visualize a high dimensional classification problem.\n",
    "\n",
    "**2.3** Determine and report the variance explained in `X_train` based on the top 2 PCA vectors.  Determine and report how many PCA vectors are needed so that 90\\% of the variability in the predictors is explained, and create a plot to illustrate this result (Hint: look at cumulative explained variability vs. number of PCA components used).\n",
    "\n",
    "**2.4** Plot explained variability in the predictors on the $Y$-axis and the PCA component number on the $X$-axis. Select a reasonable value for the number of components that balances representativeness (of the predictors) with parsimony and justify your choice with 1-3 sentences."
   ]
  },
  {
   "cell_type": "markdown",
   "metadata": {},
   "source": [
    "<hr>\n",
    "\n",
    "### Solutions"
   ]
  },
  {
   "cell_type": "markdown",
   "metadata": {},
   "source": [
    "**2.1 Create the full PCA decomposition of X_train and apply the transformation to both X_train and X_test. Report the shape of both of these. What is the limiting factor for the maximum number of PCA components for this data set?**"
   ]
  },
  {
   "cell_type": "code",
   "execution_count": 11,
   "metadata": {},
   "outputs": [],
   "source": [
    "# adapted from lab 8\n",
    "from sklearn.decomposition import PCA\n",
    "from sklearn.preprocessing import StandardScaler\n",
    "\n",
    "# scale the datasets\n",
    "scale_transformer = StandardScaler(copy=True).fit(X_train)\n",
    "x_train_scaled = scale_transformer.transform(X_train)\n",
    "x_test_scaled = scale_transformer.transform(X_test)\n",
    "\n",
    "# reduce dimensions\n",
    "pca_transformer = PCA().fit(x_train_scaled)\n",
    "x_train_2d = pca_transformer.transform(x_train_scaled)\n",
    "x_test_2d =  pca_transformer.transform(x_test_scaled)"
   ]
  },
  {
   "cell_type": "code",
   "execution_count": 12,
   "metadata": {},
   "outputs": [
    {
     "name": "stdout",
     "output_type": "stream",
     "text": [
      "Shape of the X_train PCA decomposition: (601, 601)\n"
     ]
    },
    {
     "data": {
      "text/plain": [
       "array([[-3.97372718e+00, -2.52047603e+00, -1.58440100e+00, ...,\n",
       "        -1.82405735e-01,  1.31145095e-15,  3.31679129e-15],\n",
       "       [-1.28463907e+01, -1.37308477e+01, -8.35328678e+00, ...,\n",
       "        -4.91742712e-02,  1.38083989e-15, -2.06085149e-15],\n",
       "       [-1.45286816e+01, -1.66879305e+01, -1.24884524e+01, ...,\n",
       "         2.60450294e-01, -7.59808882e-16, -1.42941214e-15],\n",
       "       [ 6.94658493e+00, -1.54691883e+01,  1.77622208e+01, ...,\n",
       "        -1.72701285e+00, -2.12677098e-15, -4.85722573e-16],\n",
       "       [ 8.93352794e-01, -1.43119937e+01, -3.31111548e+00, ...,\n",
       "         2.98917901e-01,  2.21524188e-15,  3.77475828e-15]])"
      ]
     },
     "execution_count": 12,
     "metadata": {},
     "output_type": "execute_result"
    }
   ],
   "source": [
    "print(\"Shape of the X_train PCA decomposition: {}\".format(x_train_2d.shape))\n",
    "x_train_2d[0:5,:]"
   ]
  },
  {
   "cell_type": "code",
   "execution_count": 13,
   "metadata": {},
   "outputs": [
    {
     "name": "stdout",
     "output_type": "stream",
     "text": [
      "Shape of the X_test PCA decomposition: (151, 601)\n"
     ]
    },
    {
     "data": {
      "text/plain": [
       "array([[-12.7145646 ,  22.05101488,   2.92789943, ...,   0.10332169,\n",
       "         -2.04734803,  -1.11970135],\n",
       "       [ 31.55431537,  42.49597094,  15.39938613, ...,   0.36907037,\n",
       "         -0.79267825,  -0.71887437],\n",
       "       [ 32.97070572,  46.1497752 ,  18.39844398, ...,  -0.98436417,\n",
       "         -1.66731088,  -0.48889438],\n",
       "       [-30.18870813,   4.4626043 ,  -6.51128415, ...,   0.04707187,\n",
       "         -1.62756842,   0.49185329],\n",
       "       [-20.89739986,  -4.47720641,  -3.70309035, ...,  -0.53777632,\n",
       "         -0.11496058,  -1.09556669]])"
      ]
     },
     "execution_count": 13,
     "metadata": {},
     "output_type": "execute_result"
    }
   ],
   "source": [
    "print(\"Shape of the X_test PCA decomposition: {}\".format(x_test_2d.shape))\n",
    "x_test_2d[0:5,:]"
   ]
  },
  {
   "cell_type": "markdown",
   "metadata": {},
   "source": [
    "The limiting factor for the maximum amount of PCA components for this data set is the amount of observations, in this case 601, that we have in the training set. Since the PCA is based on the training set, and the number of observations is less than the amount of predictors, we know that the limiting factor is the amount of observations. In order to ensure the necessary linear independence of each component in PCA as explained in Lab 8, we cannot have more components than the amount of observations. For us, this means we cannot have more than 601 PCA components for this data set."
   ]
  },
  {
   "cell_type": "markdown",
   "metadata": {},
   "source": [
    "**2.2 PCA is often solely used to help in visualizing high-dimensional problems. Plot the scatterplot of the second PCA vector on the  𝑌 -axis and the first PCA vector on the  𝑋 -axis (be sure to denote the classes via different color/markings). In 2-3 sentences, explain why using the scatterplot of the top 2 PCA vectors is a useful approach to visualize a high dimensional classification problem.**"
   ]
  },
  {
   "cell_type": "code",
   "execution_count": 14,
   "metadata": {},
   "outputs": [
    {
     "data": {
      "image/png": "[encoded data removed]",
      "text/plain": [
       "<Figure size 432x288 with 1 Axes>"
      ]
     },
     "metadata": {
      "needs_background": "light"
     },
     "output_type": "display_data"
    }
   ],
   "source": [
    "# adapted from lab 8\n",
    "# notice that we set up lists to track each group's plotting color and label\n",
    "colors = ['r','c']\n",
    "label_text = [\"ALL Cancer\", \"AML Cancer\"]\n",
    "\n",
    "# and we loop over the different groups\n",
    "for cur_quality in [0,1]:\n",
    "    cur_df = x_train_2d[y_train==cur_quality]\n",
    "    plt.scatter(cur_df[:,0], cur_df[:,1], c = colors[cur_quality], label=label_text[cur_quality])\n",
    "\n",
    "# all plots need labels\n",
    "plt.xlabel(\"PCA Dimension 1\")\n",
    "plt.ylabel(\"PCA Dimension 2\")\n",
    "plt.legend();"
   ]
  },
  {
   "cell_type": "markdown",
   "metadata": {},
   "source": [
    "Using the scatterplot of the top 2 PCA vectors is a useful approach to visualizing a high dimensional classification problem because it makes the whole dataset easier to visualize, especially with respect to how separable the data points are with respect to what classes they belong to. Using the scatterplot with the top 2 PCA vectors uses all of the variables in unique linear combinations to form two dimensions. It would be impossible to visualize this data along the thousands of predictors we have, but this approach allows us to visualize the data along only two axes, with both of those dimensions accounting for a significant amount of the variability in the data."
   ]
  },
  {
   "cell_type": "markdown",
   "metadata": {},
   "source": [
    "**2.3 Determine and report the variance explained in `X_train` based on the top 2 PCA vectors.  Determine and report how many PCA vectors are needed so that 90\\% of the variability in the predictors is explained, and create a plot to illustrate this result (Hint: look at cumulative explained variability vs. number of PCA components used).**"
   ]
  },
  {
   "cell_type": "code",
   "execution_count": 15,
   "metadata": {},
   "outputs": [
    {
     "name": "stdout",
     "output_type": "stream",
     "text": [
      "Variance explained by top PCA component: 0.06281545883254593\n",
      "Variance explained by second top PCA component: 0.049381328895098726\n",
      "Total Variance Explained by Top 2 PCA Vectors: 0.11219678772764466\n"
     ]
    }
   ],
   "source": [
    "# adapted from lab 8\n",
    "var_explained = pca_transformer.explained_variance_ratio_\n",
    "print(\"Variance explained by top PCA component:\", var_explained[0])\n",
    "print(\"Variance explained by second top PCA component:\", var_explained[1])\n",
    "print(\"Total Variance Explained by Top 2 PCA Vectors:\", var_explained[0] + var_explained[1])"
   ]
  },
  {
   "cell_type": "markdown",
   "metadata": {},
   "source": [
    "The first PCA dimension captures 6.28% of the variance in the data, and the second PCA dimension captures 4.94%."
   ]
  },
  {
   "cell_type": "code",
   "execution_count": 16,
   "metadata": {},
   "outputs": [
    {
     "data": {
      "image/png": "[encoded data removed]",
      "text/plain": [
       "<Figure size 1440x432 with 1 Axes>"
      ]
     },
     "metadata": {
      "needs_background": "light"
     },
     "output_type": "display_data"
    }
   ],
   "source": [
    "# fitting the PCA object onto our dataframe (excluding the model name column)\n",
    "pca = PCA().fit(x_train_scaled)\n",
    "fig, ax = plt.subplots(ncols=1, figsize=(20,6))\n",
    "\n",
    "# ratio[0]=0\n",
    "ratio = pca.explained_variance_ratio_\n",
    "ax.plot(np.cumsum(ratio), 'o-')\n",
    "\n",
    "ax.set_title('Cumulative Sum of Explained Variance Ratio PCA', fontsize=20)\n",
    "\n",
    "ax.set_ylim(0,1.1)\n",
    "ax.set_xticks(range(len(ratio)))\n",
    "ax.set_xlabel('Number of Predictors Used in PCA')\n",
    "ax.set_xticklabels(['{}'.format(i+1) for i in range(len(ratio))])\n",
    "for label in ax.xaxis.get_ticklabels():\n",
    "    label.set_visible(False)\n",
    "for label in ax.xaxis.get_ticklabels()[::50]:\n",
    "    label.set_visible(True)\n",
    "ax.set_ylabel('Cumulative Sum of Explained Variance Ratio');"
   ]
  },
  {
   "cell_type": "code",
   "execution_count": 17,
   "metadata": {},
   "outputs": [
    {
     "name": "stdout",
     "output_type": "stream",
     "text": [
      "At least 231 vectors are needed to explain at least 90% of the variability of the predictors. \n",
      "Having 231 vectors in your PCA explains, as a proportion, 0.9006619693174368 of variability \n"
     ]
    }
   ],
   "source": [
    "for i, value in enumerate(np.cumsum(ratio)):\n",
    "    if value > .9:\n",
    "        number = i\n",
    "        break\n",
    "print(\"At least {} vectors are needed to explain at least 90% of the variability of the predictors. \\nHaving {} vectors in your PCA explains, as a proportion, {} of variability \".format(number, number, np.cumsum(ratio)[number]))"
   ]
  },
  {
   "cell_type": "markdown",
   "metadata": {},
   "source": [
    "**2.4 Plot explained variability in the predictors on the  𝑌 -axis and the PCA component number on the 𝑋 -axis. Select a reasonable value for the number of components that balances representativeness (of the predictors) with parsimony and ustify your choice in 1-3 sentences.**"
   ]
  },
  {
   "cell_type": "code",
   "execution_count": 18,
   "metadata": {},
   "outputs": [
    {
     "data": {
      "image/png": "[encoded data removed]",
      "text/plain": [
       "<Figure size 1440x432 with 1 Axes>"
      ]
     },
     "metadata": {
      "needs_background": "light"
     },
     "output_type": "display_data"
    }
   ],
   "source": [
    "#your code here\n",
    "fig, ax = plt.subplots(ncols=1, figsize=(20,6))\n",
    "\n",
    "ratio = pca.explained_variance_ratio_\n",
    "ax.bar(range(len(ratio)), ratio, color='red', width = 3)\n",
    "ax.set_title('Explained Variance Ratio PCA', fontsize=20)\n",
    "ax.set_xticks(range(len(ratio)))\n",
    "ax.set_xticklabels(['PC {}'.format(i+1) for i in range(len(ratio))])\n",
    "ax.set_xlabel('Predictor Number in PCA')\n",
    "for label in ax.xaxis.get_ticklabels():\n",
    "    label.set_visible(False)\n",
    "for label in ax.xaxis.get_ticklabels()[::50]:\n",
    "    label.set_visible(True)\n",
    "ax.set_ylabel('Explained Variance Ratio');"
   ]
  },
  {
   "cell_type": "code",
   "execution_count": 19,
   "metadata": {},
   "outputs": [
    {
     "name": "stdout",
     "output_type": "stream",
     "text": [
      "Explained variance ratio with 100 components: 0.7476102063663522\n"
     ]
    }
   ],
   "source": [
    "print(\"Explained variance ratio with 100 components: {}\".format(np.cumsum(ratio)[100]))"
   ]
  },
  {
   "cell_type": "markdown",
   "metadata": {},
   "source": [
    "From eyeballing the plot from 2.3, \"Cumulative Sum of Explained Variance Ratio PCA\", we would argue that having 100 components strikes a balance between parsimony, or not having an unnecessarily large amount of predictors, while still having enough to be representative of the data by capturing, as shown directly above, about 75% of the variance in the dataset."
   ]
  },
  {
   "cell_type": "markdown",
   "metadata": {},
   "source": [
    "<div class='exercise'><b> Question 3 [30 pts]: Principal Components Regression (PCR) </b></div>\n",
    "\n",
    "**3.1** Fit three separate Logistic Regression models using principal components as the predictors: (1) with just the first 2 PCA vectors, (2) with the number of component vectors your chose from 2.4 above, and (3) with the number of components that explain at least 90% of the variability in the predictor set. How do the classification accuracy values on both the training and test sets compare with the models fit in Question 1?\n",
    "\n",
    "**3.2** Use cross-validation to determine the best number of principal components. Try out the 3 values from the previous sub-part and optionally include other values as well. For the best performing model according to cross-validation, interpret what the model says about the relationship between `M31523_at` and `Cancer_type`.\n",
    "\n",
    "**3.3** Another way to evaluate models in a classification setting is through an Area-under-the-ROC-Curve (AUC). Briefly explain what the AUC and the ROC are trying to do and how this approach differs (and may be prefered) from evaluating models based on misclassification rate (as you have done thus far in this problem set).\n",
    "\n",
    "**3.4** Evaluate all 6 predictive models (7 if you optionally found a better number of principal components in 3.2) seen in problems 1 and 3 via Area-under-the-ROC-Curve (AUC) on the test set. For the model with the best AUC, plot the ROC. Decide an appropriate strategy for breaking ties, if there are any. Briefly interpret your plot.\n",
    "\n",
    "**3.5** Based on AUC, is there one clear stand-out winner or are a lot of models similar in prediction?  If you were to predict real cancer patients, how would use these models to predict cancer type?"
   ]
  },
  {
   "cell_type": "markdown",
   "metadata": {},
   "source": [
    "<hr>\n",
    "\n",
    "### Solutions"
   ]
  },
  {
   "cell_type": "markdown",
   "metadata": {},
   "source": [
    "**3.1 Fit three separate Logistic Regression models using principal components as the predictors: (1) with just the first 2 PCA vectors, (2) with the number of component vectors your chose from 2.4 above, and (3) with the number of components that explain at least 90% of the variability in the predictor set.  How do the classification accuracy values on both the training and test sets compare with the models fit in Question 1?**"
   ]
  },
  {
   "cell_type": "code",
   "execution_count": 20,
   "metadata": {},
   "outputs": [
    {
     "data": {
      "text/html": [
       "<div>\n",
       "<style scoped>\n",
       "    .dataframe tbody tr th:only-of-type {\n",
       "        vertical-align: middle;\n",
       "    }\n",
       "\n",
       "    .dataframe tbody tr th {\n",
       "        vertical-align: top;\n",
       "    }\n",
       "\n",
       "    .dataframe thead th {\n",
       "        text-align: right;\n",
       "    }\n",
       "</style>\n",
       "<table border=\"1\" class=\"dataframe\">\n",
       "  <thead>\n",
       "    <tr style=\"text-align: right;\">\n",
       "      <th></th>\n",
       "      <th>Train Accuracy</th>\n",
       "      <th>Test Accuracy</th>\n",
       "    </tr>\n",
       "  </thead>\n",
       "  <tbody>\n",
       "    <tr>\n",
       "      <th>PCA with Just First Two Vectors</th>\n",
       "      <td>0.758735</td>\n",
       "      <td>0.801325</td>\n",
       "    </tr>\n",
       "    <tr>\n",
       "      <th>PCA with Chosen Number of Vectors (100)</th>\n",
       "      <td>0.921797</td>\n",
       "      <td>0.741722</td>\n",
       "    </tr>\n",
       "    <tr>\n",
       "      <th>PCA with 90% of Variability Explained</th>\n",
       "      <td>1.000000</td>\n",
       "      <td>0.662252</td>\n",
       "    </tr>\n",
       "    <tr>\n",
       "      <th>Question 1: MLR</th>\n",
       "      <td>1.000000</td>\n",
       "      <td>0.728477</td>\n",
       "    </tr>\n",
       "    <tr>\n",
       "      <th>Question 1: Regularized MLR</th>\n",
       "      <td>0.910150</td>\n",
       "      <td>0.821192</td>\n",
       "    </tr>\n",
       "    <tr>\n",
       "      <th>Question 1: K-NN</th>\n",
       "      <td>0.875172</td>\n",
       "      <td>0.860927</td>\n",
       "    </tr>\n",
       "  </tbody>\n",
       "</table>\n",
       "</div>"
      ],
      "text/plain": [
       "                                         Train Accuracy  Test Accuracy\n",
       "PCA with Just First Two Vectors                0.758735       0.801325\n",
       "PCA with Chosen Number of Vectors (100)        0.921797       0.741722\n",
       "PCA with 90% of Variability Explained          1.000000       0.662252\n",
       "Question 1: MLR                                1.000000       0.728477\n",
       "Question 1: Regularized MLR                    0.910150       0.821192\n",
       "Question 1: K-NN                               0.875172       0.860927"
      ]
     },
     "execution_count": 20,
     "metadata": {},
     "output_type": "execute_result"
    }
   ],
   "source": [
    "modelNames = [\"PCA with Just First Two Vectors\", \"PCA with Chosen Number of Vectors (100)\", \"PCA with 90% of Variability Explained\", \"Question 1: MLR\", \"Question 1: Regularized MLR\", \"Question 1: K-NN\"]\n",
    "num_components = [2, 100, 231]\n",
    "scores = []\n",
    "for num in num_components:\n",
    "    model = PCA(num).fit(x_train_scaled)\n",
    "    x_train_2dModel = model.transform(x_train_scaled) \n",
    "    x_test_2dModel = model.transform(x_test_scaled) \n",
    "    lr = LogisticRegression(C=1000000, solver='lbfgs', multi_class='ovr', max_iter=10000).fit(x_train_2dModel,y_train)\n",
    "    lr_pca_train_accuracy = lr.score(x_train_2dModel, y_train)\n",
    "    lr_pca_test_accuracy = lr.score(x_test_2dModel, y_test)\n",
    "    scores.append([lr_pca_train_accuracy, lr_pca_test_accuracy])\n",
    "scores.append([accuracy_score(multiRegPredictTrain, y_train), accuracy_score(multiRegPredictTest, y_test)])\n",
    "scores.append([CVAccuracyTrain, CVAccuracyTest])\n",
    "scores.append([best_score, best_test_score])\n",
    "df_results = pd.DataFrame(scores, index = modelNames, columns = ['Train Accuracy', 'Test Accuracy'])\n",
    "df_results"
   ]
  },
  {
   "cell_type": "markdown",
   "metadata": {},
   "source": [
    "The classification accuracy values on the training sets for the PCA model with the first two vectors is worse than any of the training accuracies for the models fit in question 1. On the other hand, with 100 vectors, the accuracy is better than the regularized MLR and k-NN where k = 7. As for test accuracy, the PCA with 100 vectors and 2 vectors seem to be more accurate than the MLR in Question 1 and comparable with the values of the regularized MLR and the k-NN model from question 1. Yet, the PCA with 90% of variability explained, or 231 vectors, is significantly lower than any of the values we received from question 1, perhaps because using 231 vectors overfits the model, leading our accuracy in the test set to suffer."
   ]
  },
  {
   "cell_type": "markdown",
   "metadata": {},
   "source": [
    "**3.2 Use cross-validation to determine the best number of principal components. Try out the 3 values from the previous sub-part and optionally include other values as well. For the best performing model according to cross-validation, interpret what the model says about the relationship between `M31523_at` and `Cancer_type`**."
   ]
  },
  {
   "cell_type": "code",
   "execution_count": 21,
   "metadata": {},
   "outputs": [
    {
     "data": {
      "text/html": [
       "<div>\n",
       "<style scoped>\n",
       "    .dataframe tbody tr th:only-of-type {\n",
       "        vertical-align: middle;\n",
       "    }\n",
       "\n",
       "    .dataframe tbody tr th {\n",
       "        vertical-align: top;\n",
       "    }\n",
       "\n",
       "    .dataframe thead th {\n",
       "        text-align: right;\n",
       "    }\n",
       "</style>\n",
       "<table border=\"1\" class=\"dataframe\">\n",
       "  <thead>\n",
       "    <tr style=\"text-align: right;\">\n",
       "      <th></th>\n",
       "      <th>Train Accuracy</th>\n",
       "      <th>Test Accuracy</th>\n",
       "    </tr>\n",
       "  </thead>\n",
       "  <tbody>\n",
       "    <tr>\n",
       "      <th>2</th>\n",
       "      <td>0.763727</td>\n",
       "      <td>0.794702</td>\n",
       "    </tr>\n",
       "    <tr>\n",
       "      <th>100</th>\n",
       "      <td>0.901830</td>\n",
       "      <td>0.867550</td>\n",
       "    </tr>\n",
       "    <tr>\n",
       "      <th>231</th>\n",
       "      <td>0.903494</td>\n",
       "      <td>0.867550</td>\n",
       "    </tr>\n",
       "  </tbody>\n",
       "</table>\n",
       "</div>"
      ],
      "text/plain": [
       "     Train Accuracy  Test Accuracy\n",
       "2          0.763727       0.794702\n",
       "100        0.901830       0.867550\n",
       "231        0.903494       0.867550"
      ]
     },
     "execution_count": 21,
     "metadata": {},
     "output_type": "execute_result"
    }
   ],
   "source": [
    "num_components = [2, 100, 231]\n",
    "scoresCV = []\n",
    "for num in num_components:\n",
    "    model = PCA(num).fit(x_train_scaled)\n",
    "    x_train_2dModel = model.transform(x_train_scaled) \n",
    "    x_test_2dModel = model.transform(x_test_scaled) \n",
    "    lr = LogisticRegressionCV(cv = 10, solver='lbfgs', multi_class='ovr', max_iter=10000).fit(x_train_2dModel,y_train)\n",
    "    lr_pca_train_accuracy = lr.score(x_train_2dModel, y_train)\n",
    "    lr_pca_test_accuracy = lr.score(x_test_2dModel, y_test)\n",
    "    scoresCV.append([lr_pca_train_accuracy, lr_pca_test_accuracy])\n",
    "df_resultsCV = pd.DataFrame(scoresCV, index = num_components, columns = ['Train Accuracy', 'Test Accuracy'])\n",
    "df_resultsCV"
   ]
  },
  {
   "cell_type": "code",
   "execution_count": 22,
   "metadata": {},
   "outputs": [],
   "source": [
    "bestCV = PCA(231).fit(x_train_scaled)\n",
    "x_train_2dModel = bestCV.transform(x_train_scaled) \n",
    "x_test_2dModel = bestCV.transform(x_test_scaled) \n",
    "bestCVLR = LogisticRegressionCV(cv = 10, solver='lbfgs', multi_class='ovr', max_iter=10000).fit(x_train_2dModel,y_train)"
   ]
  },
  {
   "cell_type": "code",
   "execution_count": 23,
   "metadata": {},
   "outputs": [
    {
     "name": "stdout",
     "output_type": "stream",
     "text": [
      "The relationship between Cancer_type vs. M31523_at can be characterized by a slope of -0.003668102440317017\n",
      "For every one unit increase in the value of M31523_at, there is a predicted, corresponding change of -0.003668102440317017 in the prediction value for Cancer type\n"
     ]
    }
   ],
   "source": [
    "geneLoc = X_train.columns.get_loc('M31523_at')\n",
    "coefficients = np.dot(bestCVLR.coef_, bestCV.components_)[0]\n",
    "print(\"The relationship between Cancer_type vs. M31523_at can be characterized by a slope of {}\".format(coefficients[geneLoc]))\n",
    "print(\"For every one unit increase in the value of M31523_at, there is a predicted, corresponding change of {} in the prediction value for Cancer type\".format(coefficients[geneLoc]))"
   ]
  },
  {
   "cell_type": "markdown",
   "metadata": {},
   "source": [
    "**3.3 Another way to evaluate models in a classification setting is through an Area-under-the-ROC-Curve (AUC). Briefly explain what the AUC and the ROC are trying to do and how this approach differs (and may be prefered) from evaluating models based on misclassification rate (as you have done thus far in this problem set).**"
   ]
  },
  {
   "cell_type": "markdown",
   "metadata": {},
   "source": [
    "The AUC and ROC seek to minimize false positives. The ROC curve shows you the false positive or false negative rate on the x-axis and the true positive or true negative on the y-axis. The ideal curve hugs the top left corner because it has a high true positive rate and a low false positive rate. The more that it stays close to the top left corner, the higher the area under the ROC curve (AUC) will be, which means that we are optimizing by having as high of a true positive rate as possible while also having as low of a false positive rate as possible. This approach differs from evaluating models solely based on misclassification rate because it accounts for false positive rates and true positive rates on the same scale. In scenarios where one group has a significant majority (example- cancer classification), the misclassification rate tells you much less than the AUC approach. Imagine a disease for which 99% of people are actually negative. If a test instrument were to classify everyone as negative, it would have a 99% accuracy rate, but that's not important, because 100% of the people who actually have the disease will be misclassified. The AUC approach, on the other hand, would show that there is a significant problem with the model as the false negative rate would be extremely high and the AUC would decrease significantly, identifying this startling problem with the model."
   ]
  },
  {
   "cell_type": "markdown",
   "metadata": {},
   "source": [
    "**3.4 Evaluate all 6 predictive models (7 if you optionally found a better number of principal components in 3.2) seen in problems 1 and 3 via Area-under-the-ROC-Curve (AUC) on the test set. For the best model with the best AUC, plot the ROC. Decide an appropriate strategy for breaking ties, if there are any. Briefly interpret your plot.**"
   ]
  },
  {
   "cell_type": "code",
   "execution_count": 24,
   "metadata": {},
   "outputs": [],
   "source": [
    "# your code here\n",
    "AUCScores = []\n",
    "tests = ['Multiple Linear Regression', 'Cross Validation Regularized with LASSO', 'k-NN Prediction', 'PCA with 2 Components', 'PCA with 100 Components', 'PCA with 231 Components']\n",
    "AUCScores.append(roc_auc_score(y_test, multiRegPredictTest))\n",
    "AUCScores.append(roc_auc_score(y_test, predictionCVTest))\n",
    "AUCScores.append(roc_auc_score(y_test, knn.predict_proba(X_test)[:, 1]))\n",
    "for n in [2, 100, 231]:\n",
    "    nModel = PCA(n).fit(x_train_scaled)\n",
    "    x_train_2dMod = nModel.transform(x_train_scaled) \n",
    "    x_test_2dMod = nModel.transform(x_test_scaled) \n",
    "    lrn2 = LogisticRegression(C=1000000, solver='lbfgs', multi_class='ovr', max_iter=10000).fit(x_train_2dMod,y_train)\n",
    "    AUCScores.append(roc_auc_score(y_test, lrn2.predict_proba(x_test_2dMod)[:, 1]))"
   ]
  },
  {
   "cell_type": "code",
   "execution_count": 25,
   "metadata": {},
   "outputs": [
    {
     "data": {
      "text/html": [
       "<div>\n",
       "<style scoped>\n",
       "    .dataframe tbody tr th:only-of-type {\n",
       "        vertical-align: middle;\n",
       "    }\n",
       "\n",
       "    .dataframe tbody tr th {\n",
       "        vertical-align: top;\n",
       "    }\n",
       "\n",
       "    .dataframe thead th {\n",
       "        text-align: right;\n",
       "    }\n",
       "</style>\n",
       "<table border=\"1\" class=\"dataframe\">\n",
       "  <thead>\n",
       "    <tr style=\"text-align: right;\">\n",
       "      <th></th>\n",
       "      <th>AUC Score</th>\n",
       "    </tr>\n",
       "  </thead>\n",
       "  <tbody>\n",
       "    <tr>\n",
       "      <th>Multiple Linear Regression</th>\n",
       "      <td>0.725869</td>\n",
       "    </tr>\n",
       "    <tr>\n",
       "      <th>Cross Validation Regularized with LASSO</th>\n",
       "      <td>0.820200</td>\n",
       "    </tr>\n",
       "    <tr>\n",
       "      <th>k-NN Prediction</th>\n",
       "      <td>0.864251</td>\n",
       "    </tr>\n",
       "    <tr>\n",
       "      <th>PCA with 2 Components</th>\n",
       "      <td>0.821867</td>\n",
       "    </tr>\n",
       "    <tr>\n",
       "      <th>PCA with 100 Components</th>\n",
       "      <td>0.865391</td>\n",
       "    </tr>\n",
       "    <tr>\n",
       "      <th>PCA with 231 Components</th>\n",
       "      <td>0.784837</td>\n",
       "    </tr>\n",
       "  </tbody>\n",
       "</table>\n",
       "</div>"
      ],
      "text/plain": [
       "                                         AUC Score\n",
       "Multiple Linear Regression                0.725869\n",
       "Cross Validation Regularized with LASSO   0.820200\n",
       "k-NN Prediction                           0.864251\n",
       "PCA with 2 Components                     0.821867\n",
       "PCA with 100 Components                   0.865391\n",
       "PCA with 231 Components                   0.784837"
      ]
     },
     "execution_count": 25,
     "metadata": {},
     "output_type": "execute_result"
    }
   ],
   "source": [
    "AUCScoresDf = pd.DataFrame(AUCScores, index = tests, columns = ['AUC Score'])\n",
    "AUCScoresDf"
   ]
  },
  {
   "cell_type": "markdown",
   "metadata": {},
   "source": [
    "Evidently, the highest AUC on the test set comes from the k-NN prediction model used in question 1, with an AUC of .86421."
   ]
  },
  {
   "cell_type": "code",
   "execution_count": 26,
   "metadata": {},
   "outputs": [
    {
     "data": {
      "image/png": "[encoded data removed]",
      "text/plain": [
       "<Figure size 432x288 with 1 Axes>"
      ]
     },
     "metadata": {
      "needs_background": "light"
     },
     "output_type": "display_data"
    }
   ],
   "source": [
    "# adapted from https://stackoverflow.com/questions/25009284/how-to-plot-roc-curve-in-python\n",
    "preds = knn.predict_proba(X_test)[:, 1]\n",
    "fpr, tpr, threshold = metrics.roc_curve(y_test, preds)\n",
    "roc_auc = metrics.auc(fpr, tpr)\n",
    "\n",
    "plt.title('Receiver Operating Characteristic Curve')\n",
    "plt.plot(fpr, tpr, 'b', label = 'AUC = %0.2f' % roc_auc)\n",
    "plt.legend(loc = 'lower right')\n",
    "plt.plot([0, 1], [0, 1],'r--')\n",
    "plt.xlim([0, 1])\n",
    "plt.ylim([0, 1])\n",
    "plt.ylabel('True Positive Rate')\n",
    "plt.xlabel('False Positive Rate')\n",
    "plt.show()"
   ]
  },
  {
   "cell_type": "markdown",
   "metadata": {},
   "source": [
    "The plot shows a strong AUC score of approximately .86, as most of the area of the graph falls under the ROC curve. The curve hugs the top left corner of the graph, which suggests that there are few false positives despite having mostly true positive rates for this model."
   ]
  },
  {
   "cell_type": "markdown",
   "metadata": {},
   "source": [
    "**3.5 Based on AUC, is there one clear stand-out winner or are a lot of models similar in prediction? If you were to predict real cancer patients, how would use these models to predict cancer type?**"
   ]
  },
  {
   "cell_type": "markdown",
   "metadata": {},
   "source": [
    "Based on AUC, the k-NN prediction, regularized cross-validation with LASSO, PCA with 2 components, and PCA with 100 components all hover between .82 and .86 for their AUC score. This suggests that many models are similar in prediction, even though the k-NN prediction has the highest value. For predicting real cancer patients, I would use the kNN prediction by finding the \"nearest neighbors\" to the current patient in terms of genetic values and averaging their cancer type score (0 or 1) to make a prediction value for the given patient. For the other types of models, I would use the patient's genetic values as parameters and see the prediction score ultimately turned out by the models, ultimately classifying them into a predicted type."
   ]
  },
  {
   "cell_type": "markdown",
   "metadata": {},
   "source": [
    "<div class='exercise'><b> Question 4: COMPAS [30 points] </b></div>\n",
    "\n",
    "This problem is unrelated to the first 3 problems, and steps through analyzing the COMPAS data set `compas.csv`.  The variables are roughly explained in the `compas_datadict.csv` file, and ProPublica's analysis is publically available here: https://github.com/propublica/compas-analysis.\n",
    "\n",
    "**4.1** Split the data into 80% training and 20% test stratified by race. Before splitting you may want to process the categorical predictors first so you don't have to do it separately in tain and test later.\n",
    "\n",
    "**4.2** Do a little EDA: explore what variables are related to race. Report 3 variables that appear to have significant differences between Caucasians and African Americans, and provide visuals and numerical summaries to support these chosen variables.\n",
    "\n",
    "**4.3** With respect to these 3 chosen variables, how could bias in the data or data collection be impacting or causing these differences?  Explain in 3-5 sentences.\n",
    "\n",
    "**4.4**. Build 2 seperate models to predict recidivism (`two_year_recid`) from these data (2 different 'classes' of models: $k$-NN, linear, logistic, etc.) and be sure to include race as a predictor. \n",
    "\n",
    "**4.5**. Refit the models in 4.4 without race as a predictor.  Report the overall misclassifcation rates, and compare the differences in false positive and false negative rates between Caucasians and African Americans in these models on the test set.  How do these compare to the models when race is included as a predictor?\n",
    "\n",
    "**4.6**. Given your exploration and modeling of the data, should a predictive tool be trusted to be unbiased even if it doesn’t explicitly use a variable such as race to predict future crime?  Why or why not?  Why is the bias still occurring or not occurring?  Explain in 3-6 sentences total."
   ]
  },
  {
   "cell_type": "markdown",
   "metadata": {},
   "source": [
    "<hr>\n",
    "\n",
    "### Solutions"
   ]
  },
  {
   "cell_type": "markdown",
   "metadata": {},
   "source": [
    "**4.1 Split the data into 80% training and 20% test stratified by race.  Before splitting you may want to process the categorical predictors first so you don't have to do it separately in tain and test later.**"
   ]
  },
  {
   "cell_type": "code",
   "execution_count": 27,
   "metadata": {},
   "outputs": [
    {
     "data": {
      "text/html": [
       "<div>\n",
       "<style scoped>\n",
       "    .dataframe tbody tr th:only-of-type {\n",
       "        vertical-align: middle;\n",
       "    }\n",
       "\n",
       "    .dataframe tbody tr th {\n",
       "        vertical-align: top;\n",
       "    }\n",
       "\n",
       "    .dataframe thead th {\n",
       "        text-align: right;\n",
       "    }\n",
       "</style>\n",
       "<table border=\"1\" class=\"dataframe\">\n",
       "  <thead>\n",
       "    <tr style=\"text-align: right;\">\n",
       "      <th></th>\n",
       "      <th>age</th>\n",
       "      <th>c_charge_degree</th>\n",
       "      <th>c_charge_desc</th>\n",
       "      <th>race</th>\n",
       "      <th>score_text</th>\n",
       "      <th>sex</th>\n",
       "      <th>priors_count</th>\n",
       "      <th>juv_fel_count</th>\n",
       "      <th>juv_misd_count</th>\n",
       "      <th>juv_other_count</th>\n",
       "      <th>decile_score</th>\n",
       "      <th>two_year_recid</th>\n",
       "      <th>length_of_stay</th>\n",
       "      <th>priors_1</th>\n",
       "      <th>priors_234</th>\n",
       "      <th>priors_5plus</th>\n",
       "      <th>juv_fel_1plus</th>\n",
       "      <th>juv_misd_1plus</th>\n",
       "      <th>juv_other_1plus</th>\n",
       "      <th>charge_any_drug</th>\n",
       "      <th>charge_any_violence_aggression</th>\n",
       "      <th>charge_any_theft</th>\n",
       "      <th>length_of_stay_thresh</th>\n",
       "    </tr>\n",
       "  </thead>\n",
       "  <tbody>\n",
       "    <tr>\n",
       "      <th>0</th>\n",
       "      <td>69</td>\n",
       "      <td>F</td>\n",
       "      <td>Aggravated Assault w/Firearm</td>\n",
       "      <td>Other</td>\n",
       "      <td>Low</td>\n",
       "      <td>Male</td>\n",
       "      <td>0</td>\n",
       "      <td>0</td>\n",
       "      <td>0</td>\n",
       "      <td>0</td>\n",
       "      <td>1</td>\n",
       "      <td>0</td>\n",
       "      <td>1</td>\n",
       "      <td>0</td>\n",
       "      <td>0</td>\n",
       "      <td>0</td>\n",
       "      <td>0</td>\n",
       "      <td>0</td>\n",
       "      <td>0</td>\n",
       "      <td>0</td>\n",
       "      <td>1</td>\n",
       "      <td>0</td>\n",
       "      <td>1</td>\n",
       "    </tr>\n",
       "    <tr>\n",
       "      <th>1</th>\n",
       "      <td>34</td>\n",
       "      <td>F</td>\n",
       "      <td>Felony Battery w/Prior Convict</td>\n",
       "      <td>African-American</td>\n",
       "      <td>Low</td>\n",
       "      <td>Male</td>\n",
       "      <td>0</td>\n",
       "      <td>0</td>\n",
       "      <td>0</td>\n",
       "      <td>0</td>\n",
       "      <td>3</td>\n",
       "      <td>1</td>\n",
       "      <td>10</td>\n",
       "      <td>0</td>\n",
       "      <td>0</td>\n",
       "      <td>0</td>\n",
       "      <td>0</td>\n",
       "      <td>0</td>\n",
       "      <td>0</td>\n",
       "      <td>0</td>\n",
       "      <td>1</td>\n",
       "      <td>0</td>\n",
       "      <td>10</td>\n",
       "    </tr>\n",
       "    <tr>\n",
       "      <th>2</th>\n",
       "      <td>24</td>\n",
       "      <td>F</td>\n",
       "      <td>Possession of Cocaine</td>\n",
       "      <td>African-American</td>\n",
       "      <td>Low</td>\n",
       "      <td>Male</td>\n",
       "      <td>4</td>\n",
       "      <td>0</td>\n",
       "      <td>0</td>\n",
       "      <td>1</td>\n",
       "      <td>4</td>\n",
       "      <td>1</td>\n",
       "      <td>1</td>\n",
       "      <td>0</td>\n",
       "      <td>1</td>\n",
       "      <td>0</td>\n",
       "      <td>0</td>\n",
       "      <td>0</td>\n",
       "      <td>1</td>\n",
       "      <td>1</td>\n",
       "      <td>0</td>\n",
       "      <td>0</td>\n",
       "      <td>1</td>\n",
       "    </tr>\n",
       "    <tr>\n",
       "      <th>3</th>\n",
       "      <td>44</td>\n",
       "      <td>M</td>\n",
       "      <td>Battery</td>\n",
       "      <td>Other</td>\n",
       "      <td>Low</td>\n",
       "      <td>Male</td>\n",
       "      <td>0</td>\n",
       "      <td>0</td>\n",
       "      <td>0</td>\n",
       "      <td>0</td>\n",
       "      <td>1</td>\n",
       "      <td>0</td>\n",
       "      <td>1</td>\n",
       "      <td>0</td>\n",
       "      <td>0</td>\n",
       "      <td>0</td>\n",
       "      <td>0</td>\n",
       "      <td>0</td>\n",
       "      <td>0</td>\n",
       "      <td>0</td>\n",
       "      <td>1</td>\n",
       "      <td>0</td>\n",
       "      <td>1</td>\n",
       "    </tr>\n",
       "    <tr>\n",
       "      <th>4</th>\n",
       "      <td>41</td>\n",
       "      <td>F</td>\n",
       "      <td>Possession Burglary Tools</td>\n",
       "      <td>Caucasian</td>\n",
       "      <td>Medium</td>\n",
       "      <td>Male</td>\n",
       "      <td>14</td>\n",
       "      <td>0</td>\n",
       "      <td>0</td>\n",
       "      <td>0</td>\n",
       "      <td>6</td>\n",
       "      <td>1</td>\n",
       "      <td>6</td>\n",
       "      <td>0</td>\n",
       "      <td>0</td>\n",
       "      <td>1</td>\n",
       "      <td>0</td>\n",
       "      <td>0</td>\n",
       "      <td>0</td>\n",
       "      <td>0</td>\n",
       "      <td>0</td>\n",
       "      <td>1</td>\n",
       "      <td>6</td>\n",
       "    </tr>\n",
       "  </tbody>\n",
       "</table>\n",
       "</div>"
      ],
      "text/plain": [
       "   age c_charge_degree                   c_charge_desc              race  \\\n",
       "0   69               F    Aggravated Assault w/Firearm             Other   \n",
       "1   34               F  Felony Battery w/Prior Convict  African-American   \n",
       "2   24               F           Possession of Cocaine  African-American   \n",
       "3   44               M                         Battery             Other   \n",
       "4   41               F       Possession Burglary Tools         Caucasian   \n",
       "\n",
       "  score_text   sex  priors_count  juv_fel_count  juv_misd_count  \\\n",
       "0        Low  Male             0              0               0   \n",
       "1        Low  Male             0              0               0   \n",
       "2        Low  Male             4              0               0   \n",
       "3        Low  Male             0              0               0   \n",
       "4     Medium  Male            14              0               0   \n",
       "\n",
       "   juv_other_count  decile_score  two_year_recid  length_of_stay  priors_1  \\\n",
       "0                0             1               0               1         0   \n",
       "1                0             3               1              10         0   \n",
       "2                1             4               1               1         0   \n",
       "3                0             1               0               1         0   \n",
       "4                0             6               1               6         0   \n",
       "\n",
       "   priors_234  priors_5plus  juv_fel_1plus  juv_misd_1plus  juv_other_1plus  \\\n",
       "0           0             0              0               0                0   \n",
       "1           0             0              0               0                0   \n",
       "2           1             0              0               0                1   \n",
       "3           0             0              0               0                0   \n",
       "4           0             1              0               0                0   \n",
       "\n",
       "   charge_any_drug  charge_any_violence_aggression  charge_any_theft  \\\n",
       "0                0                               1                 0   \n",
       "1                0                               1                 0   \n",
       "2                1                               0                 0   \n",
       "3                0                               1                 0   \n",
       "4                0                               0                 1   \n",
       "\n",
       "   length_of_stay_thresh  \n",
       "0                      1  \n",
       "1                     10  \n",
       "2                      1  \n",
       "3                      1  \n",
       "4                      6  "
      ]
     },
     "execution_count": 27,
     "metadata": {},
     "output_type": "execute_result"
    }
   ],
   "source": [
    "compas_df = pd.read_csv('data/compas.csv')\n",
    "compas_df.head()"
   ]
  },
  {
   "cell_type": "code",
   "execution_count": 28,
   "metadata": {},
   "outputs": [
    {
     "data": {
      "text/plain": [
       "(6172, 23)"
      ]
     },
     "execution_count": 28,
     "metadata": {},
     "output_type": "execute_result"
    }
   ],
   "source": [
    "compas_df.shape"
   ]
  },
  {
   "cell_type": "code",
   "execution_count": 29,
   "metadata": {},
   "outputs": [
    {
     "data": {
      "text/html": [
       "<div>\n",
       "<style scoped>\n",
       "    .dataframe tbody tr th:only-of-type {\n",
       "        vertical-align: middle;\n",
       "    }\n",
       "\n",
       "    .dataframe tbody tr th {\n",
       "        vertical-align: top;\n",
       "    }\n",
       "\n",
       "    .dataframe thead th {\n",
       "        text-align: right;\n",
       "    }\n",
       "</style>\n",
       "<table border=\"1\" class=\"dataframe\">\n",
       "  <thead>\n",
       "    <tr style=\"text-align: right;\">\n",
       "      <th></th>\n",
       "      <th>age</th>\n",
       "      <th>c_charge_degree</th>\n",
       "      <th>c_charge_desc</th>\n",
       "      <th>race</th>\n",
       "      <th>score_text</th>\n",
       "      <th>sex</th>\n",
       "      <th>priors_count</th>\n",
       "      <th>juv_fel_count</th>\n",
       "      <th>juv_misd_count</th>\n",
       "      <th>juv_other_count</th>\n",
       "      <th>decile_score</th>\n",
       "      <th>two_year_recid</th>\n",
       "      <th>length_of_stay</th>\n",
       "      <th>priors_1</th>\n",
       "      <th>priors_234</th>\n",
       "      <th>priors_5plus</th>\n",
       "      <th>juv_fel_1plus</th>\n",
       "      <th>juv_misd_1plus</th>\n",
       "      <th>juv_other_1plus</th>\n",
       "      <th>charge_any_drug</th>\n",
       "      <th>charge_any_violence_aggression</th>\n",
       "      <th>charge_any_theft</th>\n",
       "      <th>length_of_stay_thresh</th>\n",
       "    </tr>\n",
       "  </thead>\n",
       "  <tbody>\n",
       "    <tr>\n",
       "      <th>1</th>\n",
       "      <td>34</td>\n",
       "      <td>F</td>\n",
       "      <td>Felony Battery w/Prior Convict</td>\n",
       "      <td>African-American</td>\n",
       "      <td>Low</td>\n",
       "      <td>Male</td>\n",
       "      <td>0</td>\n",
       "      <td>0</td>\n",
       "      <td>0</td>\n",
       "      <td>0</td>\n",
       "      <td>3</td>\n",
       "      <td>1</td>\n",
       "      <td>10</td>\n",
       "      <td>0</td>\n",
       "      <td>0</td>\n",
       "      <td>0</td>\n",
       "      <td>0</td>\n",
       "      <td>0</td>\n",
       "      <td>0</td>\n",
       "      <td>0</td>\n",
       "      <td>1</td>\n",
       "      <td>0</td>\n",
       "      <td>10</td>\n",
       "    </tr>\n",
       "    <tr>\n",
       "      <th>2</th>\n",
       "      <td>24</td>\n",
       "      <td>F</td>\n",
       "      <td>Possession of Cocaine</td>\n",
       "      <td>African-American</td>\n",
       "      <td>Low</td>\n",
       "      <td>Male</td>\n",
       "      <td>4</td>\n",
       "      <td>0</td>\n",
       "      <td>0</td>\n",
       "      <td>1</td>\n",
       "      <td>4</td>\n",
       "      <td>1</td>\n",
       "      <td>1</td>\n",
       "      <td>0</td>\n",
       "      <td>1</td>\n",
       "      <td>0</td>\n",
       "      <td>0</td>\n",
       "      <td>0</td>\n",
       "      <td>1</td>\n",
       "      <td>1</td>\n",
       "      <td>0</td>\n",
       "      <td>0</td>\n",
       "      <td>1</td>\n",
       "    </tr>\n",
       "    <tr>\n",
       "      <th>4</th>\n",
       "      <td>41</td>\n",
       "      <td>F</td>\n",
       "      <td>Possession Burglary Tools</td>\n",
       "      <td>Caucasian</td>\n",
       "      <td>Medium</td>\n",
       "      <td>Male</td>\n",
       "      <td>14</td>\n",
       "      <td>0</td>\n",
       "      <td>0</td>\n",
       "      <td>0</td>\n",
       "      <td>6</td>\n",
       "      <td>1</td>\n",
       "      <td>6</td>\n",
       "      <td>0</td>\n",
       "      <td>0</td>\n",
       "      <td>1</td>\n",
       "      <td>0</td>\n",
       "      <td>0</td>\n",
       "      <td>0</td>\n",
       "      <td>0</td>\n",
       "      <td>0</td>\n",
       "      <td>1</td>\n",
       "      <td>6</td>\n",
       "    </tr>\n",
       "    <tr>\n",
       "      <th>6</th>\n",
       "      <td>39</td>\n",
       "      <td>M</td>\n",
       "      <td>Battery</td>\n",
       "      <td>Caucasian</td>\n",
       "      <td>Low</td>\n",
       "      <td>Female</td>\n",
       "      <td>0</td>\n",
       "      <td>0</td>\n",
       "      <td>0</td>\n",
       "      <td>0</td>\n",
       "      <td>1</td>\n",
       "      <td>0</td>\n",
       "      <td>3</td>\n",
       "      <td>0</td>\n",
       "      <td>0</td>\n",
       "      <td>0</td>\n",
       "      <td>0</td>\n",
       "      <td>0</td>\n",
       "      <td>0</td>\n",
       "      <td>0</td>\n",
       "      <td>1</td>\n",
       "      <td>0</td>\n",
       "      <td>3</td>\n",
       "    </tr>\n",
       "    <tr>\n",
       "      <th>7</th>\n",
       "      <td>27</td>\n",
       "      <td>F</td>\n",
       "      <td>Poss 3,4 MDMA (Ecstasy)</td>\n",
       "      <td>Caucasian</td>\n",
       "      <td>Low</td>\n",
       "      <td>Male</td>\n",
       "      <td>0</td>\n",
       "      <td>0</td>\n",
       "      <td>0</td>\n",
       "      <td>0</td>\n",
       "      <td>4</td>\n",
       "      <td>0</td>\n",
       "      <td>1</td>\n",
       "      <td>0</td>\n",
       "      <td>0</td>\n",
       "      <td>0</td>\n",
       "      <td>0</td>\n",
       "      <td>0</td>\n",
       "      <td>0</td>\n",
       "      <td>1</td>\n",
       "      <td>0</td>\n",
       "      <td>0</td>\n",
       "      <td>1</td>\n",
       "    </tr>\n",
       "  </tbody>\n",
       "</table>\n",
       "</div>"
      ],
      "text/plain": [
       "   age c_charge_degree                   c_charge_desc              race  \\\n",
       "1   34               F  Felony Battery w/Prior Convict  African-American   \n",
       "2   24               F           Possession of Cocaine  African-American   \n",
       "4   41               F       Possession Burglary Tools         Caucasian   \n",
       "6   39               M                         Battery         Caucasian   \n",
       "7   27               F         Poss 3,4 MDMA (Ecstasy)         Caucasian   \n",
       "\n",
       "  score_text     sex  priors_count  juv_fel_count  juv_misd_count  \\\n",
       "1        Low    Male             0              0               0   \n",
       "2        Low    Male             4              0               0   \n",
       "4     Medium    Male            14              0               0   \n",
       "6        Low  Female             0              0               0   \n",
       "7        Low    Male             0              0               0   \n",
       "\n",
       "   juv_other_count  decile_score  two_year_recid  length_of_stay  priors_1  \\\n",
       "1                0             3               1              10         0   \n",
       "2                1             4               1               1         0   \n",
       "4                0             6               1               6         0   \n",
       "6                0             1               0               3         0   \n",
       "7                0             4               0               1         0   \n",
       "\n",
       "   priors_234  priors_5plus  juv_fel_1plus  juv_misd_1plus  juv_other_1plus  \\\n",
       "1           0             0              0               0                0   \n",
       "2           1             0              0               0                1   \n",
       "4           0             1              0               0                0   \n",
       "6           0             0              0               0                0   \n",
       "7           0             0              0               0                0   \n",
       "\n",
       "   charge_any_drug  charge_any_violence_aggression  charge_any_theft  \\\n",
       "1                0                               1                 0   \n",
       "2                1                               0                 0   \n",
       "4                0                               0                 1   \n",
       "6                0                               1                 0   \n",
       "7                1                               0                 0   \n",
       "\n",
       "   length_of_stay_thresh  \n",
       "1                     10  \n",
       "2                      1  \n",
       "4                      6  \n",
       "6                      3  \n",
       "7                      1  "
      ]
     },
     "execution_count": 29,
     "metadata": {},
     "output_type": "execute_result"
    }
   ],
   "source": [
    "# since the question concerns a comparison of African-Americans and Caucasians, we will drop rows for those of other races\n",
    "compas_df = compas_df[compas_df['race'].isin(['Caucasian', 'African-American'])]\n",
    "compas_df.head()"
   ]
  },
  {
   "cell_type": "code",
   "execution_count": 30,
   "metadata": {},
   "outputs": [
    {
     "data": {
      "text/html": [
       "<div>\n",
       "<style scoped>\n",
       "    .dataframe tbody tr th:only-of-type {\n",
       "        vertical-align: middle;\n",
       "    }\n",
       "\n",
       "    .dataframe tbody tr th {\n",
       "        vertical-align: top;\n",
       "    }\n",
       "\n",
       "    .dataframe thead th {\n",
       "        text-align: right;\n",
       "    }\n",
       "</style>\n",
       "<table border=\"1\" class=\"dataframe\">\n",
       "  <thead>\n",
       "    <tr style=\"text-align: right;\">\n",
       "      <th></th>\n",
       "      <th>age</th>\n",
       "      <th>priors_count</th>\n",
       "      <th>juv_fel_count</th>\n",
       "      <th>juv_misd_count</th>\n",
       "      <th>juv_other_count</th>\n",
       "      <th>decile_score</th>\n",
       "      <th>two_year_recid</th>\n",
       "      <th>length_of_stay</th>\n",
       "      <th>priors_1</th>\n",
       "      <th>priors_234</th>\n",
       "      <th>priors_5plus</th>\n",
       "      <th>juv_fel_1plus</th>\n",
       "      <th>juv_misd_1plus</th>\n",
       "      <th>juv_other_1plus</th>\n",
       "      <th>charge_any_drug</th>\n",
       "      <th>charge_any_violence_aggression</th>\n",
       "      <th>charge_any_theft</th>\n",
       "      <th>length_of_stay_thresh</th>\n",
       "      <th>c_charge_degree_M</th>\n",
       "      <th>score_text_Low</th>\n",
       "      <th>score_text_Medium</th>\n",
       "      <th>sex_Male</th>\n",
       "      <th>race_Caucasian</th>\n",
       "    </tr>\n",
       "  </thead>\n",
       "  <tbody>\n",
       "    <tr>\n",
       "      <th>1</th>\n",
       "      <td>34</td>\n",
       "      <td>0</td>\n",
       "      <td>0</td>\n",
       "      <td>0</td>\n",
       "      <td>0</td>\n",
       "      <td>3</td>\n",
       "      <td>1</td>\n",
       "      <td>10</td>\n",
       "      <td>0</td>\n",
       "      <td>0</td>\n",
       "      <td>0</td>\n",
       "      <td>0</td>\n",
       "      <td>0</td>\n",
       "      <td>0</td>\n",
       "      <td>0</td>\n",
       "      <td>1</td>\n",
       "      <td>0</td>\n",
       "      <td>10</td>\n",
       "      <td>0</td>\n",
       "      <td>1</td>\n",
       "      <td>0</td>\n",
       "      <td>1</td>\n",
       "      <td>0</td>\n",
       "    </tr>\n",
       "    <tr>\n",
       "      <th>2</th>\n",
       "      <td>24</td>\n",
       "      <td>4</td>\n",
       "      <td>0</td>\n",
       "      <td>0</td>\n",
       "      <td>1</td>\n",
       "      <td>4</td>\n",
       "      <td>1</td>\n",
       "      <td>1</td>\n",
       "      <td>0</td>\n",
       "      <td>1</td>\n",
       "      <td>0</td>\n",
       "      <td>0</td>\n",
       "      <td>0</td>\n",
       "      <td>1</td>\n",
       "      <td>1</td>\n",
       "      <td>0</td>\n",
       "      <td>0</td>\n",
       "      <td>1</td>\n",
       "      <td>0</td>\n",
       "      <td>1</td>\n",
       "      <td>0</td>\n",
       "      <td>1</td>\n",
       "      <td>0</td>\n",
       "    </tr>\n",
       "    <tr>\n",
       "      <th>4</th>\n",
       "      <td>41</td>\n",
       "      <td>14</td>\n",
       "      <td>0</td>\n",
       "      <td>0</td>\n",
       "      <td>0</td>\n",
       "      <td>6</td>\n",
       "      <td>1</td>\n",
       "      <td>6</td>\n",
       "      <td>0</td>\n",
       "      <td>0</td>\n",
       "      <td>1</td>\n",
       "      <td>0</td>\n",
       "      <td>0</td>\n",
       "      <td>0</td>\n",
       "      <td>0</td>\n",
       "      <td>0</td>\n",
       "      <td>1</td>\n",
       "      <td>6</td>\n",
       "      <td>0</td>\n",
       "      <td>0</td>\n",
       "      <td>1</td>\n",
       "      <td>1</td>\n",
       "      <td>1</td>\n",
       "    </tr>\n",
       "    <tr>\n",
       "      <th>6</th>\n",
       "      <td>39</td>\n",
       "      <td>0</td>\n",
       "      <td>0</td>\n",
       "      <td>0</td>\n",
       "      <td>0</td>\n",
       "      <td>1</td>\n",
       "      <td>0</td>\n",
       "      <td>3</td>\n",
       "      <td>0</td>\n",
       "      <td>0</td>\n",
       "      <td>0</td>\n",
       "      <td>0</td>\n",
       "      <td>0</td>\n",
       "      <td>0</td>\n",
       "      <td>0</td>\n",
       "      <td>1</td>\n",
       "      <td>0</td>\n",
       "      <td>3</td>\n",
       "      <td>1</td>\n",
       "      <td>1</td>\n",
       "      <td>0</td>\n",
       "      <td>0</td>\n",
       "      <td>1</td>\n",
       "    </tr>\n",
       "    <tr>\n",
       "      <th>7</th>\n",
       "      <td>27</td>\n",
       "      <td>0</td>\n",
       "      <td>0</td>\n",
       "      <td>0</td>\n",
       "      <td>0</td>\n",
       "      <td>4</td>\n",
       "      <td>0</td>\n",
       "      <td>1</td>\n",
       "      <td>0</td>\n",
       "      <td>0</td>\n",
       "      <td>0</td>\n",
       "      <td>0</td>\n",
       "      <td>0</td>\n",
       "      <td>0</td>\n",
       "      <td>1</td>\n",
       "      <td>0</td>\n",
       "      <td>0</td>\n",
       "      <td>1</td>\n",
       "      <td>0</td>\n",
       "      <td>1</td>\n",
       "      <td>0</td>\n",
       "      <td>1</td>\n",
       "      <td>1</td>\n",
       "    </tr>\n",
       "  </tbody>\n",
       "</table>\n",
       "</div>"
      ],
      "text/plain": [
       "   age  priors_count  juv_fel_count  juv_misd_count  juv_other_count  \\\n",
       "1   34             0              0               0                0   \n",
       "2   24             4              0               0                1   \n",
       "4   41            14              0               0                0   \n",
       "6   39             0              0               0                0   \n",
       "7   27             0              0               0                0   \n",
       "\n",
       "   decile_score  two_year_recid  length_of_stay  priors_1  priors_234  \\\n",
       "1             3               1              10         0           0   \n",
       "2             4               1               1         0           1   \n",
       "4             6               1               6         0           0   \n",
       "6             1               0               3         0           0   \n",
       "7             4               0               1         0           0   \n",
       "\n",
       "   priors_5plus  juv_fel_1plus  juv_misd_1plus  juv_other_1plus  \\\n",
       "1             0              0               0                0   \n",
       "2             0              0               0                1   \n",
       "4             1              0               0                0   \n",
       "6             0              0               0                0   \n",
       "7             0              0               0                0   \n",
       "\n",
       "   charge_any_drug  charge_any_violence_aggression  charge_any_theft  \\\n",
       "1                0                               1                 0   \n",
       "2                1                               0                 0   \n",
       "4                0                               0                 1   \n",
       "6                0                               1                 0   \n",
       "7                1                               0                 0   \n",
       "\n",
       "   length_of_stay_thresh  c_charge_degree_M  score_text_Low  \\\n",
       "1                     10                  0               1   \n",
       "2                      1                  0               1   \n",
       "4                      6                  0               0   \n",
       "6                      3                  1               1   \n",
       "7                      1                  0               1   \n",
       "\n",
       "   score_text_Medium  sex_Male  race_Caucasian  \n",
       "1                  0         1               0  \n",
       "2                  0         1               0  \n",
       "4                  1         1               1  \n",
       "6                  0         0               1  \n",
       "7                  0         1               1  "
      ]
     },
     "execution_count": 30,
     "metadata": {},
     "output_type": "execute_result"
    }
   ],
   "source": [
    "# drops the description column because there are too many values to be meaningfully one-hot-encoded\n",
    "compas_df = compas_df.drop(columns = 'c_charge_desc')\n",
    "compas_df = pd.get_dummies(compas_df, columns = ['c_charge_degree', 'score_text', 'sex', 'race'], drop_first = True)\n",
    "compas_df.head()"
   ]
  },
  {
   "cell_type": "code",
   "execution_count": 31,
   "metadata": {},
   "outputs": [
    {
     "data": {
      "text/html": [
       "<div>\n",
       "<style scoped>\n",
       "    .dataframe tbody tr th:only-of-type {\n",
       "        vertical-align: middle;\n",
       "    }\n",
       "\n",
       "    .dataframe tbody tr th {\n",
       "        vertical-align: top;\n",
       "    }\n",
       "\n",
       "    .dataframe thead th {\n",
       "        text-align: right;\n",
       "    }\n",
       "</style>\n",
       "<table border=\"1\" class=\"dataframe\">\n",
       "  <thead>\n",
       "    <tr style=\"text-align: right;\">\n",
       "      <th></th>\n",
       "      <th>age</th>\n",
       "      <th>priors_count</th>\n",
       "      <th>juv_fel_count</th>\n",
       "      <th>juv_misd_count</th>\n",
       "      <th>juv_other_count</th>\n",
       "      <th>decile_score</th>\n",
       "      <th>length_of_stay</th>\n",
       "      <th>priors_1</th>\n",
       "      <th>priors_234</th>\n",
       "      <th>priors_5plus</th>\n",
       "      <th>juv_fel_1plus</th>\n",
       "      <th>juv_misd_1plus</th>\n",
       "      <th>juv_other_1plus</th>\n",
       "      <th>charge_any_drug</th>\n",
       "      <th>charge_any_violence_aggression</th>\n",
       "      <th>charge_any_theft</th>\n",
       "      <th>length_of_stay_thresh</th>\n",
       "      <th>c_charge_degree_M</th>\n",
       "      <th>score_text_Low</th>\n",
       "      <th>score_text_Medium</th>\n",
       "      <th>sex_Male</th>\n",
       "      <th>race_Caucasian</th>\n",
       "    </tr>\n",
       "  </thead>\n",
       "  <tbody>\n",
       "    <tr>\n",
       "      <th>3767</th>\n",
       "      <td>37</td>\n",
       "      <td>0</td>\n",
       "      <td>0</td>\n",
       "      <td>0</td>\n",
       "      <td>0</td>\n",
       "      <td>1</td>\n",
       "      <td>1</td>\n",
       "      <td>0</td>\n",
       "      <td>0</td>\n",
       "      <td>0</td>\n",
       "      <td>0</td>\n",
       "      <td>0</td>\n",
       "      <td>0</td>\n",
       "      <td>0</td>\n",
       "      <td>1</td>\n",
       "      <td>0</td>\n",
       "      <td>1</td>\n",
       "      <td>1</td>\n",
       "      <td>1</td>\n",
       "      <td>0</td>\n",
       "      <td>0</td>\n",
       "      <td>0</td>\n",
       "    </tr>\n",
       "    <tr>\n",
       "      <th>6090</th>\n",
       "      <td>24</td>\n",
       "      <td>0</td>\n",
       "      <td>0</td>\n",
       "      <td>0</td>\n",
       "      <td>0</td>\n",
       "      <td>4</td>\n",
       "      <td>1</td>\n",
       "      <td>0</td>\n",
       "      <td>0</td>\n",
       "      <td>0</td>\n",
       "      <td>0</td>\n",
       "      <td>0</td>\n",
       "      <td>0</td>\n",
       "      <td>0</td>\n",
       "      <td>0</td>\n",
       "      <td>0</td>\n",
       "      <td>1</td>\n",
       "      <td>0</td>\n",
       "      <td>1</td>\n",
       "      <td>0</td>\n",
       "      <td>0</td>\n",
       "      <td>0</td>\n",
       "    </tr>\n",
       "    <tr>\n",
       "      <th>6072</th>\n",
       "      <td>38</td>\n",
       "      <td>16</td>\n",
       "      <td>2</td>\n",
       "      <td>3</td>\n",
       "      <td>0</td>\n",
       "      <td>9</td>\n",
       "      <td>33</td>\n",
       "      <td>0</td>\n",
       "      <td>0</td>\n",
       "      <td>1</td>\n",
       "      <td>1</td>\n",
       "      <td>1</td>\n",
       "      <td>0</td>\n",
       "      <td>0</td>\n",
       "      <td>1</td>\n",
       "      <td>0</td>\n",
       "      <td>30</td>\n",
       "      <td>1</td>\n",
       "      <td>0</td>\n",
       "      <td>0</td>\n",
       "      <td>1</td>\n",
       "      <td>0</td>\n",
       "    </tr>\n",
       "    <tr>\n",
       "      <th>3003</th>\n",
       "      <td>37</td>\n",
       "      <td>1</td>\n",
       "      <td>0</td>\n",
       "      <td>0</td>\n",
       "      <td>0</td>\n",
       "      <td>1</td>\n",
       "      <td>1</td>\n",
       "      <td>1</td>\n",
       "      <td>0</td>\n",
       "      <td>0</td>\n",
       "      <td>0</td>\n",
       "      <td>0</td>\n",
       "      <td>0</td>\n",
       "      <td>1</td>\n",
       "      <td>0</td>\n",
       "      <td>0</td>\n",
       "      <td>1</td>\n",
       "      <td>0</td>\n",
       "      <td>1</td>\n",
       "      <td>0</td>\n",
       "      <td>0</td>\n",
       "      <td>1</td>\n",
       "    </tr>\n",
       "    <tr>\n",
       "      <th>5138</th>\n",
       "      <td>22</td>\n",
       "      <td>0</td>\n",
       "      <td>0</td>\n",
       "      <td>0</td>\n",
       "      <td>0</td>\n",
       "      <td>4</td>\n",
       "      <td>1</td>\n",
       "      <td>0</td>\n",
       "      <td>0</td>\n",
       "      <td>0</td>\n",
       "      <td>0</td>\n",
       "      <td>0</td>\n",
       "      <td>0</td>\n",
       "      <td>1</td>\n",
       "      <td>0</td>\n",
       "      <td>0</td>\n",
       "      <td>1</td>\n",
       "      <td>0</td>\n",
       "      <td>1</td>\n",
       "      <td>0</td>\n",
       "      <td>1</td>\n",
       "      <td>0</td>\n",
       "    </tr>\n",
       "  </tbody>\n",
       "</table>\n",
       "</div>"
      ],
      "text/plain": [
       "      age  priors_count  juv_fel_count  juv_misd_count  juv_other_count  \\\n",
       "3767   37             0              0               0                0   \n",
       "6090   24             0              0               0                0   \n",
       "6072   38            16              2               3                0   \n",
       "3003   37             1              0               0                0   \n",
       "5138   22             0              0               0                0   \n",
       "\n",
       "      decile_score  length_of_stay  priors_1  priors_234  priors_5plus  \\\n",
       "3767             1               1         0           0             0   \n",
       "6090             4               1         0           0             0   \n",
       "6072             9              33         0           0             1   \n",
       "3003             1               1         1           0             0   \n",
       "5138             4               1         0           0             0   \n",
       "\n",
       "      juv_fel_1plus  juv_misd_1plus  juv_other_1plus  charge_any_drug  \\\n",
       "3767              0               0                0                0   \n",
       "6090              0               0                0                0   \n",
       "6072              1               1                0                0   \n",
       "3003              0               0                0                1   \n",
       "5138              0               0                0                1   \n",
       "\n",
       "      charge_any_violence_aggression  charge_any_theft  length_of_stay_thresh  \\\n",
       "3767                               1                 0                      1   \n",
       "6090                               0                 0                      1   \n",
       "6072                               1                 0                     30   \n",
       "3003                               0                 0                      1   \n",
       "5138                               0                 0                      1   \n",
       "\n",
       "      c_charge_degree_M  score_text_Low  score_text_Medium  sex_Male  \\\n",
       "3767                  1               1                  0         0   \n",
       "6090                  0               1                  0         0   \n",
       "6072                  1               0                  0         1   \n",
       "3003                  0               1                  0         0   \n",
       "5138                  0               1                  0         1   \n",
       "\n",
       "      race_Caucasian  \n",
       "3767               0  \n",
       "6090               0  \n",
       "6072               0  \n",
       "3003               1  \n",
       "5138               0  "
      ]
     },
     "execution_count": 31,
     "metadata": {},
     "output_type": "execute_result"
    }
   ],
   "source": [
    "X_train, X_test, y_train, y_test =train_test_split(compas_df.loc[:, compas_df.columns != 'two_year_recid'], \n",
    "                                                         compas_df.two_year_recid, test_size=0.2, \n",
    "                                                         random_state = 109, \n",
    "                                                         stratify = compas_df.race_Caucasian)\n",
    "X_train.head()"
   ]
  },
  {
   "cell_type": "code",
   "execution_count": 32,
   "metadata": {},
   "outputs": [
    {
     "data": {
      "text/plain": [
       "3767    0\n",
       "6090    0\n",
       "6072    1\n",
       "3003    0\n",
       "5138    0\n",
       "Name: two_year_recid, dtype: int64"
      ]
     },
     "execution_count": 32,
     "metadata": {},
     "output_type": "execute_result"
    }
   ],
   "source": [
    "# since we one-hot encoded race after dropping all but Caucasian and African-American, a 1 will be Caucasian and a 0 will be African-American\n",
    "y_train.head()"
   ]
  },
  {
   "cell_type": "code",
   "execution_count": 33,
   "metadata": {},
   "outputs": [
    {
     "data": {
      "text/plain": [
       "((4222, 22), (4222,), (1056, 22), (1056,))"
      ]
     },
     "execution_count": 33,
     "metadata": {},
     "output_type": "execute_result"
    }
   ],
   "source": [
    "X_train.shape, y_train.shape, X_test.shape, y_test.shape"
   ]
  },
  {
   "cell_type": "markdown",
   "metadata": {},
   "source": [
    "**4.2 Do a little EDA: explore what variables are related to race. Report 3 variables that appear to have significant differences between Caucasians and African Americans, and provide visuals and numerical summaries to support these chosen variables.**"
   ]
  },
  {
   "cell_type": "code",
   "execution_count": 34,
   "metadata": {},
   "outputs": [
    {
     "data": {
      "text/html": [
       "<div>\n",
       "<style scoped>\n",
       "    .dataframe tbody tr th:only-of-type {\n",
       "        vertical-align: middle;\n",
       "    }\n",
       "\n",
       "    .dataframe tbody tr th {\n",
       "        vertical-align: top;\n",
       "    }\n",
       "\n",
       "    .dataframe thead th {\n",
       "        text-align: right;\n",
       "    }\n",
       "</style>\n",
       "<table border=\"1\" class=\"dataframe\">\n",
       "  <thead>\n",
       "    <tr style=\"text-align: right;\">\n",
       "      <th></th>\n",
       "      <th>age</th>\n",
       "      <th>priors_count</th>\n",
       "      <th>juv_fel_count</th>\n",
       "      <th>juv_misd_count</th>\n",
       "      <th>juv_other_count</th>\n",
       "      <th>decile_score</th>\n",
       "      <th>length_of_stay</th>\n",
       "      <th>priors_1</th>\n",
       "      <th>priors_234</th>\n",
       "      <th>priors_5plus</th>\n",
       "      <th>juv_fel_1plus</th>\n",
       "      <th>juv_misd_1plus</th>\n",
       "      <th>juv_other_1plus</th>\n",
       "      <th>charge_any_drug</th>\n",
       "      <th>charge_any_violence_aggression</th>\n",
       "      <th>charge_any_theft</th>\n",
       "      <th>length_of_stay_thresh</th>\n",
       "      <th>c_charge_degree_M</th>\n",
       "      <th>score_text_Low</th>\n",
       "      <th>score_text_Medium</th>\n",
       "      <th>sex_Male</th>\n",
       "      <th>race_Caucasian</th>\n",
       "    </tr>\n",
       "  </thead>\n",
       "  <tbody>\n",
       "    <tr>\n",
       "      <th>count</th>\n",
       "      <td>4222.000000</td>\n",
       "      <td>4222.000000</td>\n",
       "      <td>4222.000000</td>\n",
       "      <td>4222.000000</td>\n",
       "      <td>4222.000000</td>\n",
       "      <td>4222.000000</td>\n",
       "      <td>4222.000000</td>\n",
       "      <td>4222.000000</td>\n",
       "      <td>4222.000000</td>\n",
       "      <td>4222.000000</td>\n",
       "      <td>4222.000000</td>\n",
       "      <td>4222.000000</td>\n",
       "      <td>4222.000000</td>\n",
       "      <td>4222.000000</td>\n",
       "      <td>4222.000000</td>\n",
       "      <td>4222.000000</td>\n",
       "      <td>4222.000000</td>\n",
       "      <td>4222.000000</td>\n",
       "      <td>4222.000000</td>\n",
       "      <td>4222.000000</td>\n",
       "      <td>4222.000000</td>\n",
       "      <td>4222.000000</td>\n",
       "    </tr>\n",
       "    <tr>\n",
       "      <th>mean</th>\n",
       "      <td>34.483657</td>\n",
       "      <td>3.448366</td>\n",
       "      <td>0.060872</td>\n",
       "      <td>0.099716</td>\n",
       "      <td>0.120085</td>\n",
       "      <td>4.621743</td>\n",
       "      <td>15.420654</td>\n",
       "      <td>0.179536</td>\n",
       "      <td>0.246566</td>\n",
       "      <td>0.257224</td>\n",
       "      <td>0.035291</td>\n",
       "      <td>0.061819</td>\n",
       "      <td>0.081004</td>\n",
       "      <td>0.191615</td>\n",
       "      <td>0.294647</td>\n",
       "      <td>0.146376</td>\n",
       "      <td>6.707011</td>\n",
       "      <td>0.348650</td>\n",
       "      <td>0.521554</td>\n",
       "      <td>0.276883</td>\n",
       "      <td>0.805779</td>\n",
       "      <td>0.398389</td>\n",
       "    </tr>\n",
       "    <tr>\n",
       "      <th>std</th>\n",
       "      <td>11.801489</td>\n",
       "      <td>4.894922</td>\n",
       "      <td>0.421906</td>\n",
       "      <td>0.521288</td>\n",
       "      <td>0.485301</td>\n",
       "      <td>2.845085</td>\n",
       "      <td>47.580067</td>\n",
       "      <td>0.383846</td>\n",
       "      <td>0.431063</td>\n",
       "      <td>0.437156</td>\n",
       "      <td>0.184537</td>\n",
       "      <td>0.240855</td>\n",
       "      <td>0.272874</td>\n",
       "      <td>0.393619</td>\n",
       "      <td>0.455938</td>\n",
       "      <td>0.353525</td>\n",
       "      <td>10.281475</td>\n",
       "      <td>0.476599</td>\n",
       "      <td>0.499594</td>\n",
       "      <td>0.447511</td>\n",
       "      <td>0.395646</td>\n",
       "      <td>0.489624</td>\n",
       "    </tr>\n",
       "    <tr>\n",
       "      <th>min</th>\n",
       "      <td>18.000000</td>\n",
       "      <td>0.000000</td>\n",
       "      <td>0.000000</td>\n",
       "      <td>0.000000</td>\n",
       "      <td>0.000000</td>\n",
       "      <td>1.000000</td>\n",
       "      <td>0.000000</td>\n",
       "      <td>0.000000</td>\n",
       "      <td>0.000000</td>\n",
       "      <td>0.000000</td>\n",
       "      <td>0.000000</td>\n",
       "      <td>0.000000</td>\n",
       "      <td>0.000000</td>\n",
       "      <td>0.000000</td>\n",
       "      <td>0.000000</td>\n",
       "      <td>0.000000</td>\n",
       "      <td>0.000000</td>\n",
       "      <td>0.000000</td>\n",
       "      <td>0.000000</td>\n",
       "      <td>0.000000</td>\n",
       "      <td>0.000000</td>\n",
       "      <td>0.000000</td>\n",
       "    </tr>\n",
       "    <tr>\n",
       "      <th>25%</th>\n",
       "      <td>25.000000</td>\n",
       "      <td>0.000000</td>\n",
       "      <td>0.000000</td>\n",
       "      <td>0.000000</td>\n",
       "      <td>0.000000</td>\n",
       "      <td>2.000000</td>\n",
       "      <td>1.000000</td>\n",
       "      <td>0.000000</td>\n",
       "      <td>0.000000</td>\n",
       "      <td>0.000000</td>\n",
       "      <td>0.000000</td>\n",
       "      <td>0.000000</td>\n",
       "      <td>0.000000</td>\n",
       "      <td>0.000000</td>\n",
       "      <td>0.000000</td>\n",
       "      <td>0.000000</td>\n",
       "      <td>1.000000</td>\n",
       "      <td>0.000000</td>\n",
       "      <td>0.000000</td>\n",
       "      <td>0.000000</td>\n",
       "      <td>1.000000</td>\n",
       "      <td>0.000000</td>\n",
       "    </tr>\n",
       "    <tr>\n",
       "      <th>50%</th>\n",
       "      <td>31.000000</td>\n",
       "      <td>2.000000</td>\n",
       "      <td>0.000000</td>\n",
       "      <td>0.000000</td>\n",
       "      <td>0.000000</td>\n",
       "      <td>4.000000</td>\n",
       "      <td>1.000000</td>\n",
       "      <td>0.000000</td>\n",
       "      <td>0.000000</td>\n",
       "      <td>0.000000</td>\n",
       "      <td>0.000000</td>\n",
       "      <td>0.000000</td>\n",
       "      <td>0.000000</td>\n",
       "      <td>0.000000</td>\n",
       "      <td>0.000000</td>\n",
       "      <td>0.000000</td>\n",
       "      <td>1.000000</td>\n",
       "      <td>0.000000</td>\n",
       "      <td>1.000000</td>\n",
       "      <td>0.000000</td>\n",
       "      <td>1.000000</td>\n",
       "      <td>0.000000</td>\n",
       "    </tr>\n",
       "    <tr>\n",
       "      <th>75%</th>\n",
       "      <td>42.000000</td>\n",
       "      <td>5.000000</td>\n",
       "      <td>0.000000</td>\n",
       "      <td>0.000000</td>\n",
       "      <td>0.000000</td>\n",
       "      <td>7.000000</td>\n",
       "      <td>6.000000</td>\n",
       "      <td>0.000000</td>\n",
       "      <td>0.000000</td>\n",
       "      <td>1.000000</td>\n",
       "      <td>0.000000</td>\n",
       "      <td>0.000000</td>\n",
       "      <td>0.000000</td>\n",
       "      <td>0.000000</td>\n",
       "      <td>1.000000</td>\n",
       "      <td>0.000000</td>\n",
       "      <td>6.000000</td>\n",
       "      <td>1.000000</td>\n",
       "      <td>1.000000</td>\n",
       "      <td>1.000000</td>\n",
       "      <td>1.000000</td>\n",
       "      <td>1.000000</td>\n",
       "    </tr>\n",
       "    <tr>\n",
       "      <th>max</th>\n",
       "      <td>80.000000</td>\n",
       "      <td>38.000000</td>\n",
       "      <td>10.000000</td>\n",
       "      <td>13.000000</td>\n",
       "      <td>7.000000</td>\n",
       "      <td>10.000000</td>\n",
       "      <td>800.000000</td>\n",
       "      <td>1.000000</td>\n",
       "      <td>1.000000</td>\n",
       "      <td>1.000000</td>\n",
       "      <td>1.000000</td>\n",
       "      <td>1.000000</td>\n",
       "      <td>1.000000</td>\n",
       "      <td>1.000000</td>\n",
       "      <td>1.000000</td>\n",
       "      <td>1.000000</td>\n",
       "      <td>30.000000</td>\n",
       "      <td>1.000000</td>\n",
       "      <td>1.000000</td>\n",
       "      <td>1.000000</td>\n",
       "      <td>1.000000</td>\n",
       "      <td>1.000000</td>\n",
       "    </tr>\n",
       "  </tbody>\n",
       "</table>\n",
       "</div>"
      ],
      "text/plain": [
       "               age  priors_count  juv_fel_count  juv_misd_count  \\\n",
       "count  4222.000000   4222.000000    4222.000000     4222.000000   \n",
       "mean     34.483657      3.448366       0.060872        0.099716   \n",
       "std      11.801489      4.894922       0.421906        0.521288   \n",
       "min      18.000000      0.000000       0.000000        0.000000   \n",
       "25%      25.000000      0.000000       0.000000        0.000000   \n",
       "50%      31.000000      2.000000       0.000000        0.000000   \n",
       "75%      42.000000      5.000000       0.000000        0.000000   \n",
       "max      80.000000     38.000000      10.000000       13.000000   \n",
       "\n",
       "       juv_other_count  decile_score  length_of_stay     priors_1  \\\n",
       "count      4222.000000   4222.000000     4222.000000  4222.000000   \n",
       "mean          0.120085      4.621743       15.420654     0.179536   \n",
       "std           0.485301      2.845085       47.580067     0.383846   \n",
       "min           0.000000      1.000000        0.000000     0.000000   \n",
       "25%           0.000000      2.000000        1.000000     0.000000   \n",
       "50%           0.000000      4.000000        1.000000     0.000000   \n",
       "75%           0.000000      7.000000        6.000000     0.000000   \n",
       "max           7.000000     10.000000      800.000000     1.000000   \n",
       "\n",
       "        priors_234  priors_5plus  juv_fel_1plus  juv_misd_1plus  \\\n",
       "count  4222.000000   4222.000000    4222.000000     4222.000000   \n",
       "mean      0.246566      0.257224       0.035291        0.061819   \n",
       "std       0.431063      0.437156       0.184537        0.240855   \n",
       "min       0.000000      0.000000       0.000000        0.000000   \n",
       "25%       0.000000      0.000000       0.000000        0.000000   \n",
       "50%       0.000000      0.000000       0.000000        0.000000   \n",
       "75%       0.000000      1.000000       0.000000        0.000000   \n",
       "max       1.000000      1.000000       1.000000        1.000000   \n",
       "\n",
       "       juv_other_1plus  charge_any_drug  charge_any_violence_aggression  \\\n",
       "count      4222.000000      4222.000000                     4222.000000   \n",
       "mean          0.081004         0.191615                        0.294647   \n",
       "std           0.272874         0.393619                        0.455938   \n",
       "min           0.000000         0.000000                        0.000000   \n",
       "25%           0.000000         0.000000                        0.000000   \n",
       "50%           0.000000         0.000000                        0.000000   \n",
       "75%           0.000000         0.000000                        1.000000   \n",
       "max           1.000000         1.000000                        1.000000   \n",
       "\n",
       "       charge_any_theft  length_of_stay_thresh  c_charge_degree_M  \\\n",
       "count       4222.000000            4222.000000        4222.000000   \n",
       "mean           0.146376               6.707011           0.348650   \n",
       "std            0.353525              10.281475           0.476599   \n",
       "min            0.000000               0.000000           0.000000   \n",
       "25%            0.000000               1.000000           0.000000   \n",
       "50%            0.000000               1.000000           0.000000   \n",
       "75%            0.000000               6.000000           1.000000   \n",
       "max            1.000000              30.000000           1.000000   \n",
       "\n",
       "       score_text_Low  score_text_Medium     sex_Male  race_Caucasian  \n",
       "count     4222.000000        4222.000000  4222.000000     4222.000000  \n",
       "mean         0.521554           0.276883     0.805779        0.398389  \n",
       "std          0.499594           0.447511     0.395646        0.489624  \n",
       "min          0.000000           0.000000     0.000000        0.000000  \n",
       "25%          0.000000           0.000000     1.000000        0.000000  \n",
       "50%          1.000000           0.000000     1.000000        0.000000  \n",
       "75%          1.000000           1.000000     1.000000        1.000000  \n",
       "max          1.000000           1.000000     1.000000        1.000000  "
      ]
     },
     "execution_count": 34,
     "metadata": {},
     "output_type": "execute_result"
    }
   ],
   "source": [
    "# your code here\n",
    "X_train.describe()"
   ]
  },
  {
   "cell_type": "code",
   "execution_count": 35,
   "metadata": {},
   "outputs": [
    {
     "name": "stdout",
     "output_type": "stream",
     "text": [
      "Top 3 predictors that Discriminate Between the Two Races Based on T-Scores\n",
      "\n",
      "1. decile_score with a t test score of 21.85886488054081\n",
      "The average value of decile_score for African-American individuals is 5.276850393700787\n",
      "The average value of decile_score for Caucasian individuals is 3.635282929148835\n",
      "\n",
      "2. score_text_Low with a t test score of 18.158205396354038\n",
      "The average value of score_text_Low for African-American individuals is 0.4239370078740157\n",
      "The average value of score_text_Low for Caucasian individuals is 0.6690442225392297\n",
      "\n",
      "3. priors_count with a t test score of 15.717842123018121\n",
      "The average value of priors_count for African-American individuals is 4.238110236220472\n",
      "The average value of priors_count for Caucasian individuals is 2.2891107941036615\n",
      "\n"
     ]
    }
   ],
   "source": [
    "t_scores = []\n",
    "AfrAm = compas_df[compas_df['race_Caucasian'] == 0]\n",
    "N1 = len(AfrAm)\n",
    "Cauc = compas_df[compas_df['race_Caucasian'] == 1]\n",
    "N2 = len(Cauc)\n",
    "for predictor in X_train.copy().drop(columns = 'race_Caucasian').columns:\n",
    "    XBar1 = np.mean(AfrAm[predictor])\n",
    "    XBar2 = np.mean(Cauc[predictor])\n",
    "    Std1 = np.std(AfrAm[predictor])\n",
    "    Std2 = np.std(Cauc[predictor])\n",
    "    t_score = (np.abs(XBar1-XBar2))/np.sqrt((Std1**2/N1)+(Std2**2/N2))\n",
    "    t_scores.append({'predictor': predictor, 't_score': t_score, 'AAMean': XBar1, 'CaucMean': XBar2})\n",
    "#print(t_scores)\n",
    "\n",
    "sortedTScores = sorted(t_scores, key=lambda k: k['t_score'], reverse = True)\n",
    "print('Top 3 predictors that Discriminate Between the Two Races Based on T-Scores\\n')\n",
    "for i, score in enumerate(sortedTScores[:3], 1):\n",
    "    print(\"{}. {} with a t test score of {}\".format(i, score['predictor'], score['t_score']))\n",
    "    print(\"The average value of {} for African-American individuals is {}\".format(score['predictor'], score['AAMean']))\n",
    "    print(\"The average value of {} for Caucasian individuals is {}\".format(score['predictor'], score['CaucMean']))\n",
    "    print(\"\")"
   ]
  },
  {
   "cell_type": "code",
   "execution_count": 36,
   "metadata": {},
   "outputs": [
    {
     "data": {
      "image/png": "[encoded data removed]",
      "text/plain": [
       "<Figure size 1080x1440 with 6 Axes>"
      ]
     },
     "metadata": {
      "needs_background": "light"
     },
     "output_type": "display_data"
    }
   ],
   "source": [
    "fig, ax = plt.subplots(3, 2, figsize= (15, 20))\n",
    "fig.suptitle(\"Scatterplots for the Three Predictors Most Different Between Caucasian and African-American Individuals\", fontsize = '20', y = .93)\n",
    "for i, predictor in enumerate(sortedTScores[:3]):\n",
    "    ax[i][0].set_title('Distribution of {} for African American Individuals'.format(predictor['predictor']), fontsize = '16')\n",
    "    ax[i][1].set_title('Distribution of {} for Caucasian Individuals'.format(predictor['predictor']), fontsize = '16')\n",
    "    ax[i][0].hist(AfrAm[predictor['predictor']], color = 'r')\n",
    "    ax[i][1].hist(Cauc[predictor['predictor']], color = 'b')\n",
    "    ax[i][0].set_xlabel('Value for {}'.format(predictor['predictor']))\n",
    "    ax[i][1].set_xlabel('Value for {}'.format(predictor['predictor']))\n",
    "    ax[i][0].set_ylabel('Number of Individuals')\n",
    "    ax[i][1].set_ylabel('Number of Individuals')"
   ]
  },
  {
   "cell_type": "markdown",
   "metadata": {},
   "source": [
    "We notice that the scatterplot for African American individuals on decile score is much more evenly distributed across all 10 scores. On the other hand, the same plot for Caucasian individuals is strikingly different as it is skewed to the left with much more individuals having low risk scores than the more high risk ones. In the score_text_Low one-hot-encoded variable, we notice that more African-American individuals have 0 for this attribute, meaning they do not have a low risk score, than African-American individuals who do have a low risk score. Yet, for Caucasian individuals, there are much more individuals who do have a low risk score (value of 1) than Caucasian individuals who do not have a low risk score (0). In terms of priors count, there are more African-Americans in the prior crimes count bins of 10, 15, 20, and 25, than there are white individuals. Again, this does not necessarily mean that African-American individuals committed more crimes, it means they have been caught for more crimes than Caucasian individuals. This will be explained in 4.3. "
   ]
  },
  {
   "cell_type": "markdown",
   "metadata": {},
   "source": [
    "**4.3 With respect to these 3 chosen variables, how could bias in the data or data collection be impacting or causing these differences? Explain in 3-5 sentences.**"
   ]
  },
  {
   "cell_type": "markdown",
   "metadata": {},
   "source": [
    "For the variable of priors count, biased policing could be impacting how many prior crimes each racial group seems to have committed. Empirical studies show that African-American individuals are stopped and incarcerated more than Caucasian individuals, as also mentioned in the ethiCS lecture, which would skew the priors_count to seem that African-Americans have much more priors, ultimately impacting their risk score. As for score_text_Low, this metric is based on the COMPAS algorithm, which can take into account factors like priors_count that can be biased in terms of policing and racial bias in the judiciary system for who is ultimately convicted and the framing of the crime. Similarly, the decile_score is based on factors that can be biased, ultimately impacting the degree of the discrepancy between Caucasian and African-American individuals in the same way as the score_text_Low."
   ]
  },
  {
   "cell_type": "markdown",
   "metadata": {},
   "source": [
    "**4.4. Build 2 seperate models to predict recidivism (`two_year_recid`) from these data (2 different 'classes' of models:  $k$-NN, linear, logistic, etc.) and be sure to include race as a predictor.**"
   ]
  },
  {
   "cell_type": "markdown",
   "metadata": {},
   "source": [
    "## Multiple Logistic Regression Model"
   ]
  },
  {
   "cell_type": "code",
   "execution_count": 37,
   "metadata": {},
   "outputs": [
    {
     "name": "stdout",
     "output_type": "stream",
     "text": [
      "The misclassification rate of the logistic model on the test set is 0.31818181818181823.\n"
     ]
    }
   ],
   "source": [
    "# your code here\n",
    "recidMultiLogistic = LogisticRegression(C = 1000000, solver = 'liblinear').fit(X_train, y_train)\n",
    "recidMultiLogisticTest = recidMultiLogistic.predict_proba(X_test)[:, 1]\n",
    "\n",
    "for i in range(len(recidMultiLogisticTest)):\n",
    "    if recidMultiLogisticTest[i] > .5:\n",
    "        recidMultiLogisticTest[i] = 1\n",
    "    else:\n",
    "        recidMultiLogisticTest[i] = 0\n",
    "\n",
    "print(\"The misclassification rate of the logistic model on the test set is {}.\".format(1-accuracy_score(recidMultiLogisticTest, y_test)))"
   ]
  },
  {
   "cell_type": "markdown",
   "metadata": {},
   "source": [
    "## k-NN Model"
   ]
  },
  {
   "cell_type": "code",
   "execution_count": 38,
   "metadata": {},
   "outputs": [
    {
     "name": "stdout",
     "output_type": "stream",
     "text": [
      "The best k for our classification model will be 25\n",
      "The k = 25 model has a misclassification rate on the test set of 0.3304924242424242\n"
     ]
    }
   ],
   "source": [
    "# your code here\n",
    "k_list = [1, 2, 3, 4, 5, 7, 9, 10, 15, 25, 50]\n",
    "best_k = 0\n",
    "best_model = None\n",
    "best_score = -1\n",
    "\n",
    "for k in k_list:\n",
    "    model = KNeighborsClassifier(n_neighbors = k)\n",
    "    cv_scores = cross_val_score(model, X_train, y_train, cv = 5)\n",
    "    mean_score = np.mean(cv_scores)\n",
    "    if mean_score > best_score:\n",
    "        best_score = mean_score\n",
    "        best_model = model\n",
    "        best_k = k\n",
    "knnR = best_model.fit(X_train, y_train)\n",
    "\n",
    "best_test_score = np.mean(knnR.score(X_test, y_test))\n",
    "print(\"The best k for our classification model will be {}\".format(best_k))\n",
    "print(\"The k = {} model has a misclassification rate on the test set of {}\".format(best_k, 1-best_test_score))"
   ]
  },
  {
   "cell_type": "markdown",
   "metadata": {},
   "source": [
    "**4.5. Refit the models in 4.4 without race as a predictor. Report the overall misclassifcation rates, and compare the differences in false positive and false negative rates between Caucasians and African Americans in these models on the test set. How do these compare to the models when race is included as a predictor?**"
   ]
  },
  {
   "cell_type": "code",
   "execution_count": 39,
   "metadata": {},
   "outputs": [
    {
     "data": {
      "text/html": [
       "<div>\n",
       "<style scoped>\n",
       "    .dataframe tbody tr th:only-of-type {\n",
       "        vertical-align: middle;\n",
       "    }\n",
       "\n",
       "    .dataframe tbody tr th {\n",
       "        vertical-align: top;\n",
       "    }\n",
       "\n",
       "    .dataframe thead th {\n",
       "        text-align: right;\n",
       "    }\n",
       "</style>\n",
       "<table border=\"1\" class=\"dataframe\">\n",
       "  <thead>\n",
       "    <tr style=\"text-align: right;\">\n",
       "      <th></th>\n",
       "      <th>age</th>\n",
       "      <th>priors_count</th>\n",
       "      <th>juv_fel_count</th>\n",
       "      <th>juv_misd_count</th>\n",
       "      <th>juv_other_count</th>\n",
       "      <th>decile_score</th>\n",
       "      <th>length_of_stay</th>\n",
       "      <th>priors_1</th>\n",
       "      <th>priors_234</th>\n",
       "      <th>priors_5plus</th>\n",
       "      <th>juv_fel_1plus</th>\n",
       "      <th>juv_misd_1plus</th>\n",
       "      <th>juv_other_1plus</th>\n",
       "      <th>charge_any_drug</th>\n",
       "      <th>charge_any_violence_aggression</th>\n",
       "      <th>charge_any_theft</th>\n",
       "      <th>length_of_stay_thresh</th>\n",
       "      <th>c_charge_degree_M</th>\n",
       "      <th>score_text_Low</th>\n",
       "      <th>score_text_Medium</th>\n",
       "      <th>sex_Male</th>\n",
       "    </tr>\n",
       "  </thead>\n",
       "  <tbody>\n",
       "    <tr>\n",
       "      <th>3767</th>\n",
       "      <td>37</td>\n",
       "      <td>0</td>\n",
       "      <td>0</td>\n",
       "      <td>0</td>\n",
       "      <td>0</td>\n",
       "      <td>1</td>\n",
       "      <td>1</td>\n",
       "      <td>0</td>\n",
       "      <td>0</td>\n",
       "      <td>0</td>\n",
       "      <td>0</td>\n",
       "      <td>0</td>\n",
       "      <td>0</td>\n",
       "      <td>0</td>\n",
       "      <td>1</td>\n",
       "      <td>0</td>\n",
       "      <td>1</td>\n",
       "      <td>1</td>\n",
       "      <td>1</td>\n",
       "      <td>0</td>\n",
       "      <td>0</td>\n",
       "    </tr>\n",
       "    <tr>\n",
       "      <th>6090</th>\n",
       "      <td>24</td>\n",
       "      <td>0</td>\n",
       "      <td>0</td>\n",
       "      <td>0</td>\n",
       "      <td>0</td>\n",
       "      <td>4</td>\n",
       "      <td>1</td>\n",
       "      <td>0</td>\n",
       "      <td>0</td>\n",
       "      <td>0</td>\n",
       "      <td>0</td>\n",
       "      <td>0</td>\n",
       "      <td>0</td>\n",
       "      <td>0</td>\n",
       "      <td>0</td>\n",
       "      <td>0</td>\n",
       "      <td>1</td>\n",
       "      <td>0</td>\n",
       "      <td>1</td>\n",
       "      <td>0</td>\n",
       "      <td>0</td>\n",
       "    </tr>\n",
       "    <tr>\n",
       "      <th>6072</th>\n",
       "      <td>38</td>\n",
       "      <td>16</td>\n",
       "      <td>2</td>\n",
       "      <td>3</td>\n",
       "      <td>0</td>\n",
       "      <td>9</td>\n",
       "      <td>33</td>\n",
       "      <td>0</td>\n",
       "      <td>0</td>\n",
       "      <td>1</td>\n",
       "      <td>1</td>\n",
       "      <td>1</td>\n",
       "      <td>0</td>\n",
       "      <td>0</td>\n",
       "      <td>1</td>\n",
       "      <td>0</td>\n",
       "      <td>30</td>\n",
       "      <td>1</td>\n",
       "      <td>0</td>\n",
       "      <td>0</td>\n",
       "      <td>1</td>\n",
       "    </tr>\n",
       "    <tr>\n",
       "      <th>3003</th>\n",
       "      <td>37</td>\n",
       "      <td>1</td>\n",
       "      <td>0</td>\n",
       "      <td>0</td>\n",
       "      <td>0</td>\n",
       "      <td>1</td>\n",
       "      <td>1</td>\n",
       "      <td>1</td>\n",
       "      <td>0</td>\n",
       "      <td>0</td>\n",
       "      <td>0</td>\n",
       "      <td>0</td>\n",
       "      <td>0</td>\n",
       "      <td>1</td>\n",
       "      <td>0</td>\n",
       "      <td>0</td>\n",
       "      <td>1</td>\n",
       "      <td>0</td>\n",
       "      <td>1</td>\n",
       "      <td>0</td>\n",
       "      <td>0</td>\n",
       "    </tr>\n",
       "    <tr>\n",
       "      <th>5138</th>\n",
       "      <td>22</td>\n",
       "      <td>0</td>\n",
       "      <td>0</td>\n",
       "      <td>0</td>\n",
       "      <td>0</td>\n",
       "      <td>4</td>\n",
       "      <td>1</td>\n",
       "      <td>0</td>\n",
       "      <td>0</td>\n",
       "      <td>0</td>\n",
       "      <td>0</td>\n",
       "      <td>0</td>\n",
       "      <td>0</td>\n",
       "      <td>1</td>\n",
       "      <td>0</td>\n",
       "      <td>0</td>\n",
       "      <td>1</td>\n",
       "      <td>0</td>\n",
       "      <td>1</td>\n",
       "      <td>0</td>\n",
       "      <td>1</td>\n",
       "    </tr>\n",
       "  </tbody>\n",
       "</table>\n",
       "</div>"
      ],
      "text/plain": [
       "      age  priors_count  juv_fel_count  juv_misd_count  juv_other_count  \\\n",
       "3767   37             0              0               0                0   \n",
       "6090   24             0              0               0                0   \n",
       "6072   38            16              2               3                0   \n",
       "3003   37             1              0               0                0   \n",
       "5138   22             0              0               0                0   \n",
       "\n",
       "      decile_score  length_of_stay  priors_1  priors_234  priors_5plus  \\\n",
       "3767             1               1         0           0             0   \n",
       "6090             4               1         0           0             0   \n",
       "6072             9              33         0           0             1   \n",
       "3003             1               1         1           0             0   \n",
       "5138             4               1         0           0             0   \n",
       "\n",
       "      juv_fel_1plus  juv_misd_1plus  juv_other_1plus  charge_any_drug  \\\n",
       "3767              0               0                0                0   \n",
       "6090              0               0                0                0   \n",
       "6072              1               1                0                0   \n",
       "3003              0               0                0                1   \n",
       "5138              0               0                0                1   \n",
       "\n",
       "      charge_any_violence_aggression  charge_any_theft  length_of_stay_thresh  \\\n",
       "3767                               1                 0                      1   \n",
       "6090                               0                 0                      1   \n",
       "6072                               1                 0                     30   \n",
       "3003                               0                 0                      1   \n",
       "5138                               0                 0                      1   \n",
       "\n",
       "      c_charge_degree_M  score_text_Low  score_text_Medium  sex_Male  \n",
       "3767                  1               1                  0         0  \n",
       "6090                  0               1                  0         0  \n",
       "6072                  1               0                  0         1  \n",
       "3003                  0               1                  0         0  \n",
       "5138                  0               1                  0         1  "
      ]
     },
     "execution_count": 39,
     "metadata": {},
     "output_type": "execute_result"
    }
   ],
   "source": [
    "# your code here\n",
    "X_trainNoRace = X_train.drop(columns = 'race_Caucasian')\n",
    "X_testNoRace = X_test.drop(columns = 'race_Caucasian')\n",
    "X_trainNoRace.head()"
   ]
  },
  {
   "cell_type": "markdown",
   "metadata": {},
   "source": [
    "## Multiple Logistic Regression without Race"
   ]
  },
  {
   "cell_type": "markdown",
   "metadata": {},
   "source": [
    "### Confusion Matrix for MLR WITH Race"
   ]
  },
  {
   "cell_type": "code",
   "execution_count": 40,
   "metadata": {},
   "outputs": [
    {
     "name": "stdout",
     "output_type": "stream",
     "text": [
      "[[417 146]\n",
      " [190 303]]\n",
      "False positive rates for Multiple Logistic Regression classification with race included: 0.25932504440497334\n",
      "False negative rates for Multiple Logistic Regression classification with race included: 0.385395537525355\n"
     ]
    }
   ],
   "source": [
    "scores2 = []\n",
    "MLRRace = confusion_matrix(y_test, recidMultiLogisticTest)\n",
    "print(MLRRace)\n",
    "print(\"False positive rates for Multiple Logistic Regression classification with race included: {}\".format(MLRRace[0][1]/np.sum(MLRRace[0])))\n",
    "print(\"False negative rates for Multiple Logistic Regression classification with race included: {}\".format(MLRRace[1][0]/np.sum(MLRRace[1])))\n",
    "scores2.append([1-accuracy_score(recidMultiLogisticTest, y_test), MLRRace[0][1]/np.sum(MLRRace[0]), MLRRace[1][0]/np.sum(MLRRace[1])])"
   ]
  },
  {
   "cell_type": "markdown",
   "metadata": {},
   "source": [
    "### Misclassification Rate and Confusion Matrix for MLR WITHOUT Race"
   ]
  },
  {
   "cell_type": "code",
   "execution_count": 41,
   "metadata": {},
   "outputs": [
    {
     "name": "stdout",
     "output_type": "stream",
     "text": [
      "The misclassification rate of the logistic model on the test set without race is 0.31818181818181823.\n",
      "[[417 146]\n",
      " [190 303]]\n",
      "False positive rates for Multiple Logistic Regression classification without race included: 0.25932504440497334\n",
      "False negative rates for Multiple Logistic Regression classification without race included: 0.385395537525355\n"
     ]
    }
   ],
   "source": [
    "recidMultiLogisticNR = LogisticRegression(C = 1000000, solver = 'liblinear').fit(X_trainNoRace, y_train)\n",
    "recidMultiLogisticTestNR = recidMultiLogisticNR.predict_proba(X_testNoRace)[:, 1]\n",
    "\n",
    "for i in range(len(recidMultiLogisticTestNR)):\n",
    "    if recidMultiLogisticTestNR[i] > .5:\n",
    "        recidMultiLogisticTestNR[i] = 1\n",
    "    else:\n",
    "        recidMultiLogisticTestNR[i] = 0\n",
    "\n",
    "print(\"The misclassification rate of the logistic model on the test set without race is {}.\".format(1-accuracy_score(recidMultiLogisticTestNR, y_test)))\n",
    "MLRNoRace = confusion_matrix(y_test, recidMultiLogisticTestNR)\n",
    "print(MLRNoRace)\n",
    "print(\"False positive rates for Multiple Logistic Regression classification without race included: {}\".format(MLRNoRace[0][1]/np.sum(MLRNoRace[0])))\n",
    "print(\"False negative rates for Multiple Logistic Regression classification without race included: {}\".format(MLRNoRace[1][0]/np.sum(MLRNoRace[1])))\n",
    "scores2.append([1-accuracy_score(recidMultiLogisticTestNR, y_test), MLRNoRace[0][1]/np.sum(MLRNoRace[0]), MLRNoRace[1][0]/np.sum(MLRNoRace[1])])"
   ]
  },
  {
   "cell_type": "markdown",
   "metadata": {},
   "source": [
    "## k-NN Model without Race"
   ]
  },
  {
   "cell_type": "markdown",
   "metadata": {},
   "source": [
    "### Confusion Matrix for k-NN WITH Race"
   ]
  },
  {
   "cell_type": "code",
   "execution_count": 42,
   "metadata": {},
   "outputs": [
    {
     "name": "stdout",
     "output_type": "stream",
     "text": [
      "[[404 159]\n",
      " [190 303]]\n",
      "False positive rates for k-NN classification (k = 25) without race included: 0.2824156305506217\n",
      "False negative rates for k-NN classification (k = 25) without race included: 0.385395537525355\n"
     ]
    }
   ],
   "source": [
    "knnPredictTestWR = knnR.predict(X_test)\n",
    "confusionKNN = confusion_matrix(y_test, knnPredictTestWR)\n",
    "print(confusionKNN)\n",
    "print(\"False positive rates for k-NN classification (k = 25) without race included: {}\".format(confusionKNN[0][1]/np.sum(confusionKNN[0])))\n",
    "print(\"False negative rates for k-NN classification (k = 25) without race included: {}\".format(confusionKNN[1][0]/np.sum(confusionKNN[1])))\n",
    "scores2.append([1-best_test_score, confusionKNN[0][1]/np.sum(confusionKNN[0]), confusionKNN[1][0]/np.sum(confusionKNN[1])])"
   ]
  },
  {
   "cell_type": "markdown",
   "metadata": {},
   "source": [
    "### Confusion Matrix for k-NN WITHOUT Race"
   ]
  },
  {
   "cell_type": "code",
   "execution_count": 43,
   "metadata": {},
   "outputs": [
    {
     "name": "stdout",
     "output_type": "stream",
     "text": [
      "Misclassification rate for k-NN (k = 25) model without race included: 0.3314393939393939\n",
      "[[403 160]\n",
      " [190 303]]\n",
      "False positive rates for k-NN classification (k = 25) without race included: 0.2841918294849023\n",
      "False negative rates for k-NN classification (k = 25) without race included: 0.385395537525355\n"
     ]
    }
   ],
   "source": [
    "knnNR = best_model.fit(X_trainNoRace, y_train)\n",
    "\n",
    "best_test_scoreWR = np.mean(knnNR.score(X_testNoRace, y_test))\n",
    "print(\"Misclassification rate for k-NN (k = 25) model without race included: {}\".format(1-best_test_scoreWR))\n",
    "knnPredictTestNR = knnNR.predict(X_testNoRace)\n",
    "confusionKNN_NR = confusion_matrix(y_test, knnPredictTestNR)\n",
    "print(confusionKNN_NR)\n",
    "print(\"False positive rates for k-NN classification (k = 25) without race included: {}\".format(confusionKNN_NR[0][1]/np.sum(confusionKNN_NR[0])))\n",
    "print(\"False negative rates for k-NN classification (k = 25) without race included: {}\".format(confusionKNN_NR[1][0]/np.sum(confusionKNN_NR[1])))\n",
    "scores2.append([1-best_test_scoreWR, confusionKNN_NR[0][1]/np.sum(confusionKNN_NR[0]), confusionKNN_NR[1][0]/np.sum(confusionKNN_NR[1])])"
   ]
  },
  {
   "cell_type": "code",
   "execution_count": 44,
   "metadata": {},
   "outputs": [
    {
     "data": {
      "text/html": [
       "<div>\n",
       "<style scoped>\n",
       "    .dataframe tbody tr th:only-of-type {\n",
       "        vertical-align: middle;\n",
       "    }\n",
       "\n",
       "    .dataframe tbody tr th {\n",
       "        vertical-align: top;\n",
       "    }\n",
       "\n",
       "    .dataframe thead th {\n",
       "        text-align: right;\n",
       "    }\n",
       "</style>\n",
       "<table border=\"1\" class=\"dataframe\">\n",
       "  <thead>\n",
       "    <tr style=\"text-align: right;\">\n",
       "      <th></th>\n",
       "      <th>Misclassification Rate</th>\n",
       "      <th>False Positive Rate</th>\n",
       "      <th>False Negative Rate</th>\n",
       "    </tr>\n",
       "  </thead>\n",
       "  <tbody>\n",
       "    <tr>\n",
       "      <th>Multiple Logistic Regression with Race</th>\n",
       "      <td>0.318182</td>\n",
       "      <td>0.259325</td>\n",
       "      <td>0.385396</td>\n",
       "    </tr>\n",
       "    <tr>\n",
       "      <th>Multiple Logistic Regression without Race</th>\n",
       "      <td>0.318182</td>\n",
       "      <td>0.259325</td>\n",
       "      <td>0.385396</td>\n",
       "    </tr>\n",
       "    <tr>\n",
       "      <th>kNN (k = 25) with Race</th>\n",
       "      <td>0.330492</td>\n",
       "      <td>0.282416</td>\n",
       "      <td>0.385396</td>\n",
       "    </tr>\n",
       "    <tr>\n",
       "      <th>kNN (k = 25) without Race</th>\n",
       "      <td>0.331439</td>\n",
       "      <td>0.284192</td>\n",
       "      <td>0.385396</td>\n",
       "    </tr>\n",
       "  </tbody>\n",
       "</table>\n",
       "</div>"
      ],
      "text/plain": [
       "                                           Misclassification Rate  \\\n",
       "Multiple Logistic Regression with Race                   0.318182   \n",
       "Multiple Logistic Regression without Race                0.318182   \n",
       "kNN (k = 25) with Race                                   0.330492   \n",
       "kNN (k = 25) without Race                                0.331439   \n",
       "\n",
       "                                           False Positive Rate  \\\n",
       "Multiple Logistic Regression with Race                0.259325   \n",
       "Multiple Logistic Regression without Race             0.259325   \n",
       "kNN (k = 25) with Race                                0.282416   \n",
       "kNN (k = 25) without Race                             0.284192   \n",
       "\n",
       "                                           False Negative Rate  \n",
       "Multiple Logistic Regression with Race                0.385396  \n",
       "Multiple Logistic Regression without Race             0.385396  \n",
       "kNN (k = 25) with Race                                0.385396  \n",
       "kNN (k = 25) without Race                             0.385396  "
      ]
     },
     "execution_count": 44,
     "metadata": {},
     "output_type": "execute_result"
    }
   ],
   "source": [
    "modelsRace = ['Multiple Logistic Regression with Race', 'Multiple Logistic Regression without Race', 'kNN (k = 25) with Race', 'kNN (k = 25) without Race']\n",
    "df_Race = pd.DataFrame(scores2, index = modelsRace, columns = ['Misclassification Rate', 'False Positive Rate', 'False Negative Rate'])\n",
    "df_Race"
   ]
  },
  {
   "cell_type": "markdown",
   "metadata": {},
   "source": [
    "**4.6. Given your exploration and modeling of the data, should a predictive tool be trusted to be unbiased even if it doesn’t explicitly use a variable such as race to predict future crime?  Why or why not?  Why is the bias still occurring or not occurring?  Explain in 3-6 sentences total.**"
   ]
  },
  {
   "cell_type": "markdown",
   "metadata": {},
   "source": [
    "Our exploration and modeling of the data shows us that with and without race being included in the model, our misclassification rate and false positive/negative rates are still amost exactly the same. One might be tempted to conclude from these results that the model is unbiased in predicting one's risk independent of their race, but we have to take a closer look. In question 4.2, we showed through EDA that black individuals have a much higher average prior criminal counts as well as a much higher decile score in general. These two predictors can be based on data that is biased, even if the tool itself claims to be unbiased. The fact that the misclassification and false positive/negative rates stayed almost exactly the same with and without race included shows that all of the other predictors are still biased themselves. There are socioeconomic factors at play that disadvantage African-American individuals in terms of how strictly they are policed, how harsh their sentences are, and how likely their crimes are to be reported. This systemic bias means that even if a model does not explicitly include a variable such as race, the model is inherently biased because of the predictors upon which it relies, so its predictions of future crime, or recidivism, will be racially biased."
   ]
  },
  {
   "cell_type": "markdown",
   "metadata": {},
   "source": [
    "---"
   ]
  }
 ],
 "metadata": {
  "kernelspec": {
   "display_name": "Python 3",
   "language": "python",
   "name": "python3"
  },
  "language_info": {
   "codemirror_mode": {
    "name": "ipython",
    "version": 3
   },
   "file_extension": ".py",
   "mimetype": "text/x-python",
   "name": "python",
   "nbconvert_exporter": "python",
   "pygments_lexer": "ipython3",
   "version": "3.7.3"
  }
 },
 "nbformat": 4,
 "nbformat_minor": 2
}
