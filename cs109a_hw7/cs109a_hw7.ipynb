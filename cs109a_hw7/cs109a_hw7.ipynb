{
 "cells": [
  {
   "cell_type": "markdown",
   "metadata": {
    "deletable": false,
    "editable": false
   },
   "source": [
    "# <img style=\"float: left; padding-right: 10px; width: 45px\" src=\"https://raw.githubusercontent.com/Harvard-IACS/2018-CS109A/master/content/styles/iacs.png\"> CS109A Introduction to Data Science: \n",
    "\n",
    "\n",
    "## Homework 7:  ANNs and Model interpretability \n",
    "\n",
    "\n",
    "**Harvard University**<br/>\n",
    "**Fall 2019**<br/>\n",
    "**Instructors**: Pavlos Protopapas, Kevin Rader and Chris Tanner<br/>\n",
    "\n",
    "\n",
    "<hr style=\"height:2pt\">\n",
    "\n"
   ]
  },
  {
   "cell_type": "code",
   "execution_count": 1,
   "metadata": {
    "deletable": false,
    "editable": false
   },
   "outputs": [
    {
     "data": {
      "text/html": [
       "<style>\n",
       "blockquote { background: #AEDE94; }\n",
       "h1 { \n",
       "    padding-top: 25px;\n",
       "    padding-bottom: 25px;\n",
       "    text-align: left; \n",
       "    padding-left: 10px;\n",
       "    background-color: #DDDDDD; \n",
       "    color: black;\n",
       "}\n",
       "h2 { \n",
       "    padding-top: 10px;\n",
       "    padding-bottom: 10px;\n",
       "    text-align: left; \n",
       "    padding-left: 5px;\n",
       "    background-color: #EEEEEE; \n",
       "    color: black;\n",
       "}\n",
       "\n",
       "div.exercise {\n",
       "\tbackground-color: #ffcccc;\n",
       "\tborder-color: #E9967A; \t\n",
       "\tborder-left: 5px solid #800080; \n",
       "\tpadding: 0.5em;\n",
       "}\n",
       "\n",
       "span.sub-q {\n",
       "\tfont-weight: bold;\n",
       "}\n",
       "div.theme {\n",
       "\tbackground-color: #DDDDDD;\n",
       "\tborder-color: #E9967A; \t\n",
       "\tborder-left: 5px solid #800080; \n",
       "\tpadding: 0.5em;\n",
       "\tfont-size: 18pt;\n",
       "}\n",
       "div.gc { \n",
       "\tbackground-color: #AEDE94;\n",
       "\tborder-color: #E9967A; \t \n",
       "\tborder-left: 5px solid #800080; \n",
       "\tpadding: 0.5em;\n",
       "\tfont-size: 12pt;\n",
       "}\n",
       "p.q1 { \n",
       "    padding-top: 5px;\n",
       "    padding-bottom: 5px;\n",
       "    text-align: left; \n",
       "    padding-left: 5px;\n",
       "    background-color: #EEEEEE; \n",
       "    color: black;\n",
       "}\n",
       "header {\n",
       "   padding-top: 35px;\n",
       "    padding-bottom: 35px;\n",
       "    text-align: left; \n",
       "    padding-left: 10px;\n",
       "    background-color: #DDDDDD; \n",
       "    color: black;\n",
       "}\n",
       "</style>\n",
       "\n"
      ],
      "text/plain": [
       "<IPython.core.display.HTML object>"
      ]
     },
     "execution_count": 1,
     "metadata": {},
     "output_type": "execute_result"
    }
   ],
   "source": [
    "# RUN THIS CELL FOR FORMAT\n",
    "import requests\n",
    "from IPython.core.display import HTML\n",
    "styles = requests.get(\"https://raw.githubusercontent.com/Harvard-IACS/2018-CS109A/master/content/styles/cs109.css\").text\n",
    "HTML(styles)"
   ]
  },
  {
   "cell_type": "markdown",
   "metadata": {
    "deletable": false,
    "editable": false
   },
   "source": [
    "### INSTRUCTIONS\n",
    "\n",
    "- **This is an individual homework. No group collaboration.**\n",
    "- To submit your assignment, follow the instructions given in Canvas.\n",
    "- Restart the kernel and run the whole notebook again before you submit. \n",
    "- As much as possible, try and stick to the hints and functions we import at the top of the homework, as those are the ideas and tools the class supports and are aiming to teach. And if a problem specifies a particular library, you're required to use that library, and possibly others from the import list.\n",
    "- Please use .head() when viewing data. Do not submit a notebook that is excessively long because output was not suppressed or otherwise limited. "
   ]
  },
  {
   "cell_type": "markdown",
   "metadata": {
    "deletable": false,
    "editable": false
   },
   "source": [
    "</span></div><div class='alert alert-block alert-danger'><b>WARNING!:</b><span style = 'color:black'> Do not delete any of the `### cs109Test() ###` comment lines!</span></div></div>"
   ]
  },
  {
   "cell_type": "markdown",
   "metadata": {
    "deletable": false,
    "editable": false
   },
   "source": [
    "</span></div><div class='alert alert-block alert-danger'><b>Note:</b><span style = 'color:black'> Make sure your submission passes all assert statements we've provided in this notebook.</span></div></div>"
   ]
  },
  {
   "cell_type": "code",
   "execution_count": 2,
   "metadata": {
    "deletable": false,
    "editable": false
   },
   "outputs": [],
   "source": [
    "### cs109default ### \n",
    "import random\n",
    "random.seed(112358)\n",
    "\n",
    "import numpy as np\n",
    "import pandas as pd\n",
    "import matplotlib.pyplot as plt\n",
    "\n",
    "from sklearn.model_selection import cross_val_score\n",
    "from sklearn.utils import resample\n",
    "from sklearn.tree import DecisionTreeClassifier\n",
    "from sklearn.ensemble import RandomForestClassifier\n",
    "from sklearn.ensemble import AdaBoostClassifier\n",
    "from sklearn.linear_model import LogisticRegressionCV\n",
    "from sklearn.model_selection import train_test_split\n",
    "from sklearn.metrics import confusion_matrix\n",
    "from sklearn.preprocessing import scale\n",
    "from sklearn.metrics import roc_auc_score,accuracy_score\n",
    "from sklearn.model_selection import GridSearchCV\n",
    "from random import randint \n",
    "\n",
    "from sklearn import tree\n",
    "%matplotlib inline\n",
    "\n",
    "import seaborn as sns\n",
    "pd.set_option('display.width', 1500)\n",
    "pd.set_option('display.max_columns', 100)\n",
    "\n",
    "from sklearn.utils import shuffle"
   ]
  },
  {
   "cell_type": "code",
   "execution_count": 3,
   "metadata": {
    "deletable": false,
    "editable": false
   },
   "outputs": [
    {
     "name": "stdout",
     "output_type": "stream",
     "text": [
      "2.0.0\n"
     ]
    }
   ],
   "source": [
    "### cs109default ### \n",
    "# TensorFlow and tf.keras\n",
    "import tensorflow as tf\n",
    "\n",
    "print(tf.__version__)  # You should see a 2.0.0 here!"
   ]
  },
  {
   "cell_type": "markdown",
   "metadata": {
    "deletable": false,
    "editable": false
   },
   "source": [
    "<div class=\"exercise\"> <b> Question 1: Construct a feed forward neural network [25 pts]</b> </div>\n",
    "\n",
    "In this part of the homework, you are to construct three feed-forward neural networks. Each neural network will consist of an input layer, a hidden layer, and an output layer. The three different networks only differ in their number of nodes used for their hidden layer, which we specify for each specific question below. All networks' hidden layers use the sigmoid as the activation function, along with a linear output node. \n",
    "\n",
    "**You should code the equations from scratch.**\n",
    "\n",
    "You are given three datasets containing $(x,y)$ points where $y=f(x)$:\n",
    "\n",
    "- In the first dataset, $f(x)$ is a **single step** function (data in`data/step_df.csv`), \n",
    "- In the second dataset, $f(x)$ is a **one hump** function (data in `data/one_hump_df.csv`),\n",
    "- In the third dataset, $f(x)$ is a **two equal humps** function (data in `data/two_hump_df.csv`).\n",
    "\n",
    " \n",
    "\n",
    "**1.1** Read the files into variables name `step_df`, `one_hump_df`, and `two_hump_df`.\n",
    "Perform a forward pass using a network with one hidden layer with **one** node. The input to the network is the $x$ `step_df.x`.  Adjust the weights manually until the predicted outputs matches as closely as possible to the true $y$s (`step_df.y`) and plot the output from the network; in the same plot, show the true $y$ values. \n",
    "\n",
    "**1.2** Do the same for the **one hump** function data, this time using a hidden layer consisting of **two** nodes.\n",
    "\n",
    "**1.3** Do the same for the **two humps** function data, but this time increase the number of hidden nodes to **four**.  \n",
    "\n",
    "**1.4** Choose the appropriate loss function and calculate and report the loss from all three cases. Derive the gradient of **the output layer's weights** for all three cases (step, one hump, and two humps). Use the weights for the hidden layers you found in the previous question and perform gradient descent on the weights of this layer (output layer). What are the optimized weight value and loss you obtained? \n",
    "\n",
    "__NOTE: Only perform gradient descent for the output layer's weights (the ones that connect the hidden layer to the output layer)__"
   ]
  },
  {
   "cell_type": "markdown",
   "metadata": {
    "deletable": false,
    "editable": false
   },
   "source": [
    "## Answers"
   ]
  },
  {
   "cell_type": "markdown",
   "metadata": {
    "autograde": "1.1",
    "deletable": false,
    "editable": false
   },
   "source": [
    "**1.1** Read the files into variables name `step_df`, `one_hump_df`, and `two_hump_df`.\n",
    "Perform a forward pass using a network with one hidden layer with **one** node. The input to the network is the $x$ `step_df.x`.  Adjust the weights manually until the predicted outputs matches as closely as possible to the true $y$s (`step_df.y`) and plot the output from the network; in the same plot, show the true $y$ values.\n"
   ]
  },
  {
   "cell_type": "markdown",
   "metadata": {
    "deletable": false,
    "editable": false
   },
   "source": [
    "</span></div><div class='alert alert-block alert-danger'><b>WARNING!:</b><span style = 'color:black'> Do not delete any of the `### cs109Test() ###` comment lines!</span></div></div>"
   ]
  },
  {
   "cell_type": "code",
   "execution_count": 4,
   "metadata": {
    "deletable": false,
    "test": "test_sigmoid"
   },
   "outputs": [],
   "source": [
    "### cs109Test(test_sigmoid) ### \n",
    "def sigmoid(x: float) -> float :\n",
    "    \"\"\"The sigmoid function \n",
    "    \"\"\"\n",
    "    # your code here \n",
    "    return 1.0 / (1.0 + np.exp(-x))"
   ]
  },
  {
   "cell_type": "markdown",
   "metadata": {
    "deletable": false,
    "editable": false
   },
   "source": [
    "</span></div><div class='alert alert-block alert-danger'><b>WARNING!:</b><span style = 'color:black'> Do not delete any of the `### cs109Test() ###` comment lines!</span></div></div>"
   ]
  },
  {
   "cell_type": "code",
   "execution_count": 5,
   "metadata": {
    "deletable": false,
    "test": "test_1.1a"
   },
   "outputs": [],
   "source": [
    "### cs109Test(test_1.1a) ### \n",
    "## read data \n",
    "# your code here\n",
    "step_df = pd.read_csv('data/step_df.csv')\n",
    "one_hump_df = pd.read_csv('data/one_hump_df.csv')\n",
    "two_hump_df = pd.read_csv('data/two_hump_df.csv')"
   ]
  },
  {
   "cell_type": "code",
   "execution_count": 6,
   "metadata": {},
   "outputs": [
    {
     "data": {
      "image/png": "[encoded data removed]",
      "text/plain": [
       "<Figure size 432x288 with 1 Axes>"
      ]
     },
     "metadata": {
      "needs_background": "light"
     },
     "output_type": "display_data"
    }
   ],
   "source": [
    "#visualize the data\n",
    "plt.scatter(step_df.x, step_df.y)\n",
    "plt.show();"
   ]
  },
  {
   "cell_type": "markdown",
   "metadata": {
    "deletable": false,
    "editable": false
   },
   "source": [
    "</span></div><div class='alert alert-block alert-danger'><b>WARNING!:</b><span style = 'color:black'> Do not delete any of the `### cs109Test() ###` comment lines!</span></div></div>"
   ]
  },
  {
   "cell_type": "code",
   "execution_count": 7,
   "metadata": {
    "deletable": false,
    "test": "test_forwardpass"
   },
   "outputs": [],
   "source": [
    "### cs109Test (test_forwardpass) ###\n",
    "# Forward pass\n",
    "\n",
    "def forward_step(X_in: np.ndarray, WL_0: np.ndarray, \n",
    "                 WL_1: np.ndarray) -> (float, float) :\n",
    "    \n",
    "    \"\"\"\n",
    "    This implements forward step:\n",
    "        z = X_in . WL_0 #Input layer . Weights\n",
    "        h = sigmoid(z)  #hidden \n",
    "        y = h . WL_1    #Output layer \n",
    "        (Add intercepts as appropriate)\n",
    "    \n",
    "    Args (3 different scenarios 1.1, 1.2 and 1.3): \n",
    "        X_in: Input array\n",
    "              1.1 - Array shape (100,1)\n",
    "              1.2 - Array shape (100,1)\n",
    "              1.3 - Array Shape (100,1)\n",
    "              \n",
    "        WL_0: Input array [Weights for Layer 0]\n",
    "              1.1 - Array shape (2,1)\n",
    "              1.2 - Array shape (2,2)\n",
    "              1.3 - Array shape (2,4)\n",
    "              \n",
    "        WL_1: Input Array [Weights for Layer 1]\n",
    "              1.1 - Array shape (2,1) \n",
    "              1.2 - Array shape (3,1) \n",
    "              1.3 - Array shape (5,1)\n",
    "\n",
    "        y_out: Input Array\n",
    "              1.1 - Array shape (100,1)\n",
    "              1.2 - Array shape (100,1)\n",
    "              1.3 - Array shape (100,1)\n",
    "              \n",
    "    Returns:\n",
    "              1.1 - Output = (100, 1), hidden = (100, 2)\n",
    "              1.2 - Output = (100, 1), hidden = (100, 3)\n",
    "              1.3 - Output = (100, 1), hidden = (100, 5)\n",
    "              (hidden will be utilized for 1.4)    \n",
    "    \"\"\"\n",
    " \n",
    "    # your code here\n",
    "    # hidden layer\n",
    "    a = np.ones((100,2))\n",
    "    a[:,0] = X_in\n",
    "    z = np.dot(a, WL_0)\n",
    "    y = sigmoid(z)\n",
    "\n",
    "    # output layer\n",
    "    num_nodes = len(WL_0[0])\n",
    "    hidden = np.ones((100,num_nodes+1))\n",
    "    hidden[:,:num_nodes] = y\n",
    "    output = np.dot(hidden, WL_1)\n",
    "    # end of your code here\n",
    "    \n",
    "    return output, hidden\n"
   ]
  },
  {
   "cell_type": "markdown",
   "metadata": {
    "deletable": false,
    "editable": false
   },
   "source": [
    "</span></div><div class='alert alert-block alert-danger'><b>WARNING!:</b><span style = 'color:black'> Do not delete any of the `### cs109Test() ###` comment lines!</span></div></div>"
   ]
  },
  {
   "cell_type": "code",
   "execution_count": 8,
   "metadata": {
    "deletable": false,
    "test": "test1.1b"
   },
   "outputs": [],
   "source": [
    "### cs109Test(test1.1b) ###\n",
    "# ONE STEP - one node in hidden layer \n",
    "# your code here\n",
    "WL_0 = [[6],[-10]]\n",
    "WL_1 = [[1],[0]]\n",
    "predictions = forward_step(step_df.x, WL_0, WL_1)[0]"
   ]
  },
  {
   "cell_type": "code",
   "execution_count": 9,
   "metadata": {
    "deletable": false
   },
   "outputs": [
    {
     "data": {
      "image/png": "[encoded data removed]",
      "text/plain": [
       "<Figure size 432x288 with 1 Axes>"
      ]
     },
     "metadata": {
      "needs_background": "light"
     },
     "output_type": "display_data"
    }
   ],
   "source": [
    "# plot the prediction vs true\n",
    "# your code here\n",
    "plt.scatter(step_df.x, step_df.y, color ='b', s = 5, label = 'True')\n",
    "plt.scatter(step_df.x, predictions, color='red', s = 5, label = 'Predicted')\n",
    "plt.legend()\n",
    "plt.title('True vs. Predicted values of step_df.y');"
   ]
  },
  {
   "cell_type": "markdown",
   "metadata": {
    "deletable": false,
    "editable": false
   },
   "source": [
    "</span></div><div class='alert alert-block alert-danger'><b>Note:</b><span style = 'color:black'> Make sure your submission passes all assert statements we've provided in this notebook.</span></div></div>"
   ]
  },
  {
   "cell_type": "code",
   "execution_count": 10,
   "metadata": {
    "deletable": false,
    "editable": false
   },
   "outputs": [],
   "source": [
    "### 1.1 Check that you have the requested variables\n",
    "for var in ['sigmoid', 'forward_step', 'step_df' , 'one_hump_df' , 'two_hump_df']:\n",
    "    assert var in globals(), f\"Variable '{var}' does not exist!\""
   ]
  },
  {
   "cell_type": "markdown",
   "metadata": {
    "autograde": "1.2",
    "deletable": false,
    "editable": false
   },
   "source": [
    "**1.2** Do the same for the **one hump** function data, this time using a hidden layer consisting of **two** nodes.\n"
   ]
  },
  {
   "cell_type": "markdown",
   "metadata": {
    "deletable": false,
    "editable": false
   },
   "source": [
    "</span></div><div class='alert alert-block alert-danger'><b>WARNING!:</b><span style = 'color:black'> Do not delete any of the `### cs109Test() ###` comment lines!</span></div></div>"
   ]
  },
  {
   "cell_type": "code",
   "execution_count": 11,
   "metadata": {},
   "outputs": [
    {
     "data": {
      "image/png": "[encoded data removed]",
      "text/plain": [
       "<Figure size 432x288 with 1 Axes>"
      ]
     },
     "metadata": {
      "needs_background": "light"
     },
     "output_type": "display_data"
    }
   ],
   "source": [
    "#visualize the data\n",
    "plt.scatter(one_hump_df.x, one_hump_df.y)\n",
    "plt.show();"
   ]
  },
  {
   "cell_type": "code",
   "execution_count": 12,
   "metadata": {
    "deletable": false,
    "test": "test1.2"
   },
   "outputs": [],
   "source": [
    "### cs109Test(test1.2) ###\n",
    "# ONE HUMP  - two nodes in hidden layer\n",
    "# your code here\n",
    "#forward pass for 1.2\n",
    "WL_0 = np.array([[6, -6], [-10, 38]])\n",
    "WL_1 = [1,1,-1]\n",
    "predictions = forward_step(one_hump_df.x, WL_0, WL_1)[0]"
   ]
  },
  {
   "cell_type": "code",
   "execution_count": 13,
   "metadata": {},
   "outputs": [
    {
     "data": {
      "image/png": "[encoded data removed]",
      "text/plain": [
       "<Figure size 432x288 with 1 Axes>"
      ]
     },
     "metadata": {
      "needs_background": "light"
     },
     "output_type": "display_data"
    }
   ],
   "source": [
    "# plot the prediction vs true\n",
    "# your code here\n",
    "plt.scatter(one_hump_df.x, one_hump_df.y, color ='b', s = 5, label = 'True')\n",
    "plt.scatter(one_hump_df.x, predictions, color='red', s = 5, label = 'Predicted')\n",
    "plt.legend()\n",
    "plt.title('True vs. Predicted values of one_hump.y');"
   ]
  },
  {
   "cell_type": "markdown",
   "metadata": {
    "autograde": "1.3",
    "deletable": false,
    "editable": false
   },
   "source": [
    "**1.3** Do the same for the **two humps** function data, but this time increase the number of hidden nodes to **four**.\n"
   ]
  },
  {
   "cell_type": "markdown",
   "metadata": {
    "deletable": false,
    "editable": false
   },
   "source": [
    "</span></div><div class='alert alert-block alert-danger'><b>WARNING!:</b><span style = 'color:black'> Do not delete any of the `### cs109Test() ###` comment lines!</span></div></div>"
   ]
  },
  {
   "cell_type": "code",
   "execution_count": 14,
   "metadata": {},
   "outputs": [
    {
     "data": {
      "image/png": "[encoded data removed]",
      "text/plain": [
       "<Figure size 432x288 with 1 Axes>"
      ]
     },
     "metadata": {
      "needs_background": "light"
     },
     "output_type": "display_data"
    }
   ],
   "source": [
    "plt.scatter(two_hump_df.x, two_hump_df.y)\n",
    "plt.show();"
   ]
  },
  {
   "cell_type": "code",
   "execution_count": 15,
   "metadata": {
    "deletable": false,
    "test": "test1.3"
   },
   "outputs": [],
   "source": [
    "### cs109Test(test1.3) ###\n",
    "# TWO HUMPS  - four nodes in hidden layer \n",
    "# your code here\n",
    "WL_0 = np.array([[8, -8, 8, -8], [-8, 24, -40, 55]])\n",
    "WL_1 = [1,1,1,1,-2]\n",
    "predictions3 = forward_step(two_hump_df.x, WL_0, WL_1)[0]"
   ]
  },
  {
   "cell_type": "code",
   "execution_count": 16,
   "metadata": {},
   "outputs": [
    {
     "data": {
      "image/png": "[encoded data removed]",
      "text/plain": [
       "<Figure size 432x288 with 1 Axes>"
      ]
     },
     "metadata": {
      "needs_background": "light"
     },
     "output_type": "display_data"
    }
   ],
   "source": [
    "# plot the prediction vs true\n",
    "# your code here\n",
    "plt.scatter(two_hump_df.x, two_hump_df.y, color ='b', s = 5, label = 'True')\n",
    "plt.scatter(two_hump_df.x, predictions3, color='red', s = 5, label = 'Predicted')\n",
    "plt.legend()\n",
    "plt.title('True vs. Predicted values of two_hump_df.y');"
   ]
  },
  {
   "cell_type": "markdown",
   "metadata": {
    "autograde": "1.4",
    "deletable": false,
    "editable": false
   },
   "source": [
    "**1.4** Choose the appropriate loss function and calculate and report the loss from all three cases. Derive the gradient of **the output layer's weights** for all three cases (step, one hump, and two humps). Use the weights for the hidden layers you found in the previous question and perform gradient descent on the weights of this layer (output layer). What are the optimized weight value and loss you obtained?\n",
    "\n",
    "__NOTE: Only perform gradient descent for the output layer's weights (the ones that connect the hidden layer to the output layer)__"
   ]
  },
  {
   "cell_type": "markdown",
   "metadata": {
    "deletable": false,
    "editable": false
   },
   "source": [
    "</span></div><div class='alert alert-block alert-danger'><b>WARNING!:</b><span style = 'color:black'> Do not delete any of the `### cs109Test() ###` comment lines!</span></div></div>"
   ]
  },
  {
   "cell_type": "code",
   "execution_count": 17,
   "metadata": {
    "deletable": false,
    "test": "testLostFunctions"
   },
   "outputs": [],
   "source": [
    "### cs109Test (testLostFunctions) ###\n",
    "\n",
    "# Loss function \n",
    "def L(y_pred, y):   \n",
    "    \"\"\"\n",
    "    This function returns the appropriate loss given the predictions and actual values\n",
    "    Inputs: \n",
    "        y_pred: A vector with the predicted y values \n",
    "        y:      A vector with the true y values \n",
    "    Output:\n",
    "        loss:   A scalar for the loss\"\"\"\n",
    "    # your code here \n",
    "    return np.sum((y_pred - y)**2)/len(y_pred)"
   ]
  },
  {
   "cell_type": "markdown",
   "metadata": {
    "deletable": false,
    "editable": false
   },
   "source": [
    "</span></div><div class='alert alert-block alert-danger'><b>WARNING!:</b><span style = 'color:black'> Do not delete any of the `### cs109Test() ###` comment lines!</span></div></div>"
   ]
  },
  {
   "cell_type": "code",
   "execution_count": 18,
   "metadata": {
    "deletable": false,
    "test": "test_der_L_WL1"
   },
   "outputs": [],
   "source": [
    "### cs109Test (test_der_L_WL1) ###\n",
    "\n",
    "    \n",
    "# derivative with respect to W1\n",
    "def der_L_WL1(z, y_pred, y):\n",
    "    \"\"\"\n",
    "    This function calculates the derivatives with respect to output weights\n",
    "    Inputs: \n",
    "        y_pred: A vector with the predicted y values \n",
    "        y:      A vector with the true y values \n",
    "        z:      A vector with the values of the output layer \n",
    "    Output:\n",
    "        ders:   A vector of partial derivatives \n",
    "    \"\"\"\n",
    "    # your code here\n",
    "    \n",
    "    #calculate the derivative of L(y_pred, y) with respect to z\n",
    "    \n",
    "    # end of your code here\n",
    "    return ders # returns vector of partial derivatives"
   ]
  },
  {
   "cell_type": "code",
   "execution_count": 19,
   "metadata": {},
   "outputs": [
    {
     "data": {
      "text/plain": [
       "array([[2.29756254e-13, 1.00000000e+00, 2.90967123e-27, 1.00000000e+00,\n",
       "        1.00000000e+00],\n",
       "       [1.00000000e+00, 1.55136387e-03, 7.24217293e-05, 1.00000000e+00,\n",
       "        1.00000000e+00],\n",
       "       [9.99999957e-01, 2.74356866e-01, 2.97642824e-07, 1.00000000e+00,\n",
       "        1.00000000e+00],\n",
       "       [1.00000000e+00, 3.74858801e-10, 9.96680022e-01, 9.99908174e-01,\n",
       "        1.00000000e+00],\n",
       "       [1.00000000e+00, 4.06733104e-04, 2.76491634e-04, 1.00000000e+00,\n",
       "        1.00000000e+00],\n",
       "       [3.46328000e-12, 1.00000000e+00, 4.38595512e-26, 1.00000000e+00,\n",
       "        1.00000000e+00],\n",
       "       [1.00000000e+00, 9.66179343e-22, 1.00000000e+00, 2.80663977e-08,\n",
       "        1.00000000e+00],\n",
       "       [2.47003376e-14, 1.00000000e+00, 3.12809164e-28, 1.00000000e+00,\n",
       "        1.00000000e+00],\n",
       "       [1.00000000e+00, 3.72699301e-13, 9.99996688e-01, 9.15444029e-01,\n",
       "        1.00000000e+00],\n",
       "       [6.81450833e-01, 9.99999759e-01, 2.70915986e-14, 1.00000000e+00,\n",
       "        1.00000000e+00],\n",
       "       [1.47729751e-02, 9.99999998e-01, 1.89892683e-16, 1.00000000e+00,\n",
       "        1.00000000e+00],\n",
       "       [3.95168078e-04, 1.00000000e+00, 5.00645235e-18, 1.00000000e+00,\n",
       "        1.00000000e+00],\n",
       "       [1.00000000e+00, 9.86199169e-29, 1.00000000e+00, 2.86479514e-15,\n",
       "        1.00000000e+00],\n",
       "       [9.99975077e-01, 9.95505116e-01, 5.08116425e-10, 1.00000000e+00,\n",
       "        1.00000000e+00],\n",
       "       [1.00000000e+00, 9.40285845e-06, 1.18265343e-02, 9.99999996e-01,\n",
       "        1.00000000e+00],\n",
       "       [1.15586848e-02, 9.99999999e-01, 1.48092857e-16, 1.00000000e+00,\n",
       "        1.00000000e+00],\n",
       "       [2.34157644e-21, 1.00000000e+00, 2.96541117e-35, 1.00000000e+00,\n",
       "        1.00000000e+00],\n",
       "       [9.99985718e-01, 9.92182435e-01, 8.86682746e-10, 1.00000000e+00,\n",
       "        1.00000000e+00],\n",
       "       [9.99999988e-01, 9.45230151e-02, 1.07802212e-06, 1.00000000e+00,\n",
       "        1.00000000e+00],\n",
       "       [2.09372541e-18, 1.00000000e+00, 2.65152852e-32, 1.00000000e+00,\n",
       "        1.00000000e+00],\n",
       "       [2.37703082e-20, 1.00000000e+00, 3.01031118e-34, 1.00000000e+00,\n",
       "        1.00000000e+00],\n",
       "       [9.99999997e-01, 2.26365558e-02, 4.85883243e-06, 1.00000000e+00,\n",
       "        1.00000000e+00],\n",
       "       [4.88052405e-04, 1.00000000e+00, 6.18379447e-18, 1.00000000e+00,\n",
       "        1.00000000e+00],\n",
       "       [1.00000000e+00, 7.24950276e-31, 1.00000000e+00, 2.10589716e-17,\n",
       "        1.00000000e+00],\n",
       "       [2.16190859e-17, 1.00000000e+00, 2.73787683e-31, 1.00000000e+00,\n",
       "        1.00000000e+00],\n",
       "       [1.00000000e+00, 1.60117234e-12, 9.99985772e-01, 9.78952781e-01,\n",
       "        1.00000000e+00],\n",
       "       [1.00000000e+00, 8.25252543e-21, 1.00000000e+00, 2.39726313e-07,\n",
       "        1.00000000e+00],\n",
       "       [1.00000000e+00, 9.12344495e-26, 1.00000000e+00, 2.65025581e-12,\n",
       "        1.00000000e+00],\n",
       "       [2.22007314e-18, 1.00000000e+00, 2.81153738e-32, 1.00000000e+00,\n",
       "        1.00000000e+00],\n",
       "       [1.00000000e+00, 8.06036116e-24, 1.00000000e+00, 2.34144220e-10,\n",
       "        1.00000000e+00],\n",
       "       [9.99999764e-01, 6.76925249e-01, 5.37094334e-08, 1.00000000e+00,\n",
       "        1.00000000e+00],\n",
       "       [2.02629625e-16, 1.00000000e+00, 2.56613512e-30, 1.00000000e+00,\n",
       "        1.00000000e+00],\n",
       "       [1.00000000e+00, 5.90385094e-32, 1.00000000e+00, 1.71500078e-18,\n",
       "        1.00000000e+00],\n",
       "       [1.00000000e+00, 1.45972620e-14, 9.99999870e-01, 2.97769412e-01,\n",
       "        1.00000000e+00],\n",
       "       [1.00000000e+00, 7.23656490e-09, 9.39580364e-01, 9.99995243e-01,\n",
       "        1.00000000e+00],\n",
       "       [1.00000000e+00, 5.22952079e-29, 1.00000000e+00, 1.51911563e-15,\n",
       "        1.00000000e+00],\n",
       "       [1.00000000e+00, 2.40491925e-14, 9.99999786e-01, 4.11280355e-01,\n",
       "        1.00000000e+00],\n",
       "       [9.98539153e-01, 9.99923084e-01, 8.65638978e-12, 1.00000000e+00,\n",
       "        1.00000000e+00],\n",
       "       [4.36098198e-04, 1.00000000e+00, 5.52522931e-18, 1.00000000e+00,\n",
       "        1.00000000e+00],\n",
       "       [1.00000000e+00, 1.17487817e-18, 1.00000000e+00, 3.41276946e-05,\n",
       "        1.00000000e+00],\n",
       "       [2.35224717e-04, 1.00000000e+00, 2.97962564e-18, 1.00000000e+00,\n",
       "        1.00000000e+00],\n",
       "       [7.34436482e-01, 9.99999689e-01, 3.50237308e-14, 1.00000000e+00,\n",
       "        1.00000000e+00],\n",
       "       [1.00000000e+00, 1.43213108e-07, 4.40023152e-01, 9.99999760e-01,\n",
       "        1.00000000e+00],\n",
       "       [1.00000000e+00, 9.96677706e-28, 1.00000000e+00, 2.89523409e-14,\n",
       "        1.00000000e+00],\n",
       "       [1.07703885e-07, 1.00000000e+00, 1.36397997e-21, 1.00000000e+00,\n",
       "        1.00000000e+00],\n",
       "       [1.31126854e-17, 1.00000000e+00, 1.66061218e-31, 1.00000000e+00,\n",
       "        1.00000000e+00],\n",
       "       [1.00000000e+00, 6.75957871e-16, 9.99999994e-01, 1.92576591e-02,\n",
       "        1.00000000e+00],\n",
       "       [9.99944412e-01, 9.97979741e-01, 2.27810411e-10, 1.00000000e+00,\n",
       "        1.00000000e+00],\n",
       "       [1.00000000e+00, 1.04601376e-18, 1.00000000e+00, 3.03845732e-05,\n",
       "        1.00000000e+00],\n",
       "       [9.99999960e-01, 2.62200190e-01, 3.16660351e-07, 1.00000000e+00,\n",
       "        1.00000000e+00],\n",
       "       [1.00000000e+00, 3.23122675e-16, 9.99999997e-01, 9.29905786e-03,\n",
       "        1.00000000e+00],\n",
       "       [1.00000000e+00, 2.38102576e-26, 1.00000000e+00, 6.91660593e-13,\n",
       "        1.00000000e+00],\n",
       "       [1.00000000e+00, 8.76179685e-09, 9.27765741e-01, 9.99996071e-01,\n",
       "        1.00000000e+00],\n",
       "       [1.00000000e+00, 2.01166380e-04, 5.58988254e-04, 1.00000000e+00,\n",
       "        1.00000000e+00],\n",
       "       [1.00000000e+00, 5.02976129e-14, 9.99999553e-01, 5.93675609e-01,\n",
       "        1.00000000e+00],\n",
       "       [1.00000000e+00, 2.11446913e-18, 1.00000000e+00, 6.14191234e-05,\n",
       "        1.00000000e+00],\n",
       "       [1.00000000e+00, 8.10768333e-23, 1.00000000e+00, 2.35518874e-09,\n",
       "        1.00000000e+00],\n",
       "       [1.00000000e+00, 7.90060968e-20, 1.00000000e+00, 2.29503096e-06,\n",
       "        1.00000000e+00],\n",
       "       [1.00000000e+00, 1.10835405e-19, 1.00000000e+00, 3.21963066e-06,\n",
       "        1.00000000e+00],\n",
       "       [6.23739095e-10, 1.00000000e+00, 7.89913517e-24, 1.00000000e+00,\n",
       "        1.00000000e+00],\n",
       "       [9.99999939e-01, 3.50115038e-01, 2.08888207e-07, 1.00000000e+00,\n",
       "        1.00000000e+00],\n",
       "       [1.00000000e+00, 2.33033803e-22, 1.00000000e+00, 6.76936385e-09,\n",
       "        1.00000000e+00],\n",
       "       [1.00000000e+00, 2.90180899e-18, 1.00000000e+00, 8.42871083e-05,\n",
       "        1.00000000e+00],\n",
       "       [1.00000000e+00, 5.62887149e-25, 1.00000000e+00, 1.63512242e-11,\n",
       "        1.00000000e+00],\n",
       "       [9.82293691e-06, 1.00000000e+00, 1.24400521e-19, 1.00000000e+00,\n",
       "        1.00000000e+00],\n",
       "       [1.00000000e+00, 2.67814062e-29, 1.00000000e+00, 7.77969041e-16,\n",
       "        1.00000000e+00],\n",
       "       [1.00000000e+00, 1.64975340e-18, 1.00000000e+00, 4.79211420e-05,\n",
       "        1.00000000e+00],\n",
       "       [9.99999999e-01, 8.85741447e-03, 1.25925009e-05, 1.00000000e+00,\n",
       "        1.00000000e+00],\n",
       "       [1.00000000e+00, 5.40887997e-20, 1.00000000e+00, 1.57121494e-06,\n",
       "        1.00000000e+00],\n",
       "       [4.25116214e-01, 9.99999917e-01, 9.36492252e-15, 1.00000000e+00,\n",
       "        1.00000000e+00],\n",
       "       [1.00000000e+00, 3.69263661e-14, 9.99999672e-01, 5.17530169e-01,\n",
       "        1.00000000e+00],\n",
       "       [1.00000000e+00, 3.62568915e-17, 1.00000000e+00, 1.05211288e-03,\n",
       "        1.00000000e+00],\n",
       "       [9.99999999e-01, 5.17968842e-03, 2.16132417e-05, 1.00000000e+00,\n",
       "        1.00000000e+00],\n",
       "       [9.99999998e-01, 1.67227462e-02, 6.61688841e-06, 1.00000000e+00,\n",
       "        1.00000000e+00],\n",
       "       [2.13946366e-01, 9.99999969e-01, 3.44690500e-15, 1.00000000e+00,\n",
       "        1.00000000e+00],\n",
       "       [1.00000000e+00, 6.61606158e-16, 9.99999994e-01, 1.88564968e-02,\n",
       "        1.00000000e+00],\n",
       "       [9.29725603e-13, 1.00000000e+00, 1.17741990e-26, 1.00000000e+00,\n",
       "        1.00000000e+00],\n",
       "       [1.85958544e-20, 1.00000000e+00, 2.35500979e-34, 1.00000000e+00,\n",
       "        1.00000000e+00],\n",
       "       [1.00000000e+00, 2.92107701e-14, 9.99999740e-01, 4.59032320e-01,\n",
       "        1.00000000e+00],\n",
       "       [1.35056905e-20, 1.00000000e+00, 1.71038300e-34, 1.00000000e+00,\n",
       "        1.00000000e+00],\n",
       "       [8.03908918e-02, 9.99999990e-01, 1.10708295e-15, 1.00000000e+00,\n",
       "        1.00000000e+00],\n",
       "       [4.28086723e-03, 1.00000000e+00, 5.44466904e-17, 1.00000000e+00,\n",
       "        1.00000000e+00],\n",
       "       [2.62257954e-10, 1.00000000e+00, 3.32127815e-24, 1.00000000e+00,\n",
       "        1.00000000e+00],\n",
       "       [1.10721424e-19, 1.00000000e+00, 1.40219445e-33, 1.00000000e+00,\n",
       "        1.00000000e+00],\n",
       "       [1.00000000e+00, 3.98349233e-23, 1.00000000e+00, 1.15715870e-09,\n",
       "        1.00000000e+00],\n",
       "       [1.00000000e+00, 1.90767147e-22, 1.00000000e+00, 5.54156614e-09,\n",
       "        1.00000000e+00],\n",
       "       [9.85576674e-04, 1.00000000e+00, 1.24938198e-17, 1.00000000e+00,\n",
       "        1.00000000e+00],\n",
       "       [8.95291542e-09, 1.00000000e+00, 1.13381204e-22, 1.00000000e+00,\n",
       "        1.00000000e+00],\n",
       "       [9.99999999e-01, 5.32656084e-03, 2.10141967e-05, 1.00000000e+00,\n",
       "        1.00000000e+00],\n",
       "       [1.00000000e+00, 2.01761753e-20, 1.00000000e+00, 5.86094338e-07,\n",
       "        1.00000000e+00],\n",
       "       [1.00000000e+00, 1.09536406e-12, 9.99990267e-01, 9.69529907e-01,\n",
       "        1.00000000e+00],\n",
       "       [1.00000000e+00, 4.44071562e-22, 1.00000000e+00, 1.28997679e-08,\n",
       "        1.00000000e+00],\n",
       "       [1.00000000e+00, 3.16209353e-05, 3.54614945e-03, 9.99999999e-01,\n",
       "        1.00000000e+00],\n",
       "       [1.00000000e+00, 8.66574257e-04, 1.29732757e-04, 1.00000000e+00,\n",
       "        1.00000000e+00],\n",
       "       [9.73550195e-20, 1.00000000e+00, 1.23292008e-33, 1.00000000e+00,\n",
       "        1.00000000e+00],\n",
       "       [1.00000000e+00, 5.13064051e-22, 1.00000000e+00, 1.49039203e-08,\n",
       "        1.00000000e+00],\n",
       "       [2.87005209e-18, 1.00000000e+00, 3.63468147e-32, 1.00000000e+00,\n",
       "        1.00000000e+00],\n",
       "       [1.00000000e+00, 2.56545922e-27, 1.00000000e+00, 7.45236393e-14,\n",
       "        1.00000000e+00],\n",
       "       [2.64055195e-04, 1.00000000e+00, 3.34492194e-18, 1.00000000e+00,\n",
       "        1.00000000e+00],\n",
       "       [1.00000000e+00, 4.15919294e-31, 1.00000000e+00, 1.20819771e-17,\n",
       "        1.00000000e+00]])"
      ]
     },
     "execution_count": 19,
     "metadata": {},
     "output_type": "execute_result"
    }
   ],
   "source": [
    "output, hidden = forward_step(two_hump_df.x, WL_0, WL_1)\n",
    "#der_L_WL1(hidden, output, step_df.y)\n",
    "hidden"
   ]
  },
  {
   "cell_type": "markdown",
   "metadata": {
    "deletable": false,
    "editable": false
   },
   "source": [
    "</span></div><div class='alert alert-block alert-danger'><b>WARNING!:</b><span style = 'color:black'> Do not delete any of the `### cs109Test() ###` comment lines!</span></div></div>"
   ]
  },
  {
   "cell_type": "code",
   "execution_count": 166,
   "metadata": {
    "deletable": false,
    "test": "test_GradientDescent"
   },
   "outputs": [],
   "source": [
    "### cs109Test (test_GradientDescent) ###\n",
    "\n",
    "# gradient descent \n",
    "def gradient_descent(steps, lr, WL0, WL1, X, y):\n",
    "    \"\"\"\n",
    "    This function performs Gradient Descent\n",
    "    Inputs: \n",
    "        steps: Number of steps\n",
    "        lr: Learning Rate\n",
    "        WL0: Layer 0 weights\n",
    "        WL1: Layer 1 weights - Initital value\n",
    "        X: X\n",
    "        y: y\n",
    "     Outputs:\n",
    "        z1:  A vector with the final values of y (after steps steps)\n",
    "        WL1_n: The final values of WL1 (after steps steps)\n",
    "        errors: list of errors\n",
    "    \"\"\"\n",
    "    \n",
    "    \n",
    "    # your code here \n",
    "    # end of your code here\n",
    "    return z1, WL1_n, errors"
   ]
  },
  {
   "cell_type": "markdown",
   "metadata": {
    "deletable": false,
    "editable": false
   },
   "source": [
    "#### a) step function NN (a hidden layer with a single node)"
   ]
  },
  {
   "cell_type": "code",
   "execution_count": 167,
   "metadata": {
    "deletable": false
   },
   "outputs": [],
   "source": [
    "# SINGLE STEP\n",
    "# your code here \n"
   ]
  },
  {
   "cell_type": "markdown",
   "metadata": {
    "deletable": false,
    "editable": false
   },
   "source": [
    "#### b) one hump function NN (a hidden layer with two nodes)"
   ]
  },
  {
   "cell_type": "code",
   "execution_count": 168,
   "metadata": {
    "deletable": false
   },
   "outputs": [],
   "source": [
    "# ONE HUMP\n",
    "# your code here \n"
   ]
  },
  {
   "cell_type": "markdown",
   "metadata": {
    "deletable": false,
    "editable": false
   },
   "source": [
    "#### c) two hump function NN (a hidden layer with 4 nodes)"
   ]
  },
  {
   "cell_type": "code",
   "execution_count": 169,
   "metadata": {
    "deletable": false
   },
   "outputs": [],
   "source": [
    "# TWO HUMPS\n",
    "# your code here \n"
   ]
  },
  {
   "cell_type": "markdown",
   "metadata": {
    "deletable": false,
    "editable": false
   },
   "source": [
    "<hr style='height:2pt'>\n",
    "<div class='theme'> Neural Networks part B</div> \n",
    "\n",
    "Neural networks are, of course, a large and complex topic that cannot be covered in a single homework. Here, we'll focus on the key idea of ANNs: they are able to learn a mapping from example input data (of fixed size) to example output data (of fixed size). We'll also partially explore what patterns the neural network learns and how well neural networks generalize.\n",
    "\n",
    "In this question we'll see if neural networks can learn a limited version of the [Fourier Transform.](https://en.wikipedia.org/wiki/Fourier_transform) (The Fourier Transform takes in values from some function and returns a set of sine and cosine functions which, when added together, approximate the original function.)\n",
    "\n",
    "In symbols: $ \\cal{F(s)} = \\int_{-\\infty}^\\infty f(x)e^{- i xs}dx$. In words, the value of the transformed function at some point, $s$, is the value of an integral which measures, in some sense, how much the original $f(x)$ looks like a wave with a period of $s$. As an example, with $f(x) = 4cos(x) + sin(2x)$,  $\\cal{F}(s)$ is 0 everywhere except at -2, -1, 1, and 2, mapping to the waves of period 1 and 1/2. The values at these points are linked to the magnitude of the waves, and their phases (roughly: sin waves versus cosine waves).\n",
    "\n",
    "The only thing about the Fourier transform that matters for this p-set is this: a function goes in, and a re-written form in terms of sine and cosine comes out.\n",
    "\n",
    "In our specific problem, we'll train a network to map from 1000 sample values from a function (equally spaced along 0 to 2$\\pi$) to the four features of the sine and cosine waves that make up that function. Thus, the network is attempting to learn a mapping from a 1000-entry vector down to a 4-entry vector. Our `X_train` dataset's shape is $N x 1000$ and our `y_train` is $N x 4.$\n",
    "\n",
    "Questions 2.1 and 2.2 will get you used to the format of the data. \n",
    "\n",
    "We'll use 6 data files in this question:\n",
    "- `sinewaves_X_train.npy` and `sinewaves_y_train.npy`: a (10,000 x 1,000) and (10,000 x 4) training dataset. Examples were generated by randomly selecting a,b,c,d in the interval [0,1] and building the curve $a\\sin(b\\,x) + c\\cos(d\\,x)$\n",
    "- `sinewaves_X_test.npy` and `sinewaves_y_test.npy`: a (2,000 x 1,000) and (2,000 x 4) test dataset, generated in the same way as the training data\n",
    "- `sinewaves_X_extended_test` and `sinewaves_y_extended_test`: a (9 x 1,000) and (9 x 4) test dataset, testing whether the network can generalize beyond the training data (e.g. to negative values of $a$)\n",
    "\n",
    "**These datasets are read in to their respective variables for you.**"
   ]
  },
  {
   "cell_type": "markdown",
   "metadata": {
    "deletable": false,
    "editable": false
   },
   "source": [
    "<div class='exercise'> <b> Question 2 [25pts] </b> </div>\n",
    "    \n",
    "**2.1** Plot the first row of the `X_train` training data and visually verify that it is a sinusoidal curve.\n",
    "\n",
    "**2.2** The first row of the `y_train` data is $[0.024, 0.533, 0.018, 0.558]$. Visually or numerically verify that the first row of X_train is 1000 equally-spaced samples in $[0,10\\pi]$ from the function $f(x) = 0.024\\sin(0.533\\,x) + 0.018\\cos(0.558\\,x)$. This pattern (y_train is the true parameters of the curve in X_train) will always hold.\n",
    "\n",
    "**2.3** Use `tf.keras` to build a fully-connected neural network:\n",
    "\n",
    "**a:** Use `tf.keras.models.Sequential` and `tf.keras.layers.Dense` to build the fully-connected neural network. You can choose any number of layers and any number of nodes in each layer. \n",
    "\n",
    "**b:** Compile your model via the line `model.compile(loss='mean_absolute_error', optimizer='adam')` and display the `.summary()`. Explain why the first layer in your network has the indicated number of parameters.\n",
    "\n",
    "**c:** Fit your model to the data for $50$ epochs using a batch size of $32$ and a validation split of $0.2$. You can train for longer if you wish -- the fit tends to improve over time.\n",
    "\n",
    "**2.4** Use the `plot_predictions` function to plot the model's predictions on `X_test` to the true values in `y_test` (by default, it will only plot the first few rows). Report the model's overall loss on the test set. Comment on how well the model performs on this unseen data. Do you think it has accurately learned how to map from sample data to the coefficients that generated the data?\n",
    "\n",
    "**2.5** Examine the model's performance on the 9 train/test pairs in the `extended_test` variables. Which examples does the model do well on, and which examples does it struggle with?\n",
    "\n",
    "**2.6** Is there something that stands out about the difficult examples, especially with respect to the data the model was trained on? Did the model learn the mapping we had in mind? Would you say the model is overfit, underfit, or neither?\n",
    "\n",
    "**Hint**:\n",
    "- The Tensorflow 2.0 [`tf.keras` (here)](https://www.tensorflow.org/guide/keras) documentation and examples of a Sequential model are a good place to start.\n",
    "- A strong model can achieve validation error of around 0.03 on this data and 0.02 is very good."
   ]
  },
  {
   "cell_type": "markdown",
   "metadata": {
    "deletable": false,
    "editable": false
   },
   "source": [
    "</span></div><div class='alert alert-block alert-danger'><b>WARNING!:</b><span style = 'color:black'> Do not delete any of the `### cs109Test() ###` comment lines!</span></div></div>"
   ]
  },
  {
   "cell_type": "code",
   "execution_count": 146,
   "metadata": {
    "deletable": false,
    "editable": false
   },
   "outputs": [],
   "source": [
    "### cs109default ### \n",
    "def plot_predictions(model, test_x, test_y, count=None):\n",
    "    # Model - a tf.keras model that takes in (n,1000) training data and predicts (n,4) output data\n",
    "    # test_x - a (n,1000) input dataset\n",
    "    # test_y - a (n,4) output dataset\n",
    "    # This function will plot the sine curves in the training data and those implied by the model's predictions.\n",
    "    # It will also print the predicted and actual output values.\n",
    "    \n",
    "    #helper function that takes the n by 4 output and reverse-engineers \n",
    "    #the sine curves that output would create\n",
    "    def y2x(y_data):\n",
    "        #extract parameters\n",
    "        a=y_data[:,0].reshape(-1,1)\n",
    "        b=y_data[:,1].reshape(-1,1)\n",
    "        c=y_data[:,2].reshape(-1,1)\n",
    "        d=y_data[:,3].reshape(-1,1)\n",
    "\n",
    "        #build the matching training data\n",
    "        x_points = np.linspace(0,10*np.pi,1000)\n",
    "        x_data = a*np.sin(np.outer(b,x_points)) + c*np.cos(np.outer(d,x_points))\n",
    "        return x_data\n",
    "    \n",
    "    #if <20 examples, plot all. If more, just plot 5\n",
    "    if count==None:\n",
    "        if test_x.shape[0]>20:\n",
    "            count=5\n",
    "        else:\n",
    "            count=test_x.shape[0]\n",
    "    \n",
    "    #build predictions\n",
    "    predicted = model.predict(test_x)\n",
    "    implied_x = y2x(predicted)\n",
    "    for i in range(count):\n",
    "        plt.plot(test_x[i,:],label='true')\n",
    "        plt.plot(implied_x[i,:],label='predicted')\n",
    "        plt.legend()\n",
    "        plt.ylim(-2.1,2.1)\n",
    "        plt.xlabel(\"x value\")\n",
    "        plt.xlabel(\"y value\")\n",
    "        plt.title(\"Curves using the Neural Network's Approximate Fourier Transform\")\n",
    "        plt.show()\n",
    "        print(\"true:\", test_y[i,:])\n",
    "        print(\"predicted:\", predicted[i,:])\n",
    "    \n",
    "    "
   ]
  },
  {
   "cell_type": "markdown",
   "metadata": {
    "deletable": false,
    "editable": false
   },
   "source": [
    "</span></div><div class='alert alert-block alert-danger'><b>WARNING!:</b><span style = 'color:black'> Do not delete any of the `### cs109Test() ###` comment lines!</span></div></div>"
   ]
  },
  {
   "cell_type": "code",
   "execution_count": 147,
   "metadata": {
    "deletable": false,
    "editable": false
   },
   "outputs": [],
   "source": [
    "### cs109default ### \n",
    "X_train = np.load('data/sinewaves_X_train.npy')\n",
    "y_train = np.load('data/sinewaves_y_train.npy')\n",
    "\n",
    "X_test = np.load('data/sinewaves_X_test.npy')\n",
    "y_test = np.load('data/sinewaves_y_test.npy')\n",
    "\n",
    "X_extended_test = np.load('data/sinewaves_X_extended_test.npy')\n",
    "y_extended_test = np.load('data/sinewaves_y_extended_test.npy')"
   ]
  },
  {
   "cell_type": "code",
   "execution_count": 148,
   "metadata": {},
   "outputs": [
    {
     "name": "stdout",
     "output_type": "stream",
     "text": [
      "(10000, 1000) (10000, 4)\n"
     ]
    }
   ],
   "source": [
    "print(X_train.shape, y_train.shape)"
   ]
  },
  {
   "cell_type": "markdown",
   "metadata": {
    "deletable": false,
    "editable": false
   },
   "source": [
    "## Answers:  "
   ]
  },
  {
   "cell_type": "markdown",
   "metadata": {
    "autograde": "2.1",
    "deletable": false,
    "editable": false
   },
   "source": [
    "**2.1** Plot the first row of the `X_train` training data and visually verify that it is a sinusoidal curve.\n"
   ]
  },
  {
   "cell_type": "code",
   "execution_count": 149,
   "metadata": {
    "deletable": false
   },
   "outputs": [
    {
     "data": {
      "image/png": "[encoded data removed]",
      "text/plain": [
       "<Figure size 432x288 with 1 Axes>"
      ]
     },
     "metadata": {
      "needs_background": "light"
     },
     "output_type": "display_data"
    }
   ],
   "source": [
    "# your code here\n",
    "plt.plot(X_train[0]);"
   ]
  },
  {
   "cell_type": "markdown",
   "metadata": {
    "autograde": "2.2",
    "deletable": false,
    "editable": false
   },
   "source": [
    "**2.2** The first row of the `y_train` data is $[0.024, 0.533, 0.018, 0.558]$. Visually or numerically verify that the first row of X_train is 1000 equally-spaced samples in $[0,10\\pi]$ from the function $f(x) = 0.024\\sin(0.533\\,x) + 0.018\\cos(0.558\\,x)$. This pattern (y_train is the true parameters of the curve in X_train) will always hold.\n"
   ]
  },
  {
   "cell_type": "code",
   "execution_count": 150,
   "metadata": {
    "deletable": false
   },
   "outputs": [
    {
     "data": {
      "image/png": "[encoded data removed]",
      "text/plain": [
       "<Figure size 432x288 with 1 Axes>"
      ]
     },
     "metadata": {
      "needs_background": "light"
     },
     "output_type": "display_data"
    }
   ],
   "source": [
    "# your code here\n",
    "from math import pi, sin, cos\n",
    "grid = np.linspace(0, 10*pi, num=1000)\n",
    "y = [.024*sin(.533*x) + .018*cos(.558*x) for x in grid]\n",
    "plt.plot(grid, y);"
   ]
  },
  {
   "cell_type": "markdown",
   "metadata": {
    "deletable": false
   },
   "source": [
    "We can clearly see that plotting f(x) using an xgrid of equally spaced points on the interval [0,10pi] exactly matches the plot from 2.1"
   ]
  },
  {
   "cell_type": "markdown",
   "metadata": {
    "autograde": "2.3",
    "deletable": false,
    "editable": false
   },
   "source": [
    "**2.3** Use `tf.keras` to build a fully-connected neural network:\n",
    "\n",
    "**a:** Use `tf.keras.models.Sequential` and `tf.keras.layers.Dense` to build the fully-connected neural network. You can choose any number of layers and any number of nodes in each layer.\n",
    "\n",
    "**b:** Compile your model via the line `model.compile(loss='mean_absolute_error', optimizer='adam')` and display the `.summary()`. Explain why the first layer in your network has the indicated number of parameters.\n",
    "\n",
    "**c:** Fit your model to the data for $50$ epochs using a batch size of $32$ and a validation split of $0.2$. You can train for longer if you wish -- the fit tends to improve over time.\n"
   ]
  },
  {
   "cell_type": "code",
   "execution_count": 151,
   "metadata": {
    "deletable": false
   },
   "outputs": [],
   "source": [
    "# build the fully-connected neural network\n",
    "# your code here\n",
    "model = tf.keras.models.Sequential([\n",
    "  tf.keras.layers.Dense(128, activation = 'relu', input_shape=(1000,)),\n",
    "  tf.keras.layers.Dense(64, activation='relu'),\n",
    "  tf.keras.layers.Dense(32, activation='relu'),\n",
    "  tf.keras.layers.Dropout(0.2),\n",
    "  tf.keras.layers.Dense(4, activation='linear')\n",
    "])"
   ]
  },
  {
   "cell_type": "code",
   "execution_count": 152,
   "metadata": {
    "deletable": false
   },
   "outputs": [],
   "source": [
    "# Compile your model \n",
    "# your code here\n",
    "model.compile(optimizer='adam',\n",
    "              loss='mean_absolute_error',\n",
    "              metrics=['accuracy'])"
   ]
  },
  {
   "cell_type": "code",
   "execution_count": 153,
   "metadata": {},
   "outputs": [
    {
     "name": "stdout",
     "output_type": "stream",
     "text": [
      "Model: \"sequential_6\"\n",
      "_________________________________________________________________\n",
      "Layer (type)                 Output Shape              Param #   \n",
      "=================================================================\n",
      "dense_19 (Dense)             (None, 128)               128128    \n",
      "_________________________________________________________________\n",
      "dense_20 (Dense)             (None, 64)                8256      \n",
      "_________________________________________________________________\n",
      "dense_21 (Dense)             (None, 32)                2080      \n",
      "_________________________________________________________________\n",
      "dropout_6 (Dropout)          (None, 32)                0         \n",
      "_________________________________________________________________\n",
      "dense_22 (Dense)             (None, 4)                 132       \n",
      "=================================================================\n",
      "Total params: 138,596\n",
      "Trainable params: 138,596\n",
      "Non-trainable params: 0\n",
      "_________________________________________________________________\n"
     ]
    }
   ],
   "source": [
    "model.summary()"
   ]
  },
  {
   "cell_type": "markdown",
   "metadata": {
    "deletable": false
   },
   "source": [
    "*Your answer here*"
   ]
  },
  {
   "cell_type": "code",
   "execution_count": 154,
   "metadata": {
    "deletable": false
   },
   "outputs": [
    {
     "name": "stdout",
     "output_type": "stream",
     "text": [
      "Train on 8000 samples, validate on 2000 samples\n",
      "Epoch 1/50\n",
      "8000/8000 - 3s - loss: 0.2072 - accuracy: 0.4850 - val_loss: 0.1408 - val_accuracy: 0.6585\n",
      "Epoch 2/50\n",
      "8000/8000 - 2s - loss: 0.1517 - accuracy: 0.6093 - val_loss: 0.1084 - val_accuracy: 0.6980\n",
      "Epoch 3/50\n",
      "8000/8000 - 2s - loss: 0.1340 - accuracy: 0.6444 - val_loss: 0.1057 - val_accuracy: 0.7340\n",
      "Epoch 4/50\n",
      "8000/8000 - 2s - loss: 0.1227 - accuracy: 0.6618 - val_loss: 0.0950 - val_accuracy: 0.7620\n",
      "Epoch 5/50\n",
      "8000/8000 - 2s - loss: 0.1137 - accuracy: 0.6817 - val_loss: 0.0894 - val_accuracy: 0.7590\n",
      "Epoch 6/50\n",
      "8000/8000 - 2s - loss: 0.1074 - accuracy: 0.6961 - val_loss: 0.0766 - val_accuracy: 0.7880\n",
      "Epoch 7/50\n",
      "8000/8000 - 2s - loss: 0.1023 - accuracy: 0.7089 - val_loss: 0.0769 - val_accuracy: 0.7690\n",
      "Epoch 8/50\n",
      "8000/8000 - 2s - loss: 0.0986 - accuracy: 0.7205 - val_loss: 0.0717 - val_accuracy: 0.8070\n",
      "Epoch 9/50\n",
      "8000/8000 - 3s - loss: 0.0946 - accuracy: 0.7315 - val_loss: 0.0712 - val_accuracy: 0.8140\n",
      "Epoch 10/50\n",
      "8000/8000 - 2s - loss: 0.0919 - accuracy: 0.7376 - val_loss: 0.0670 - val_accuracy: 0.8135\n",
      "Epoch 11/50\n",
      "8000/8000 - 3s - loss: 0.0897 - accuracy: 0.7441 - val_loss: 0.0702 - val_accuracy: 0.8195\n",
      "Epoch 12/50\n",
      "8000/8000 - 3s - loss: 0.0888 - accuracy: 0.7530 - val_loss: 0.0660 - val_accuracy: 0.8190\n",
      "Epoch 13/50\n",
      "8000/8000 - 2s - loss: 0.0874 - accuracy: 0.7496 - val_loss: 0.0667 - val_accuracy: 0.8325\n",
      "Epoch 14/50\n",
      "8000/8000 - 2s - loss: 0.0853 - accuracy: 0.7569 - val_loss: 0.0647 - val_accuracy: 0.8165\n",
      "Epoch 15/50\n",
      "8000/8000 - 2s - loss: 0.0847 - accuracy: 0.7571 - val_loss: 0.0664 - val_accuracy: 0.8370\n",
      "Epoch 16/50\n",
      "8000/8000 - 2s - loss: 0.0836 - accuracy: 0.7596 - val_loss: 0.0612 - val_accuracy: 0.8415\n",
      "Epoch 17/50\n",
      "8000/8000 - 2s - loss: 0.0811 - accuracy: 0.7624 - val_loss: 0.0617 - val_accuracy: 0.8395\n",
      "Epoch 18/50\n",
      "8000/8000 - 2s - loss: 0.0811 - accuracy: 0.7669 - val_loss: 0.0628 - val_accuracy: 0.8300\n",
      "Epoch 19/50\n",
      "8000/8000 - 2s - loss: 0.0800 - accuracy: 0.7682 - val_loss: 0.0585 - val_accuracy: 0.8310\n",
      "Epoch 20/50\n",
      "8000/8000 - 2s - loss: 0.0801 - accuracy: 0.7765 - val_loss: 0.0539 - val_accuracy: 0.8640\n",
      "Epoch 21/50\n",
      "8000/8000 - 2s - loss: 0.0784 - accuracy: 0.7705 - val_loss: 0.0597 - val_accuracy: 0.8530\n",
      "Epoch 22/50\n",
      "8000/8000 - 2s - loss: 0.0779 - accuracy: 0.7738 - val_loss: 0.0565 - val_accuracy: 0.8530\n",
      "Epoch 23/50\n",
      "8000/8000 - 2s - loss: 0.0770 - accuracy: 0.7726 - val_loss: 0.0563 - val_accuracy: 0.8555\n",
      "Epoch 24/50\n",
      "8000/8000 - 2s - loss: 0.0772 - accuracy: 0.7751 - val_loss: 0.0614 - val_accuracy: 0.8530\n",
      "Epoch 25/50\n",
      "8000/8000 - 2s - loss: 0.0760 - accuracy: 0.7695 - val_loss: 0.0555 - val_accuracy: 0.8590\n",
      "Epoch 26/50\n",
      "8000/8000 - 2s - loss: 0.0752 - accuracy: 0.7776 - val_loss: 0.0575 - val_accuracy: 0.8570\n",
      "Epoch 27/50\n",
      "8000/8000 - 2s - loss: 0.0761 - accuracy: 0.7810 - val_loss: 0.0610 - val_accuracy: 0.8480\n",
      "Epoch 28/50\n",
      "8000/8000 - 3s - loss: 0.0747 - accuracy: 0.7799 - val_loss: 0.0588 - val_accuracy: 0.8580\n",
      "Epoch 29/50\n",
      "8000/8000 - 2s - loss: 0.0739 - accuracy: 0.7795 - val_loss: 0.0556 - val_accuracy: 0.8595\n",
      "Epoch 30/50\n",
      "8000/8000 - 2s - loss: 0.0739 - accuracy: 0.7780 - val_loss: 0.0534 - val_accuracy: 0.8610\n",
      "Epoch 31/50\n",
      "8000/8000 - 2s - loss: 0.0722 - accuracy: 0.7922 - val_loss: 0.0551 - val_accuracy: 0.8625\n",
      "Epoch 32/50\n",
      "8000/8000 - 2s - loss: 0.0732 - accuracy: 0.7844 - val_loss: 0.0534 - val_accuracy: 0.8750\n",
      "Epoch 33/50\n",
      "8000/8000 - 2s - loss: 0.0724 - accuracy: 0.7821 - val_loss: 0.0519 - val_accuracy: 0.8625\n",
      "Epoch 34/50\n",
      "8000/8000 - 2s - loss: 0.0718 - accuracy: 0.7874 - val_loss: 0.0520 - val_accuracy: 0.8675\n",
      "Epoch 35/50\n",
      "8000/8000 - 2s - loss: 0.0719 - accuracy: 0.7893 - val_loss: 0.0543 - val_accuracy: 0.8535\n",
      "Epoch 36/50\n",
      "8000/8000 - 2s - loss: 0.0718 - accuracy: 0.7909 - val_loss: 0.0542 - val_accuracy: 0.8525\n",
      "Epoch 37/50\n",
      "8000/8000 - 2s - loss: 0.0713 - accuracy: 0.7893 - val_loss: 0.0562 - val_accuracy: 0.8685\n",
      "Epoch 38/50\n",
      "8000/8000 - 2s - loss: 0.0716 - accuracy: 0.7936 - val_loss: 0.0514 - val_accuracy: 0.8685\n",
      "Epoch 39/50\n",
      "8000/8000 - 2s - loss: 0.0712 - accuracy: 0.7937 - val_loss: 0.0588 - val_accuracy: 0.8675\n",
      "Epoch 40/50\n",
      "8000/8000 - 2s - loss: 0.0701 - accuracy: 0.7989 - val_loss: 0.0511 - val_accuracy: 0.8735\n",
      "Epoch 41/50\n",
      "8000/8000 - 2s - loss: 0.0702 - accuracy: 0.7919 - val_loss: 0.0505 - val_accuracy: 0.8640\n",
      "Epoch 42/50\n",
      "8000/8000 - 2s - loss: 0.0706 - accuracy: 0.7890 - val_loss: 0.0534 - val_accuracy: 0.8665\n",
      "Epoch 43/50\n",
      "8000/8000 - 2s - loss: 0.0701 - accuracy: 0.7936 - val_loss: 0.0532 - val_accuracy: 0.8580\n",
      "Epoch 44/50\n",
      "8000/8000 - 2s - loss: 0.0702 - accuracy: 0.7909 - val_loss: 0.0549 - val_accuracy: 0.8765\n",
      "Epoch 45/50\n",
      "8000/8000 - 2s - loss: 0.0699 - accuracy: 0.7931 - val_loss: 0.0537 - val_accuracy: 0.8425\n",
      "Epoch 46/50\n",
      "8000/8000 - 2s - loss: 0.0707 - accuracy: 0.7947 - val_loss: 0.0525 - val_accuracy: 0.8725\n",
      "Epoch 47/50\n",
      "8000/8000 - 2s - loss: 0.0686 - accuracy: 0.7939 - val_loss: 0.0545 - val_accuracy: 0.8680\n",
      "Epoch 48/50\n",
      "8000/8000 - 2s - loss: 0.0700 - accuracy: 0.7968 - val_loss: 0.0528 - val_accuracy: 0.8635\n",
      "Epoch 49/50\n",
      "8000/8000 - 2s - loss: 0.0691 - accuracy: 0.7951 - val_loss: 0.0510 - val_accuracy: 0.8755\n",
      "Epoch 50/50\n",
      "8000/8000 - 2s - loss: 0.0690 - accuracy: 0.7950 - val_loss: 0.0545 - val_accuracy: 0.8560\n"
     ]
    }
   ],
   "source": [
    "# Fit your model \n",
    "# your code here\n",
    "history = model.fit(X_train, y_train, validation_split=0.2, epochs=50, \n",
    "                    verbose=2)"
   ]
  },
  {
   "cell_type": "markdown",
   "metadata": {
    "autograde": "2.4",
    "deletable": false,
    "editable": false
   },
   "source": [
    "**2.4** Use the `plot_predictions` function to plot the model's predictions on `X_test` to the true values in `y_test` (by default, it will only plot the first few rows). Report the model's overall loss on the test set. Comment on how well the model performs on this unseen data. Do you think it has accurately learned how to map from sample data to the coefficients that generated the data?\n"
   ]
  },
  {
   "cell_type": "code",
   "execution_count": 155,
   "metadata": {
    "deletable": false
   },
   "outputs": [
    {
     "data": {
      "image/png": "[encoded data removed]",
      "text/plain": [
       "<Figure size 1152x720 with 6 Axes>"
      ]
     },
     "metadata": {
      "needs_background": "light"
     },
     "output_type": "display_data"
    }
   ],
   "source": [
    "# your code here\n",
    "# plot the actual vs. predicted y_test values for the first few rows\n",
    "predictions1 = model.predict(X_test)\n",
    "xgrid = [0,1,2,3]\n",
    "fig, ax = plt.subplots(2,3, figsize = (16, 10))\n",
    "ax = ax.ravel()\n",
    "for i in range(6):\n",
    "    ax[i].scatter(xgrid, predictions1[i], label = 'Predicted Values')\n",
    "    ax[i].scatter(xgrid, y_test[i], label = 'True Values')\n",
    "    ax[i].legend()\n",
    "    ax[i].set_title('Row: ' + str(i))"
   ]
  },
  {
   "cell_type": "code",
   "execution_count": 158,
   "metadata": {},
   "outputs": [
    {
     "data": {
      "image/png": "[encoded data removed]",
      "text/plain": [
       "<Figure size 432x288 with 1 Axes>"
      ]
     },
     "metadata": {
      "needs_background": "light"
     },
     "output_type": "display_data"
    },
    {
     "name": "stdout",
     "output_type": "stream",
     "text": [
      "true: [0.86199664 0.98175913 0.65523998 0.4870337 ]\n",
      "predicted: [0.78072053 0.9509083  0.6191169  0.46586764]\n"
     ]
    },
    {
     "data": {
      "image/png": "[encoded data removed]",
      "text/plain": [
       "<Figure size 432x288 with 1 Axes>"
      ]
     },
     "metadata": {
      "needs_background": "light"
     },
     "output_type": "display_data"
    },
    {
     "name": "stdout",
     "output_type": "stream",
     "text": [
      "true: [0.8406355  0.63159555 0.18328701 0.11174618]\n",
      "predicted: [0.84039116 0.59468913 0.24829637 0.16767493]\n"
     ]
    },
    {
     "data": {
      "image/png": "[encoded data removed]",
      "text/plain": [
       "<Figure size 432x288 with 1 Axes>"
      ]
     },
     "metadata": {
      "needs_background": "light"
     },
     "output_type": "display_data"
    },
    {
     "name": "stdout",
     "output_type": "stream",
     "text": [
      "true: [0.06591224 0.75183886 0.06986143 0.91352303]\n",
      "predicted: [0.12001351 0.74720025 0.15665108 0.79942656]\n"
     ]
    },
    {
     "data": {
      "image/png": "[encoded data removed]",
      "text/plain": [
       "<Figure size 432x288 with 1 Axes>"
      ]
     },
     "metadata": {
      "needs_background": "light"
     },
     "output_type": "display_data"
    },
    {
     "name": "stdout",
     "output_type": "stream",
     "text": [
      "true: [0.75610725 0.30861152 0.49522059 0.48394499]\n",
      "predicted: [0.6605181 0.3444894 0.509195  0.5150777]\n"
     ]
    },
    {
     "data": {
      "image/png": "[encoded data removed]",
      "text/plain": [
       "<Figure size 432x288 with 1 Axes>"
      ]
     },
     "metadata": {
      "needs_background": "light"
     },
     "output_type": "display_data"
    },
    {
     "name": "stdout",
     "output_type": "stream",
     "text": [
      "true: [0.2229353  0.27885697 0.18696198 0.94846283]\n",
      "predicted: [0.24991915 0.27517146 0.2514215  0.8326007 ]\n"
     ]
    }
   ],
   "source": [
    "# use the function they gave us to plot the predicted vs. actual functions\n",
    "plot_predictions(model, X_test, y_test)"
   ]
  },
  {
   "cell_type": "code",
   "execution_count": 157,
   "metadata": {
    "deletable": false
   },
   "outputs": [
    {
     "name": "stdout",
     "output_type": "stream",
     "text": [
      "Test accuracy = 0.8679999709129333\n"
     ]
    }
   ],
   "source": [
    "# model's overall loss\n",
    "# your code here\n",
    "test_loss, test_accuracy = model.evaluate(X_test, y_test, verbose=0)\n",
    "print('Test accuracy = {}'.format(test_accuracy))"
   ]
  },
  {
   "cell_type": "markdown",
   "metadata": {
    "deletable": false
   },
   "source": [
    "The model seems to do pretty well on this unseen data. The blue and orange points (just judging from the first 6 rows of X_test) are very close to one another, besides for the first prediction in Row3. The accuracy score of the model is 80% which is also relatively high, so it seems like the model has learned how to map from sample data points to the 4 coefficients that generate that data. "
   ]
  },
  {
   "cell_type": "markdown",
   "metadata": {
    "autograde": "2.5",
    "deletable": false,
    "editable": false
   },
   "source": [
    "**2.5** Examine the model's performance on the 9 train/test pairs in the `extended_test` variables. Which examples does the model do well on, and which examples does it struggle with?\n"
   ]
  },
  {
   "cell_type": "code",
   "execution_count": 106,
   "metadata": {
    "deletable": false
   },
   "outputs": [
    {
     "data": {
      "image/png": "[encoded data removed]",
      "text/plain": [
       "<Figure size 1152x720 with 9 Axes>"
      ]
     },
     "metadata": {
      "needs_background": "light"
     },
     "output_type": "display_data"
    }
   ],
   "source": [
    "# your code here\n",
    "# plot the first few rows\n",
    "predictions = model.predict(X_extended_test)\n",
    "xgrid = [0,1,2,3]\n",
    "fig, ax = plt.subplots(3,3, figsize = (16, 10))\n",
    "ax = ax.ravel()\n",
    "for i in range(9):\n",
    "    ax[i].set_ylim(-4, 4)\n",
    "    ax[i].scatter(xgrid, predictions[i], label = 'Predicted Values')\n",
    "    ax[i].scatter(xgrid, y_extended_test[i], label = 'True Values')\n",
    "    ax[i].legend()\n",
    "    ax[i].set_title('Row: ' + str(i))"
   ]
  },
  {
   "cell_type": "code",
   "execution_count": 108,
   "metadata": {},
   "outputs": [
    {
     "data": {
      "text/plain": [
       "array([[ 0.,  0.,  0.,  0.],\n",
       "       [ 1.,  1.,  0.,  0.],\n",
       "       [ 0.,  0.,  1.,  1.],\n",
       "       [-1.,  1.,  0.,  0.],\n",
       "       [ 0.,  0., -1.,  1.],\n",
       "       [ 2.,  1.,  0.,  0.],\n",
       "       [ 1.,  2.,  0.,  0.],\n",
       "       [ 0.,  0.,  2.,  1.],\n",
       "       [ 0.,  0.,  1.,  2.]])"
      ]
     },
     "execution_count": 108,
     "metadata": {},
     "output_type": "execute_result"
    }
   ],
   "source": [
    "y_extended_test"
   ]
  },
  {
   "cell_type": "markdown",
   "metadata": {
    "deletable": false
   },
   "source": [
    "By looking at the above plots, we can clearly see that the model predicted extremely poorly for Rows 3,4, and 6 (the predictions for Row 3 are not even on the graph!). From looking at y_extended_test we can see that Rows 3 and 4 are the only 2 that contain negative values, indicating that the model performs poorly at predicting negative values. Row 6 doesn't seem to have any clearly distinguishable trait as compared to the other rows, so it seems to just be a random poor prediction. "
   ]
  },
  {
   "cell_type": "markdown",
   "metadata": {
    "autograde": "2.6",
    "deletable": false,
    "editable": false
   },
   "source": [
    "**2.6** Is there something that stands out about the difficult examples, especially with respect to the data the model was trained on? Did the model learn the mapping we had in mind? Would you say the model is overfit, underfit, or neither?\n",
    "\n",
    "**Hint**:\n",
    "- The Tensorflow 2.0 [`tf.keras` (here)](https://www.tensorflow.org/guide/keras) documentation and examples of a Sequential model are a good place to start.\n",
    "- A strong model can achieve validation error of around 0.03 on this data and 0.02 is very good."
   ]
  },
  {
   "cell_type": "markdown",
   "metadata": {
    "deletable": false
   },
   "source": [
    "The model learned the mapping we had in mind, but because we didn't train the model with negative values in y_train, the model was not prepared to handle this type of data. The model was overfit to the data we did give it, and so didn't generalize well when we tested it using other data that was substantially different from the data we used to train the model. "
   ]
  },
  {
   "cell_type": "markdown",
   "metadata": {
    "collapsed": true,
    "deletable": false,
    "editable": false
   },
   "source": [
    "<hr style='height:2pt'>\n",
    "\n",
    "<div class='theme'> Regularizing Neural Networks </div>\n",
    "\n",
    "In this problem set, we have already explored how ANNs are able to learn a mapping from example input data (of fixed size) to example output data (of fixed size), and how well the neural network can generalize. In this problem, we focus on issues of overfitting and regularization in neural networks.\n",
    "\n",
    "As we have explained in class, ANNs can be prone to overfitting, where they learn specific patterns present in the training data, but the patterns do not generalize to new data.\n",
    "\n",
    "There are several methods used to improve ANN generalization. One approach is to use an architecture just barely wide/deep enough to fit the data. The idea here is that smaller networks are less expressive and thus less able to overfit the data.\n",
    "\n",
    "However, it is difficult to know a priori the correct size of the ANN, and it is computationally costly to hunt for the correct size. Given this, other methodologies are used to prevent overfitting and improve ANNs' generalizability. These methodologies, like other techniques that combat overfitting, fall under the umbrella of regularization.\n",
    "\n",
    "In this problem, you are asked to regularize a network given to you below.\n",
    "    \n",
    "For this problem, we will be working with a modified version of MNIST dataset (MNIST CS109, MNIST: Modified National Institute of Standards and Technology database), which is a large database of handwritten digits and commonly used for training various image processing systems. This dataset consists of 60,000 28x28 grayscale images of the ten digits, along with a test set of 10,000 images. For pedagogical simplicity, we will only use the digits labeled `4` and `9`, and we want to use a total of 1600 samples for training (this includes the data you will use for validation).\n",
    "\n",
    "We have selected the samples for you and the dataset is available at https://www.kaggle.com/c/cs109a. You have to create an account on Kaggle and join competition via https://www.kaggle.com/t/ca16b77c5feb4cbabb0d8cf63d9a7212. This is a limited participation competition. Please do not share link.  \n",
    "\n",
    "`x_train_mnist_cs109.csv` is our training dataset, last column is the target column. Class 0 means sample is handwritten digit 4 and class 1 means sample is handwritten digit 9.  784 columns correspond to 28x28 image size. \n",
    "\n",
    "\n",
    "`x_test_mnist_cs109.csv` has  structure similar to `x_train_mnist_cs109.csv` with no labels. `x_test_mnist_cs109.csv` has 3200  samples. Kaggle leaderboard scores are accuracy scores calculated on this test set.  \n",
    "\n",
    "`sample_submission.csv` is the format that kaggle will accept.\n"
   ]
  },
  {
   "cell_type": "markdown",
   "metadata": {
    "deletable": false,
    "editable": false,
    "test": "Kaggle_name"
   },
   "source": [
    "\n",
    "<div class='exercise'> <b> Question 3 [25 pts] </b> </div>\n",
    "    \n",
    "**3.1**  Download data from the competition page. You should have three files `x_train_mnist_cs109.csv`, `x_test_mnist_cs109.csv` and `sample_submission.csv`. We will utilize `x_test_mnist_cs109.csv` in 3.3.  Load the data and use the matplotlib function `imshow` to display a handwritten 4 and a handwritten 9.\n",
    "\n",
    "**3.2** **Overfit an ANN:** Build a fully-connected network (FCN) using `tensorflow.keras` and assign it to a variable called `model_overfit`: \n",
    "\n",
    "1. Number of hidden layers: 3\n",
    "2. Nodes per hidden layer: 100,100,100\n",
    "2. Activation function: reLU \n",
    "3. Loss function: binary_crossentropy\n",
    "4. Output unit: Sigmoid \n",
    "5. Optimizer: adam (use the defaults; no other tuning)\n",
    "6. Epochs: no more than 2,000\n",
    "7. Batch size: 128\n",
    "8. Validation size: .3\n",
    "\n",
    "This ANN trained on the dataset you built here will overfit to the training set. Plot the training accuracy and validation accuracy as a function of epochs and explain how you can tell it is overfitting. \n",
    "\n",
    "\n",
    "**3.3** Create an ANN that doesn't overfit and compete on Kaggle.\n",
    "\n",
    "Keep the architecture above as is. In other words, keep the number of layers, number of nodes, activation function,  loss function and output unit the same. You can change the number of epochs (max 2000), batch size, optimizer, and of course, add elements that can help to regularize (e.g., drop out, L2 norm, etc.). You can also do data augmentation. \n",
    "\n",
    "\n",
    "\n",
    "- 3.3.1 Save your model's training accuracy as a variable called `kaggle_train_acc` and make sure it prints in the assert cell provided\n",
    "- 3.3.2 Additionally, display model summary, training and validation accuracy and loss (yes, the training accuracy should be displayed again here).\n",
    "- 3.3.3 Print the difference between training and validation accuracy and loss.\n",
    "- 3.3.4 Plot the training accuracy and validation accuracy as a function of epochs.\n",
    "- 3.3.5 Save the model using `model.save(filename)` and **submit it on canvas along with your notebook**. Code on how to save your model is provided below.\n",
    "- 3.3.6 **Submit your Kaggle name that you have used on the leaderboard. *We can't give you credit without this* . Enter it in the code cell below that starts with ### cs109Test(Kaggle_name) ###.**\n",
    "\n",
    "\n",
    "\n",
    "\n",
    "**RULES:**\n",
    "\n",
    "- **Please do not manually label your submissions.** In other words the labels should be the outcome of your model. \n",
    "\n",
    "- **No CNNs  allowed for this competition. \n",
    "\n",
    "- **No external data are allowed, please only use the x_train_mnist_cs109.csv for training the models.**\n",
    "\n",
    "- Do not create multiple accounts on Kaggle.\n",
    "\n",
    "\n",
    "**Grading:** (all accuracies are in percentages)\n",
    "\n",
    "S1: (Model overfit training accuracy - Model overfit validation accuracy)  => How much are you overfitting 3.2  ?\n",
    "\n",
    "S2: (Good model training accuracy - Good model average on Kaggle)  => How much are you overfitting on kaggle 3.3\n",
    "\n",
    "S3: (min (0, Good model training accuracy - Model overfit training accuracy )) => Your good model accuracy must be higher than model overfit. \n",
    "\n",
    "score = S1 - S2 + S3\n",
    "\n",
    "1. score > 1 : 4pt\n",
    "2. score > 1.5-2.0 : 8pts\n",
    "3. score > 2.0: 12pts\n",
    "4. 3pt extra to the top 10 students\n",
    "\n",
    "\n"
   ]
  },
  {
   "cell_type": "markdown",
   "metadata": {
    "deletable": false,
    "editable": false
   },
   "source": [
    "## Answers"
   ]
  },
  {
   "cell_type": "markdown",
   "metadata": {
    "autograde": "3.1",
    "deletable": false,
    "editable": false
   },
   "source": [
    "**3.1**  Download data from the competition page. You should have three files `x_train_mnist_cs109.csv`, `x_test_mnist_cs109.csv` and `sample_submission.csv`. We will utilize `x_test_mnist_cs109.csv` in 3.3.  Load the data and use the matplotlib function `imshow` to display a handwritten 4 and a handwritten 9.\n"
   ]
  },
  {
   "cell_type": "code",
   "execution_count": 217,
   "metadata": {
    "deletable": false
   },
   "outputs": [],
   "source": [
    "# your code here\n",
    "#load data\n",
    "X_train = pd.read_csv('data/x_train_mnist_cs109.csv')\n",
    "X_test = pd.read_csv('data/x_test_mnist_cs109.csv')\n",
    "sample_submission = pd.read_csv('data/sample_submission.csv')"
   ]
  },
  {
   "cell_type": "code",
   "execution_count": 218,
   "metadata": {},
   "outputs": [
    {
     "data": {
      "text/html": [
       "<div>\n",
       "<style scoped>\n",
       "    .dataframe tbody tr th:only-of-type {\n",
       "        vertical-align: middle;\n",
       "    }\n",
       "\n",
       "    .dataframe tbody tr th {\n",
       "        vertical-align: top;\n",
       "    }\n",
       "\n",
       "    .dataframe thead th {\n",
       "        text-align: right;\n",
       "    }\n",
       "</style>\n",
       "<table border=\"1\" class=\"dataframe\">\n",
       "  <thead>\n",
       "    <tr style=\"text-align: right;\">\n",
       "      <th></th>\n",
       "      <th>0</th>\n",
       "      <th>1</th>\n",
       "      <th>2</th>\n",
       "      <th>3</th>\n",
       "      <th>4</th>\n",
       "      <th>5</th>\n",
       "      <th>6</th>\n",
       "      <th>7</th>\n",
       "      <th>8</th>\n",
       "      <th>9</th>\n",
       "      <th>10</th>\n",
       "      <th>11</th>\n",
       "      <th>12</th>\n",
       "      <th>13</th>\n",
       "      <th>14</th>\n",
       "      <th>15</th>\n",
       "      <th>16</th>\n",
       "      <th>17</th>\n",
       "      <th>18</th>\n",
       "      <th>19</th>\n",
       "      <th>20</th>\n",
       "      <th>21</th>\n",
       "      <th>22</th>\n",
       "      <th>23</th>\n",
       "      <th>24</th>\n",
       "      <th>25</th>\n",
       "      <th>26</th>\n",
       "      <th>27</th>\n",
       "      <th>28</th>\n",
       "      <th>29</th>\n",
       "      <th>30</th>\n",
       "      <th>31</th>\n",
       "      <th>32</th>\n",
       "      <th>33</th>\n",
       "      <th>34</th>\n",
       "      <th>35</th>\n",
       "      <th>36</th>\n",
       "      <th>37</th>\n",
       "      <th>38</th>\n",
       "      <th>39</th>\n",
       "      <th>40</th>\n",
       "      <th>41</th>\n",
       "      <th>42</th>\n",
       "      <th>43</th>\n",
       "      <th>44</th>\n",
       "      <th>45</th>\n",
       "      <th>46</th>\n",
       "      <th>47</th>\n",
       "      <th>48</th>\n",
       "      <th>49</th>\n",
       "      <th>...</th>\n",
       "      <th>735</th>\n",
       "      <th>736</th>\n",
       "      <th>737</th>\n",
       "      <th>738</th>\n",
       "      <th>739</th>\n",
       "      <th>740</th>\n",
       "      <th>741</th>\n",
       "      <th>742</th>\n",
       "      <th>743</th>\n",
       "      <th>744</th>\n",
       "      <th>745</th>\n",
       "      <th>746</th>\n",
       "      <th>747</th>\n",
       "      <th>748</th>\n",
       "      <th>749</th>\n",
       "      <th>750</th>\n",
       "      <th>751</th>\n",
       "      <th>752</th>\n",
       "      <th>753</th>\n",
       "      <th>754</th>\n",
       "      <th>755</th>\n",
       "      <th>756</th>\n",
       "      <th>757</th>\n",
       "      <th>758</th>\n",
       "      <th>759</th>\n",
       "      <th>760</th>\n",
       "      <th>761</th>\n",
       "      <th>762</th>\n",
       "      <th>763</th>\n",
       "      <th>764</th>\n",
       "      <th>765</th>\n",
       "      <th>766</th>\n",
       "      <th>767</th>\n",
       "      <th>768</th>\n",
       "      <th>769</th>\n",
       "      <th>770</th>\n",
       "      <th>771</th>\n",
       "      <th>772</th>\n",
       "      <th>773</th>\n",
       "      <th>774</th>\n",
       "      <th>775</th>\n",
       "      <th>776</th>\n",
       "      <th>777</th>\n",
       "      <th>778</th>\n",
       "      <th>779</th>\n",
       "      <th>780</th>\n",
       "      <th>781</th>\n",
       "      <th>782</th>\n",
       "      <th>783</th>\n",
       "      <th>784</th>\n",
       "    </tr>\n",
       "  </thead>\n",
       "  <tbody>\n",
       "    <tr>\n",
       "      <th>0</th>\n",
       "      <td>0</td>\n",
       "      <td>0</td>\n",
       "      <td>0</td>\n",
       "      <td>0</td>\n",
       "      <td>1</td>\n",
       "      <td>0</td>\n",
       "      <td>0</td>\n",
       "      <td>0</td>\n",
       "      <td>0</td>\n",
       "      <td>0</td>\n",
       "      <td>0</td>\n",
       "      <td>0</td>\n",
       "      <td>0</td>\n",
       "      <td>0</td>\n",
       "      <td>0</td>\n",
       "      <td>0</td>\n",
       "      <td>0</td>\n",
       "      <td>0</td>\n",
       "      <td>0</td>\n",
       "      <td>0</td>\n",
       "      <td>1</td>\n",
       "      <td>0</td>\n",
       "      <td>1</td>\n",
       "      <td>0</td>\n",
       "      <td>1</td>\n",
       "      <td>0</td>\n",
       "      <td>1</td>\n",
       "      <td>0</td>\n",
       "      <td>1</td>\n",
       "      <td>0</td>\n",
       "      <td>1</td>\n",
       "      <td>0</td>\n",
       "      <td>0</td>\n",
       "      <td>0</td>\n",
       "      <td>0</td>\n",
       "      <td>0</td>\n",
       "      <td>1</td>\n",
       "      <td>0</td>\n",
       "      <td>1</td>\n",
       "      <td>0</td>\n",
       "      <td>0</td>\n",
       "      <td>0</td>\n",
       "      <td>0</td>\n",
       "      <td>0</td>\n",
       "      <td>1</td>\n",
       "      <td>0</td>\n",
       "      <td>1</td>\n",
       "      <td>0</td>\n",
       "      <td>0</td>\n",
       "      <td>0</td>\n",
       "      <td>...</td>\n",
       "      <td>1</td>\n",
       "      <td>0</td>\n",
       "      <td>98</td>\n",
       "      <td>1</td>\n",
       "      <td>0</td>\n",
       "      <td>0</td>\n",
       "      <td>0</td>\n",
       "      <td>0</td>\n",
       "      <td>0</td>\n",
       "      <td>0</td>\n",
       "      <td>0</td>\n",
       "      <td>0</td>\n",
       "      <td>1</td>\n",
       "      <td>0</td>\n",
       "      <td>0</td>\n",
       "      <td>1</td>\n",
       "      <td>0</td>\n",
       "      <td>1</td>\n",
       "      <td>0</td>\n",
       "      <td>0</td>\n",
       "      <td>0</td>\n",
       "      <td>0</td>\n",
       "      <td>0</td>\n",
       "      <td>0</td>\n",
       "      <td>0</td>\n",
       "      <td>0</td>\n",
       "      <td>0</td>\n",
       "      <td>0</td>\n",
       "      <td>0</td>\n",
       "      <td>0</td>\n",
       "      <td>0</td>\n",
       "      <td>0</td>\n",
       "      <td>0</td>\n",
       "      <td>0</td>\n",
       "      <td>0</td>\n",
       "      <td>0</td>\n",
       "      <td>0</td>\n",
       "      <td>0</td>\n",
       "      <td>0</td>\n",
       "      <td>0</td>\n",
       "      <td>0</td>\n",
       "      <td>0</td>\n",
       "      <td>0</td>\n",
       "      <td>0</td>\n",
       "      <td>0</td>\n",
       "      <td>0</td>\n",
       "      <td>0</td>\n",
       "      <td>0</td>\n",
       "      <td>0</td>\n",
       "      <td>1</td>\n",
       "    </tr>\n",
       "    <tr>\n",
       "      <th>1</th>\n",
       "      <td>0</td>\n",
       "      <td>0</td>\n",
       "      <td>0</td>\n",
       "      <td>0</td>\n",
       "      <td>0</td>\n",
       "      <td>0</td>\n",
       "      <td>1</td>\n",
       "      <td>1</td>\n",
       "      <td>0</td>\n",
       "      <td>0</td>\n",
       "      <td>0</td>\n",
       "      <td>1</td>\n",
       "      <td>0</td>\n",
       "      <td>1</td>\n",
       "      <td>0</td>\n",
       "      <td>0</td>\n",
       "      <td>0</td>\n",
       "      <td>0</td>\n",
       "      <td>0</td>\n",
       "      <td>0</td>\n",
       "      <td>1</td>\n",
       "      <td>0</td>\n",
       "      <td>0</td>\n",
       "      <td>0</td>\n",
       "      <td>0</td>\n",
       "      <td>0</td>\n",
       "      <td>1</td>\n",
       "      <td>0</td>\n",
       "      <td>0</td>\n",
       "      <td>0</td>\n",
       "      <td>0</td>\n",
       "      <td>0</td>\n",
       "      <td>0</td>\n",
       "      <td>0</td>\n",
       "      <td>0</td>\n",
       "      <td>0</td>\n",
       "      <td>0</td>\n",
       "      <td>0</td>\n",
       "      <td>0</td>\n",
       "      <td>1</td>\n",
       "      <td>0</td>\n",
       "      <td>0</td>\n",
       "      <td>1</td>\n",
       "      <td>0</td>\n",
       "      <td>0</td>\n",
       "      <td>0</td>\n",
       "      <td>0</td>\n",
       "      <td>0</td>\n",
       "      <td>0</td>\n",
       "      <td>1</td>\n",
       "      <td>...</td>\n",
       "      <td>0</td>\n",
       "      <td>1</td>\n",
       "      <td>1</td>\n",
       "      <td>0</td>\n",
       "      <td>1</td>\n",
       "      <td>1</td>\n",
       "      <td>0</td>\n",
       "      <td>1</td>\n",
       "      <td>0</td>\n",
       "      <td>0</td>\n",
       "      <td>0</td>\n",
       "      <td>0</td>\n",
       "      <td>0</td>\n",
       "      <td>0</td>\n",
       "      <td>0</td>\n",
       "      <td>0</td>\n",
       "      <td>0</td>\n",
       "      <td>0</td>\n",
       "      <td>0</td>\n",
       "      <td>0</td>\n",
       "      <td>0</td>\n",
       "      <td>0</td>\n",
       "      <td>0</td>\n",
       "      <td>0</td>\n",
       "      <td>0</td>\n",
       "      <td>0</td>\n",
       "      <td>0</td>\n",
       "      <td>0</td>\n",
       "      <td>0</td>\n",
       "      <td>0</td>\n",
       "      <td>0</td>\n",
       "      <td>0</td>\n",
       "      <td>0</td>\n",
       "      <td>0</td>\n",
       "      <td>0</td>\n",
       "      <td>0</td>\n",
       "      <td>0</td>\n",
       "      <td>0</td>\n",
       "      <td>0</td>\n",
       "      <td>0</td>\n",
       "      <td>0</td>\n",
       "      <td>0</td>\n",
       "      <td>0</td>\n",
       "      <td>0</td>\n",
       "      <td>0</td>\n",
       "      <td>0</td>\n",
       "      <td>0</td>\n",
       "      <td>0</td>\n",
       "      <td>0</td>\n",
       "      <td>1</td>\n",
       "    </tr>\n",
       "    <tr>\n",
       "      <th>2</th>\n",
       "      <td>0</td>\n",
       "      <td>0</td>\n",
       "      <td>0</td>\n",
       "      <td>1</td>\n",
       "      <td>0</td>\n",
       "      <td>0</td>\n",
       "      <td>0</td>\n",
       "      <td>0</td>\n",
       "      <td>0</td>\n",
       "      <td>1</td>\n",
       "      <td>0</td>\n",
       "      <td>1</td>\n",
       "      <td>0</td>\n",
       "      <td>0</td>\n",
       "      <td>0</td>\n",
       "      <td>0</td>\n",
       "      <td>0</td>\n",
       "      <td>0</td>\n",
       "      <td>0</td>\n",
       "      <td>0</td>\n",
       "      <td>0</td>\n",
       "      <td>0</td>\n",
       "      <td>0</td>\n",
       "      <td>0</td>\n",
       "      <td>0</td>\n",
       "      <td>0</td>\n",
       "      <td>0</td>\n",
       "      <td>0</td>\n",
       "      <td>0</td>\n",
       "      <td>1</td>\n",
       "      <td>0</td>\n",
       "      <td>0</td>\n",
       "      <td>0</td>\n",
       "      <td>0</td>\n",
       "      <td>0</td>\n",
       "      <td>0</td>\n",
       "      <td>0</td>\n",
       "      <td>0</td>\n",
       "      <td>0</td>\n",
       "      <td>0</td>\n",
       "      <td>0</td>\n",
       "      <td>0</td>\n",
       "      <td>0</td>\n",
       "      <td>1</td>\n",
       "      <td>1</td>\n",
       "      <td>0</td>\n",
       "      <td>0</td>\n",
       "      <td>0</td>\n",
       "      <td>0</td>\n",
       "      <td>0</td>\n",
       "      <td>...</td>\n",
       "      <td>0</td>\n",
       "      <td>0</td>\n",
       "      <td>0</td>\n",
       "      <td>0</td>\n",
       "      <td>0</td>\n",
       "      <td>1</td>\n",
       "      <td>0</td>\n",
       "      <td>0</td>\n",
       "      <td>0</td>\n",
       "      <td>0</td>\n",
       "      <td>0</td>\n",
       "      <td>0</td>\n",
       "      <td>1</td>\n",
       "      <td>0</td>\n",
       "      <td>0</td>\n",
       "      <td>0</td>\n",
       "      <td>0</td>\n",
       "      <td>0</td>\n",
       "      <td>0</td>\n",
       "      <td>0</td>\n",
       "      <td>0</td>\n",
       "      <td>0</td>\n",
       "      <td>0</td>\n",
       "      <td>0</td>\n",
       "      <td>0</td>\n",
       "      <td>0</td>\n",
       "      <td>0</td>\n",
       "      <td>0</td>\n",
       "      <td>0</td>\n",
       "      <td>0</td>\n",
       "      <td>0</td>\n",
       "      <td>0</td>\n",
       "      <td>0</td>\n",
       "      <td>0</td>\n",
       "      <td>0</td>\n",
       "      <td>0</td>\n",
       "      <td>0</td>\n",
       "      <td>0</td>\n",
       "      <td>0</td>\n",
       "      <td>0</td>\n",
       "      <td>0</td>\n",
       "      <td>0</td>\n",
       "      <td>0</td>\n",
       "      <td>0</td>\n",
       "      <td>0</td>\n",
       "      <td>0</td>\n",
       "      <td>0</td>\n",
       "      <td>0</td>\n",
       "      <td>0</td>\n",
       "      <td>0</td>\n",
       "    </tr>\n",
       "    <tr>\n",
       "      <th>3</th>\n",
       "      <td>1</td>\n",
       "      <td>1</td>\n",
       "      <td>0</td>\n",
       "      <td>1</td>\n",
       "      <td>0</td>\n",
       "      <td>1</td>\n",
       "      <td>0</td>\n",
       "      <td>0</td>\n",
       "      <td>0</td>\n",
       "      <td>1</td>\n",
       "      <td>0</td>\n",
       "      <td>0</td>\n",
       "      <td>0</td>\n",
       "      <td>0</td>\n",
       "      <td>0</td>\n",
       "      <td>0</td>\n",
       "      <td>1</td>\n",
       "      <td>0</td>\n",
       "      <td>0</td>\n",
       "      <td>0</td>\n",
       "      <td>1</td>\n",
       "      <td>1</td>\n",
       "      <td>0</td>\n",
       "      <td>0</td>\n",
       "      <td>0</td>\n",
       "      <td>0</td>\n",
       "      <td>0</td>\n",
       "      <td>0</td>\n",
       "      <td>0</td>\n",
       "      <td>0</td>\n",
       "      <td>0</td>\n",
       "      <td>0</td>\n",
       "      <td>0</td>\n",
       "      <td>0</td>\n",
       "      <td>0</td>\n",
       "      <td>0</td>\n",
       "      <td>0</td>\n",
       "      <td>1</td>\n",
       "      <td>0</td>\n",
       "      <td>0</td>\n",
       "      <td>1</td>\n",
       "      <td>0</td>\n",
       "      <td>0</td>\n",
       "      <td>1</td>\n",
       "      <td>0</td>\n",
       "      <td>1</td>\n",
       "      <td>0</td>\n",
       "      <td>0</td>\n",
       "      <td>0</td>\n",
       "      <td>1</td>\n",
       "      <td>...</td>\n",
       "      <td>0</td>\n",
       "      <td>1</td>\n",
       "      <td>0</td>\n",
       "      <td>0</td>\n",
       "      <td>0</td>\n",
       "      <td>0</td>\n",
       "      <td>0</td>\n",
       "      <td>0</td>\n",
       "      <td>0</td>\n",
       "      <td>0</td>\n",
       "      <td>0</td>\n",
       "      <td>0</td>\n",
       "      <td>0</td>\n",
       "      <td>0</td>\n",
       "      <td>0</td>\n",
       "      <td>0</td>\n",
       "      <td>0</td>\n",
       "      <td>0</td>\n",
       "      <td>0</td>\n",
       "      <td>0</td>\n",
       "      <td>0</td>\n",
       "      <td>0</td>\n",
       "      <td>0</td>\n",
       "      <td>0</td>\n",
       "      <td>0</td>\n",
       "      <td>0</td>\n",
       "      <td>0</td>\n",
       "      <td>0</td>\n",
       "      <td>0</td>\n",
       "      <td>0</td>\n",
       "      <td>0</td>\n",
       "      <td>0</td>\n",
       "      <td>0</td>\n",
       "      <td>0</td>\n",
       "      <td>0</td>\n",
       "      <td>0</td>\n",
       "      <td>0</td>\n",
       "      <td>0</td>\n",
       "      <td>0</td>\n",
       "      <td>0</td>\n",
       "      <td>0</td>\n",
       "      <td>0</td>\n",
       "      <td>0</td>\n",
       "      <td>0</td>\n",
       "      <td>0</td>\n",
       "      <td>0</td>\n",
       "      <td>0</td>\n",
       "      <td>0</td>\n",
       "      <td>0</td>\n",
       "      <td>1</td>\n",
       "    </tr>\n",
       "    <tr>\n",
       "      <th>4</th>\n",
       "      <td>1</td>\n",
       "      <td>0</td>\n",
       "      <td>0</td>\n",
       "      <td>0</td>\n",
       "      <td>0</td>\n",
       "      <td>0</td>\n",
       "      <td>0</td>\n",
       "      <td>0</td>\n",
       "      <td>0</td>\n",
       "      <td>0</td>\n",
       "      <td>0</td>\n",
       "      <td>0</td>\n",
       "      <td>0</td>\n",
       "      <td>0</td>\n",
       "      <td>0</td>\n",
       "      <td>1</td>\n",
       "      <td>0</td>\n",
       "      <td>0</td>\n",
       "      <td>1</td>\n",
       "      <td>0</td>\n",
       "      <td>0</td>\n",
       "      <td>0</td>\n",
       "      <td>0</td>\n",
       "      <td>0</td>\n",
       "      <td>0</td>\n",
       "      <td>0</td>\n",
       "      <td>0</td>\n",
       "      <td>0</td>\n",
       "      <td>0</td>\n",
       "      <td>0</td>\n",
       "      <td>1</td>\n",
       "      <td>1</td>\n",
       "      <td>0</td>\n",
       "      <td>0</td>\n",
       "      <td>0</td>\n",
       "      <td>0</td>\n",
       "      <td>0</td>\n",
       "      <td>0</td>\n",
       "      <td>0</td>\n",
       "      <td>0</td>\n",
       "      <td>0</td>\n",
       "      <td>1</td>\n",
       "      <td>0</td>\n",
       "      <td>0</td>\n",
       "      <td>0</td>\n",
       "      <td>0</td>\n",
       "      <td>0</td>\n",
       "      <td>0</td>\n",
       "      <td>0</td>\n",
       "      <td>0</td>\n",
       "      <td>...</td>\n",
       "      <td>0</td>\n",
       "      <td>0</td>\n",
       "      <td>0</td>\n",
       "      <td>0</td>\n",
       "      <td>0</td>\n",
       "      <td>1</td>\n",
       "      <td>1</td>\n",
       "      <td>1</td>\n",
       "      <td>1</td>\n",
       "      <td>0</td>\n",
       "      <td>0</td>\n",
       "      <td>0</td>\n",
       "      <td>0</td>\n",
       "      <td>0</td>\n",
       "      <td>0</td>\n",
       "      <td>0</td>\n",
       "      <td>0</td>\n",
       "      <td>0</td>\n",
       "      <td>0</td>\n",
       "      <td>0</td>\n",
       "      <td>0</td>\n",
       "      <td>0</td>\n",
       "      <td>0</td>\n",
       "      <td>0</td>\n",
       "      <td>0</td>\n",
       "      <td>0</td>\n",
       "      <td>0</td>\n",
       "      <td>0</td>\n",
       "      <td>0</td>\n",
       "      <td>0</td>\n",
       "      <td>0</td>\n",
       "      <td>0</td>\n",
       "      <td>0</td>\n",
       "      <td>0</td>\n",
       "      <td>0</td>\n",
       "      <td>0</td>\n",
       "      <td>0</td>\n",
       "      <td>0</td>\n",
       "      <td>0</td>\n",
       "      <td>0</td>\n",
       "      <td>0</td>\n",
       "      <td>0</td>\n",
       "      <td>0</td>\n",
       "      <td>0</td>\n",
       "      <td>0</td>\n",
       "      <td>0</td>\n",
       "      <td>0</td>\n",
       "      <td>0</td>\n",
       "      <td>0</td>\n",
       "      <td>0</td>\n",
       "    </tr>\n",
       "    <tr>\n",
       "      <th>...</th>\n",
       "      <td>...</td>\n",
       "      <td>...</td>\n",
       "      <td>...</td>\n",
       "      <td>...</td>\n",
       "      <td>...</td>\n",
       "      <td>...</td>\n",
       "      <td>...</td>\n",
       "      <td>...</td>\n",
       "      <td>...</td>\n",
       "      <td>...</td>\n",
       "      <td>...</td>\n",
       "      <td>...</td>\n",
       "      <td>...</td>\n",
       "      <td>...</td>\n",
       "      <td>...</td>\n",
       "      <td>...</td>\n",
       "      <td>...</td>\n",
       "      <td>...</td>\n",
       "      <td>...</td>\n",
       "      <td>...</td>\n",
       "      <td>...</td>\n",
       "      <td>...</td>\n",
       "      <td>...</td>\n",
       "      <td>...</td>\n",
       "      <td>...</td>\n",
       "      <td>...</td>\n",
       "      <td>...</td>\n",
       "      <td>...</td>\n",
       "      <td>...</td>\n",
       "      <td>...</td>\n",
       "      <td>...</td>\n",
       "      <td>...</td>\n",
       "      <td>...</td>\n",
       "      <td>...</td>\n",
       "      <td>...</td>\n",
       "      <td>...</td>\n",
       "      <td>...</td>\n",
       "      <td>...</td>\n",
       "      <td>...</td>\n",
       "      <td>...</td>\n",
       "      <td>...</td>\n",
       "      <td>...</td>\n",
       "      <td>...</td>\n",
       "      <td>...</td>\n",
       "      <td>...</td>\n",
       "      <td>...</td>\n",
       "      <td>...</td>\n",
       "      <td>...</td>\n",
       "      <td>...</td>\n",
       "      <td>...</td>\n",
       "      <td>...</td>\n",
       "      <td>...</td>\n",
       "      <td>...</td>\n",
       "      <td>...</td>\n",
       "      <td>...</td>\n",
       "      <td>...</td>\n",
       "      <td>...</td>\n",
       "      <td>...</td>\n",
       "      <td>...</td>\n",
       "      <td>...</td>\n",
       "      <td>...</td>\n",
       "      <td>...</td>\n",
       "      <td>...</td>\n",
       "      <td>...</td>\n",
       "      <td>...</td>\n",
       "      <td>...</td>\n",
       "      <td>...</td>\n",
       "      <td>...</td>\n",
       "      <td>...</td>\n",
       "      <td>...</td>\n",
       "      <td>...</td>\n",
       "      <td>...</td>\n",
       "      <td>...</td>\n",
       "      <td>...</td>\n",
       "      <td>...</td>\n",
       "      <td>...</td>\n",
       "      <td>...</td>\n",
       "      <td>...</td>\n",
       "      <td>...</td>\n",
       "      <td>...</td>\n",
       "      <td>...</td>\n",
       "      <td>...</td>\n",
       "      <td>...</td>\n",
       "      <td>...</td>\n",
       "      <td>...</td>\n",
       "      <td>...</td>\n",
       "      <td>...</td>\n",
       "      <td>...</td>\n",
       "      <td>...</td>\n",
       "      <td>...</td>\n",
       "      <td>...</td>\n",
       "      <td>...</td>\n",
       "      <td>...</td>\n",
       "      <td>...</td>\n",
       "      <td>...</td>\n",
       "      <td>...</td>\n",
       "      <td>...</td>\n",
       "      <td>...</td>\n",
       "      <td>...</td>\n",
       "      <td>...</td>\n",
       "      <td>...</td>\n",
       "    </tr>\n",
       "    <tr>\n",
       "      <th>1595</th>\n",
       "      <td>0</td>\n",
       "      <td>0</td>\n",
       "      <td>0</td>\n",
       "      <td>0</td>\n",
       "      <td>0</td>\n",
       "      <td>0</td>\n",
       "      <td>0</td>\n",
       "      <td>0</td>\n",
       "      <td>0</td>\n",
       "      <td>0</td>\n",
       "      <td>0</td>\n",
       "      <td>0</td>\n",
       "      <td>0</td>\n",
       "      <td>0</td>\n",
       "      <td>0</td>\n",
       "      <td>0</td>\n",
       "      <td>0</td>\n",
       "      <td>0</td>\n",
       "      <td>0</td>\n",
       "      <td>0</td>\n",
       "      <td>0</td>\n",
       "      <td>0</td>\n",
       "      <td>0</td>\n",
       "      <td>0</td>\n",
       "      <td>0</td>\n",
       "      <td>0</td>\n",
       "      <td>0</td>\n",
       "      <td>0</td>\n",
       "      <td>0</td>\n",
       "      <td>1</td>\n",
       "      <td>0</td>\n",
       "      <td>0</td>\n",
       "      <td>0</td>\n",
       "      <td>0</td>\n",
       "      <td>1</td>\n",
       "      <td>0</td>\n",
       "      <td>1</td>\n",
       "      <td>0</td>\n",
       "      <td>0</td>\n",
       "      <td>0</td>\n",
       "      <td>0</td>\n",
       "      <td>1</td>\n",
       "      <td>0</td>\n",
       "      <td>0</td>\n",
       "      <td>1</td>\n",
       "      <td>1</td>\n",
       "      <td>0</td>\n",
       "      <td>0</td>\n",
       "      <td>1</td>\n",
       "      <td>0</td>\n",
       "      <td>...</td>\n",
       "      <td>0</td>\n",
       "      <td>0</td>\n",
       "      <td>0</td>\n",
       "      <td>0</td>\n",
       "      <td>0</td>\n",
       "      <td>0</td>\n",
       "      <td>0</td>\n",
       "      <td>0</td>\n",
       "      <td>0</td>\n",
       "      <td>16</td>\n",
       "      <td>156</td>\n",
       "      <td>0</td>\n",
       "      <td>1</td>\n",
       "      <td>0</td>\n",
       "      <td>0</td>\n",
       "      <td>0</td>\n",
       "      <td>0</td>\n",
       "      <td>0</td>\n",
       "      <td>0</td>\n",
       "      <td>0</td>\n",
       "      <td>0</td>\n",
       "      <td>0</td>\n",
       "      <td>0</td>\n",
       "      <td>0</td>\n",
       "      <td>0</td>\n",
       "      <td>0</td>\n",
       "      <td>0</td>\n",
       "      <td>0</td>\n",
       "      <td>0</td>\n",
       "      <td>0</td>\n",
       "      <td>0</td>\n",
       "      <td>0</td>\n",
       "      <td>0</td>\n",
       "      <td>0</td>\n",
       "      <td>0</td>\n",
       "      <td>0</td>\n",
       "      <td>0</td>\n",
       "      <td>0</td>\n",
       "      <td>0</td>\n",
       "      <td>0</td>\n",
       "      <td>0</td>\n",
       "      <td>0</td>\n",
       "      <td>0</td>\n",
       "      <td>0</td>\n",
       "      <td>0</td>\n",
       "      <td>0</td>\n",
       "      <td>0</td>\n",
       "      <td>0</td>\n",
       "      <td>0</td>\n",
       "      <td>1</td>\n",
       "    </tr>\n",
       "    <tr>\n",
       "      <th>1596</th>\n",
       "      <td>1</td>\n",
       "      <td>0</td>\n",
       "      <td>0</td>\n",
       "      <td>0</td>\n",
       "      <td>0</td>\n",
       "      <td>1</td>\n",
       "      <td>0</td>\n",
       "      <td>0</td>\n",
       "      <td>0</td>\n",
       "      <td>1</td>\n",
       "      <td>0</td>\n",
       "      <td>0</td>\n",
       "      <td>1</td>\n",
       "      <td>0</td>\n",
       "      <td>0</td>\n",
       "      <td>0</td>\n",
       "      <td>0</td>\n",
       "      <td>0</td>\n",
       "      <td>1</td>\n",
       "      <td>0</td>\n",
       "      <td>1</td>\n",
       "      <td>0</td>\n",
       "      <td>0</td>\n",
       "      <td>0</td>\n",
       "      <td>1</td>\n",
       "      <td>0</td>\n",
       "      <td>0</td>\n",
       "      <td>0</td>\n",
       "      <td>1</td>\n",
       "      <td>0</td>\n",
       "      <td>0</td>\n",
       "      <td>0</td>\n",
       "      <td>0</td>\n",
       "      <td>0</td>\n",
       "      <td>0</td>\n",
       "      <td>0</td>\n",
       "      <td>0</td>\n",
       "      <td>0</td>\n",
       "      <td>0</td>\n",
       "      <td>0</td>\n",
       "      <td>0</td>\n",
       "      <td>0</td>\n",
       "      <td>0</td>\n",
       "      <td>0</td>\n",
       "      <td>1</td>\n",
       "      <td>1</td>\n",
       "      <td>0</td>\n",
       "      <td>0</td>\n",
       "      <td>0</td>\n",
       "      <td>0</td>\n",
       "      <td>...</td>\n",
       "      <td>0</td>\n",
       "      <td>0</td>\n",
       "      <td>0</td>\n",
       "      <td>0</td>\n",
       "      <td>0</td>\n",
       "      <td>0</td>\n",
       "      <td>0</td>\n",
       "      <td>0</td>\n",
       "      <td>0</td>\n",
       "      <td>0</td>\n",
       "      <td>0</td>\n",
       "      <td>0</td>\n",
       "      <td>0</td>\n",
       "      <td>1</td>\n",
       "      <td>0</td>\n",
       "      <td>0</td>\n",
       "      <td>0</td>\n",
       "      <td>0</td>\n",
       "      <td>0</td>\n",
       "      <td>0</td>\n",
       "      <td>0</td>\n",
       "      <td>0</td>\n",
       "      <td>0</td>\n",
       "      <td>0</td>\n",
       "      <td>0</td>\n",
       "      <td>0</td>\n",
       "      <td>0</td>\n",
       "      <td>0</td>\n",
       "      <td>0</td>\n",
       "      <td>0</td>\n",
       "      <td>0</td>\n",
       "      <td>0</td>\n",
       "      <td>0</td>\n",
       "      <td>0</td>\n",
       "      <td>0</td>\n",
       "      <td>0</td>\n",
       "      <td>0</td>\n",
       "      <td>0</td>\n",
       "      <td>0</td>\n",
       "      <td>0</td>\n",
       "      <td>0</td>\n",
       "      <td>0</td>\n",
       "      <td>0</td>\n",
       "      <td>0</td>\n",
       "      <td>0</td>\n",
       "      <td>0</td>\n",
       "      <td>0</td>\n",
       "      <td>0</td>\n",
       "      <td>0</td>\n",
       "      <td>0</td>\n",
       "    </tr>\n",
       "    <tr>\n",
       "      <th>1597</th>\n",
       "      <td>0</td>\n",
       "      <td>0</td>\n",
       "      <td>0</td>\n",
       "      <td>0</td>\n",
       "      <td>0</td>\n",
       "      <td>0</td>\n",
       "      <td>0</td>\n",
       "      <td>0</td>\n",
       "      <td>0</td>\n",
       "      <td>0</td>\n",
       "      <td>0</td>\n",
       "      <td>1</td>\n",
       "      <td>0</td>\n",
       "      <td>0</td>\n",
       "      <td>0</td>\n",
       "      <td>1</td>\n",
       "      <td>0</td>\n",
       "      <td>0</td>\n",
       "      <td>0</td>\n",
       "      <td>1</td>\n",
       "      <td>0</td>\n",
       "      <td>0</td>\n",
       "      <td>0</td>\n",
       "      <td>0</td>\n",
       "      <td>0</td>\n",
       "      <td>0</td>\n",
       "      <td>0</td>\n",
       "      <td>0</td>\n",
       "      <td>0</td>\n",
       "      <td>0</td>\n",
       "      <td>0</td>\n",
       "      <td>1</td>\n",
       "      <td>0</td>\n",
       "      <td>0</td>\n",
       "      <td>0</td>\n",
       "      <td>1</td>\n",
       "      <td>0</td>\n",
       "      <td>0</td>\n",
       "      <td>1</td>\n",
       "      <td>0</td>\n",
       "      <td>0</td>\n",
       "      <td>1</td>\n",
       "      <td>0</td>\n",
       "      <td>0</td>\n",
       "      <td>0</td>\n",
       "      <td>0</td>\n",
       "      <td>0</td>\n",
       "      <td>0</td>\n",
       "      <td>0</td>\n",
       "      <td>1</td>\n",
       "      <td>...</td>\n",
       "      <td>0</td>\n",
       "      <td>1</td>\n",
       "      <td>1</td>\n",
       "      <td>0</td>\n",
       "      <td>0</td>\n",
       "      <td>1</td>\n",
       "      <td>0</td>\n",
       "      <td>0</td>\n",
       "      <td>0</td>\n",
       "      <td>0</td>\n",
       "      <td>0</td>\n",
       "      <td>0</td>\n",
       "      <td>1</td>\n",
       "      <td>0</td>\n",
       "      <td>0</td>\n",
       "      <td>0</td>\n",
       "      <td>0</td>\n",
       "      <td>0</td>\n",
       "      <td>0</td>\n",
       "      <td>0</td>\n",
       "      <td>0</td>\n",
       "      <td>0</td>\n",
       "      <td>0</td>\n",
       "      <td>0</td>\n",
       "      <td>0</td>\n",
       "      <td>0</td>\n",
       "      <td>0</td>\n",
       "      <td>0</td>\n",
       "      <td>0</td>\n",
       "      <td>0</td>\n",
       "      <td>0</td>\n",
       "      <td>0</td>\n",
       "      <td>0</td>\n",
       "      <td>0</td>\n",
       "      <td>0</td>\n",
       "      <td>0</td>\n",
       "      <td>0</td>\n",
       "      <td>0</td>\n",
       "      <td>0</td>\n",
       "      <td>0</td>\n",
       "      <td>0</td>\n",
       "      <td>0</td>\n",
       "      <td>0</td>\n",
       "      <td>0</td>\n",
       "      <td>0</td>\n",
       "      <td>0</td>\n",
       "      <td>0</td>\n",
       "      <td>0</td>\n",
       "      <td>0</td>\n",
       "      <td>0</td>\n",
       "    </tr>\n",
       "    <tr>\n",
       "      <th>1598</th>\n",
       "      <td>0</td>\n",
       "      <td>0</td>\n",
       "      <td>0</td>\n",
       "      <td>0</td>\n",
       "      <td>0</td>\n",
       "      <td>0</td>\n",
       "      <td>1</td>\n",
       "      <td>0</td>\n",
       "      <td>0</td>\n",
       "      <td>0</td>\n",
       "      <td>1</td>\n",
       "      <td>0</td>\n",
       "      <td>0</td>\n",
       "      <td>0</td>\n",
       "      <td>0</td>\n",
       "      <td>1</td>\n",
       "      <td>0</td>\n",
       "      <td>0</td>\n",
       "      <td>0</td>\n",
       "      <td>0</td>\n",
       "      <td>1</td>\n",
       "      <td>0</td>\n",
       "      <td>0</td>\n",
       "      <td>0</td>\n",
       "      <td>0</td>\n",
       "      <td>0</td>\n",
       "      <td>0</td>\n",
       "      <td>0</td>\n",
       "      <td>0</td>\n",
       "      <td>0</td>\n",
       "      <td>0</td>\n",
       "      <td>0</td>\n",
       "      <td>0</td>\n",
       "      <td>0</td>\n",
       "      <td>1</td>\n",
       "      <td>1</td>\n",
       "      <td>0</td>\n",
       "      <td>0</td>\n",
       "      <td>0</td>\n",
       "      <td>0</td>\n",
       "      <td>0</td>\n",
       "      <td>0</td>\n",
       "      <td>0</td>\n",
       "      <td>0</td>\n",
       "      <td>0</td>\n",
       "      <td>0</td>\n",
       "      <td>0</td>\n",
       "      <td>0</td>\n",
       "      <td>0</td>\n",
       "      <td>0</td>\n",
       "      <td>...</td>\n",
       "      <td>0</td>\n",
       "      <td>0</td>\n",
       "      <td>0</td>\n",
       "      <td>0</td>\n",
       "      <td>0</td>\n",
       "      <td>0</td>\n",
       "      <td>0</td>\n",
       "      <td>0</td>\n",
       "      <td>1</td>\n",
       "      <td>0</td>\n",
       "      <td>0</td>\n",
       "      <td>0</td>\n",
       "      <td>1</td>\n",
       "      <td>0</td>\n",
       "      <td>0</td>\n",
       "      <td>0</td>\n",
       "      <td>0</td>\n",
       "      <td>0</td>\n",
       "      <td>0</td>\n",
       "      <td>0</td>\n",
       "      <td>0</td>\n",
       "      <td>0</td>\n",
       "      <td>0</td>\n",
       "      <td>0</td>\n",
       "      <td>0</td>\n",
       "      <td>0</td>\n",
       "      <td>0</td>\n",
       "      <td>0</td>\n",
       "      <td>0</td>\n",
       "      <td>0</td>\n",
       "      <td>0</td>\n",
       "      <td>0</td>\n",
       "      <td>0</td>\n",
       "      <td>0</td>\n",
       "      <td>0</td>\n",
       "      <td>0</td>\n",
       "      <td>0</td>\n",
       "      <td>0</td>\n",
       "      <td>0</td>\n",
       "      <td>0</td>\n",
       "      <td>0</td>\n",
       "      <td>0</td>\n",
       "      <td>0</td>\n",
       "      <td>0</td>\n",
       "      <td>0</td>\n",
       "      <td>0</td>\n",
       "      <td>0</td>\n",
       "      <td>0</td>\n",
       "      <td>0</td>\n",
       "      <td>0</td>\n",
       "    </tr>\n",
       "    <tr>\n",
       "      <th>1599</th>\n",
       "      <td>0</td>\n",
       "      <td>0</td>\n",
       "      <td>0</td>\n",
       "      <td>0</td>\n",
       "      <td>0</td>\n",
       "      <td>0</td>\n",
       "      <td>0</td>\n",
       "      <td>1</td>\n",
       "      <td>0</td>\n",
       "      <td>1</td>\n",
       "      <td>0</td>\n",
       "      <td>0</td>\n",
       "      <td>0</td>\n",
       "      <td>0</td>\n",
       "      <td>0</td>\n",
       "      <td>0</td>\n",
       "      <td>0</td>\n",
       "      <td>0</td>\n",
       "      <td>0</td>\n",
       "      <td>0</td>\n",
       "      <td>0</td>\n",
       "      <td>0</td>\n",
       "      <td>0</td>\n",
       "      <td>0</td>\n",
       "      <td>0</td>\n",
       "      <td>0</td>\n",
       "      <td>0</td>\n",
       "      <td>0</td>\n",
       "      <td>0</td>\n",
       "      <td>0</td>\n",
       "      <td>0</td>\n",
       "      <td>1</td>\n",
       "      <td>0</td>\n",
       "      <td>0</td>\n",
       "      <td>0</td>\n",
       "      <td>0</td>\n",
       "      <td>1</td>\n",
       "      <td>1</td>\n",
       "      <td>0</td>\n",
       "      <td>0</td>\n",
       "      <td>0</td>\n",
       "      <td>0</td>\n",
       "      <td>0</td>\n",
       "      <td>0</td>\n",
       "      <td>0</td>\n",
       "      <td>0</td>\n",
       "      <td>0</td>\n",
       "      <td>0</td>\n",
       "      <td>0</td>\n",
       "      <td>0</td>\n",
       "      <td>...</td>\n",
       "      <td>0</td>\n",
       "      <td>0</td>\n",
       "      <td>0</td>\n",
       "      <td>0</td>\n",
       "      <td>0</td>\n",
       "      <td>0</td>\n",
       "      <td>1</td>\n",
       "      <td>0</td>\n",
       "      <td>0</td>\n",
       "      <td>0</td>\n",
       "      <td>0</td>\n",
       "      <td>0</td>\n",
       "      <td>0</td>\n",
       "      <td>0</td>\n",
       "      <td>0</td>\n",
       "      <td>0</td>\n",
       "      <td>1</td>\n",
       "      <td>0</td>\n",
       "      <td>0</td>\n",
       "      <td>0</td>\n",
       "      <td>0</td>\n",
       "      <td>0</td>\n",
       "      <td>0</td>\n",
       "      <td>0</td>\n",
       "      <td>0</td>\n",
       "      <td>0</td>\n",
       "      <td>0</td>\n",
       "      <td>0</td>\n",
       "      <td>0</td>\n",
       "      <td>0</td>\n",
       "      <td>0</td>\n",
       "      <td>0</td>\n",
       "      <td>0</td>\n",
       "      <td>0</td>\n",
       "      <td>0</td>\n",
       "      <td>0</td>\n",
       "      <td>0</td>\n",
       "      <td>0</td>\n",
       "      <td>0</td>\n",
       "      <td>0</td>\n",
       "      <td>0</td>\n",
       "      <td>0</td>\n",
       "      <td>0</td>\n",
       "      <td>0</td>\n",
       "      <td>0</td>\n",
       "      <td>0</td>\n",
       "      <td>0</td>\n",
       "      <td>0</td>\n",
       "      <td>0</td>\n",
       "      <td>0</td>\n",
       "    </tr>\n",
       "  </tbody>\n",
       "</table>\n",
       "<p>1600 rows × 785 columns</p>\n",
       "</div>"
      ],
      "text/plain": [
       "      0  1  2  3  4  5  6  7  8  9  10  11  12  13  14  15  16  17  18  19  20  21  22  23  24  25  26  27  28  29  30  31  32  33  34  35  36  37  38  39  40  41  42  43  44  45  46  47  48  49  ...  735  736  737  738  739  740  741  742  743  744  745  746  747  748  749  750  751  752  753  754  755  756  757  758  759  760  761  762  763  764  765  766  767  768  769  770  771  772  773  774  775  776  777  778  779  780  781  782  783  784\n",
       "0     0  0  0  0  1  0  0  0  0  0   0   0   0   0   0   0   0   0   0   0   1   0   1   0   1   0   1   0   1   0   1   0   0   0   0   0   1   0   1   0   0   0   0   0   1   0   1   0   0   0  ...    1    0   98    1    0    0    0    0    0    0    0    0    1    0    0    1    0    1    0    0    0    0    0    0    0    0    0    0    0    0    0    0    0    0    0    0    0    0    0    0    0    0    0    0    0    0    0    0    0    1\n",
       "1     0  0  0  0  0  0  1  1  0  0   0   1   0   1   0   0   0   0   0   0   1   0   0   0   0   0   1   0   0   0   0   0   0   0   0   0   0   0   0   1   0   0   1   0   0   0   0   0   0   1  ...    0    1    1    0    1    1    0    1    0    0    0    0    0    0    0    0    0    0    0    0    0    0    0    0    0    0    0    0    0    0    0    0    0    0    0    0    0    0    0    0    0    0    0    0    0    0    0    0    0    1\n",
       "2     0  0  0  1  0  0  0  0  0  1   0   1   0   0   0   0   0   0   0   0   0   0   0   0   0   0   0   0   0   1   0   0   0   0   0   0   0   0   0   0   0   0   0   1   1   0   0   0   0   0  ...    0    0    0    0    0    1    0    0    0    0    0    0    1    0    0    0    0    0    0    0    0    0    0    0    0    0    0    0    0    0    0    0    0    0    0    0    0    0    0    0    0    0    0    0    0    0    0    0    0    0\n",
       "3     1  1  0  1  0  1  0  0  0  1   0   0   0   0   0   0   1   0   0   0   1   1   0   0   0   0   0   0   0   0   0   0   0   0   0   0   0   1   0   0   1   0   0   1   0   1   0   0   0   1  ...    0    1    0    0    0    0    0    0    0    0    0    0    0    0    0    0    0    0    0    0    0    0    0    0    0    0    0    0    0    0    0    0    0    0    0    0    0    0    0    0    0    0    0    0    0    0    0    0    0    1\n",
       "4     1  0  0  0  0  0  0  0  0  0   0   0   0   0   0   1   0   0   1   0   0   0   0   0   0   0   0   0   0   0   1   1   0   0   0   0   0   0   0   0   0   1   0   0   0   0   0   0   0   0  ...    0    0    0    0    0    1    1    1    1    0    0    0    0    0    0    0    0    0    0    0    0    0    0    0    0    0    0    0    0    0    0    0    0    0    0    0    0    0    0    0    0    0    0    0    0    0    0    0    0    0\n",
       "...  .. .. .. .. .. .. .. .. .. ..  ..  ..  ..  ..  ..  ..  ..  ..  ..  ..  ..  ..  ..  ..  ..  ..  ..  ..  ..  ..  ..  ..  ..  ..  ..  ..  ..  ..  ..  ..  ..  ..  ..  ..  ..  ..  ..  ..  ..  ..  ...  ...  ...  ...  ...  ...  ...  ...  ...  ...  ...  ...  ...  ...  ...  ...  ...  ...  ...  ...  ...  ...  ...  ...  ...  ...  ...  ...  ...  ...  ...  ...  ...  ...  ...  ...  ...  ...  ...  ...  ...  ...  ...  ...  ...  ...  ...  ...  ...  ...  ...\n",
       "1595  0  0  0  0  0  0  0  0  0  0   0   0   0   0   0   0   0   0   0   0   0   0   0   0   0   0   0   0   0   1   0   0   0   0   1   0   1   0   0   0   0   1   0   0   1   1   0   0   1   0  ...    0    0    0    0    0    0    0    0    0   16  156    0    1    0    0    0    0    0    0    0    0    0    0    0    0    0    0    0    0    0    0    0    0    0    0    0    0    0    0    0    0    0    0    0    0    0    0    0    0    1\n",
       "1596  1  0  0  0  0  1  0  0  0  1   0   0   1   0   0   0   0   0   1   0   1   0   0   0   1   0   0   0   1   0   0   0   0   0   0   0   0   0   0   0   0   0   0   0   1   1   0   0   0   0  ...    0    0    0    0    0    0    0    0    0    0    0    0    0    1    0    0    0    0    0    0    0    0    0    0    0    0    0    0    0    0    0    0    0    0    0    0    0    0    0    0    0    0    0    0    0    0    0    0    0    0\n",
       "1597  0  0  0  0  0  0  0  0  0  0   0   1   0   0   0   1   0   0   0   1   0   0   0   0   0   0   0   0   0   0   0   1   0   0   0   1   0   0   1   0   0   1   0   0   0   0   0   0   0   1  ...    0    1    1    0    0    1    0    0    0    0    0    0    1    0    0    0    0    0    0    0    0    0    0    0    0    0    0    0    0    0    0    0    0    0    0    0    0    0    0    0    0    0    0    0    0    0    0    0    0    0\n",
       "1598  0  0  0  0  0  0  1  0  0  0   1   0   0   0   0   1   0   0   0   0   1   0   0   0   0   0   0   0   0   0   0   0   0   0   1   1   0   0   0   0   0   0   0   0   0   0   0   0   0   0  ...    0    0    0    0    0    0    0    0    1    0    0    0    1    0    0    0    0    0    0    0    0    0    0    0    0    0    0    0    0    0    0    0    0    0    0    0    0    0    0    0    0    0    0    0    0    0    0    0    0    0\n",
       "1599  0  0  0  0  0  0  0  1  0  1   0   0   0   0   0   0   0   0   0   0   0   0   0   0   0   0   0   0   0   0   0   1   0   0   0   0   1   1   0   0   0   0   0   0   0   0   0   0   0   0  ...    0    0    0    0    0    0    1    0    0    0    0    0    0    0    0    0    1    0    0    0    0    0    0    0    0    0    0    0    0    0    0    0    0    0    0    0    0    0    0    0    0    0    0    0    0    0    0    0    0    0\n",
       "\n",
       "[1600 rows x 785 columns]"
      ]
     },
     "execution_count": 218,
     "metadata": {},
     "output_type": "execute_result"
    }
   ],
   "source": [
    "#visualize xtrain\n",
    "X_train"
   ]
  },
  {
   "cell_type": "code",
   "execution_count": 219,
   "metadata": {},
   "outputs": [],
   "source": [
    "#drop last column from x train and make it ytrain\n",
    "y_train = X_train['784']\n",
    "X_train = X_train.drop(columns = '784')"
   ]
  },
  {
   "cell_type": "code",
   "execution_count": 220,
   "metadata": {},
   "outputs": [
    {
     "data": {
      "text/plain": [
       "((1600, 784), (1600,))"
      ]
     },
     "execution_count": 220,
     "metadata": {},
     "output_type": "execute_result"
    }
   ],
   "source": [
    "#make x and y train numpy arrays\n",
    "(X_train.shape, y_train.shape)"
   ]
  },
  {
   "cell_type": "code",
   "execution_count": 221,
   "metadata": {},
   "outputs": [],
   "source": [
    "y_train = y_train.to_numpy()\n",
    "X_train = X_train.to_numpy()"
   ]
  },
  {
   "cell_type": "code",
   "execution_count": 224,
   "metadata": {},
   "outputs": [
    {
     "data": {
      "text/plain": [
       "(1600, 784)"
      ]
     },
     "execution_count": 224,
     "metadata": {},
     "output_type": "execute_result"
    }
   ],
   "source": [
    "X_train.shape"
   ]
  },
  {
   "cell_type": "markdown",
   "metadata": {
    "autograde": "3.2",
    "deletable": false,
    "editable": false
   },
   "source": [
    "**3.2** **Overfit an ANN:** Build a fully-connected network (FCN) using `tensorflow.keras` and assign it to a variable called `model_overfit`:\n",
    "\n",
    "1. Number of hidden layers: 3\n",
    "2. Nodes per hidden layer: 100,100,100\n",
    "2. Activation function: reLU\n",
    "3. Loss function: binary_crossentropy\n",
    "4. Output unit: Sigmoid\n",
    "5. Optimizer: adam (use the defaults; no other tuning)\n",
    "6. Epochs: no more than 2,000\n",
    "7. Batch size: 128\n",
    "8. Validation size: .3\n",
    "\n",
    "This ANN trained on the dataset you built here will overfit to the training set. Plot the training accuracy and validation accuracy as a function of epochs and explain how you can tell it is overfitting.\n",
    "\n"
   ]
  },
  {
   "cell_type": "code",
   "execution_count": 229,
   "metadata": {
    "deletable": false
   },
   "outputs": [],
   "source": [
    "# your code here\n",
    "model_overfit = tf.keras.models.Sequential([\n",
    "  tf.keras.layers.Dense(100, activation = 'relu', input_shape=(784,)),\n",
    "  tf.keras.layers.Dense(100, activation='relu'),\n",
    "  tf.keras.layers.Dense(100, activation='relu'),\n",
    "  tf.keras.layers.Dense(1, activation='sigmoid')\n",
    "])"
   ]
  },
  {
   "cell_type": "code",
   "execution_count": 230,
   "metadata": {},
   "outputs": [],
   "source": [
    "# your code here\n",
    "model_overfit.compile(optimizer='adam',\n",
    "              loss='binary_crossentropy',\n",
    "              metrics=['accuracy'])"
   ]
  },
  {
   "cell_type": "code",
   "execution_count": 231,
   "metadata": {},
   "outputs": [
    {
     "name": "stdout",
     "output_type": "stream",
     "text": [
      "Model: \"sequential_16\"\n",
      "_________________________________________________________________\n",
      "Layer (type)                 Output Shape              Param #   \n",
      "=================================================================\n",
      "dense_59 (Dense)             (None, 100)               78500     \n",
      "_________________________________________________________________\n",
      "dense_60 (Dense)             (None, 100)               10100     \n",
      "_________________________________________________________________\n",
      "dense_61 (Dense)             (None, 100)               10100     \n",
      "_________________________________________________________________\n",
      "dense_62 (Dense)             (None, 1)                 101       \n",
      "=================================================================\n",
      "Total params: 98,801\n",
      "Trainable params: 98,801\n",
      "Non-trainable params: 0\n",
      "_________________________________________________________________\n"
     ]
    }
   ],
   "source": [
    "model_overfit.summary()"
   ]
  },
  {
   "cell_type": "code",
   "execution_count": 233,
   "metadata": {},
   "outputs": [],
   "source": [
    "history = model_overfit.fit(X_train, y_train, validation_split=0.3, epochs=100, \n",
    "                    verbose=0, batch_size = 128)"
   ]
  },
  {
   "cell_type": "code",
   "execution_count": 234,
   "metadata": {},
   "outputs": [
    {
     "data": {
      "image/png": "[encoded data removed]",
      "text/plain": [
       "<Figure size 432x288 with 1 Axes>"
      ]
     },
     "metadata": {
      "needs_background": "light"
     },
     "output_type": "display_data"
    }
   ],
   "source": [
    "# plot accuracy and loss for the test set\n",
    "plt.plot(history.history['accuracy'])\n",
    "plt.plot(history.history['val_accuracy'])\n",
    "plt.title('Model accuracy')\n",
    "plt.ylabel('accuracy')\n",
    "plt.xlabel('epoch')\n",
    "plt.legend(['train', 'val'], loc='best')\n",
    "plt.show()"
   ]
  },
  {
   "cell_type": "markdown",
   "metadata": {
    "deletable": false
   },
   "source": [
    "This clearly overfits because the accuracy of the model on the train data is 100%. Furthermore, we would expect that as we increase the number of epochs the accuracy of the model on the test data would improve. However, this is not happening here, indicating that the model is overfit and so increasing epochs will not improve the accuracy on the test data. "
   ]
  },
  {
   "cell_type": "markdown",
   "metadata": {
    "autograde": "3.3",
    "deletable": false,
    "editable": false,
    "test": "Kaggle_name"
   },
   "source": [
    "**3.3** Create an ANN that doesn't overfit and compete on Kaggle.\n",
    "\n",
    "Keep the architecture above as is. In other words, keep the number of layers, number of nodes, activation function,  loss function and output unit the same. You can change the number of epochs (max 2000), batch size, optimizer, and of course, add elements that can help to regularize (e.g., drop out, L2 norm, etc.). You can also do data augmentation.\n",
    "\n",
    "\n",
    "- 3.3.1 Save your model's training accuracy as a variable called `kaggle_train_acc` and make sure it prints in the assert cell provided\n",
    "- 3.3.2 Additionally, display model summary, training and validation accuracy and loss (yes, the training accuracy should be displayed again here).\n",
    "- 3.3.3 Print the difference between training and validation accuracy and loss.\n",
    "- 3.3.4 Plot the training accuracy and validation accuracy as a function of epochs.\n",
    "- 3.3.5 Save the model using `model.save(filename)` and **submit it on canvas along with your notebook**. Code on how to save your model is provided below.\n",
    "- 3.3.6 **Submit your Kaggle name that you have used on the leaderboard. *We can't give you credit without this* . Enter it in the code cell below that starts with ### cs109Test(Kaggle_name) ###.**\n",
    "\n",
    "\n",
    "\n",
    "\n",
    "**RULES:**\n",
    "\n",
    "- **Please do not manually label your submissions.** In other words the labels should be the outcome of your model.\n",
    "\n",
    "- **No CNNs  allowed for this competition.\n",
    "\n",
    "- **No external data are allowed, please only use the x_train_mnist_cs109.csv for training the models.**\n",
    "\n",
    "- Do not create multiple accounts on Kaggle.\n",
    "\n",
    "\n",
    "**Grading:** (all accuracies are in percentages)\n",
    "\n",
    "S1: (Model overfit training accuracy - Model overfit validation accuracy)  => How much are you overfitting 3.2  ?\n",
    "\n",
    "S2: (Good model training accuracy - Good model average on Kaggle)  => How much are you overfitting on kaggle 3.3\n",
    "\n",
    "S3: (min (0, Good model training accuracy - Model overfit training accuracy )) => Your good model accuracy must be higher than model overfit.\n",
    "\n",
    "score = S1 - S2 + S3\n",
    "\n",
    "1. score > 1 : 4pt\n",
    "2. score > 1.5-2.0 : 8pts\n",
    "3. score > 2.0: 12pts\n",
    "4. 3pt extra to the top 10 students\n",
    "\n"
   ]
  },
  {
   "cell_type": "code",
   "execution_count": 235,
   "metadata": {
    "deletable": false
   },
   "outputs": [],
   "source": [
    "# your code here\n",
    "model = tf.keras.models.Sequential([\n",
    "  tf.keras.layers.Dense(100, activation = 'relu', input_shape=(784,)),\n",
    "  tf.keras.layers.Dense(100, activation='relu'),\n",
    "  tf.keras.layers.Dropout(0.2),\n",
    "  tf.keras.layers.Dense(100, activation='relu'),\n",
    "  tf.keras.layers.Dropout(0.2),\n",
    "  tf.keras.layers.Dense(1, activation='sigmoid')\n",
    "])"
   ]
  },
  {
   "cell_type": "code",
   "execution_count": 236,
   "metadata": {},
   "outputs": [],
   "source": [
    "model.compile(optimizer='adam',\n",
    "              loss='binary_crossentropy',\n",
    "              metrics=['accuracy'])"
   ]
  },
  {
   "cell_type": "code",
   "execution_count": 238,
   "metadata": {},
   "outputs": [],
   "source": [
    "history = model.fit(X_train, y_train, validation_split=0.3, epochs=100, \n",
    "                    verbose=0, batch_size = 128)"
   ]
  },
  {
   "cell_type": "code",
   "execution_count": 242,
   "metadata": {},
   "outputs": [],
   "source": [
    "# save the train accuracy\n",
    "train_loss, kaggle_train_acc = model.evaluate(X_train, y_train, verbose=0)"
   ]
  },
  {
   "cell_type": "code",
   "execution_count": 241,
   "metadata": {
    "deletable": false,
    "editable": false,
    "test": "Kaggle_Train_Acc"
   },
   "outputs": [
    {
     "name": "stdout",
     "output_type": "stream",
     "text": [
      "Kaggle Train Accuracy: 0.9737499952316284\n"
     ]
    }
   ],
   "source": [
    "### cs109Test(Kaggle_Train_Acc) ###\n",
    "### Print your Kaggle model's train accuracy\n",
    "assert 'kaggle_train_acc' in globals(), f\"Variable 'kaggle_train_acc' does not exist!\"\n",
    "print('Kaggle Train Accuracy: {}'.format(kaggle_train_acc))"
   ]
  },
  {
   "cell_type": "code",
   "execution_count": 243,
   "metadata": {},
   "outputs": [
    {
     "name": "stdout",
     "output_type": "stream",
     "text": [
      "Model: \"sequential_17\"\n",
      "_________________________________________________________________\n",
      "Layer (type)                 Output Shape              Param #   \n",
      "=================================================================\n",
      "dense_63 (Dense)             (None, 100)               78500     \n",
      "_________________________________________________________________\n",
      "dense_64 (Dense)             (None, 100)               10100     \n",
      "_________________________________________________________________\n",
      "dense_65 (Dense)             (None, 100)               10100     \n",
      "_________________________________________________________________\n",
      "dropout_7 (Dropout)          (None, 100)               0         \n",
      "_________________________________________________________________\n",
      "dense_66 (Dense)             (None, 1)                 101       \n",
      "=================================================================\n",
      "Total params: 98,801\n",
      "Trainable params: 98,801\n",
      "Non-trainable params: 0\n",
      "_________________________________________________________________\n"
     ]
    }
   ],
   "source": [
    "# your code here\n",
    "model.summary()"
   ]
  },
  {
   "cell_type": "code",
   "execution_count": 254,
   "metadata": {},
   "outputs": [
    {
     "data": {
      "text/plain": [
       "78"
      ]
     },
     "execution_count": 254,
     "metadata": {},
     "output_type": "execute_result"
    }
   ],
   "source": [
    "a = history.history['val_accuracy']\n",
    "max(a)\n",
    "a.index(max(a))"
   ]
  },
  {
   "cell_type": "code",
   "execution_count": 255,
   "metadata": {},
   "outputs": [
    {
     "data": {
      "text/plain": [
       "0.9973214"
      ]
     },
     "execution_count": 255,
     "metadata": {},
     "output_type": "execute_result"
    }
   ],
   "source": [
    "history.history['accuracy'][78]"
   ]
  },
  {
   "cell_type": "code",
   "execution_count": 244,
   "metadata": {
    "deletable": false
   },
   "outputs": [
    {
     "data": {
      "text/plain": [
       "<matplotlib.legend.Legend at 0x1a51a55828>"
      ]
     },
     "execution_count": 244,
     "metadata": {},
     "output_type": "execute_result"
    },
    {
     "data": {
      "image/png": "[encoded data removed]",
      "text/plain": [
       "<Figure size 1440x432 with 2 Axes>"
      ]
     },
     "metadata": {
      "needs_background": "light"
     },
     "output_type": "display_data"
    }
   ],
   "source": [
    "# your code here\n",
    "fig, ax = plt.subplots(1,2, figsize=(20,6))\n",
    "\n",
    "ax[0].plot(history.history['accuracy'])\n",
    "ax[0].plot(history.history['val_accuracy'])\n",
    "ax[0].set_title('Model accuracy')\n",
    "ax[0].set_ylabel('accuracy')\n",
    "ax[0].set_xlabel('epoch')\n",
    "ax[0].legend(['train', 'val'], loc='best')\n",
    "\n",
    "ax[1].plot(history.history['loss'])\n",
    "ax[1].plot(history.history['val_loss'])\n",
    "ax[1].set_title('Model loss')\n",
    "ax[1].set_ylabel('loss')\n",
    "ax[1].set_xlabel('epoch')\n",
    "ax[1].legend(['train', 'val'], loc='best')"
   ]
  },
  {
   "cell_type": "code",
   "execution_count": 190,
   "metadata": {
    "deletable": false
   },
   "outputs": [],
   "source": [
    "# your code here\n"
   ]
  },
  {
   "cell_type": "code",
   "execution_count": 191,
   "metadata": {
    "deletable": false,
    "editable": false
   },
   "outputs": [
    {
     "name": "stdout",
     "output_type": "stream",
     "text": [
      "Saved model to disk\n"
     ]
    }
   ],
   "source": [
    "### cs109default ### \n",
    "# serialize model to JSON\n",
    "model_json = model.to_json()\n",
    "with open(\"model.json\", \"w\") as json_file:\n",
    "    json_file.write(model_json)\n",
    "# serialize weights to HDF5\n",
    "model.save_weights(\"model.h5\")\n",
    "print(\"Saved model to disk\")"
   ]
  },
  {
   "cell_type": "markdown",
   "metadata": {
    "deletable": false
   },
   "source": [
    "### cs109test (Kaggle_name) ###\n",
    "\n",
    "**Enter your Kaggle Leaderboard name as a string in the cell below**\n",
    "\n",
    "**(No credit without the name!)**"
   ]
  },
  {
   "cell_type": "code",
   "execution_count": 19,
   "metadata": {
    "deletable": false,
    "test": "Kaggle_name"
   },
   "outputs": [],
   "source": [
    "### cs109Test(Kaggle_name) ###\n",
    "# Enter your Kaggle Leaderboard name exactly as it appears\n",
    "# (No name == no credit!)\n",
    "\n",
    "KAGGLE_NAME = ''"
   ]
  },
  {
   "cell_type": "code",
   "execution_count": 21,
   "metadata": {
    "deletable": false,
    "editable": false
   },
   "outputs": [],
   "source": [
    "### Check that you entered your Kaggle name!\n",
    "assert 'KAGGLE_NAME' in globals(), f\"Variable 'KAGGLE_NAME' does not exist!\"\n",
    "assert KAGGLE_NAME != '', f\"You forgot to enter your KAGGLE_NAME\"\n",
    "print(f'Kaggle Leaderboard Name: {KAGGLE_NAME}')"
   ]
  },
  {
   "cell_type": "markdown",
   "metadata": {
    "deletable": false,
    "editable": false
   },
   "source": [
    "---"
   ]
  },
  {
   "cell_type": "markdown",
   "metadata": {
    "deletable": false,
    "editable": false
   },
   "source": [
    "<div class='exercise'><b> Question 4: Model interpretations </b> </div>\n",
    "\n",
    "In this problem you will be building and interpreting models to predict whether or not a flight was delayed for its arrival based on features that could be measured as the flight takes off.  The included variables are:\n",
    "\n",
    "**ARRIVAL_DELAY**: the difference between scheduled arrival and actual arrival, in minutes (positive is late, negative is early).\n",
    "\n",
    "**DISTANCE**: the distance between arrival and departure airports, in miles.\n",
    "\n",
    "**SCHEDULED_TIME**: the amount of time the flight was scheduled to take.\n",
    "\n",
    "**MONTH**: the month the flight took off, 1 = January, 2 = February, etc.\n",
    "\n",
    "**SCHED_DEP_HOUR**: the scheduled departure time (the hour of the day).\n",
    "\n",
    "**SCHED_ARR_HOUR**: the scheduled arrival time (the hour of the day).\n",
    "\n",
    "**FLIGHT_COUNT**: the number of flights flying out of that airport before noon on a typical day.\n",
    "\n",
    "**DAY_OF_WEEK**: the day of the week, 1 = Monday, 2 = Tuesday, etc.\n",
    "\n",
    "**ORIGIN_AIRPORT**: the airport the flight took off from.\n",
    "\n",
    "**DESTINATION_AIRPORT**: the airport the flight was scheduled to land at.\n",
    "\n",
    "For the airport codes, see: https://www.bts.gov/topics/airlines-and-airports/world-airport-codes\n",
    "\n",
    "This problem steps you through fitting several models (starting simple, tuning a  and building up to complex), evaluate their accuracies, and then interpret the relationships of the predictors in the models via feature importance measures and through plotting their predications.\n",
    "\n",
    "*Note: the observations were stratified sampled so that roughly half of the observations were delayed and half of the observations were not delayed.\n"
   ]
  },
  {
   "cell_type": "markdown",
   "metadata": {
    "deletable": false,
    "editable": false
   },
   "source": [
    "**4.1**  Read in the dataset `flights.csv`. Create a variable `DELAY_OR_NOT` that denotes whether `ARRIVAL_DELAY` is greater than or equal to 15 minutes (the FAA and BTS define a flight as delayed only if it arrives 15 minutes late or more). Turn the following predictors into dummies: `['ORIGIN_AIRPORT','DESTINATION_AIRPORT']`, and then split into train and test (80-20 split) using `train_test_split` with a random state of `109`.  Print out the dimensions of the resulting train and test `flights_train` and `flights_test` data frames.\n",
    "\n",
    "**4.2** Fit two tree based models: one with `max_depth = 20` (call it `tree20`) and one with a `best_depth` that is chosen via 5-fold cross-validation (call it `tree_best`) using all predictors.  Evaluate these two models via AUC on both train and test.  Print out `tree20_train_auc`, `tree20_test_auc`, `tree_best_train_auc`, and `tree_best_test_auc` (make sure they are well-labeled in the print out; see primer below).\n",
    "\n",
    "**4.3** Interpret your tree based models.  Provide a plot with the **relative** variable importance of the 10 most important predictors, `top_predictors` in each of the two models.  Interpret (i) which variables are clearly most important and (ii) compare to each other to describe how the two models differ and/or agree with which variables matter. \n",
    "\n",
    "**4.4** Fit an artifical neural network model (call it `NN_model`) using all predictors.  Use a dense 2-layer feed-forward network (1 input, 1 hidden) with 15 nodes in each layer.  Evaluate the model on both train and test, and print out the resulting `NN_model_train_auc`, `NN_model_train_auc`.\n",
    "\n",
    "**4.5** Fit a classification tree with `max_depth=20` on the predictions from your `NN_model`.  Call it `dec_tree_NN`.  Draw the first 3 layers of the tree and interpret what predictors seem most important in `dec_tree_NN` from the top of this tree.\n",
    "\n",
    "**4.6** Use your `dec_tree_NN` to measure **relative** variable importance in your `NN_model` and provide a plot for the 10 most important predictors.  How do these compare to those from 4.3 and the drawn tree in 4.5?  Discuss in 2-4 sentences.\n",
    "\n",
    "**4.7** Interpret the results of your `NN_model` via plotting predicted probabilities of delay vs. `SCHED_DEP_HOUR` when all the other variables are set to their means/modes.  Interpret what you see in 2-4 sentences."
   ]
  },
  {
   "cell_type": "markdown",
   "metadata": {
    "deletable": false,
    "editable": false
   },
   "source": [
    "## Answers"
   ]
  },
  {
   "cell_type": "markdown",
   "metadata": {
    "autograde": "4.1",
    "deletable": false,
    "editable": false
   },
   "source": [
    "**4.1**  Read in the dataset `flights.csv`. Create a variable `DELAY_OR_NOT` that denotes whether `ARRIVAL_DELAY` is greater than or equal to 15 minutes (the FAA and BTS define a flight as delayed only if it arrives 15 minutes late or more). Turn the following predictors into dummies: `['ORIGIN_AIRPORT','DESTINATION_AIRPORT']`, and then split into train and test (80-20 split) using `train_test_split` with a random state of `109`.  Print out the dimensions of the resulting train and test `flights_train` and `flights_test` data frames.\n"
   ]
  },
  {
   "cell_type": "markdown",
   "metadata": {
    "deletable": false,
    "editable": false
   },
   "source": [
    "</span></div><div class='alert alert-block alert-danger'><b>WARNING!:</b><span style = 'color:black'> Do not delete any of the `### cs109Test() ###` comment lines!</span></div></div>"
   ]
  },
  {
   "cell_type": "code",
   "execution_count": 44,
   "metadata": {
    "deletable": false,
    "test": "test_4.1"
   },
   "outputs": [],
   "source": [
    "### cs109Test (test_4.1) ### \n",
    "# your code here \n"
   ]
  },
  {
   "cell_type": "markdown",
   "metadata": {
    "deletable": false,
    "editable": false
   },
   "source": [
    "</span></div><div class='alert alert-block alert-danger'><b>Note:</b><span style = 'color:black'> Make sure your submission passes all assert statements we've provided in this notebook.</span></div></div>"
   ]
  },
  {
   "cell_type": "code",
   "execution_count": 45,
   "metadata": {
    "deletable": false,
    "editable": false
   },
   "outputs": [],
   "source": [
    "### 4.1 Check that you have the requested variables\n",
    "for var in ['flights_train', 'flights_test']:\n",
    "    assert var in globals(), f\"Variable '{var}' does not exist!\""
   ]
  },
  {
   "cell_type": "markdown",
   "metadata": {
    "autograde": "4.2",
    "deletable": false,
    "editable": false
   },
   "source": [
    "**4.2** Fit two tree based models: one with `max_depth = 20` (call it `tree20`) and one with a `best_depth` that is chosen via 5-fold cross-validation (call it `tree_best`) using all predictors.  Evaluate these two models via AUC on both train and test.  Print out `tree20_train_auc`, `tree20_test_auc`, `tree_best_train_auc`, and `tree_best_test_auc` (make sure they are well-labeled in the print out; see primer below).\n"
   ]
  },
  {
   "cell_type": "markdown",
   "metadata": {
    "deletable": false,
    "editable": false
   },
   "source": [
    "</span></div><div class='alert alert-block alert-danger'><b>WARNING!:</b><span style = 'color:black'> Do not delete any of the `### cs109Test() ###` comment lines!</span></div></div>"
   ]
  },
  {
   "cell_type": "markdown",
   "metadata": {
    "deletable": false,
    "editable": false
   },
   "source": [
    "</span></div><div class='alert alert-block alert-danger'><b>Note:</b><span style = 'color:black'> Make sure your submission passes all assert statements we've provided in this notebook.</span></div></div>"
   ]
  },
  {
   "cell_type": "code",
   "execution_count": 192,
   "metadata": {
    "deletable": false,
    "test": "test_4.2a"
   },
   "outputs": [],
   "source": [
    "### cs109Test (test_4.2a) ### \n",
    "# your code here\n",
    "# end of your code here"
   ]
  },
  {
   "cell_type": "code",
   "execution_count": 193,
   "metadata": {
    "deletable": false,
    "test": "test_4.2b"
   },
   "outputs": [],
   "source": [
    "### cs109Test (test_4.2b) ### \n",
    "# Decision Tree Classifier\n",
    "# your code here \n",
    "# end of your code here\n",
    "### 4.2 Check that you have the requested variables\n",
    "for var in ['tree20', 'tree_best', 'best_depth']:\n",
    "    assert var in globals(), f\"Variable '{var}' does not exist!\""
   ]
  },
  {
   "cell_type": "markdown",
   "metadata": {
    "deletable": false,
    "editable": false
   },
   "source": [
    "</span></div><div class='alert alert-block alert-danger'><b>WARNING!:</b><span style = 'color:black'> Do not delete any of the `### cs109Test() ###` comment lines!</span></div></div>"
   ]
  },
  {
   "cell_type": "code",
   "execution_count": 47,
   "metadata": {
    "deletable": false,
    "test": "test_4.2c"
   },
   "outputs": [],
   "source": [
    "### cs109Test (test_4.2c) ### \n",
    "# primer to print: \n",
    "# print(\"tree20_train_auc:\", roc_auc_score(y_train, y_hat))\n",
    "# your code here \n"
   ]
  },
  {
   "cell_type": "code",
   "execution_count": null,
   "metadata": {
    "deletable": false
   },
   "outputs": [],
   "source": [
    "# your code here  \n"
   ]
  },
  {
   "cell_type": "markdown",
   "metadata": {
    "autograde": "4.3",
    "deletable": false,
    "editable": false
   },
   "source": [
    "**4.3** Interpret your tree based models.  Provide a plot with the **relative** variable importance of the 10 most important predictors, `top_predictors` in each of the two models.  Interpret (i) which variables are clearly most important and (ii) compare to each other to describe how the two models differ and/or agree with which variables matter.\n"
   ]
  },
  {
   "cell_type": "markdown",
   "metadata": {
    "deletable": false,
    "editable": false
   },
   "source": [
    "</span></div><div class='alert alert-block alert-danger'><b>WARNING!:</b><span style = 'color:black'> Do not delete any of the `### cs109Test() ###` comment lines!</span></div></div>"
   ]
  },
  {
   "cell_type": "code",
   "execution_count": 49,
   "metadata": {
    "deletable": false,
    "test": "test_4.3"
   },
   "outputs": [],
   "source": [
    "### cs109Test (test_4.3) ### \n",
    "#feature importance\n",
    "# your code here \n"
   ]
  },
  {
   "cell_type": "markdown",
   "metadata": {
    "deletable": false
   },
   "source": [
    "*Your answer here*"
   ]
  },
  {
   "cell_type": "markdown",
   "metadata": {
    "autograde": "4.4",
    "deletable": false,
    "editable": false
   },
   "source": [
    "**4.4** Fit an artifical neural network model (call it `NN_model`) using all predictors.  Use a dense 2-layer feed-forward network (1 input, 1 hidden) with 15 nodes in each layer.  Evaluate the model on both train and test, and print out the resulting `NN_model_train_auc`, `NN_model_train_auc`.\n"
   ]
  },
  {
   "cell_type": "markdown",
   "metadata": {
    "deletable": false,
    "editable": false
   },
   "source": [
    "</span></div><div class='alert alert-block alert-danger'><b>WARNING!:</b><span style = 'color:black'> Do not delete any of the `### cs109Test() ###` comment lines!</span></div></div>"
   ]
  },
  {
   "cell_type": "code",
   "execution_count": 50,
   "metadata": {
    "deletable": false,
    "test": "test_4.4"
   },
   "outputs": [],
   "source": [
    "### cs109Test (test_4.4) ### \n",
    "# build the NN \n",
    "# your code here\n"
   ]
  },
  {
   "cell_type": "markdown",
   "metadata": {
    "deletable": false,
    "editable": false
   },
   "source": [
    "</span></div><div class='alert alert-block alert-danger'><b>Note:</b><span style = 'color:black'> Make sure your submission passes all assert statements we've provided in this notebook.</span></div></div>"
   ]
  },
  {
   "cell_type": "code",
   "execution_count": null,
   "metadata": {
    "deletable": false,
    "editable": false
   },
   "outputs": [],
   "source": [
    "### 4.4 Check that you have the requested variables\n",
    "for var in ['NN_model']:\n",
    "    assert var in globals(), f\"Variable '{var}' does not exist!\""
   ]
  },
  {
   "cell_type": "code",
   "execution_count": 51,
   "metadata": {
    "deletable": false
   },
   "outputs": [],
   "source": [
    "# compile it and run it\n",
    "# your code here \n"
   ]
  },
  {
   "cell_type": "code",
   "execution_count": 52,
   "metadata": {
    "deletable": false
   },
   "outputs": [],
   "source": [
    "# plot train and val acc as  a function of epochs\n",
    "# your code here\n"
   ]
  },
  {
   "cell_type": "markdown",
   "metadata": {
    "deletable": false,
    "editable": false
   },
   "source": [
    "</span></div><div class='alert alert-block alert-danger'><b>WARNING!:</b><span style = 'color:black'> Do not delete any of the `### cs109Test() ###` comment lines!</span></div></div>"
   ]
  },
  {
   "cell_type": "code",
   "execution_count": 53,
   "metadata": {
    "deletable": false,
    "test": "test_4.4b"
   },
   "outputs": [],
   "source": [
    "### cs109Test (test_4.4b) ### \n",
    "# primer to print: \n",
    "# print(\"NN_model_train_auc:\", roc_auc_score(y_train, y_hat))\n",
    "# your code here \n"
   ]
  },
  {
   "cell_type": "markdown",
   "metadata": {
    "autograde": "4.5",
    "deletable": false,
    "editable": false
   },
   "source": [
    "**4.5** Fit a classification tree with `max_depth=20` on the predictions from your `NN_model`.  Call it `dec_tree_NN`.  Draw the first 3 layers of the tree and interpret what predictors seem most important in `dec_tree_NN` from the top of this tree.\n"
   ]
  },
  {
   "cell_type": "markdown",
   "metadata": {
    "deletable": false,
    "editable": false
   },
   "source": [
    "</span></div><div class='alert alert-block alert-danger'><b>WARNING!:</b><span style = 'color:black'> Do not delete any of the `### cs109Test() ###` comment lines!</span></div></div>"
   ]
  },
  {
   "cell_type": "code",
   "execution_count": 54,
   "metadata": {
    "deletable": false,
    "test": "test_4.5"
   },
   "outputs": [],
   "source": [
    "### cs109Test (test_4.5) ### \n",
    "# your code here\n"
   ]
  },
  {
   "cell_type": "markdown",
   "metadata": {
    "deletable": false,
    "editable": false
   },
   "source": [
    "</span></div><div class='alert alert-block alert-danger'><b>Note:</b><span style = 'color:black'> Make sure your submission passes all assert statements we've provided in this notebook.</span></div></div>"
   ]
  },
  {
   "cell_type": "code",
   "execution_count": 55,
   "metadata": {
    "deletable": false,
    "editable": false
   },
   "outputs": [],
   "source": [
    "### 4.5 Check that you have the requested variables\n",
    "for var in ['dec_tree_NN']:\n",
    "    assert var in globals(), f\"Variable '{var}' does not exist!\""
   ]
  },
  {
   "cell_type": "markdown",
   "metadata": {
    "autograde": "4.6",
    "deletable": false,
    "editable": false
   },
   "source": [
    "**4.6** Use your `dec_tree_NN` to measure **relative** variable importance in your `NN_model` and provide a plot for the 10 most important predictors.  How do these compare to those from 4.3 and the drawn tree in 4.5?  Discuss in 2-4 sentences.\n"
   ]
  },
  {
   "cell_type": "code",
   "execution_count": 189,
   "metadata": {
    "deletable": false
   },
   "outputs": [],
   "source": [
    "# your code here \n"
   ]
  },
  {
   "cell_type": "code",
   "execution_count": 57,
   "metadata": {
    "deletable": false
   },
   "outputs": [],
   "source": [
    "# your code here\n"
   ]
  },
  {
   "cell_type": "markdown",
   "metadata": {
    "autograde": "4.7",
    "deletable": false,
    "editable": false
   },
   "source": [
    "**4.7** Interpret the results of your `NN_model` via plotting predicted probabilities of delay vs. `SCHED_DEP_HOUR` when all the other variables are set to their means/modes.  Interpret what you see in 2-4 sentences."
   ]
  },
  {
   "cell_type": "code",
   "execution_count": 1,
   "metadata": {
    "deletable": false
   },
   "outputs": [],
   "source": [
    "# your code here\n"
   ]
  },
  {
   "cell_type": "markdown",
   "metadata": {
    "deletable": false
   },
   "source": [
    "*Your answer here*"
   ]
  },
  {
   "cell_type": "code",
   "execution_count": null,
   "metadata": {
    "deletable": false,
    "editable": false
   },
   "outputs": [],
   "source": []
  }
 ],
 "metadata": {
  "anaconda-cloud": {},
  "kernelspec": {
   "display_name": "Python 3",
   "language": "python",
   "name": "python3"
  },
  "language_info": {
   "codemirror_mode": {
    "name": "ipython",
    "version": 3
   },
   "file_extension": ".py",
   "mimetype": "text/x-python",
   "name": "python",
   "nbconvert_exporter": "python",
   "pygments_lexer": "ipython3",
   "version": "3.6.9"
  },
  "latex_envs": {
   "bibliofile": "biblio.bib",
   "cite_by": "apalike",
   "current_citInitial": 1,
   "eqLabelWithNumbers": true,
   "eqNumInitial": 0
  }
 },
 "nbformat": 4,
 "nbformat_minor": 1
}
