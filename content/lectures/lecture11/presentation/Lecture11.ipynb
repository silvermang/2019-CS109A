{
 "cells": [
  {
   "cell_type": "markdown",
   "metadata": {},
   "source": [
    "# <img style=\"float: left; padding-right: 10px; width: 45px\" src=\"https://github.com/Harvard-IACS/2018-CS109A/blob/master/content/styles/iacs.png?raw=true\"> CS109A Introduction to Data Science \n",
    "\n",
    "## Lecture 11 (Logistic Regression \\#2)\n",
    "\n",
    "**Harvard University**<br>\n",
    "**Fall 2019**<br>\n",
    "**Instructors:** Pavlos Protopapas, Kevin Rader, and Chris Tanner<br>\n",
    "\n",
    "\n",
    "---"
   ]
  },
  {
   "cell_type": "code",
   "execution_count": 2,
   "metadata": {
    "button": false,
    "new_sheet": false,
    "run_control": {
     "read_only": false
    },
    "scrolled": true,
    "slideshow": {
     "slide_type": "slide"
    }
   },
   "outputs": [],
   "source": [
    "%matplotlib inline\n",
    "import sys\n",
    "import numpy as np\n",
    "import pylab as pl\n",
    "import pandas as pd\n",
    "import statsmodels.api as sm\n",
    "import matplotlib.pyplot as plt\n",
    "import matplotlib\n",
    "import sklearn as sk\n",
    "\n",
    "\n",
    "from sklearn.linear_model import LogisticRegression\n",
    "from sklearn.linear_model import LogisticRegressionCV\n",
    "import sklearn.metrics as met"
   ]
  },
  {
   "cell_type": "code",
   "execution_count": 3,
   "metadata": {
    "button": false,
    "new_sheet": false,
    "run_control": {
     "read_only": false
    }
   },
   "outputs": [
    {
     "data": {
      "text/html": [
       "<div>\n",
       "<style scoped>\n",
       "    .dataframe tbody tr th:only-of-type {\n",
       "        vertical-align: middle;\n",
       "    }\n",
       "\n",
       "    .dataframe tbody tr th {\n",
       "        vertical-align: top;\n",
       "    }\n",
       "\n",
       "    .dataframe thead th {\n",
       "        text-align: right;\n",
       "    }\n",
       "</style>\n",
       "<table border=\"1\" class=\"dataframe\">\n",
       "  <thead>\n",
       "    <tr style=\"text-align: right;\">\n",
       "      <th></th>\n",
       "      <th>Unnamed: 0</th>\n",
       "      <th>Age</th>\n",
       "      <th>Sex</th>\n",
       "      <th>ChestPain</th>\n",
       "      <th>RestBP</th>\n",
       "      <th>Chol</th>\n",
       "      <th>Fbs</th>\n",
       "      <th>RestECG</th>\n",
       "      <th>MaxHR</th>\n",
       "      <th>ExAng</th>\n",
       "      <th>Oldpeak</th>\n",
       "      <th>Slope</th>\n",
       "      <th>Ca</th>\n",
       "      <th>Thal</th>\n",
       "      <th>AHD</th>\n",
       "      <th>Interaction</th>\n",
       "    </tr>\n",
       "  </thead>\n",
       "  <tbody>\n",
       "    <tr>\n",
       "      <th>0</th>\n",
       "      <td>1</td>\n",
       "      <td>63</td>\n",
       "      <td>1</td>\n",
       "      <td>typical</td>\n",
       "      <td>145</td>\n",
       "      <td>233</td>\n",
       "      <td>1</td>\n",
       "      <td>2</td>\n",
       "      <td>150</td>\n",
       "      <td>0</td>\n",
       "      <td>2.3</td>\n",
       "      <td>3</td>\n",
       "      <td>0.0</td>\n",
       "      <td>fixed</td>\n",
       "      <td>0</td>\n",
       "      <td>150</td>\n",
       "    </tr>\n",
       "    <tr>\n",
       "      <th>1</th>\n",
       "      <td>2</td>\n",
       "      <td>67</td>\n",
       "      <td>1</td>\n",
       "      <td>asymptomatic</td>\n",
       "      <td>160</td>\n",
       "      <td>286</td>\n",
       "      <td>0</td>\n",
       "      <td>2</td>\n",
       "      <td>108</td>\n",
       "      <td>1</td>\n",
       "      <td>1.5</td>\n",
       "      <td>2</td>\n",
       "      <td>3.0</td>\n",
       "      <td>normal</td>\n",
       "      <td>1</td>\n",
       "      <td>108</td>\n",
       "    </tr>\n",
       "    <tr>\n",
       "      <th>2</th>\n",
       "      <td>3</td>\n",
       "      <td>67</td>\n",
       "      <td>1</td>\n",
       "      <td>asymptomatic</td>\n",
       "      <td>120</td>\n",
       "      <td>229</td>\n",
       "      <td>0</td>\n",
       "      <td>2</td>\n",
       "      <td>129</td>\n",
       "      <td>1</td>\n",
       "      <td>2.6</td>\n",
       "      <td>2</td>\n",
       "      <td>2.0</td>\n",
       "      <td>reversable</td>\n",
       "      <td>1</td>\n",
       "      <td>129</td>\n",
       "    </tr>\n",
       "    <tr>\n",
       "      <th>3</th>\n",
       "      <td>4</td>\n",
       "      <td>37</td>\n",
       "      <td>1</td>\n",
       "      <td>nonanginal</td>\n",
       "      <td>130</td>\n",
       "      <td>250</td>\n",
       "      <td>0</td>\n",
       "      <td>0</td>\n",
       "      <td>187</td>\n",
       "      <td>0</td>\n",
       "      <td>3.5</td>\n",
       "      <td>3</td>\n",
       "      <td>0.0</td>\n",
       "      <td>normal</td>\n",
       "      <td>0</td>\n",
       "      <td>187</td>\n",
       "    </tr>\n",
       "    <tr>\n",
       "      <th>4</th>\n",
       "      <td>5</td>\n",
       "      <td>41</td>\n",
       "      <td>0</td>\n",
       "      <td>nontypical</td>\n",
       "      <td>130</td>\n",
       "      <td>204</td>\n",
       "      <td>0</td>\n",
       "      <td>2</td>\n",
       "      <td>172</td>\n",
       "      <td>0</td>\n",
       "      <td>1.4</td>\n",
       "      <td>1</td>\n",
       "      <td>0.0</td>\n",
       "      <td>normal</td>\n",
       "      <td>0</td>\n",
       "      <td>0</td>\n",
       "    </tr>\n",
       "  </tbody>\n",
       "</table>\n",
       "</div>"
      ],
      "text/plain": [
       "   Unnamed: 0  Age  Sex     ChestPain  RestBP  Chol  Fbs  RestECG  MaxHR  \\\n",
       "0           1   63    1       typical     145   233    1        2    150   \n",
       "1           2   67    1  asymptomatic     160   286    0        2    108   \n",
       "2           3   67    1  asymptomatic     120   229    0        2    129   \n",
       "3           4   37    1    nonanginal     130   250    0        0    187   \n",
       "4           5   41    0    nontypical     130   204    0        2    172   \n",
       "\n",
       "   ExAng  Oldpeak  Slope   Ca        Thal  AHD  Interaction  \n",
       "0      0      2.3      3  0.0       fixed    0          150  \n",
       "1      1      1.5      2  3.0      normal    1          108  \n",
       "2      1      2.6      2  2.0  reversable    1          129  \n",
       "3      0      3.5      3  0.0      normal    0          187  \n",
       "4      0      1.4      1  0.0      normal    0            0  "
      ]
     },
     "execution_count": 3,
     "metadata": {},
     "output_type": "execute_result"
    }
   ],
   "source": [
    "df_heart = pd.read_csv('../data/Heart.csv')\n",
    "\n",
    "df_heart['AHD'] = 1*(df_heart['AHD'] == \"Yes\")\n",
    "df_heart['Interaction'] = df_heart['MaxHR']*df_heart['Sex']\n",
    "\n",
    "df_heart.head()\n"
   ]
  },
  {
   "cell_type": "code",
   "execution_count": 4,
   "metadata": {
    "button": false,
    "new_sheet": false,
    "run_control": {
     "read_only": false
    }
   },
   "outputs": [
    {
     "data": {
      "image/png": "[encoded data removed]",
      "text/plain": [
       "<Figure size 432x288 with 1 Axes>"
      ]
     },
     "metadata": {
      "needs_background": "light"
     },
     "output_type": "display_data"
    }
   ],
   "source": [
    "plt.plot(df_heart.MaxHR, df_heart.AHD, 'o', alpha=0.4)\n",
    "plt.ylim(-0.1,1.1)\n",
    "plt.show()"
   ]
  },
  {
   "cell_type": "markdown",
   "metadata": {
    "button": false,
    "new_sheet": false,
    "run_control": {
     "read_only": false
    },
    "slideshow": {
     "slide_type": "-"
    }
   },
   "source": [
    "## Regularization in Logistic Regression"
   ]
  },
  {
   "cell_type": "code",
   "execution_count": 5,
   "metadata": {
    "button": false,
    "new_sheet": false,
    "run_control": {
     "read_only": false
    }
   },
   "outputs": [
    {
     "data": {
      "image/png": "[encoded data removed]",
      "text/plain": [
       "<Figure size 432x288 with 1 Axes>"
      ]
     },
     "metadata": {
      "needs_background": "light"
     },
     "output_type": "display_data"
    }
   ],
   "source": [
    "beta1_l1 = []\n",
    "beta1_l2 = []\n",
    "Cs = []\n",
    "\n",
    "data_x = df_heart[['MaxHR','Sex','Interaction']]\n",
    "data_y = df_heart['AHD']\n",
    "\n",
    "for i in range(1, 50):\n",
    "    C = i/10\n",
    "    logitm_l1 = LogisticRegression(C = C, penalty = \"l1\", solver='liblinear',max_iter=200)\n",
    "    logitm_l1.fit (data_x, data_y)\n",
    "    logitm_l2 = LogisticRegression(C = C, penalty = \"l2\", solver='lbfgs')\n",
    "    logitm_l2.fit (data_x, data_y)\n",
    "    beta1_l1.append(logitm_l1.coef_[0])\n",
    "    beta1_l2.append(logitm_l2.coef_[0])\n",
    "    Cs.append(C)\n",
    "\n",
    "plt.plot(np.array(Cs), beta1_l1,  color='black', lw=3)\n",
    "plt.plot(np.array(Cs), beta1_l2,  color='blue', lw=3)\n",
    "plt.xlabel (\"lambda = C\")\n",
    "plt.ylabel(\"beta1\")\n",
    "plt.show()\n"
   ]
  },
  {
   "cell_type": "markdown",
   "metadata": {
    "button": false,
    "new_sheet": false,
    "run_control": {
     "read_only": false
    }
   },
   "source": [
    "## Multi-Class Logistic Regression (Multinomial)"
   ]
  },
  {
   "cell_type": "code",
   "execution_count": 6,
   "metadata": {
    "button": false,
    "new_sheet": false,
    "run_control": {
     "read_only": false
    }
   },
   "outputs": [
    {
     "name": "stdout",
     "output_type": "stream",
     "text": [
      "[2 2 2 0 2 0 2 0 2 2 0 2 2 0 0 0 0 0 0 0 2 2 2 2 2 0 0 0 0 2 0 0 0 0 0 0 2\n",
      " 2 0 0 2 0 0 0 2 2 0 2 2 2 0 0 2 2 0 2 0 2 2 2 0 2 2 0 0 2 2 2 2 0 0 0 0 2\n",
      " 2 2 2 2 2 2 2 2 2 2 0 2 2 2 2 2 2 2 0 0 2 0 2 2 0 2 2 2 2 2 0 0 0 2 0 0 2\n",
      " 2 2 2 0 0 2 0 2 2 2 2 0 0 2 2 2 0 0 0 2 0 2 2 0 2 0 2 0 2 0 2 0 0 2 0 2 0\n",
      " 2 0 0 2 2 2 2 2 0 2 2 0 0 2 0 2 0 0 0 2 2 0 0 2 0 2 2 0 0 2 0 2 2 2 2 2 2\n",
      " 0 0 0 2 2 0 0 2 0 2 2 2 2 0 2 2 0 0 0 0 2 2 2 0 0 0 0 2 0 0 2 0 2 0 2 2 2\n",
      " 0 0 0 0 0 0 2 2 2 1 2 2 0 2 2 2 0 0 0 0 0 0 0 0 0 2 0 2 0 0 0 2 0 0 0 1 2\n",
      " 0 0 2 0 0 2 0 0 0 0 0 2 2 0 0 0 2 2 0 2 0 0 0 1 0 0 1 2 0 2 0 2 0 0 2 0 0\n",
      " 2 0 0 0 0 2 0]\n"
     ]
    },
    {
     "data": {
      "image/png": "[encoded data removed]",
      "text/plain": [
       "<Figure size 432x288 with 1 Axes>"
      ]
     },
     "metadata": {
      "needs_background": "light"
     },
     "output_type": "display_data"
    }
   ],
   "source": [
    "# Response for Multinomial Logistic Regression Example\n",
    "\n",
    "print(df_heart.RestECG.values)\n",
    "plt.hist(df_heart.RestECG.values)\n",
    "plt.show()"
   ]
  },
  {
   "cell_type": "code",
   "execution_count": 7,
   "metadata": {
    "button": false,
    "new_sheet": false,
    "run_control": {
     "read_only": false
    }
   },
   "outputs": [
    {
     "name": "stdout",
     "output_type": "stream",
     "text": [
      "Estimated beta1: \n",
      " [[-0.04003728]\n",
      " [-1.87833213]\n",
      " [ 0.1445807 ]]\n",
      "Estimated beta0: \n",
      " [ 0.02061932 -3.44468483 -0.14458062]\n"
     ]
    }
   ],
   "source": [
    "# 'Multinomial' Logistic Regression Example\n",
    "\n",
    "data_x = df_heart[['Sex']]\n",
    "\n",
    "# 0 = normal; 1 = having ST-T; 2 = hypertrophy\n",
    "data_y = df_heart['RestECG']\n",
    "\n",
    "logitm = LogisticRegression(C = 10000000,solver='lbfgs',multi_class='ovr')\n",
    "logitm.fit(data_x, data_y)\n",
    "\n",
    "# The coefficients\n",
    "print('Estimated beta1: \\n', logitm.coef_)\n",
    "print('Estimated beta0: \\n', logitm.intercept_)\n",
    "\n"
   ]
  },
  {
   "cell_type": "code",
   "execution_count": 8,
   "metadata": {},
   "outputs": [
    {
     "name": "stdout",
     "output_type": "stream",
     "text": [
      "Estimated beta1: \n",
      " [[ 0.57896717]\n",
      " [-1.25284168]\n",
      " [ 0.67387452]]\n",
      "Estimated beta0: \n",
      " [ 0.95944398 -1.83373675  0.87429277]\n"
     ]
    }
   ],
   "source": [
    "logitm2 = LogisticRegression(C = 10000000,solver='lbfgs',multi_class='multinomial')\n",
    "logitm2.fit (data_x, data_y)\n",
    "\n",
    "# The coefficients\n",
    "print('Estimated beta1: \\n', logitm2.coef_)\n",
    "print('Estimated beta0: \\n', logitm2.intercept_)"
   ]
  },
  {
   "cell_type": "code",
   "execution_count": 10,
   "metadata": {
    "button": false,
    "new_sheet": false,
    "run_control": {
     "read_only": false
    }
   },
   "outputs": [
    {
     "name": "stdout",
     "output_type": "stream",
     "text": [
      "Estimated beta1: \n",
      " [[ 4.25808787e-01  1.07602095e-02 -2.95771639e-03]\n",
      " [-9.13968825e+00 -6.82088644e-02  5.38609369e-02]\n",
      " [ 5.16334353e-01 -4.34882213e-03 -2.63344224e-03]]\n",
      "Estimated beta0: \n",
      " [-1.60699206  5.89048174  0.5211584 ]\n"
     ]
    }
   ],
   "source": [
    "logitm3 = LogisticRegression(C = 10000000,solver='lbfgs',multi_class='ovr')\n",
    "logitm3.fit(df_heart[['Sex','MaxHR','Interaction']], df_heart['RestECG'])\n",
    "# The coefficients\n",
    "print('Estimated beta1: \\n', logitm3.coef_)\n",
    "print('Estimated beta0: \\n', logitm3.intercept_)"
   ]
  },
  {
   "cell_type": "code",
   "execution_count": 11,
   "metadata": {},
   "outputs": [
    {
     "name": "stdout",
     "output_type": "stream",
     "text": [
      "For OVR Logistic Regression:\n",
      "[[0.5051546  0.03092776 0.46391764]\n",
      " [0.49514565 0.00485434 0.50000001]]\n",
      "[0 2]\n",
      "For Multinomial Logistic Regression:\n",
      "[[0.50515267 0.03092856 0.46391877]\n",
      " [0.49514568 0.00485429 0.50000003]]\n",
      "[0 2]\n"
     ]
    }
   ],
   "source": [
    "X=np.arange(0,2)\n",
    "print(\"For OVR Logistic Regression:\")\n",
    "print(logitm.predict_proba(X.reshape(-1,1)))\n",
    "print(logitm.predict(X.reshape(-1,1)))\n",
    "\n",
    "print(\"For Multinomial Logistic Regression:\")\n",
    "print(logitm2.predict_proba(X.reshape(-1,1)))\n",
    "print(logitm2.predict(X.reshape(-1,1)))"
   ]
  },
  {
   "cell_type": "markdown",
   "metadata": {},
   "source": [
    "## Confusion Matrices and ROC Curves"
   ]
  },
  {
   "cell_type": "code",
   "execution_count": 15,
   "metadata": {
    "button": false,
    "new_sheet": false,
    "run_control": {
     "read_only": false
    }
   },
   "outputs": [
    {
     "name": "stdout",
     "output_type": "stream",
     "text": [
      "Estimated beta1: \n",
      " [[ 5.41531038 -0.02659031 -0.02707268]]\n",
      "Estimated beta0: \n",
      " [2.90174056]\n"
     ]
    }
   ],
   "source": [
    "logitm.fit(df_heart[['Sex','MaxHR','Interaction']], df_heart['AHD']);\n",
    "\n",
    "# The coefficients\n",
    "print('Estimated beta1: \\n', logitm.coef_)\n",
    "print('Estimated beta0: \\n', logitm.intercept_)"
   ]
  },
  {
   "cell_type": "code",
   "execution_count": 16,
   "metadata": {
    "button": false,
    "new_sheet": false,
    "run_control": {
     "read_only": false
    }
   },
   "outputs": [
    {
     "name": "stdout",
     "output_type": "stream",
     "text": [
      "The average predicted probability is 0.45873169682440607\n",
      "The confusion matrix when cut-off is 0.5: \n",
      " [[132  32]\n",
      " [ 56  83]]\n",
      "The confusion matrix when cut-off is 0.45873169682440607 \n",
      " [[122  42]\n",
      " [ 47  92]]\n",
      "The confusion matrix when cut-off is 0.75: \n",
      " [[156   8]\n",
      " [ 89  50]]\n"
     ]
    }
   ],
   "source": [
    "#calculating confusion matrices\n",
    "\n",
    "yhat = logitm.predict_proba(df_heart[['Sex','MaxHR','Interaction']])[:,1]\n",
    "\n",
    "print('The average predicted probability is',np.mean(yhat))\n",
    "\n",
    "print('The confusion matrix when cut-off is 0.5: \\n',met.confusion_matrix(df_heart['AHD'], yhat>0.5))\n",
    "print('The confusion matrix when cut-off is',np.mean(yhat),'\\n',met.confusion_matrix(df_heart['AHD'], yhat>np.mean(yhat)))\n",
    "print('The confusion matrix when cut-off is 0.75: \\n',met.confusion_matrix(df_heart['AHD'], yhat>0.72))"
   ]
  },
  {
   "cell_type": "code",
   "execution_count": 17,
   "metadata": {
    "button": false,
    "new_sheet": false,
    "run_control": {
     "read_only": false
    }
   },
   "outputs": [
    {
     "data": {
      "image/png": "[encoded data removed]",
      "text/plain": [
       "<Figure size 432x288 with 1 Axes>"
      ]
     },
     "metadata": {
      "needs_background": "light"
     },
     "output_type": "display_data"
    }
   ],
   "source": [
    "#ROC curve on the train set\n",
    "\n",
    "fpr, tpr, thresholds = met.roc_curve(df_heart['AHD'], yhat)\n",
    "\n",
    "x=np.arange(0,100)/100\n",
    "plt.plot(x,x,'--',color=\"gray\",alpha=0.3)\n",
    "plt.plot(fpr,tpr)\n",
    "plt.ylabel(\"True Positive Rate\")\n",
    "plt.xlabel(\"False Positive Rate\")\n",
    "plt.title(\"ROC Curve for Predicting AHD in a Logistic Regression Model\")\n",
    "plt.show()"
   ]
  },
  {
   "cell_type": "markdown",
   "metadata": {
    "button": false,
    "collapsed": true,
    "new_sheet": false,
    "run_control": {
     "read_only": false
    }
   },
   "source": [
    "## Regularization Example"
   ]
  },
  {
   "cell_type": "code",
   "execution_count": 19,
   "metadata": {
    "button": false,
    "new_sheet": false,
    "run_control": {
     "read_only": false
    }
   },
   "outputs": [
    {
     "data": {
      "text/html": [
       "<div>\n",
       "<style scoped>\n",
       "    .dataframe tbody tr th:only-of-type {\n",
       "        vertical-align: middle;\n",
       "    }\n",
       "\n",
       "    .dataframe tbody tr th {\n",
       "        vertical-align: top;\n",
       "    }\n",
       "\n",
       "    .dataframe thead th {\n",
       "        text-align: right;\n",
       "    }\n",
       "</style>\n",
       "<table border=\"1\" class=\"dataframe\">\n",
       "  <thead>\n",
       "    <tr style=\"text-align: right;\">\n",
       "      <th></th>\n",
       "      <th>y</th>\n",
       "      <th>x1</th>\n",
       "      <th>x2</th>\n",
       "    </tr>\n",
       "  </thead>\n",
       "  <tbody>\n",
       "    <tr>\n",
       "      <th>0</th>\n",
       "      <td>0</td>\n",
       "      <td>0.720904</td>\n",
       "      <td>0.209351</td>\n",
       "    </tr>\n",
       "    <tr>\n",
       "      <th>1</th>\n",
       "      <td>0</td>\n",
       "      <td>0.875773</td>\n",
       "      <td>0.766238</td>\n",
       "    </tr>\n",
       "    <tr>\n",
       "      <th>2</th>\n",
       "      <td>0</td>\n",
       "      <td>0.760982</td>\n",
       "      <td>0.841616</td>\n",
       "    </tr>\n",
       "    <tr>\n",
       "      <th>3</th>\n",
       "      <td>0</td>\n",
       "      <td>0.886125</td>\n",
       "      <td>0.934126</td>\n",
       "    </tr>\n",
       "    <tr>\n",
       "      <th>4</th>\n",
       "      <td>0</td>\n",
       "      <td>0.456481</td>\n",
       "      <td>0.675824</td>\n",
       "    </tr>\n",
       "  </tbody>\n",
       "</table>\n",
       "</div>"
      ],
      "text/plain": [
       "   y        x1        x2\n",
       "0  0  0.720904  0.209351\n",
       "1  0  0.875773  0.766238\n",
       "2  0  0.760982  0.841616\n",
       "3  0  0.886125  0.934126\n",
       "4  0  0.456481  0.675824"
      ]
     },
     "execution_count": 19,
     "metadata": {},
     "output_type": "execute_result"
    }
   ],
   "source": [
    "df_toy2 = pd.read_csv('../data/toy_example2.csv')\n",
    "df_toy2.head()"
   ]
  },
  {
   "cell_type": "code",
   "execution_count": null,
   "metadata": {
    "button": false,
    "new_sheet": false,
    "run_control": {
     "read_only": false
    }
   },
   "outputs": [],
   "source": []
  },
  {
   "cell_type": "code",
   "execution_count": 20,
   "metadata": {},
   "outputs": [
    {
     "name": "stdout",
     "output_type": "stream",
     "text": [
      "Estimated beta1: \n",
      " [[ -4.42580954 -13.20694654]]\n",
      "Estimated beta0: \n",
      " [6.91475982]\n"
     ]
    }
   ],
   "source": [
    "\n",
    "from sklearn.linear_model import LogisticRegression\n",
    "\n",
    "\n",
    "logreg = LogisticRegression(C=100000,solver='lbfgs')\n",
    "logreg.fit(df_toy2[['x1','x2']], df_toy2['y'])\n",
    "\n",
    "beta = logreg.coef_\n",
    "beta0 = logreg.intercept_\n",
    "\n",
    "print('Estimated beta1: \\n', beta)\n",
    "print('Estimated beta0: \\n', beta0)\n",
    "\n"
   ]
  },
  {
   "cell_type": "code",
   "execution_count": 21,
   "metadata": {},
   "outputs": [
    {
     "data": {
      "image/png": "[encoded data removed]",
      "text/plain": [
       "<Figure size 432x288 with 1 Axes>"
      ]
     },
     "metadata": {
      "needs_background": "light"
     },
     "output_type": "display_data"
    }
   ],
   "source": [
    "\n",
    "\n",
    "plt.scatter(df_toy2['x1'][df_toy2['y']==0],df_toy2['x2'][df_toy2['y']==0])\n",
    "plt.scatter(df_toy2['x1'][df_toy2['y']==1],df_toy2['x2'][df_toy2['y']==1])\n",
    "\n",
    "dummy_x1 = np.arange(0,1,0.01)\n",
    "dummy_x2 = (beta[0,0]*dummy_x1+beta0)/-beta[0,1]\n",
    "\n",
    "plt.plot(dummy_x1,dummy_x2,'--',c=\"black\",lw=5)\n",
    "plt.show()"
   ]
  },
  {
   "cell_type": "code",
   "execution_count": 22,
   "metadata": {
    "scrolled": false
   },
   "outputs": [
    {
     "data": {
      "text/plain": [
       "array([[   2.04932587,   26.2296449 ,  -23.83568896,  -94.58930599,\n",
       "          -0.48134937,   97.15554017,  123.138271  ,  -89.40229182,\n",
       "         104.30320286, -164.77784583,   -5.51722745,   13.16055954,\n",
       "         -29.62675233,  -37.65887958,  -44.09906201,  -75.42136708,\n",
       "          36.62284499,   -9.98473025, -102.41234466,  -30.16735688,\n",
       "          87.46343962,  -43.22021406,   51.86483621,   -5.95298612,\n",
       "         -50.63460316,  -80.51940294,    1.8584568 ,  113.25323031,\n",
       "          20.20967889,   52.99120771,    3.53907827,  -14.73486039,\n",
       "         -27.18073929,  -45.49157781,   10.56271352,   64.46502985,\n",
       "          56.16361331,   24.88199554,   13.23160506,   18.30406954,\n",
       "          15.1446611 ,   -4.18356542,  -28.17938362,   -0.5598653 ,\n",
       "          -8.44592497,   38.89699926,  -34.24175115,   16.01037332,\n",
       "          50.12183582,   52.53100918,   31.75651221,    1.3004076 ,\n",
       "         -26.71969736,  -18.76660228,  -73.99202947,  -33.20863572,\n",
       "        -116.53231621,   10.94244378,   79.15889595,   87.92344622,\n",
       "          63.80164569,   28.61027946,   -5.7101365 ,  -32.62039787,\n",
       "         -35.38729548, -119.8364598 ]])"
      ]
     },
     "execution_count": 22,
     "metadata": {},
     "output_type": "execute_result"
    }
   ],
   "source": [
    "X = df_toy2[['x1','x2']]\n",
    "\n",
    "logreg2 = LogisticRegression(C=100000,solver='liblinear')\n",
    "poly = sk.preprocessing.PolynomialFeatures(10)\n",
    "X_poly = poly.fit_transform(X)\n",
    "\n",
    "\n",
    "logreg2.fit(X_poly, df_toy2['y'])\n",
    "\n",
    "logreg2.coef_"
   ]
  },
  {
   "cell_type": "code",
   "execution_count": 23,
   "metadata": {},
   "outputs": [],
   "source": [
    "dummy_x1 = np.arange(0,1.001,0.001)\n",
    "\n",
    "def find_boundary(dummy_x, model, poly):\n",
    "   \n",
    "    yhat = []\n",
    "    \n",
    "    for x_i in dummy_x:\n",
    "        dummy_x1 = np.repeat(x_i,dummy_x.size)\n",
    "        df_X = pd.DataFrame(np.array([dummy_x1,dummy_x]).transpose())\n",
    "        df_X2 = poly.fit_transform(df_X)\n",
    "        yhat.append(dummy_x[np.sum(model.predict(df_X2))])\n",
    "      \n",
    "    return yhat\n",
    "\n",
    "                    \n",
    "dummy_x2 = find_boundary(dummy_x1, logreg2, poly)\n"
   ]
  },
  {
   "cell_type": "code",
   "execution_count": 24,
   "metadata": {},
   "outputs": [
    {
     "data": {
      "image/png": "[encoded data removed]",
      "text/plain": [
       "<Figure size 432x288 with 1 Axes>"
      ]
     },
     "metadata": {
      "needs_background": "light"
     },
     "output_type": "display_data"
    }
   ],
   "source": [
    "plt.scatter(df_toy2['x1'][df_toy2['y']==0],df_toy2['x2'][df_toy2['y']==0])\n",
    "plt.scatter(df_toy2['x1'][df_toy2['y']==1],df_toy2['x2'][df_toy2['y']==1])\n",
    "\n",
    "plt.plot(dummy_x1,dummy_x2,'--',c=\"black\",lw=3)\n",
    "plt.show()"
   ]
  },
  {
   "cell_type": "code",
   "execution_count": 25,
   "metadata": {},
   "outputs": [],
   "source": [
    "Cs = 10.0**np.arange(-5,5)\n",
    "\n",
    "logregCV = LogisticRegressionCV(Cs = Cs,cv=5,solver='liblinear',penalty='l1')\n",
    "\n",
    "logregCV.fit(X_poly, df_toy2['y']);"
   ]
  },
  {
   "cell_type": "code",
   "execution_count": 26,
   "metadata": {},
   "outputs": [
    {
     "name": "stdout",
     "output_type": "stream",
     "text": [
      "[[  1.19414709  14.53527782  -1.1816746  -28.03009481   1.88293697\n",
      "   -9.34631851   0.         -36.56170077   0.          -6.66025918\n",
      "    3.48735302   0.         -18.46648769  -1.18312318   0.\n",
      "   11.03200456  10.17370847   0.           0.           0.\n",
      "    0.           6.38647771  21.38223111   0.           0.\n",
      "    0.           0.           0.           0.           4.31490995\n",
      "    0.           0.           0.           0.           0.\n",
      "    0.           0.           0.           3.49035948   0.\n",
      "    0.           0.           0.           0.           0.\n",
      "    0.           0.           0.67725876   0.           0.\n",
      "    0.           0.           0.           0.           0.\n",
      "   -5.10338379   0.           0.          23.19005253   0.\n",
      "    0.           0.           0.           0.           0.\n",
      "    0.        ]]\n"
     ]
    }
   ],
   "source": [
    "print(logregCV.coef_)\n",
    "#print(logregCV.scores_)\n",
    "#print(logregCV.coefs_paths_)"
   ]
  },
  {
   "cell_type": "code",
   "execution_count": 27,
   "metadata": {},
   "outputs": [],
   "source": [
    "dummy_x2 = (beta[0,0]*dummy_x1+beta0)/-beta[0,1]\n",
    "dummy_x2poly = find_boundary(dummy_x1, logreg2, poly)\n",
    "dummy_x2CV = find_boundary(dummy_x1, logregCV, poly)"
   ]
  },
  {
   "cell_type": "code",
   "execution_count": 28,
   "metadata": {},
   "outputs": [
    {
     "data": {
      "image/png": "[encoded data removed]",
      "text/plain": [
       "<Figure size 432x288 with 1 Axes>"
      ]
     },
     "metadata": {
      "needs_background": "light"
     },
     "output_type": "display_data"
    }
   ],
   "source": [
    "plt.scatter(df_toy2['x1'][df_toy2['y']==0],df_toy2['x2'][df_toy2['y']==0])\n",
    "plt.scatter(df_toy2['x1'][df_toy2['y']==1],df_toy2['x2'][df_toy2['y']==1])\n",
    "\n",
    "plt.plot(dummy_x1,dummy_x2,c=\"black\",lw=3)\n",
    "plt.plot(dummy_x1,dummy_x2poly,'--',c=\"red\",lw=3)\n",
    "plt.plot(dummy_x1,dummy_x2CV,'-.',c=\"purple\",lw=3)\n",
    "plt.legend(['logit','poly(10) logit','regularized','y=0','y=1'])\n",
    "plt.rcParams[\"figure.figsize\"] = [10,6]\n",
    "plt.show()"
   ]
  },
  {
   "cell_type": "code",
   "execution_count": null,
   "metadata": {},
   "outputs": [],
   "source": []
  }
 ],
 "metadata": {
  "anaconda-cloud": {},
  "celltoolbar": "Slideshow",
  "kernelspec": {
   "display_name": "Python 3",
   "language": "python",
   "name": "python3"
  },
  "language_info": {
   "codemirror_mode": {
    "name": "ipython",
    "version": 3
   },
   "file_extension": ".py",
   "mimetype": "text/x-python",
   "name": "python",
   "nbconvert_exporter": "python",
   "pygments_lexer": "ipython3",
   "version": "3.7.3"
  }
 },
 "nbformat": 4,
 "nbformat_minor": 1
}
