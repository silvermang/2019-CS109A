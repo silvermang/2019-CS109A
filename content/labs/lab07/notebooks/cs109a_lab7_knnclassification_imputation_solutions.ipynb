{
 "cells": [
  {
   "cell_type": "markdown",
   "metadata": {
    "button": false,
    "hide": true,
    "new_sheet": false,
    "run_control": {
     "read_only": false
    }
   },
   "source": [
    "# <img style=\"float: left; padding-right: 10px; width: 45px\" src=\"https://raw.githubusercontent.com/Harvard-IACS/2018-CS109A/master/content/styles/iacs.png\"> CS-109A Introduction to Data Science\n",
    "\n",
    "\n",
    "## Lab 7: $k$-NN Classification and Imputation\n",
    "\n",
    "**Harvard University**<br>\n",
    "**Fall 2019**<br>\n",
    "**Instructors:** Pavlos Protopapas, Kevin Rader, Chris Tanner<br>\n",
    "**Lab Instructors:** Chris Tanner and Eleni Kaxiras.  <br>\n",
    "**Contributors:** Kevin Rader\n",
    "\n",
    "---"
   ]
  },
  {
   "cell_type": "code",
   "execution_count": 1,
   "metadata": {
    "button": false,
    "new_sheet": false,
    "run_control": {
     "read_only": false
    }
   },
   "outputs": [
    {
     "data": {
      "text/html": [
       "<style>\n",
       "blockquote { background: #AEDE94; }\n",
       "h1 { \n",
       "    padding-top: 25px;\n",
       "    padding-bottom: 25px;\n",
       "    text-align: left; \n",
       "    padding-left: 10px;\n",
       "    background-color: #DDDDDD; \n",
       "    color: black;\n",
       "}\n",
       "h2 { \n",
       "    padding-top: 10px;\n",
       "    padding-bottom: 10px;\n",
       "    text-align: left; \n",
       "    padding-left: 5px;\n",
       "    background-color: #EEEEEE; \n",
       "    color: black;\n",
       "}\n",
       "\n",
       "div.exercise {\n",
       "\tbackground-color: #ffcccc;\n",
       "\tborder-color: #E9967A; \t\n",
       "\tborder-left: 5px solid #800080; \n",
       "\tpadding: 0.5em;\n",
       "}\n",
       "\n",
       "span.sub-q {\n",
       "\tfont-weight: bold;\n",
       "}\n",
       "div.theme {\n",
       "\tbackground-color: #DDDDDD;\n",
       "\tborder-color: #E9967A; \t\n",
       "\tborder-left: 5px solid #800080; \n",
       "\tpadding: 0.5em;\n",
       "\tfont-size: 18pt;\n",
       "}\n",
       "div.gc { \n",
       "\tbackground-color: #AEDE94;\n",
       "\tborder-color: #E9967A; \t \n",
       "\tborder-left: 5px solid #800080; \n",
       "\tpadding: 0.5em;\n",
       "\tfont-size: 12pt;\n",
       "}\n",
       "p.q1 { \n",
       "    padding-top: 5px;\n",
       "    padding-bottom: 5px;\n",
       "    text-align: left; \n",
       "    padding-left: 5px;\n",
       "    background-color: #EEEEEE; \n",
       "    color: black;\n",
       "}\n",
       "header {\n",
       "   padding-top: 35px;\n",
       "    padding-bottom: 35px;\n",
       "    text-align: left; \n",
       "    padding-left: 10px;\n",
       "    background-color: #DDDDDD; \n",
       "    color: black;\n",
       "}\n",
       "</style>\n",
       "\n"
      ],
      "text/plain": [
       "<IPython.core.display.HTML object>"
      ]
     },
     "execution_count": 1,
     "metadata": {},
     "output_type": "execute_result"
    }
   ],
   "source": [
    "## RUN THIS CELL TO PROPERLY HIGHLIGHT THE EXERCISES\n",
    "import requests\n",
    "from IPython.core.display import HTML\n",
    "styles = requests.get(\"https://raw.githubusercontent.com/Harvard-IACS/2018-CS109A/master/content/styles/cs109.css\").text\n",
    "HTML(styles)"
   ]
  },
  {
   "cell_type": "markdown",
   "metadata": {
    "button": false,
    "new_sheet": false,
    "run_control": {
     "read_only": false
    }
   },
   "source": [
    "## Learning Goals \n",
    "In this lab, we'll explore classification models to predict the health status of survey respondents and be able to build a classification decision boundary to predict the resultsing unbalanced classes.\n",
    "\n",
    "By the end of this lab, you should:\n",
    "- Be familiar with the `sklearn` implementations of\n",
    " - $k$-NN Regression\n",
    " - ROC curves and classification metrics\n",
    "- Be able to optimize some loss function based on misclassification rates\n",
    "- Be able to impute for missing values\n",
    "- Be comfortable in the different approaches in handling missingness"
   ]
  },
  {
   "cell_type": "code",
   "execution_count": 2,
   "metadata": {
    "button": false,
    "hide": true,
    "new_sheet": false,
    "run_control": {
     "read_only": false
    }
   },
   "outputs": [
    {
     "name": "stderr",
     "output_type": "stream",
     "text": [
      "//anaconda3/lib/python3.7/_collections_abc.py:841: MatplotlibDeprecationWarning: \n",
      "The examples.directory rcparam was deprecated in Matplotlib 3.0 and will be removed in 3.2. In the future, examples will be found relative to the 'datapath' directory.\n",
      "  self[key] = other[key]\n",
      "//anaconda3/lib/python3.7/_collections_abc.py:841: MatplotlibDeprecationWarning: \n",
      "The savefig.frameon rcparam was deprecated in Matplotlib 3.1 and will be removed in 3.3.\n",
      "  self[key] = other[key]\n",
      "//anaconda3/lib/python3.7/_collections_abc.py:841: MatplotlibDeprecationWarning: \n",
      "The text.latex.unicode rcparam was deprecated in Matplotlib 3.0 and will be removed in 3.2.\n",
      "  self[key] = other[key]\n",
      "//anaconda3/lib/python3.7/_collections_abc.py:841: MatplotlibDeprecationWarning: \n",
      "The verbose.fileo rcparam was deprecated in Matplotlib 3.1 and will be removed in 3.3.\n",
      "  self[key] = other[key]\n",
      "//anaconda3/lib/python3.7/_collections_abc.py:841: MatplotlibDeprecationWarning: \n",
      "The verbose.level rcparam was deprecated in Matplotlib 3.1 and will be removed in 3.3.\n",
      "  self[key] = other[key]\n",
      "//anaconda3/lib/python3.7/site-packages/seaborn/apionly.py:9: UserWarning: As seaborn no longer sets a default style on import, the seaborn.apionly module is deprecated. It will be removed in a future version.\n",
      "  warnings.warn(msg, UserWarning)\n"
     ]
    }
   ],
   "source": [
    "import numpy as np\n",
    "import pandas as pd\n",
    "import matplotlib\n",
    "import matplotlib.pyplot as plt\n",
    "import statsmodels.api as sm\n",
    "from statsmodels.api import OLS\n",
    "import sklearn as sk\n",
    "from sklearn.decomposition import PCA\n",
    "from sklearn.linear_model import LogisticRegression\n",
    "from sklearn.linear_model import LogisticRegressionCV\n",
    "from sklearn.utils import resample\n",
    "from sklearn.model_selection import cross_val_score\n",
    "from sklearn.metrics import accuracy_score\n",
    "# %matplotlib inline\n",
    "import seaborn.apionly as sns"
   ]
  },
  {
   "cell_type": "markdown",
   "metadata": {
    "button": false,
    "new_sheet": false,
    "run_control": {
     "read_only": false
    }
   },
   "source": [
    "## Part 1:  General Social Survey Data + EDA\n",
    "\n",
    "The dataset contains a subset of data from the General Social Survey (GSS) that is a bi-annual survey of roughly 2000 Americans.  We will be using a small subset of the approx 4000 questions they ask.  Specifically we'll use:  \n",
    "\n",
    "- **id:** respondant's unique ID\n",
    "- **health:** self-reported health level with 4 categories: poor, fair, good, excellent\n",
    "- **partyid:** political party affiliation with categories dem, rep, or other\n",
    "- **age:** age in years\n",
    "- **sex:** male or female\n",
    "- **sexornt:** sexual orientation with categories hetero, gay, or bisexual/other\n",
    "- **educ:** number of years of formal education (capped at 20 years)\n",
    "- **marital:** marital status with categories married, never married, and no longer married\n",
    "- **race:** with categories black, white, and other\n",
    "- **income:** in thousands of dollars\n",
    "\n",
    "Our goal is to predict whether or not someone is in **poor health** based on the other measures.\n",
    "\n",
    "For this task, we will exercise our normal data science pipeline -- from EDA to modeling and visualization. In particular, we will show the performance of 2 classifiers:\n",
    "\n",
    "- Logistic Regression\n",
    "- $k$-NN Regression\n",
    "\n",
    "So without further ado..."
   ]
  },
  {
   "cell_type": "markdown",
   "metadata": {
    "button": false,
    "new_sheet": false,
    "run_control": {
     "read_only": false
    }
   },
   "source": [
    "### EDA"
   ]
  },
  {
   "cell_type": "markdown",
   "metadata": {
    "button": false,
    "new_sheet": false,
    "run_control": {
     "read_only": false
    }
   },
   "source": [
    "Do the following basic EDA (always good ideas):\n",
    "1. Determine the dimensions of the data set.\n",
    "2. Get a glimpse of the data set.\n",
    "3. Calculate basic summary/descriptive statistics of the variables.\n",
    "\n",
    "We also ask that you do the following:\n",
    "4. Create a binary called `poorhealth`.  \n",
    "5. Explore the distribution of the responses, `health` and `poorhealth`, \n",
    "6. Explore what variables may be related to whether or not some is of poor health.  "
   ]
  },
  {
   "cell_type": "code",
   "execution_count": 5,
   "metadata": {
    "button": false,
    "new_sheet": false,
    "run_control": {
     "read_only": false
    }
   },
   "outputs": [
    {
     "name": "stdout",
     "output_type": "stream",
     "text": [
      "The dimensions of the data set are: 1569 observations and 10 variables.\n"
     ]
    },
    {
     "data": {
      "text/html": [
       "<div>\n",
       "<style scoped>\n",
       "    .dataframe tbody tr th:only-of-type {\n",
       "        vertical-align: middle;\n",
       "    }\n",
       "\n",
       "    .dataframe tbody tr th {\n",
       "        vertical-align: top;\n",
       "    }\n",
       "\n",
       "    .dataframe thead th {\n",
       "        text-align: right;\n",
       "    }\n",
       "</style>\n",
       "<table border=\"1\" class=\"dataframe\">\n",
       "  <thead>\n",
       "    <tr style=\"text-align: right;\">\n",
       "      <th></th>\n",
       "      <th>id</th>\n",
       "      <th>health</th>\n",
       "      <th>partyid</th>\n",
       "      <th>age</th>\n",
       "      <th>sex</th>\n",
       "      <th>sexornt</th>\n",
       "      <th>educ</th>\n",
       "      <th>marital</th>\n",
       "      <th>race</th>\n",
       "      <th>income</th>\n",
       "    </tr>\n",
       "  </thead>\n",
       "  <tbody>\n",
       "    <tr>\n",
       "      <th>0</th>\n",
       "      <td>1</td>\n",
       "      <td>good</td>\n",
       "      <td>rep</td>\n",
       "      <td>43.0</td>\n",
       "      <td>male</td>\n",
       "      <td>bisexual/other</td>\n",
       "      <td>14.0</td>\n",
       "      <td>never married</td>\n",
       "      <td>white</td>\n",
       "      <td>NaN</td>\n",
       "    </tr>\n",
       "    <tr>\n",
       "      <th>1</th>\n",
       "      <td>2</td>\n",
       "      <td>excellent</td>\n",
       "      <td>dem</td>\n",
       "      <td>74.0</td>\n",
       "      <td>female</td>\n",
       "      <td>hetero</td>\n",
       "      <td>10.0</td>\n",
       "      <td>no longer married</td>\n",
       "      <td>white</td>\n",
       "      <td>NaN</td>\n",
       "    </tr>\n",
       "    <tr>\n",
       "      <th>2</th>\n",
       "      <td>5</td>\n",
       "      <td>excellent</td>\n",
       "      <td>rep</td>\n",
       "      <td>71.0</td>\n",
       "      <td>male</td>\n",
       "      <td>hetero</td>\n",
       "      <td>18.0</td>\n",
       "      <td>no longer married</td>\n",
       "      <td>black</td>\n",
       "      <td>NaN</td>\n",
       "    </tr>\n",
       "    <tr>\n",
       "      <th>3</th>\n",
       "      <td>6</td>\n",
       "      <td>good</td>\n",
       "      <td>dem</td>\n",
       "      <td>67.0</td>\n",
       "      <td>female</td>\n",
       "      <td>bisexual/other</td>\n",
       "      <td>16.0</td>\n",
       "      <td>no longer married</td>\n",
       "      <td>white</td>\n",
       "      <td>NaN</td>\n",
       "    </tr>\n",
       "    <tr>\n",
       "      <th>4</th>\n",
       "      <td>7</td>\n",
       "      <td>good</td>\n",
       "      <td>dem</td>\n",
       "      <td>59.0</td>\n",
       "      <td>female</td>\n",
       "      <td>bisexual/other</td>\n",
       "      <td>13.0</td>\n",
       "      <td>no longer married</td>\n",
       "      <td>black</td>\n",
       "      <td>18.75</td>\n",
       "    </tr>\n",
       "  </tbody>\n",
       "</table>\n",
       "</div>"
      ],
      "text/plain": [
       "   id     health partyid   age     sex         sexornt  educ  \\\n",
       "0   1       good     rep  43.0    male  bisexual/other  14.0   \n",
       "1   2  excellent     dem  74.0  female          hetero  10.0   \n",
       "2   5  excellent     rep  71.0    male          hetero  18.0   \n",
       "3   6       good     dem  67.0  female  bisexual/other  16.0   \n",
       "4   7       good     dem  59.0  female  bisexual/other  13.0   \n",
       "\n",
       "             marital   race  income  \n",
       "0      never married  white     NaN  \n",
       "1  no longer married  white     NaN  \n",
       "2  no longer married  black     NaN  \n",
       "3  no longer married  white     NaN  \n",
       "4  no longer married  black   18.75  "
      ]
     },
     "execution_count": 5,
     "metadata": {},
     "output_type": "execute_result"
    }
   ],
   "source": [
    "gssdata = pd.read_csv(\"../data/gsshealth18.csv\")\n",
    "\n",
    "#####\n",
    "# You code here: EDA\n",
    "# 1. Determine the dimensions of the data set.\n",
    "# 2. Get a glimpse of the data set.\n",
    "####\n",
    "\n",
    "print(\"The dimensions of the data set are:\", gssdata.shape[0], \"observations and\", gssdata.shape[1], \"variables.\" )\n",
    "gssdata.head()\n"
   ]
  },
  {
   "cell_type": "code",
   "execution_count": 6,
   "metadata": {},
   "outputs": [
    {
     "name": "stdout",
     "output_type": "stream",
     "text": [
      "good         771\n",
      "excellent    359\n",
      "fair         355\n",
      "poor          84\n",
      "Name: health, dtype: int64\n",
      "dem      708\n",
      "rep      514\n",
      "other    347\n",
      "Name: partyid, dtype: int64\n",
      "female    872\n",
      "male      697\n",
      "Name: sex, dtype: int64\n",
      "bisexual/other    907\n",
      "hetero            640\n",
      "gay                22\n",
      "Name: sexornt, dtype: int64\n",
      "married              655\n",
      "never married        458\n",
      "no longer married    454\n",
      "Name: marital, dtype: int64\n",
      "white    1137\n",
      "black     259\n",
      "other     173\n",
      "Name: race, dtype: int64\n"
     ]
    }
   ],
   "source": [
    "# 3. Calculate basic summary/descriptive statistics of the variables.\n",
    "gssdata.describe()\n",
    "\n",
    "\n",
    "print(gssdata['health'].value_counts())\n",
    "print(gssdata['partyid'].value_counts())\n",
    "print(gssdata['sex'].value_counts())\n",
    "print(gssdata['sexornt'].value_counts())\n",
    "print(gssdata['marital'].value_counts())\n",
    "print(gssdata['race'].value_counts())"
   ]
  },
  {
   "cell_type": "code",
   "execution_count": 7,
   "metadata": {
    "button": false,
    "new_sheet": false,
    "run_control": {
     "read_only": false
    }
   },
   "outputs": [
    {
     "data": {
      "text/plain": [
       "0.05353728489483748"
      ]
     },
     "execution_count": 7,
     "metadata": {},
     "output_type": "execute_result"
    }
   ],
   "source": [
    "#####\n",
    "# You code here: EDA\n",
    "# 4. Create a binary called `poorhealth`.  \n",
    "# 5. Explore the distribution of the responses, `health` and `poorhealth`, \n",
    "# 6. Explore what variables may be related to whether or not some is of poor health.\n",
    "####\n",
    "\n",
    "gssdata['poorhealth']=1*(gssdata['health']=='poor')\n",
    "gssdata['poorhealth'].mean()"
   ]
  },
  {
   "cell_type": "markdown",
   "metadata": {
    "button": false,
    "new_sheet": false,
    "run_control": {
     "read_only": false
    }
   },
   "source": [
    "**Question**: What classification accuracy could you achieve if you simply predicted `poorhealth` without a model?  What classification accuracy would you get if you were to predict the multi-class `health` variable? Is accuracy the correct metric?"
   ]
  },
  {
   "cell_type": "markdown",
   "metadata": {
    "button": false,
    "new_sheet": false,
    "run_control": {
     "read_only": false
    }
   },
   "source": [
    "**Solution**: Poor health is a quite rare health status: only 5.35\\% of respondents said they were in poor health.  If we predicted all persons to be in better than poo health, our naive classifier would have $1-0.0535 = 0.9465 = 94.65\\%$ accuracy.  Acuracy is almost certainly not the ideal metric to use here: we'd be better off looking at false positive and false negative rate instead (it is more important to correctly classify those in poor health than those in better than poor health)."
   ]
  },
  {
   "cell_type": "markdown",
   "metadata": {
    "button": false,
    "new_sheet": false,
    "run_control": {
     "read_only": false
    }
   },
   "source": [
    "### Data Cleaning - Basic Handling of Missingness"
   ]
  },
  {
   "cell_type": "markdown",
   "metadata": {
    "button": false,
    "new_sheet": false,
    "run_control": {
     "read_only": false
    }
   },
   "source": [
    "Let's begin by fitting an unregularized logistic regression model to predict poor health based on all the other predictors in the model and three $k$-NN models with $k=5,10,20$.\n",
    "\n",
    "First we need to do a small amount of data clean-up.  \n",
    "1. Determine the amount of missingness in each variable.  If there is *a lot*, we will drop the variable from the predictor set (not quite yet).  If there is a little, we will impute.\n",
    "2. Drop any variables with lots of missingnes (in a new data set).\n",
    "3. Do simple imputations for variables with a little bit of missingness.\n",
    "4. Create dummies for categorical predictors.\n"
   ]
  },
  {
   "cell_type": "code",
   "execution_count": 8,
   "metadata": {
    "button": false,
    "new_sheet": false,
    "run_control": {
     "read_only": false
    }
   },
   "outputs": [
    {
     "data": {
      "text/plain": [
       "id              0\n",
       "health          0\n",
       "partyid         0\n",
       "age             2\n",
       "sex             0\n",
       "sexornt         0\n",
       "educ            2\n",
       "marital         2\n",
       "race            0\n",
       "income        661\n",
       "poorhealth      0\n",
       "dtype: int64"
      ]
     },
     "execution_count": 8,
     "metadata": {},
     "output_type": "execute_result"
    }
   ],
   "source": [
    "#########\n",
    "# 1. Determine the amount of missingness in each variable. \n",
    "# Use isna() in combination with .sum()\n",
    "########\n",
    "\n",
    "# Your code here\n",
    "\n",
    "gssdata.isna().sum()"
   ]
  },
  {
   "cell_type": "code",
   "execution_count": 9,
   "metadata": {
    "button": false,
    "new_sheet": false,
    "run_control": {
     "read_only": false
    }
   },
   "outputs": [
    {
     "name": "stderr",
     "output_type": "stream",
     "text": [
      "//anaconda3/lib/python3.7/site-packages/ipykernel_launcher.py:14: SettingWithCopyWarning: \n",
      "A value is trying to be set on a copy of a slice from a DataFrame.\n",
      "Try using .loc[row_indexer,col_indexer] = value instead\n",
      "\n",
      "See the caveats in the documentation: http://pandas.pydata.org/pandas-docs/stable/indexing.html#indexing-view-versus-copy\n",
      "  \n"
     ]
    },
    {
     "data": {
      "text/plain": [
       "age                          2\n",
       "educ                         2\n",
       "female                       0\n",
       "marital_never married        0\n",
       "marital_no longer married    0\n",
       "race_other                   0\n",
       "race_white                   0\n",
       "sexornt_gay                  0\n",
       "sexornt_hetero               0\n",
       "partyid_other                0\n",
       "partyid_rep                  0\n",
       "dtype: int64"
      ]
     },
     "execution_count": 9,
     "metadata": {},
     "output_type": "execute_result"
    }
   ],
   "source": [
    "#######\n",
    "# And then build your predictor set\n",
    "# 2. Drop any variables with lots of missingnes (in a new data set).\n",
    "# 3. Do simple imputations for variables with a little bit of missingness.\n",
    "# 4. Create dummies for categorical predictors.\n",
    "#########\n",
    "\n",
    "# get the predictors without a ton of missingness \n",
    "# (income was not included since it had so much missingness)\n",
    "X = gssdata[['partyid','age','sex','sexornt','educ','marital','race']]\n",
    "\n",
    "#create dummies (lots of ways to do it, two ways will be in the solutions\n",
    "# create dummies 2 different ways\n",
    "X['female'] = 1*(gssdata['sex']==\"female\")\n",
    "dummies = pd.get_dummies(X[['marital','race','sexornt','partyid']],drop_first=True)\n",
    "\n",
    "# add the dummies in via the join command.\n",
    "X = X.join(dummies)\n",
    "\n",
    "# let's drop the redundat variables no longer needed since we created the dummies\n",
    "X = X.drop(['partyid','sex','sexornt','marital','race'],axis=1)\n",
    "\n",
    "# now check the 'nulls'\n",
    "X.isna().sum()"
   ]
  },
  {
   "cell_type": "code",
   "execution_count": 10,
   "metadata": {},
   "outputs": [],
   "source": [
    "# handle missingness in age and education\n",
    "# missingness in marital was handled with get_dummies\n",
    "\n",
    "# impute the median age\n",
    "X['age']=X['age'].fillna(X['age'].median())\n",
    "\n",
    "# impute the most common education: having a HS degree (13 years)\n",
    "# see histogram for justification\n",
    "X['educ']=X['educ'].fillna(13)"
   ]
  },
  {
   "cell_type": "code",
   "execution_count": 11,
   "metadata": {},
   "outputs": [
    {
     "data": {
      "image/png": "[encoded data removed]",
      "text/plain": [
       "<Figure size 432x288 with 1 Axes>"
      ]
     },
     "metadata": {
      "needs_background": "light"
     },
     "output_type": "display_data"
    }
   ],
   "source": [
    "plt.hist(X['educ']);"
   ]
  },
  {
   "cell_type": "code",
   "execution_count": 12,
   "metadata": {},
   "outputs": [
    {
     "name": "stdout",
     "output_type": "stream",
     "text": [
      "25      50.0\n",
      "1478    65.0\n",
      "Name: age, dtype: float64\n",
      "529     24.0\n",
      "1546    75.0\n",
      "Name: age, dtype: float64\n"
     ]
    }
   ],
   "source": [
    "# we checked these to see if there were any patterns in the missingness.  \n",
    "# Nothing really showed up.\n",
    "print(gssdata['age'][pd.isna(gssdata['marital'])])\n",
    "print(gssdata['age'][pd.isna(gssdata['educ'])])"
   ]
  },
  {
   "cell_type": "code",
   "execution_count": 13,
   "metadata": {
    "button": false,
    "new_sheet": false,
    "run_control": {
     "read_only": false
    }
   },
   "outputs": [
    {
     "data": {
      "text/plain": [
       "age                          0\n",
       "educ                         0\n",
       "female                       0\n",
       "marital_never married        0\n",
       "marital_no longer married    0\n",
       "race_other                   0\n",
       "race_white                   0\n",
       "sexornt_gay                  0\n",
       "sexornt_hetero               0\n",
       "partyid_other                0\n",
       "partyid_rep                  0\n",
       "dtype: int64"
      ]
     },
     "execution_count": 13,
     "metadata": {},
     "output_type": "execute_result"
    }
   ],
   "source": [
    "# Just to make sure missingness is gone\n",
    "X.isna().sum()"
   ]
  },
  {
   "cell_type": "markdown",
   "metadata": {
    "button": false,
    "new_sheet": false,
    "run_control": {
     "read_only": false
    }
   },
   "source": [
    "## Part 2:  Fit Basic Models\n",
    "\n",
    "In this section we ask you to:\n",
    "\n",
    "1. Split the data into 70-30 train-test splits (use the code provided...should have been done before EDA :( )\n",
    "2. Fit an unregularize logistic regression model to predict `poorhealth` from all predictors except income.\n",
    "    \n",
    "    2b. If you have time: use 'LogisticRegressionCV' to find a well-tuned L2 regularized model.\n",
    "    \n",
    "    \n",
    "3. Fit $k$-NN classification models with $k=1,15,25$ to predict `poorhealth` from all predictors except income.\n",
    "4. Report classification accuracy on both train and test set for all models."
   ]
  },
  {
   "cell_type": "code",
   "execution_count": 32,
   "metadata": {
    "button": false,
    "new_sheet": false,
    "run_control": {
     "read_only": false
    }
   },
   "outputs": [],
   "source": [
    "#######\n",
    "# Use the following train_test_split code to: \n",
    "# 1. Split the data into 70-30 train-test splits\n",
    "#######\n",
    "from sklearn.model_selection import train_test_split\n",
    "itrain, itest = train_test_split(range(gssdata.shape[0]), train_size=0.70)\n",
    "\n",
    "# Note: the train-test split above is for the INDICES for splitting in case we \n",
    "# want to use them again in the future...we can have an identical split\n",
    "X_train = X.loc[itrain]\n",
    "X_test = X.loc[itest]\n",
    "\n",
    "y_train = gssdata['poorhealth'][itrain]\n",
    "y_test = gssdata['poorhealth'][itest]"
   ]
  },
  {
   "cell_type": "code",
   "execution_count": 33,
   "metadata": {
    "button": false,
    "new_sheet": false,
    "run_control": {
     "read_only": false
    }
   },
   "outputs": [
    {
     "name": "stderr",
     "output_type": "stream",
     "text": [
      "//anaconda3/lib/python3.7/site-packages/sklearn/linear_model/logistic.py:432: FutureWarning: Default solver will be changed to 'lbfgs' in 0.22. Specify a solver to silence this warning.\n",
      "  FutureWarning)\n"
     ]
    },
    {
     "data": {
      "image/png": "[encoded data removed]",
      "text/plain": [
       "<Figure size 432x288 with 1 Axes>"
      ]
     },
     "metadata": {
      "needs_background": "light"
     },
     "output_type": "display_data"
    }
   ],
   "source": [
    "######\n",
    "# 2. Fit an unregularize logistic regression model to predict `poorhealth` \n",
    "#    from all predictors except income.\n",
    "# 2b. If you have time: use 'LogisticRegressionCV' to find a well-tuned L2 regularized model.\n",
    "# 3. Fit $k$-NN classification models with k=1,15,25 to predict `poorhealth` \n",
    "#    from all predictors except income.\n",
    "######\n",
    "\n",
    "from sklearn.neighbors import KNeighborsClassifier\n",
    "\n",
    "# unregularized Logistic Regression\n",
    "logit = sk.linear_model.LogisticRegression(C=100000)\n",
    "logit.fit(X_train,y_train)\n",
    "\n",
    "# k-NN for k=1, 15, and 25\n",
    "knn1 = KNeighborsClassifier(1)\n",
    "knn1.fit(X_train,y_train)\n",
    "\n",
    "knn15 = KNeighborsClassifier(15)\n",
    "knn15.fit(X_train,y_train)\n",
    "\n",
    "knn25 = KNeighborsClassifier(25)\n",
    "knn25.fit(X_train,y_train)\n",
    "\n",
    "logit.predict_proba(X_train)[:,1],\n",
    "\n",
    "#visualize the predictions via boxplots\n",
    "plt.boxplot([logit.predict_proba(X_train)[:,1],knn1.predict_proba(X_train)[:,1],\n",
    "             knn15.predict_proba(X_train)[:,1],knn25.predict_proba(X_train)[:,1]])\n",
    "plt.legend([\"1=logistic\",\"2=knn1\",\"3=knn15\",\"4=knn25\"]);"
   ]
  },
  {
   "cell_type": "code",
   "execution_count": 34,
   "metadata": {
    "button": false,
    "new_sheet": false,
    "run_control": {
     "read_only": false
    }
   },
   "outputs": [
    {
     "name": "stdout",
     "output_type": "stream",
     "text": [
      "Classification accuracy for logistic were: \n",
      " Train = 0.9489981785063752 , Test = 0.9341825902335457\n",
      "Classification accuracy for knn1 were: \n",
      " Train = 1.0 , Test = 0.9065817409766455\n",
      "Classification accuracy for knn15 were: \n",
      " Train = 0.9499089253187614 , Test = 0.9384288747346072\n",
      "Classification accuracy for knn25 were: \n",
      " Train = 0.9499089253187614 , Test = 0.9384288747346072\n"
     ]
    }
   ],
   "source": [
    "######\n",
    "# 4. Report classification accuracy on both train and test set for all models.\n",
    "######\n",
    "\n",
    "print(\"Classification accuracy for logistic were: \\n Train =\",\n",
    "    logit.score(X_train,y_train),\", Test =\", logit.score(X_test,y_test))\n",
    "print(\"Classification accuracy for knn1 were: \\n Train =\",\n",
    "    knn1.score(X_train,y_train),\", Test =\", knn1.score(X_test,y_test))\n",
    "print(\"Classification accuracy for knn15 were: \\n Train =\",\n",
    "    knn15.score(X_train,y_train),\", Test =\", knn15.score(X_test,y_test))\n",
    "print(\"Classification accuracy for knn25 were: \\n Train =\",\n",
    "    knn25.score(X_train,y_train),\", Test =\", knn25.score(X_test,y_test))\n",
    "\n",
    "# Note the severe overfitting of knn1, while the others are identical!"
   ]
  },
  {
   "cell_type": "markdown",
   "metadata": {
    "button": false,
    "new_sheet": false,
    "run_control": {
     "read_only": false
    }
   },
   "source": [
    "## Part 3: Evaluate Models via Confusion matrices and ROC Curves\n",
    "\n",
    "In this part we ask that you:\n",
    "1. Plot the histograms of predicted probabilities for your favorite model from above\n",
    "2. Create the confusion matrices for (a) the default threshold for classification and (b) a well-chosen threshold for classification to balance errors more equally.\n",
    "3. Make ROC curves to evaluate a model's overall useability.\n",
    "4. Use the ROC curves to select a threshold to balance the two types of errors."
   ]
  },
  {
   "cell_type": "markdown",
   "metadata": {
    "button": false,
    "new_sheet": false,
    "run_control": {
     "read_only": false
    }
   },
   "source": [
    "As a reminder of Confustion Matrices:\n",
    "- the samples that are +ive and the classifier predicts as +ive are called True Positives (TP)\n",
    "- the samples that are -ive and the classifier predicts (wrongly) as +ive are called False Positives (FP)\n",
    "- the samples that are -ive and the classifier predicts as -ive are called True Negatives (TN)\n",
    "- the samples that are +ive and the classifier predicts as -ive are called False Negatives (FN)\n",
    "\n",
    "A classifier produces a confusion matrix which looks like this:\n",
    "\n",
    "![confusionmatrix](confusionmatrix_360.png)\n",
    "\n",
    "\n",
    "IMPORTANT NOTE: In sklearn, to obtain the confusion matrix in the form above, always have the observed `y` first, i.e.: use as `confusion_matrix(y_true, y_pred)`\n",
    "\n"
   ]
  },
  {
   "cell_type": "code",
   "execution_count": 35,
   "metadata": {
    "button": false,
    "new_sheet": false,
    "run_control": {
     "read_only": false
    }
   },
   "outputs": [
    {
     "data": {
      "image/png": "[encoded data removed]",
      "text/plain": [
       "<Figure size 432x288 with 1 Axes>"
      ]
     },
     "metadata": {
      "needs_background": "light"
     },
     "output_type": "display_data"
    }
   ],
   "source": [
    "#####\n",
    "# 1. Plot the histograms of predicted probabilities on test for your favorite \n",
    "#    model from above\n",
    "#####\n",
    "\n",
    "# We plot them for the logistic and knn15\n",
    "plt.hist(knn15.predict_proba(X_test)[:,1])\n",
    "plt.hist(logit.predict_proba(X_test)[:,1],alpha=0.7);\n",
    "\n",
    "# Note this illustrates the fact that neither model predicted proabilities above 0.5 \n",
    "# and thus all prediced classification were 0 by default.. It also shows that knn15 \n",
    "# predictions are in increments of 1/15, while the logistic has predicted probabilties\n",
    "# in a more 'continuous' like range of values."
   ]
  },
  {
   "cell_type": "code",
   "execution_count": 36,
   "metadata": {
    "button": false,
    "new_sheet": false,
    "run_control": {
     "read_only": false
    }
   },
   "outputs": [
    {
     "name": "stdout",
     "output_type": "stream",
     "text": [
      "[[442   0]\n",
      " [ 29   0]]\n",
      "[[439   3]\n",
      " [ 28   1]]\n",
      "[[225 217]\n",
      " [ 12  17]]\n"
     ]
    }
   ],
   "source": [
    "#####\n",
    "#  2. Create the confusion matrices for (a) the default threshold for classification and \n",
    "#     (b) a well-chosen threshold for classification to balance errors more equally.\n",
    "#####\n",
    "\n",
    "from sklearn.metrics import confusion_matrix\n",
    "\n",
    "# this function may help to manually make confusion table from a different threshold\n",
    "def t_repredict(est, t, xtest):\n",
    "    probs = est.predict_proba(xtest)\n",
    "    p0 = probs[:,0]\n",
    "    p1 = probs[:,1]\n",
    "    ypred = (p1 > t)*1\n",
    "    return ypred\n",
    "\n",
    "# Using the logistic model throughout:\n",
    "\n",
    "# Re-calculating the default confusion matrix\n",
    "print(confusion_matrix(y_test,t_repredict(knn15,0.5,X_test)))\n",
    "\n",
    "#And then looking at smaller threshold values: 0.32 and 0.06\n",
    "print(confusion_matrix(y_test,t_repredict(knn15,0.32,X_test)))\n",
    "print(confusion_matrix(y_test,t_repredict(knn15,0.06,X_test)))\n"
   ]
  },
  {
   "cell_type": "code",
   "execution_count": 37,
   "metadata": {
    "button": false,
    "new_sheet": false,
    "run_control": {
     "read_only": false
    }
   },
   "outputs": [
    {
     "data": {
      "image/png": "[encoded data removed]",
      "text/plain": [
       "<Figure size 432x288 with 1 Axes>"
      ]
     },
     "metadata": {
      "needs_background": "light"
     },
     "output_type": "display_data"
    }
   ],
   "source": [
    "#####\n",
    "# 3. Make ROC curves to evaluate a model's overall useability.\n",
    "#####\n",
    "\n",
    "from sklearn.metrics import roc_curve, auc\n",
    "\n",
    "# a function to make 'pretty' ROC curves for this model\n",
    "def make_roc(name, clf, ytest, xtest, ax=None, labe=5, proba=True, skip=0):\n",
    "    initial=False\n",
    "    if not ax:\n",
    "        ax=plt.gca()\n",
    "        initial=True\n",
    "    if proba:#for stuff like logistic regression\n",
    "        fpr, tpr, thresholds=roc_curve(ytest, clf.predict_proba(xtest)[:,1])\n",
    "    else:#for stuff like SVM\n",
    "        fpr, tpr, thresholds=roc_curve(ytest, clf.decision_function(xtest))\n",
    "    roc_auc = auc(fpr, tpr)\n",
    "    if skip:\n",
    "        l=fpr.shape[0]\n",
    "        ax.plot(fpr[0:l:skip], tpr[0:l:skip], '.-', alpha=0.3, label='ROC curve for %s (area = %0.2f)' % (name, roc_auc))\n",
    "    else:\n",
    "        ax.plot(fpr, tpr, '.-', alpha=0.3, label='ROC curve for %s (area = %0.2f)' % (name, roc_auc))\n",
    "    label_kwargs = {}\n",
    "    label_kwargs['bbox'] = dict(\n",
    "        boxstyle='round,pad=0.3', alpha=0.2,\n",
    "    )\n",
    "    if labe!=None:\n",
    "        for k in range(0, fpr.shape[0],labe):\n",
    "            #from https://gist.github.com/podshumok/c1d1c9394335d86255b8\n",
    "            threshold = str(np.round(thresholds[k], 2))\n",
    "            ax.annotate(threshold, (fpr[k], tpr[k]), **label_kwargs)\n",
    "    if initial:\n",
    "        ax.plot([0, 1], [0, 1], 'k--')\n",
    "        ax.set_xlim([0.0, 1.0])\n",
    "        ax.set_ylim([0.0, 1.05])\n",
    "        ax.set_xlabel('False Positive Rate')\n",
    "        ax.set_ylabel('True Positive Rate')\n",
    "        ax.set_title('ROC')\n",
    "    ax.legend(loc=\"lower right\")\n",
    "    return ax\n",
    "\n",
    "\n",
    "sns.set_context(\"poster\")\n",
    "make_roc(\"Logistic\", logit, y_test, X_test, ax=None, labe=20, proba=True, skip=1);\n",
    "    "
   ]
  },
  {
   "cell_type": "markdown",
   "metadata": {
    "button": false,
    "new_sheet": false,
    "run_control": {
     "read_only": false
    }
   },
   "source": [
    "**Question**\n",
    "4. Use the ROC curves to select a threshold to balance the two types of errors.\n",
    "\n",
    "**Answer** It looks like based on the logistic model, a threshold of somwhere around 0.04 will give us a very high true positive rate (80\\% or so) before taking on \"too high\" of a false positive rate (just a tad over 50\\%).  \n"
   ]
  },
  {
   "cell_type": "markdown",
   "metadata": {
    "button": false,
    "new_sheet": false,
    "run_control": {
     "read_only": false
    }
   },
   "source": [
    "## Part 4: Imputation\n",
    "\n",
    "In this part we ask that you explore the effects of imputation:\n",
    "1. Plot the histogram of `income`.\n",
    "2. Create a new variable `income_imp` that imputes the median or mean income for all the missing values and plot the histogram for this new variable.\n",
    "3. Compare the histograms above.\n",
    "\n",
    "\n",
    "4. Update your `poorhealth` prediction model(s) by incorporating `income_imp`. \n",
    "5. Compare the accuracy of this new model.\n",
    "\n",
    "\n",
    "And if there is time:\n",
    "       \n",
    "6. Create a new variable `income_imp2` that imputes the value via a model.\n",
    "7. Update your `poorhealth` prediction model(s) by incorporating `income_imp2`. \n",
    "8. Compare the accuracy of this newest model."
   ]
  },
  {
   "cell_type": "code",
   "execution_count": 38,
   "metadata": {
    "button": false,
    "new_sheet": false,
    "run_control": {
     "read_only": false
    }
   },
   "outputs": [
    {
     "name": "stderr",
     "output_type": "stream",
     "text": [
      "//anaconda3/lib/python3.7/site-packages/numpy/lib/histograms.py:824: RuntimeWarning: invalid value encountered in greater_equal\n",
      "  keep = (tmp_a >= first_edge)\n",
      "//anaconda3/lib/python3.7/site-packages/numpy/lib/histograms.py:825: RuntimeWarning: invalid value encountered in less_equal\n",
      "  keep &= (tmp_a <= last_edge)\n"
     ]
    },
    {
     "data": {
      "image/png": "[encoded data removed]",
      "text/plain": [
       "<Figure size 432x288 with 1 Axes>"
      ]
     },
     "metadata": {
      "needs_background": "light"
     },
     "output_type": "display_data"
    }
   ],
   "source": [
    "#####\n",
    "# 1. Plot the histogram of `income`.\n",
    "# 2. Create a new variable `income_imp` that imputes the median or \n",
    "#    mean income for all the missing values and plot the histogram for this new variable.\n",
    "#####\n",
    "\n",
    "\n",
    "\n",
    "# First create 'income_imp', and then add it into the predictor set\n",
    "income_imp = gssdata['income'].fillna(gssdata['income'].median())\n",
    "X['income_imp'] = income_imp\n",
    "\n",
    "# plot the original and the version with imputations\n",
    "plt.hist(gssdata['income'], color='b')\n",
    "plt.hist(X['income_imp'],alpha=0.5);"
   ]
  },
  {
   "cell_type": "markdown",
   "metadata": {
    "button": false,
    "new_sheet": false,
    "run_control": {
     "read_only": false
    }
   },
   "source": [
    "**Question:**\n",
    "3. Compare the histograms above.\n",
    "\n",
    "**Solution:** There is now a spike at the median compared to what was there before.  They distributions are not all that similar in shape or spread (but center is very similar)."
   ]
  },
  {
   "cell_type": "code",
   "execution_count": 39,
   "metadata": {
    "button": false,
    "new_sheet": false,
    "run_control": {
     "read_only": false
    }
   },
   "outputs": [
    {
     "name": "stdout",
     "output_type": "stream",
     "text": [
      "[[346  96]\n",
      " [ 20   9]]\n",
      "[[346  96]\n",
      " [ 20   9]]\n"
     ]
    },
    {
     "name": "stderr",
     "output_type": "stream",
     "text": [
      "//anaconda3/lib/python3.7/site-packages/sklearn/linear_model/logistic.py:432: FutureWarning: Default solver will be changed to 'lbfgs' in 0.22. Specify a solver to silence this warning.\n",
      "  FutureWarning)\n"
     ]
    },
    {
     "data": {
      "text/html": [
       "<div>\n",
       "<style scoped>\n",
       "    .dataframe tbody tr th:only-of-type {\n",
       "        vertical-align: middle;\n",
       "    }\n",
       "\n",
       "    .dataframe tbody tr th {\n",
       "        vertical-align: top;\n",
       "    }\n",
       "\n",
       "    .dataframe thead th {\n",
       "        text-align: right;\n",
       "    }\n",
       "</style>\n",
       "<table border=\"1\" class=\"dataframe\">\n",
       "  <thead>\n",
       "    <tr style=\"text-align: right;\">\n",
       "      <th></th>\n",
       "      <th>age</th>\n",
       "      <th>educ</th>\n",
       "      <th>female</th>\n",
       "      <th>marital_never married</th>\n",
       "      <th>marital_no longer married</th>\n",
       "      <th>race_other</th>\n",
       "      <th>race_white</th>\n",
       "      <th>sexornt_gay</th>\n",
       "      <th>sexornt_hetero</th>\n",
       "      <th>partyid_other</th>\n",
       "      <th>partyid_rep</th>\n",
       "      <th>income_imp</th>\n",
       "    </tr>\n",
       "  </thead>\n",
       "  <tbody>\n",
       "    <tr>\n",
       "      <th>1307</th>\n",
       "      <td>58.0</td>\n",
       "      <td>14.0</td>\n",
       "      <td>0</td>\n",
       "      <td>0</td>\n",
       "      <td>1</td>\n",
       "      <td>0</td>\n",
       "      <td>1</td>\n",
       "      <td>0</td>\n",
       "      <td>1</td>\n",
       "      <td>0</td>\n",
       "      <td>1</td>\n",
       "      <td>37.50</td>\n",
       "    </tr>\n",
       "    <tr>\n",
       "      <th>1033</th>\n",
       "      <td>32.0</td>\n",
       "      <td>16.0</td>\n",
       "      <td>1</td>\n",
       "      <td>0</td>\n",
       "      <td>0</td>\n",
       "      <td>0</td>\n",
       "      <td>1</td>\n",
       "      <td>0</td>\n",
       "      <td>1</td>\n",
       "      <td>0</td>\n",
       "      <td>1</td>\n",
       "      <td>45.00</td>\n",
       "    </tr>\n",
       "    <tr>\n",
       "      <th>909</th>\n",
       "      <td>38.0</td>\n",
       "      <td>16.0</td>\n",
       "      <td>1</td>\n",
       "      <td>0</td>\n",
       "      <td>0</td>\n",
       "      <td>0</td>\n",
       "      <td>1</td>\n",
       "      <td>0</td>\n",
       "      <td>1</td>\n",
       "      <td>0</td>\n",
       "      <td>1</td>\n",
       "      <td>23.75</td>\n",
       "    </tr>\n",
       "    <tr>\n",
       "      <th>312</th>\n",
       "      <td>19.0</td>\n",
       "      <td>9.0</td>\n",
       "      <td>1</td>\n",
       "      <td>1</td>\n",
       "      <td>0</td>\n",
       "      <td>1</td>\n",
       "      <td>0</td>\n",
       "      <td>0</td>\n",
       "      <td>1</td>\n",
       "      <td>1</td>\n",
       "      <td>0</td>\n",
       "      <td>37.50</td>\n",
       "    </tr>\n",
       "    <tr>\n",
       "      <th>193</th>\n",
       "      <td>44.0</td>\n",
       "      <td>16.0</td>\n",
       "      <td>1</td>\n",
       "      <td>1</td>\n",
       "      <td>0</td>\n",
       "      <td>0</td>\n",
       "      <td>0</td>\n",
       "      <td>0</td>\n",
       "      <td>1</td>\n",
       "      <td>1</td>\n",
       "      <td>0</td>\n",
       "      <td>82.50</td>\n",
       "    </tr>\n",
       "  </tbody>\n",
       "</table>\n",
       "</div>"
      ],
      "text/plain": [
       "       age  educ  female  marital_never married  marital_no longer married  \\\n",
       "1307  58.0  14.0       0                      0                          1   \n",
       "1033  32.0  16.0       1                      0                          0   \n",
       "909   38.0  16.0       1                      0                          0   \n",
       "312   19.0   9.0       1                      1                          0   \n",
       "193   44.0  16.0       1                      1                          0   \n",
       "\n",
       "      race_other  race_white  sexornt_gay  sexornt_hetero  partyid_other  \\\n",
       "1307           0           1            0               1              0   \n",
       "1033           0           1            0               1              0   \n",
       "909            0           1            0               1              0   \n",
       "312            1           0            0               1              1   \n",
       "193            0           0            0               1              1   \n",
       "\n",
       "      partyid_rep  income_imp  \n",
       "1307            1       37.50  \n",
       "1033            1       45.00  \n",
       "909             1       23.75  \n",
       "312             0       37.50  \n",
       "193             0       82.50  "
      ]
     },
     "execution_count": 39,
     "metadata": {},
     "output_type": "execute_result"
    }
   ],
   "source": [
    "#####\n",
    "# 4. Update your `poorhealth` prediction model(s) by incorporating `income_imp`. \n",
    "# 5. Calculate and compare the accuracy of this new model.\n",
    "#####\n",
    "\n",
    "# re-use indices for splitting since now we added the imputed 'income' variable\n",
    "# Note: the response is unaffected so does not need to be redefined.\n",
    "new_X_train = X.loc[itrain]\n",
    "new_X_test = X.loc[itest]\n",
    "\n",
    "logit_imp1 = sk.linear_model.LogisticRegression(C=100000)\n",
    "logit_imp1.fit(new_X_train,y_train)\n",
    "\n",
    "knn15_imp1 = KNeighborsClassifier(15)\n",
    "knn15_imp1.fit(new_X_train,y_train)\n",
    "\n",
    "print(confusion_matrix(y_test,t_repredict(logit,0.07,X_test)))\n",
    "print(confusion_matrix(y_test,t_repredict(logit_imp1,0.07,new_X_test)))\n",
    "\n",
    "X_train.head()"
   ]
  },
  {
   "cell_type": "markdown",
   "metadata": {
    "button": false,
    "new_sheet": false,
    "run_control": {
     "read_only": false
    }
   },
   "source": [
    "**Question:**\n",
    "5. Compare the accuracies.\n",
    "\n",
    "**Answer:** Nothing has improved.  The accuracies are identical for both the logistic and knn models (looking at varios different thresholds."
   ]
  },
  {
   "cell_type": "code",
   "execution_count": 40,
   "metadata": {
    "button": false,
    "new_sheet": false,
    "run_control": {
     "read_only": false
    }
   },
   "outputs": [
    {
     "name": "stdout",
     "output_type": "stream",
     "text": [
      "[[349  93]\n",
      " [ 21   8]]\n",
      "[[346  96]\n",
      " [ 20   9]]\n"
     ]
    },
    {
     "name": "stderr",
     "output_type": "stream",
     "text": [
      "//anaconda3/lib/python3.7/site-packages/sklearn/linear_model/logistic.py:432: FutureWarning: Default solver will be changed to 'lbfgs' in 0.22. Specify a solver to silence this warning.\n",
      "  FutureWarning)\n"
     ]
    }
   ],
   "source": [
    "#####\n",
    "# And if there is time:\n",
    "# 6. Create a new variable `income_imp2` that imputes the value via a model.\n",
    "# 7. Update your `poorhealth` prediction model(s) by incorporating `income_imp2`. \n",
    "# 8. Calculate and compare the accuracy of this newest model.\n",
    "#####\n",
    "\n",
    "# the y_imp is observed incomes in train for building an imputation model to \n",
    "# impute values on training and test, and the X_imp is everything else in train \n",
    "# (we could use the true response health or poorhealth, but we decided not to here).\n",
    "\n",
    "income_train = gssdata['income'][itrain]\n",
    "\n",
    "# all the missing observations' predictors\n",
    "miss_index = gssdata['income'][gssdata['income'].isna()].index\n",
    "X_miss = X.loc[gssdata['income'].isna(),:]\n",
    "X_miss = X_miss.drop('income_imp',axis=1)\n",
    "\n",
    "# all the available observed incomes (and predictors) within train to be used to \n",
    "# build a model to predict income\n",
    "y_imp = income_train.dropna()\n",
    "X_imp = X_train.drop('income_imp',axis=1).loc[itrain]\n",
    "X_imp = X_imp.loc[income_train.isna()==False,:]\n",
    "\n",
    "# fit the model\n",
    "lm = sk.linear_model.LinearRegression()\n",
    "lm.fit(X_imp,y_imp)\n",
    "\n",
    "# do the predictions without noise, and turn it into a series for imputation\n",
    "y_miss = lm.predict(X_miss)\n",
    "y_miss_series = pd.Series(data = y_miss, index = miss_index)\n",
    "\n",
    "# create the imputed income variable for all observations\n",
    "income_imp2 = gssdata['income'].fillna(y_miss_series)\n",
    "\n",
    "# add income_imp into the train and test sets properly \n",
    "X_train['income_imp'] = income_imp2[itrain]\n",
    "X_test['income_imp'] = income_imp2[itest]\n",
    "\n",
    "# go back to the primary classifciatoin modeling...\n",
    "logit_imp2 = sk.linear_model.LogisticRegression(C=100000)\n",
    "logit_imp2.fit(X_train,y_train)\n",
    "\n",
    "knn15_imp2 = KNeighborsClassifier(15)\n",
    "knn15_imp2.fit(X_train,y_train)\n",
    "\n",
    "# quick peak at predictions to see if anything has changed \n",
    "print(confusion_matrix(y_test,t_repredict(logit,0.07,X_test)))\n",
    "print(confusion_matrix(y_test,t_repredict(logit_imp2,0.07,X_test)))\n",
    "\n"
   ]
  },
  {
   "cell_type": "code",
   "execution_count": 41,
   "metadata": {},
   "outputs": [
    {
     "data": {
      "text/html": [
       "<div>\n",
       "<style scoped>\n",
       "    .dataframe tbody tr th:only-of-type {\n",
       "        vertical-align: middle;\n",
       "    }\n",
       "\n",
       "    .dataframe tbody tr th {\n",
       "        vertical-align: top;\n",
       "    }\n",
       "\n",
       "    .dataframe thead th {\n",
       "        text-align: right;\n",
       "    }\n",
       "</style>\n",
       "<table border=\"1\" class=\"dataframe\">\n",
       "  <thead>\n",
       "    <tr style=\"text-align: right;\">\n",
       "      <th></th>\n",
       "      <th>age</th>\n",
       "      <th>educ</th>\n",
       "      <th>female</th>\n",
       "      <th>marital_never married</th>\n",
       "      <th>marital_no longer married</th>\n",
       "      <th>race_other</th>\n",
       "      <th>race_white</th>\n",
       "      <th>sexornt_gay</th>\n",
       "      <th>sexornt_hetero</th>\n",
       "      <th>partyid_other</th>\n",
       "      <th>partyid_rep</th>\n",
       "    </tr>\n",
       "  </thead>\n",
       "  <tbody>\n",
       "    <tr>\n",
       "      <th>1033</th>\n",
       "      <td>32.0</td>\n",
       "      <td>16.0</td>\n",
       "      <td>1</td>\n",
       "      <td>0</td>\n",
       "      <td>0</td>\n",
       "      <td>0</td>\n",
       "      <td>1</td>\n",
       "      <td>0</td>\n",
       "      <td>1</td>\n",
       "      <td>0</td>\n",
       "      <td>1</td>\n",
       "    </tr>\n",
       "    <tr>\n",
       "      <th>909</th>\n",
       "      <td>38.0</td>\n",
       "      <td>16.0</td>\n",
       "      <td>1</td>\n",
       "      <td>0</td>\n",
       "      <td>0</td>\n",
       "      <td>0</td>\n",
       "      <td>1</td>\n",
       "      <td>0</td>\n",
       "      <td>1</td>\n",
       "      <td>0</td>\n",
       "      <td>1</td>\n",
       "    </tr>\n",
       "    <tr>\n",
       "      <th>193</th>\n",
       "      <td>44.0</td>\n",
       "      <td>16.0</td>\n",
       "      <td>1</td>\n",
       "      <td>1</td>\n",
       "      <td>0</td>\n",
       "      <td>0</td>\n",
       "      <td>0</td>\n",
       "      <td>0</td>\n",
       "      <td>1</td>\n",
       "      <td>1</td>\n",
       "      <td>0</td>\n",
       "    </tr>\n",
       "    <tr>\n",
       "      <th>665</th>\n",
       "      <td>39.0</td>\n",
       "      <td>14.0</td>\n",
       "      <td>1</td>\n",
       "      <td>0</td>\n",
       "      <td>1</td>\n",
       "      <td>0</td>\n",
       "      <td>1</td>\n",
       "      <td>0</td>\n",
       "      <td>0</td>\n",
       "      <td>0</td>\n",
       "      <td>0</td>\n",
       "    </tr>\n",
       "    <tr>\n",
       "      <th>793</th>\n",
       "      <td>41.0</td>\n",
       "      <td>11.0</td>\n",
       "      <td>1</td>\n",
       "      <td>0</td>\n",
       "      <td>1</td>\n",
       "      <td>0</td>\n",
       "      <td>1</td>\n",
       "      <td>0</td>\n",
       "      <td>0</td>\n",
       "      <td>1</td>\n",
       "      <td>0</td>\n",
       "    </tr>\n",
       "  </tbody>\n",
       "</table>\n",
       "</div>"
      ],
      "text/plain": [
       "       age  educ  female  marital_never married  marital_no longer married  \\\n",
       "1033  32.0  16.0       1                      0                          0   \n",
       "909   38.0  16.0       1                      0                          0   \n",
       "193   44.0  16.0       1                      1                          0   \n",
       "665   39.0  14.0       1                      0                          1   \n",
       "793   41.0  11.0       1                      0                          1   \n",
       "\n",
       "      race_other  race_white  sexornt_gay  sexornt_hetero  partyid_other  \\\n",
       "1033           0           1            0               1              0   \n",
       "909            0           1            0               1              0   \n",
       "193            0           0            0               1              1   \n",
       "665            0           1            0               0              0   \n",
       "793            0           1            0               0              1   \n",
       "\n",
       "      partyid_rep  \n",
       "1033            1  \n",
       "909             1  \n",
       "193             0  \n",
       "665             0  \n",
       "793             0  "
      ]
     },
     "execution_count": 41,
     "metadata": {},
     "output_type": "execute_result"
    }
   ],
   "source": [
    "X_imp.head()"
   ]
  },
  {
   "cell_type": "code",
   "execution_count": 42,
   "metadata": {},
   "outputs": [
    {
     "name": "stdout",
     "output_type": "stream",
     "text": [
      "[[352  90]\n",
      " [ 20   9]]\n",
      "[[346  96]\n",
      " [ 20   9]]\n"
     ]
    },
    {
     "name": "stderr",
     "output_type": "stream",
     "text": [
      "//anaconda3/lib/python3.7/site-packages/sklearn/linear_model/logistic.py:432: FutureWarning: Default solver will be changed to 'lbfgs' in 0.22. Specify a solver to silence this warning.\n",
      "  FutureWarning)\n"
     ]
    }
   ],
   "source": [
    "######\n",
    "# Now to do imputation with uncertainty:\n",
    "# we can use the same imputation model from the previous part \n",
    "######\n",
    "\n",
    "# first add the standard y-hats just like before\n",
    "y_miss = lm.predict(X_miss)\n",
    "\n",
    "# we need to estimate the residual variance (MSE), sigma2_hat, from the observed incomes \n",
    "# that were used to train the model\n",
    "y_hat = lm.predict(X_imp)\n",
    "sigma2_hat = sk.metrics.mean_squared_error(y_imp,y_hat)\n",
    "\n",
    "# sample a residual from the assumed normal distribution\n",
    "e_miss = np.random.normal(loc=0,scale=np.sqrt(sigma2_hat),size=y_miss.shape[0])\n",
    "\n",
    "# create the income measurement with uncertainty to be imputed\n",
    "y_miss_series = pd.Series(data = y_miss+e_miss, index = miss_index)\n",
    "\n",
    "# imputed them properly into where they belong.\n",
    "income_imp3 = gssdata['income'].fillna(y_miss_series)\n",
    "\n",
    "# add income_imp into the train and test sets properly \n",
    "X_train['income_imp'] = income_imp3[itrain]\n",
    "X_test['income_imp'] = income_imp3[itest]\n",
    "\n",
    "# go back to the primary classifciatoin modeling...\n",
    "logit_imp3 = sk.linear_model.LogisticRegression(C=100000)\n",
    "logit_imp3.fit(X_train,y_train)\n",
    "\n",
    "knn15_imp3 = KNeighborsClassifier(15)\n",
    "knn15_imp3.fit(X_train,y_train)\n",
    "\n",
    "print(confusion_matrix(y_test,t_repredict(logit,0.07,X_test)))\n",
    "print(confusion_matrix(y_test,t_repredict(logit_imp3,0.07,X_test)))\n"
   ]
  },
  {
   "cell_type": "code",
   "execution_count": 43,
   "metadata": {},
   "outputs": [
    {
     "name": "stdout",
     "output_type": "stream",
     "text": [
      "AUC for logistic model when income was dropped: \n",
      " 0.574972694648151\n",
      "AUC for logistic model when imputations were done with median imputation: \n",
      " 0.574972694648151\n",
      "AUC for logistic model when imputation were done via linear regression: \n",
      " 0.5621001716336402\n",
      "AUC for logistic model when imputation were done via linear regression with uncertainty: \n",
      " 0.5665470432204712\n"
     ]
    }
   ],
   "source": [
    "# Let's use AUC for evaluations \n",
    "\n",
    "fpr, tpr, thresholds=roc_curve(y_test, logit.predict_proba(X_test)[:,1])\n",
    "print(\"AUC for logistic model when income was dropped: \\n\",\n",
    "      auc(fpr, tpr))\n",
    "\n",
    "fpr, tpr, thresholds=roc_curve(y_test, logit_imp1.predict_proba(X_test)[:,1])\n",
    "print(\"AUC for logistic model when imputations were done with median imputation: \\n\",\n",
    "      auc(fpr, tpr))\n",
    "\n",
    "fpr, tpr, thresholds=roc_curve(y_test, logit_imp2.predict_proba(X_test)[:,1])\n",
    "print(\"AUC for logistic model when imputation were done via linear regression: \\n\",\n",
    "      auc(fpr, tpr))\n",
    "fpr, tpr, thresholds=roc_curve(y_test, logit_imp3.predict_proba(X_test)[:,1])\n",
    "print(\"AUC for logistic model when imputation were done via linear regression with uncertainty: \\n\",\n",
    "      auc(fpr, tpr))"
   ]
  },
  {
   "cell_type": "markdown",
   "metadata": {
    "button": false,
    "new_sheet": false,
    "run_control": {
     "read_only": false
    }
   },
   "source": [
    "**Question:**\n",
    "8. Compare the accuracies.\n",
    "\n",
    "**Answer:** Things have improved!  Using the uncertainty in the imputations has slightly improved the AUC for the classification model.  But this is ONLY slightly!"
   ]
  },
  {
   "cell_type": "code",
   "execution_count": null,
   "metadata": {},
   "outputs": [],
   "source": []
  }
 ],
 "metadata": {
  "kernelspec": {
   "display_name": "Python 3",
   "language": "python",
   "name": "python3"
  },
  "language_info": {
   "codemirror_mode": {
    "name": "ipython",
    "version": 3
   },
   "file_extension": ".py",
   "mimetype": "text/x-python",
   "name": "python",
   "nbconvert_exporter": "python",
   "pygments_lexer": "ipython3",
   "version": "3.7.3"
  }
 },
 "nbformat": 4,
 "nbformat_minor": 1
}
