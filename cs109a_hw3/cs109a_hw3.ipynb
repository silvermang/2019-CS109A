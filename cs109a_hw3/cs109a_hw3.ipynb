{
 "cells": [
  {
   "cell_type": "markdown",
   "metadata": {
    "button": false,
    "new_sheet": false,
    "run_control": {
     "read_only": false
    }
   },
   "source": [
    "# <img style=\"float: left; padding-right: 10px; width: 45px\" src=\"https://raw.githubusercontent.com/Harvard-IACS/2018-CS109A/master/content/styles/iacs.png\"> CS109A Introduction to Data Science: \n",
    "## Homework 3 - Regression Modeling to Forecast Bike Sharing Usage\n",
    "\n",
    "\n",
    "\n",
    "**Harvard University**<br/>\n",
    "**Fall 2019**<br/>\n",
    "**Instructors**: Pavlos Protopapas, Kevin Rader, Chris Tanner\n",
    "\n",
    "<hr style=\"height:2pt\">"
   ]
  },
  {
   "cell_type": "code",
   "execution_count": 75,
   "metadata": {
    "button": false,
    "new_sheet": false,
    "run_control": {
     "read_only": false
    }
   },
   "outputs": [
    {
     "data": {
      "text/html": [
       "<style>\n",
       "blockquote { background: #AEDE94; }\n",
       "h1 { \n",
       "    padding-top: 25px;\n",
       "    padding-bottom: 25px;\n",
       "    text-align: left; \n",
       "    padding-left: 10px;\n",
       "    background-color: #DDDDDD; \n",
       "    color: black;\n",
       "}\n",
       "h2 { \n",
       "    padding-top: 10px;\n",
       "    padding-bottom: 10px;\n",
       "    text-align: left; \n",
       "    padding-left: 5px;\n",
       "    background-color: #EEEEEE; \n",
       "    color: black;\n",
       "}\n",
       "\n",
       "div.exercise {\n",
       "\tbackground-color: #ffcccc;\n",
       "\tborder-color: #E9967A; \t\n",
       "\tborder-left: 5px solid #800080; \n",
       "\tpadding: 0.5em;\n",
       "}\n",
       "\n",
       "span.sub-q {\n",
       "\tfont-weight: bold;\n",
       "}\n",
       "div.theme {\n",
       "\tbackground-color: #DDDDDD;\n",
       "\tborder-color: #E9967A; \t\n",
       "\tborder-left: 5px solid #800080; \n",
       "\tpadding: 0.5em;\n",
       "\tfont-size: 18pt;\n",
       "}\n",
       "div.gc { \n",
       "\tbackground-color: #AEDE94;\n",
       "\tborder-color: #E9967A; \t \n",
       "\tborder-left: 5px solid #800080; \n",
       "\tpadding: 0.5em;\n",
       "\tfont-size: 12pt;\n",
       "}\n",
       "p.q1 { \n",
       "    padding-top: 5px;\n",
       "    padding-bottom: 5px;\n",
       "    text-align: left; \n",
       "    padding-left: 5px;\n",
       "    background-color: #EEEEEE; \n",
       "    color: black;\n",
       "}\n",
       "header {\n",
       "   padding-top: 35px;\n",
       "    padding-bottom: 35px;\n",
       "    text-align: left; \n",
       "    padding-left: 10px;\n",
       "    background-color: #DDDDDD; \n",
       "    color: black;\n",
       "}\n",
       "</style>\n",
       "\n"
      ],
      "text/plain": [
       "<IPython.core.display.HTML object>"
      ]
     },
     "execution_count": 75,
     "metadata": {},
     "output_type": "execute_result"
    }
   ],
   "source": [
    "#RUN THIS CELL \n",
    "import requests\n",
    "from IPython.core.display import HTML\n",
    "styles = requests.get(\"https://raw.githubusercontent.com/Harvard-IACS/2018-CS109A/master/content/styles/cs109.css\").text\n",
    "HTML(styles)"
   ]
  },
  {
   "cell_type": "markdown",
   "metadata": {
    "button": false,
    "new_sheet": false,
    "run_control": {
     "read_only": false
    }
   },
   "source": [
    "### INSTRUCTIONS\n",
    "\n",
    "- To submit your assignment follow the instructions given in Canvas.\n",
    "- Restart the kernel and run the whole notebook again before you submit. \n",
    "- As much as possible, try and stick to the hints and functions we import at the top of the homework, as those are the ideas and tools the class supports and is aiming to teach. And if a problem specifies a particular library you're required to use that library, and possibly others from the import list.\n",
    "- Please use .head() when viewing data. Do not submit a notebook that is excessively long because output was not suppressed or otherwise limited. "
   ]
  },
  {
   "cell_type": "markdown",
   "metadata": {
    "button": false,
    "new_sheet": false,
    "run_control": {
     "read_only": false
    }
   },
   "source": [
    "<hr style=\"height:2pt\">"
   ]
  },
  {
   "cell_type": "markdown",
   "metadata": {
    "run_control": {}
   },
   "source": [
    "![bike_sharing](fig/BSS.png)\n",
    "\n",
    "<div class=\"theme\">  Main Theme: Multiple Linear Regression, Polynomial Regression, Ridge and Lasso Regression </div>\n",
    "### Overview \n",
    "\n",
    "You are hired by the administrators of the [Capital Bikeshare program](https://www.capitalbikeshare.com) program in Washington D.C., to **help them predict the hourly demand for rental bikes** and **give them suggestions on how to increase their revenue**. Your task is to prepare a short report summarizing your findings and make recommendations.\n",
    "\n",
    "The predicted hourly demand could be used for planning the number of bikes that need to be available in the system at any given hour of the day. It costs the program money if bike stations are full and bikes cannot be returned, or empty and there are no bikes available. You will use multiple linear regression and polynomial regression and will explore ridge and lasso regression to predict bike usage. The goal is to build a regression model that can predict the total number of bike rentals in a given hour of the day, based on all available information given to you. \n",
    "\n",
    "An example of a suggestion to increase revenue might be to offer discounts during certain times of the day either during holidays or non-holidays. Your suggestions will depend on your observations of the seasonality of ridership.\n",
    "\n",
    "The data for this problem were collected from the Capital Bikeshare program over the course of two years (2011 and 2012).\n",
    "\n"
   ]
  },
  {
   "cell_type": "markdown",
   "metadata": {
    "run_control": {}
   },
   "source": [
    "### Use only the libraries below:"
   ]
  },
  {
   "cell_type": "code",
   "execution_count": 76,
   "metadata": {
    "button": false,
    "new_sheet": false,
    "run_control": {
     "read_only": false
    }
   },
   "outputs": [],
   "source": [
    "import numpy as np\n",
    "import pandas as pd\n",
    "import matplotlib\n",
    "import matplotlib.pyplot as plt\n",
    "\n",
    "import statsmodels.api as sm\n",
    "from statsmodels.api import OLS\n",
    "\n",
    "from sklearn.model_selection import train_test_split\n",
    "from sklearn.preprocessing import PolynomialFeatures\n",
    "from sklearn.preprocessing import StandardScaler\n",
    "from sklearn.linear_model import LinearRegression\n",
    "from sklearn.linear_model import Ridge\n",
    "from sklearn.linear_model import RidgeCV\n",
    "from sklearn.linear_model import LassoCV\n",
    "from sklearn.metrics import r2_score\n",
    "\n",
    "from pandas.plotting import scatter_matrix"
   ]
  },
  {
   "cell_type": "markdown",
   "metadata": {
    "run_control": {}
   },
   "source": [
    "### Overview\n",
    "The initial data set is provided in the file `data/BSS_hour_raw.csv`. You will first add features that will help with the analysis and then separate the data into training and test sets. Each row in this file represents the number of rides by registered users and casual users in a given hour of a specific date. There are 12 attributes in total describing besides the number of users the weather if it is a holiday or not etc: \n",
    "\n",
    "\n",
    "- `dteday` (date in the format YYYY-MM-DD, e.g. 2011-01-01)\n",
    "- `season` (1 = winter, 2 = spring, 3 = summer, 4 = fall)\n",
    "- `hour` (0 for 12 midnight, 1 for 1:00am, 23 for 11:00pm)\n",
    "- `weekday` (0 through 6, with 0 denoting Sunday)\n",
    "- `holiday` (1 = the day is a holiday, 0 = otherwise)\n",
    "- `weather`\n",
    "    - 1: Clear, Few clouds, Partly cloudy, Partly cloudy\n",
    "    - 2: Mist + Cloudy, Mist + Broken clouds, Mist + Few clouds, Mist\n",
    "    - 3: Light Snow, Light Rain + Thunderstorm\n",
    "    - 4: Heavy Rain + Thunderstorm + Mist, Snow + Fog \n",
    "- `temp` (temperature in Celsius, normalized)\n",
    "- `atemp` (apparent temperature, or relative outdoor temperature, in Celsius, normalized)\n",
    "- `hum` (relative humidity, normalized)\n",
    "- `windspeed` (wind speed, normalized)\n",
    "- `casual` (number of rides that day made by casual riders, not registered in the system)\n",
    "- `registered` (number of rides that day made by registered riders)"
   ]
  },
  {
   "cell_type": "markdown",
   "metadata": {
    "button": false,
    "new_sheet": false,
    "run_control": {
     "read_only": false
    }
   },
   "source": [
    "<div class=\"exercise\"> <b> Question 1 [6pts]: Data Read-In and Processing </b> </div>\n",
    "\n",
    "In this section, we read in the data and begin one of the most important analytic steps: verifying that the data is what it claims to be.\n",
    "\n",
    "**1.1** Load the dataset from the csv file `data/BSS_hour_raw.csv` into a pandas dataframe that you name `bikes_df_raw`. Do any of the variables' ranges or averages seem suspect? Do the data types make sense?\n",
    "\n",
    "**1.2** Notice that the variable in column `dteday` is a pandas `object`, which is **not**  useful when you want to extract the elements of the date such as the year, month, and day. Convert `dteday` into a `datetime` object to prepare it for later analysis.\n",
    "\n",
    "**Hint:** http://pandas.pydata.org/pandas-docs/stable/generated/pandas.to_datetime.html\n",
    "\n",
    "**1.3** Create three new columns in the dataframe:\n",
    "- `year` with 0 for 2011, 1 for 2012, etc.\n",
    "- `month` with 1 through 12, with 1 denoting January.\n",
    "- `counts` with the total number of bike rentals for that **hour** (this is the response variable for later)."
   ]
  },
  {
   "cell_type": "markdown",
   "metadata": {
    "button": false,
    "new_sheet": false,
    "run_control": {
     "read_only": false
    }
   },
   "source": [
    "### Answers"
   ]
  },
  {
   "cell_type": "markdown",
   "metadata": {
    "button": false,
    "new_sheet": false,
    "run_control": {
     "read_only": false
    }
   },
   "source": [
    "**1.1 Load the dataset from the csv file...**"
   ]
  },
  {
   "cell_type": "code",
   "execution_count": 77,
   "metadata": {
    "button": false,
    "new_sheet": false,
    "run_control": {
     "read_only": false
    }
   },
   "outputs": [
    {
     "data": {
      "text/plain": [
       "dteday        2011-01-01\n",
       "season                 1\n",
       "hour                   0\n",
       "holiday                0\n",
       "weekday                0\n",
       "workingday             0\n",
       "weather                1\n",
       "temp                0.02\n",
       "atemp                  0\n",
       "hum                    0\n",
       "windspeed              0\n",
       "casual                 0\n",
       "registered             0\n",
       "dtype: object"
      ]
     },
     "execution_count": 77,
     "metadata": {},
     "output_type": "execute_result"
    }
   ],
   "source": [
    "# your code here\n",
    "bikes_df_raw = pd.read_csv(\"data/BSS_hour_raw.csv\")\n",
    "bikes_df_raw.head()\n",
    "bikes_df_raw.dtypes\n",
    "bikes_df_raw.mean(axis=0)\n",
    "bikes_df_raw.max(axis=0)\n",
    "bikes_df_raw.min(axis=0)"
   ]
  },
  {
   "cell_type": "markdown",
   "metadata": {
    "button": false,
    "new_sheet": false,
    "run_control": {
     "read_only": false
    }
   },
   "source": [
    "*Your answer here*\n",
    "Data types seem good. Average season is 2.5 which makes sense since it's skewed away from winter (since less people ride bikes in the winter). Average temp, atemp, hum, windspeed are all between 0 and 1, which makes sense since they are normalized. The ranges all make sense, as there are no negative numbers. "
   ]
  },
  {
   "cell_type": "markdown",
   "metadata": {
    "button": false,
    "new_sheet": false,
    "run_control": {
     "read_only": false
    }
   },
   "source": [
    "**1.2 Notice that the variable in column...**"
   ]
  },
  {
   "cell_type": "code",
   "execution_count": 78,
   "metadata": {
    "button": false,
    "new_sheet": false,
    "run_control": {
     "read_only": false
    }
   },
   "outputs": [
    {
     "data": {
      "text/plain": [
       "dteday        datetime64[ns]\n",
       "season                 int64\n",
       "hour                   int64\n",
       "holiday                int64\n",
       "weekday                int64\n",
       "workingday             int64\n",
       "weather                int64\n",
       "temp                 float64\n",
       "atemp                float64\n",
       "hum                  float64\n",
       "windspeed            float64\n",
       "casual                 int64\n",
       "registered             int64\n",
       "dtype: object"
      ]
     },
     "execution_count": 78,
     "metadata": {},
     "output_type": "execute_result"
    }
   ],
   "source": [
    "# your code here\n",
    "bikes_df_raw[\"dteday\"] = pd.to_datetime(bikes_df_raw.dteday)\n",
    "bikes_df_raw.dtypes"
   ]
  },
  {
   "cell_type": "markdown",
   "metadata": {
    "button": false,
    "new_sheet": false,
    "run_control": {
     "read_only": false
    }
   },
   "source": [
    "**1.3 Create three new columns in the dataframe:...**"
   ]
  },
  {
   "cell_type": "code",
   "execution_count": 79,
   "metadata": {
    "button": false,
    "new_sheet": false,
    "run_control": {
     "read_only": false
    }
   },
   "outputs": [
    {
     "data": {
      "text/html": [
       "<div>\n",
       "<style scoped>\n",
       "    .dataframe tbody tr th:only-of-type {\n",
       "        vertical-align: middle;\n",
       "    }\n",
       "\n",
       "    .dataframe tbody tr th {\n",
       "        vertical-align: top;\n",
       "    }\n",
       "\n",
       "    .dataframe thead th {\n",
       "        text-align: right;\n",
       "    }\n",
       "</style>\n",
       "<table border=\"1\" class=\"dataframe\">\n",
       "  <thead>\n",
       "    <tr style=\"text-align: right;\">\n",
       "      <th></th>\n",
       "      <th>dteday</th>\n",
       "      <th>season</th>\n",
       "      <th>hour</th>\n",
       "      <th>holiday</th>\n",
       "      <th>weekday</th>\n",
       "      <th>workingday</th>\n",
       "      <th>weather</th>\n",
       "      <th>temp</th>\n",
       "      <th>atemp</th>\n",
       "      <th>hum</th>\n",
       "      <th>windspeed</th>\n",
       "      <th>casual</th>\n",
       "      <th>registered</th>\n",
       "      <th>year</th>\n",
       "      <th>month</th>\n",
       "      <th>counts</th>\n",
       "    </tr>\n",
       "  </thead>\n",
       "  <tbody>\n",
       "    <tr>\n",
       "      <th>0</th>\n",
       "      <td>2011-01-01</td>\n",
       "      <td>1</td>\n",
       "      <td>0</td>\n",
       "      <td>0</td>\n",
       "      <td>6</td>\n",
       "      <td>0</td>\n",
       "      <td>1</td>\n",
       "      <td>0.24</td>\n",
       "      <td>0.2879</td>\n",
       "      <td>0.81</td>\n",
       "      <td>0.0</td>\n",
       "      <td>3</td>\n",
       "      <td>13</td>\n",
       "      <td>0</td>\n",
       "      <td>1</td>\n",
       "      <td>16</td>\n",
       "    </tr>\n",
       "    <tr>\n",
       "      <th>1</th>\n",
       "      <td>2011-01-01</td>\n",
       "      <td>1</td>\n",
       "      <td>1</td>\n",
       "      <td>0</td>\n",
       "      <td>6</td>\n",
       "      <td>0</td>\n",
       "      <td>1</td>\n",
       "      <td>0.22</td>\n",
       "      <td>0.2727</td>\n",
       "      <td>0.80</td>\n",
       "      <td>0.0</td>\n",
       "      <td>8</td>\n",
       "      <td>32</td>\n",
       "      <td>0</td>\n",
       "      <td>1</td>\n",
       "      <td>40</td>\n",
       "    </tr>\n",
       "    <tr>\n",
       "      <th>2</th>\n",
       "      <td>2011-01-01</td>\n",
       "      <td>1</td>\n",
       "      <td>2</td>\n",
       "      <td>0</td>\n",
       "      <td>6</td>\n",
       "      <td>0</td>\n",
       "      <td>1</td>\n",
       "      <td>0.22</td>\n",
       "      <td>0.2727</td>\n",
       "      <td>0.80</td>\n",
       "      <td>0.0</td>\n",
       "      <td>5</td>\n",
       "      <td>27</td>\n",
       "      <td>0</td>\n",
       "      <td>1</td>\n",
       "      <td>32</td>\n",
       "    </tr>\n",
       "    <tr>\n",
       "      <th>3</th>\n",
       "      <td>2011-01-01</td>\n",
       "      <td>1</td>\n",
       "      <td>3</td>\n",
       "      <td>0</td>\n",
       "      <td>6</td>\n",
       "      <td>0</td>\n",
       "      <td>1</td>\n",
       "      <td>0.24</td>\n",
       "      <td>0.2879</td>\n",
       "      <td>0.75</td>\n",
       "      <td>0.0</td>\n",
       "      <td>3</td>\n",
       "      <td>10</td>\n",
       "      <td>0</td>\n",
       "      <td>1</td>\n",
       "      <td>13</td>\n",
       "    </tr>\n",
       "    <tr>\n",
       "      <th>4</th>\n",
       "      <td>2011-01-01</td>\n",
       "      <td>1</td>\n",
       "      <td>4</td>\n",
       "      <td>0</td>\n",
       "      <td>6</td>\n",
       "      <td>0</td>\n",
       "      <td>1</td>\n",
       "      <td>0.24</td>\n",
       "      <td>0.2879</td>\n",
       "      <td>0.75</td>\n",
       "      <td>0.0</td>\n",
       "      <td>0</td>\n",
       "      <td>1</td>\n",
       "      <td>0</td>\n",
       "      <td>1</td>\n",
       "      <td>1</td>\n",
       "    </tr>\n",
       "  </tbody>\n",
       "</table>\n",
       "</div>"
      ],
      "text/plain": [
       "      dteday  season  hour  holiday  weekday  workingday  weather  temp  \\\n",
       "0 2011-01-01       1     0        0        6           0        1  0.24   \n",
       "1 2011-01-01       1     1        0        6           0        1  0.22   \n",
       "2 2011-01-01       1     2        0        6           0        1  0.22   \n",
       "3 2011-01-01       1     3        0        6           0        1  0.24   \n",
       "4 2011-01-01       1     4        0        6           0        1  0.24   \n",
       "\n",
       "    atemp   hum  windspeed  casual  registered  year  month  counts  \n",
       "0  0.2879  0.81        0.0       3          13     0      1      16  \n",
       "1  0.2727  0.80        0.0       8          32     0      1      40  \n",
       "2  0.2727  0.80        0.0       5          27     0      1      32  \n",
       "3  0.2879  0.75        0.0       3          10     0      1      13  \n",
       "4  0.2879  0.75        0.0       0           1     0      1       1  "
      ]
     },
     "execution_count": 79,
     "metadata": {},
     "output_type": "execute_result"
    }
   ],
   "source": [
    "# your code here\n",
    "bikes_df_raw[\"year\"] = bikes_df_raw.dteday.dt.year - 2011\n",
    "bikes_df_raw[\"month\"] = bikes_df_raw.dteday.dt.month\n",
    "bikes_df_raw[\"counts\"] = bikes_df_raw.casual + bikes_df_raw.registered\n",
    "bikes_df_raw.head()"
   ]
  },
  {
   "cell_type": "markdown",
   "metadata": {},
   "source": [
    "---"
   ]
  },
  {
   "cell_type": "markdown",
   "metadata": {
    "button": false,
    "new_sheet": false,
    "run_control": {
     "read_only": false
    }
   },
   "source": [
    "<div class='exercise'> <b> Question 2 [20 pts]: Exploratory Data Analysis. </b></div>\n",
    "\n",
    "In this question we begin hunting for patterns in ridership that shed light on who uses the service and why.\n",
    "\n",
    "**2.1** Make a new dataframe with the following subset of attributes from the previous dataset and with each entry being just **one** day: \n",
    "\n",
    "- `dteday`, the timestamp for that day (fine to set to noon or any other time) \n",
    "- `weekday`, the day of the week\n",
    "- `weather`, the most severe weather that day\n",
    "- `season`, the season that day falls in\n",
    "- `temp`, the average temperature\n",
    "- `atemp`, the average atemp that day\n",
    "- `windspeed`, the average windspeed that day\n",
    "- `hum`, the average humidity that day\n",
    "- `casual`, the **total** number of rentals by casual users\n",
    "- `registered`, the **total** number of rentals by registered users\n",
    "- `counts`, the **total** number of rentals of that day\n",
    "\n",
    "Name this dataframe `bikes_by_day`.\n",
    "\n",
    "Make a plot showing  the _distribution_ of the number of casual and registered riders on each day of the week.\n",
    "\n",
    "**Hint:** helpful to use panda's `.groupby()` command\n",
    "\n",
    "**2.2** Use `bikes_by_day` to visualize how the distribution of **total number of rides** per day (casual and registered riders combined) varies with the **season**. Do you see any **outliers**? Here we use the pyplot's boxplot function definition of an outlier as any value 1.5 times the IQR above the 75th percentile or 1.5 times the IQR below the 25th percentiles. If you see any outliers, identify those dates and investigate if they are a chance occurence, an error in the data collection, or a significant event (an online search of those date(s) might help). \n",
    "\n",
    "**2.3** Convert the categorical attributes ('season', 'month', 'weekday', 'weather') into multiple binary attributes using **one-hot encoding** and call this new dataframe `bikes_df`.\n",
    "\n",
    "**2.4** Split the updated `bikes_df` dataset into a 50-50 train-test split (call them `bikes_train` and `bikes_test`, respectively). Do this in a 'stratified' fashion, ensuring that all months are equally represented in each set.  Use `random_state=90`, a test set size of .5, and stratify on month.  Remember to specify the data's index column as you read it in.\n",
    "\n",
    "**2.5** Although we asked you to create your train and test set, for consistency and easy checking, we ask that for the rest of this problem set you use the train and test set provided in the files `data/BSS_train.csv` and `data/BSS_test.csv`. Read these two files into dataframes `BSS_train` and `BSS_test`, respectively. Remove the `dteday` column from both the train and the test dataset (its format cannot be used for analysis). \n",
    "\n",
    "**2.6** Use pandas' `scatter_matrix` command to visualize the inter-dependencies among the list of predictors listed below in the training dataset. Note and comment on any strongly related variables. [This may take a few minutes to run. You may wish to comment it out until your final submission, or only plot a randomly-selected 10% of the rows]\n",
    "\n",
    "`cor_columns = ['hour', 'holiday', 'temp', 'atemp', \n",
    "               'workingday', 'hum', 'windspeed', \n",
    "               'counts', 'casual', 'registered',\n",
    "               'fall', 'summer', 'spring', \n",
    "               'Snow', 'Storm', 'Cloudy']`\n",
    "\n",
    "**2.7** Make a plot showing the _average_ number of casual and registered riders during each hour of the day. `.groupby` and `.aggregate` should make this task easy. Comment on the trends you observe. \n",
    "\n",
    "**2.8** Use the one-hot-encoded `weather` related variables to show how each weather category affects the relationships in question 2.6.  Remember you should have four plots, one for each weather type (Cloudy, Storm, Snow, and Clear), even though there are only three columns related to weather after one-hot-encoding. What do you observe?"
   ]
  },
  {
   "cell_type": "markdown",
   "metadata": {
    "button": false,
    "new_sheet": false,
    "run_control": {
     "read_only": false
    }
   },
   "source": [
    "### Answers"
   ]
  },
  {
   "cell_type": "markdown",
   "metadata": {
    "button": false,
    "new_sheet": false,
    "run_control": {
     "read_only": false
    }
   },
   "source": [
    "**2.1 Make a new dataframe...**"
   ]
  },
  {
   "cell_type": "code",
   "execution_count": 80,
   "metadata": {
    "button": false,
    "new_sheet": false,
    "run_control": {
     "read_only": false
    }
   },
   "outputs": [
    {
     "data": {
      "image/png": "[encoded data removed]",
      "text/plain": [
       "<Figure size 432x288 with 1 Axes>"
      ]
     },
     "metadata": {
      "needs_background": "light"
     },
     "output_type": "display_data"
    }
   ],
   "source": [
    "# your code here\n",
    "bikes_by_day = bikes_df_raw.groupby(\"dteday\").agg({\n",
    "    'weekday': np.median,\n",
    "    'weather': np.max,\n",
    "    'season': np.median,\n",
    "    'temp': np.mean,\n",
    "    'atemp': np.mean,\n",
    "    'windspeed': np.mean,\n",
    "    'hum': np.mean,\n",
    "    'casual': np.sum,\n",
    "    'registered': np.sum,\n",
    "    'counts': np.sum\n",
    "})\n",
    "\n",
    "bikes_by_day.head()\n",
    "bikes_by_weekday = bikes_by_day.groupby(\"weekday\").agg({\n",
    "    'weekday': np.median,\n",
    "    'casual': np.sum,\n",
    "    'registered': np.sum\n",
    "})\n",
    "\n",
    "# make plot\n",
    "plt.scatter(bikes_by_weekday[\"weekday\"], bikes_by_weekday[\"casual\"], label = 'casual')\n",
    "plt.scatter(bikes_by_weekday[\"weekday\"], bikes_by_weekday[\"registered\"], label = 'registered')\n",
    "plt.xlabel(\"Day of the Week\")\n",
    "plt.ylabel(\"Counts of Bikeriders\")\n",
    "plt.title(\"Casual and Registered riders vs. day of the week\")\n",
    "plt.legend()\n",
    "plt.show;"
   ]
  },
  {
   "cell_type": "markdown",
   "metadata": {
    "button": false,
    "new_sheet": false,
    "run_control": {
     "read_only": false
    }
   },
   "source": [
    "**2.2 Use `bikes_by_day` to visualize how the distribution...**"
   ]
  },
  {
   "cell_type": "code",
   "execution_count": 81,
   "metadata": {
    "button": false,
    "new_sheet": false,
    "run_control": {
     "read_only": false
    }
   },
   "outputs": [
    {
     "data": {
      "image/png": "[encoded data removed]",
      "text/plain": [
       "<Figure size 432x288 with 1 Axes>"
      ]
     },
     "metadata": {
      "needs_background": "light"
     },
     "output_type": "display_data"
    },
    {
     "data": {
      "image/png": "[encoded data removed]",
      "text/plain": [
       "<Figure size 432x288 with 1 Axes>"
      ]
     },
     "metadata": {
      "needs_background": "light"
     },
     "output_type": "display_data"
    },
    {
     "data": {
      "image/png": "[encoded data removed]",
      "text/plain": [
       "<Figure size 432x288 with 1 Axes>"
      ]
     },
     "metadata": {
      "needs_background": "light"
     },
     "output_type": "display_data"
    },
    {
     "data": {
      "image/png": "[encoded data removed]",
      "text/plain": [
       "<Figure size 432x288 with 1 Axes>"
      ]
     },
     "metadata": {
      "needs_background": "light"
     },
     "output_type": "display_data"
    }
   ],
   "source": [
    "# your code here \n",
    "seasonGroups = bikes_by_day.groupby('season')\n",
    "win = seasonGroups.get_group(1)\n",
    "spr = seasonGroups.get_group(2)\n",
    "summ = seasonGroups.get_group(3)\n",
    "fall = seasonGroups.get_group(4)\n",
    "\n",
    "plt.scatter(np.arange(len(win['counts'])), win['counts'])\n",
    "plt.title('Number of Bike Riders in Winter')\n",
    "plt.xlabel('Day')\n",
    "plt.ylabel('Number of Riders')\n",
    "plt.show()\n",
    "\n",
    "plt.scatter(np.arange(len(spr['counts'])), spr['counts'])\n",
    "plt.title('Number of Bike Riders in Spring')\n",
    "plt.xlabel('Day')\n",
    "plt.ylabel('Number of Riders')\n",
    "plt.show()\n",
    "\n",
    "plt.scatter(np.arange(len(summ['counts'])), summ['counts'])\n",
    "plt.title('Number of Bike Riders in Summer')\n",
    "plt.xlabel('Day')\n",
    "plt.ylabel('Number of Riders')\n",
    "plt.show()\n",
    "\n",
    "plt.scatter(np.arange(len(fall['counts'])), fall['counts'])\n",
    "plt.title('Number of Bike Riders in Fall')\n",
    "plt.xlabel('Day')\n",
    "plt.ylabel('Number of Riders')\n",
    "plt.show()"
   ]
  },
  {
   "cell_type": "code",
   "execution_count": 82,
   "metadata": {},
   "outputs": [],
   "source": [
    "def outlier_finder(df):\n",
    "    outliers = []\n",
    "    firstQuart = df['counts'].quantile(0.25)\n",
    "    thirdQuart = df['counts'].quantile(0.75)\n",
    "    IQR = thirdQuart-firstQuart\n",
    "    for row in df['counts']:\n",
    "        if row < (firstQuart-1.5*IQR) or row > (thirdQuart + 1.5*IQR):\n",
    "            outliers.append(row)\n",
    "    return outliers"
   ]
  },
  {
   "cell_type": "code",
   "execution_count": 83,
   "metadata": {},
   "outputs": [
    {
     "name": "stdout",
     "output_type": "stream",
     "text": [
      "[7836]\n",
      "[]\n",
      "[]\n",
      "[22]\n"
     ]
    }
   ],
   "source": [
    "print(outlier_finder(win))\n",
    "print(outlier_finder(spr))\n",
    "print(outlier_finder(summ))\n",
    "print(outlier_finder(fall))"
   ]
  },
  {
   "cell_type": "code",
   "execution_count": 84,
   "metadata": {},
   "outputs": [
    {
     "data": {
      "text/html": [
       "<div>\n",
       "<style scoped>\n",
       "    .dataframe tbody tr th:only-of-type {\n",
       "        vertical-align: middle;\n",
       "    }\n",
       "\n",
       "    .dataframe tbody tr th {\n",
       "        vertical-align: top;\n",
       "    }\n",
       "\n",
       "    .dataframe thead th {\n",
       "        text-align: right;\n",
       "    }\n",
       "</style>\n",
       "<table border=\"1\" class=\"dataframe\">\n",
       "  <thead>\n",
       "    <tr style=\"text-align: right;\">\n",
       "      <th></th>\n",
       "      <th>weekday</th>\n",
       "      <th>weather</th>\n",
       "      <th>season</th>\n",
       "      <th>temp</th>\n",
       "      <th>atemp</th>\n",
       "      <th>windspeed</th>\n",
       "      <th>hum</th>\n",
       "      <th>casual</th>\n",
       "      <th>registered</th>\n",
       "      <th>counts</th>\n",
       "    </tr>\n",
       "    <tr>\n",
       "      <th>dteday</th>\n",
       "      <th></th>\n",
       "      <th></th>\n",
       "      <th></th>\n",
       "      <th></th>\n",
       "      <th></th>\n",
       "      <th></th>\n",
       "      <th></th>\n",
       "      <th></th>\n",
       "      <th></th>\n",
       "      <th></th>\n",
       "    </tr>\n",
       "  </thead>\n",
       "  <tbody>\n",
       "    <tr>\n",
       "      <th>2012-03-17</th>\n",
       "      <td>6</td>\n",
       "      <td>2</td>\n",
       "      <td>1</td>\n",
       "      <td>0.514167</td>\n",
       "      <td>0.505046</td>\n",
       "      <td>0.110704</td>\n",
       "      <td>0.755833</td>\n",
       "      <td>3155</td>\n",
       "      <td>4681</td>\n",
       "      <td>7836</td>\n",
       "    </tr>\n",
       "  </tbody>\n",
       "</table>\n",
       "</div>"
      ],
      "text/plain": [
       "            weekday  weather  season      temp     atemp  windspeed       hum  \\\n",
       "dteday                                                                          \n",
       "2012-03-17        6        2       1  0.514167  0.505046   0.110704  0.755833   \n",
       "\n",
       "            casual  registered  counts  \n",
       "dteday                                  \n",
       "2012-03-17    3155        4681    7836  "
      ]
     },
     "execution_count": 84,
     "metadata": {},
     "output_type": "execute_result"
    }
   ],
   "source": [
    "win.loc[win['counts'] == outlier_finder(win)[0]]"
   ]
  },
  {
   "cell_type": "code",
   "execution_count": 85,
   "metadata": {},
   "outputs": [
    {
     "data": {
      "text/html": [
       "<div>\n",
       "<style scoped>\n",
       "    .dataframe tbody tr th:only-of-type {\n",
       "        vertical-align: middle;\n",
       "    }\n",
       "\n",
       "    .dataframe tbody tr th {\n",
       "        vertical-align: top;\n",
       "    }\n",
       "\n",
       "    .dataframe thead th {\n",
       "        text-align: right;\n",
       "    }\n",
       "</style>\n",
       "<table border=\"1\" class=\"dataframe\">\n",
       "  <thead>\n",
       "    <tr style=\"text-align: right;\">\n",
       "      <th></th>\n",
       "      <th>weekday</th>\n",
       "      <th>weather</th>\n",
       "      <th>season</th>\n",
       "      <th>temp</th>\n",
       "      <th>atemp</th>\n",
       "      <th>windspeed</th>\n",
       "      <th>hum</th>\n",
       "      <th>casual</th>\n",
       "      <th>registered</th>\n",
       "      <th>counts</th>\n",
       "    </tr>\n",
       "    <tr>\n",
       "      <th>dteday</th>\n",
       "      <th></th>\n",
       "      <th></th>\n",
       "      <th></th>\n",
       "      <th></th>\n",
       "      <th></th>\n",
       "      <th></th>\n",
       "      <th></th>\n",
       "      <th></th>\n",
       "      <th></th>\n",
       "      <th></th>\n",
       "    </tr>\n",
       "  </thead>\n",
       "  <tbody>\n",
       "    <tr>\n",
       "      <th>2012-10-29</th>\n",
       "      <td>1</td>\n",
       "      <td>3</td>\n",
       "      <td>4</td>\n",
       "      <td>0.44</td>\n",
       "      <td>0.4394</td>\n",
       "      <td>0.3582</td>\n",
       "      <td>0.88</td>\n",
       "      <td>2</td>\n",
       "      <td>20</td>\n",
       "      <td>22</td>\n",
       "    </tr>\n",
       "  </tbody>\n",
       "</table>\n",
       "</div>"
      ],
      "text/plain": [
       "            weekday  weather  season  temp   atemp  windspeed   hum  casual  \\\n",
       "dteday                                                                        \n",
       "2012-10-29        1        3       4  0.44  0.4394     0.3582  0.88       2   \n",
       "\n",
       "            registered  counts  \n",
       "dteday                          \n",
       "2012-10-29          20      22  "
      ]
     },
     "execution_count": 85,
     "metadata": {},
     "output_type": "execute_result"
    }
   ],
   "source": [
    "fall.loc[fall['counts'] == outlier_finder(fall)[0]]"
   ]
  },
  {
   "cell_type": "markdown",
   "metadata": {},
   "source": [
    "The outlier on March 17, 2012 seems to be a result of a combination of the very high temperature that day and the holiday of St. Patrick's Day, rendering more people free to ride on their bike. The outlier of low bike riders on October 29 of 2012 may be a result of Hurricane Sandy, which profoundly affected the East Coast."
   ]
  },
  {
   "cell_type": "markdown",
   "metadata": {
    "button": false,
    "new_sheet": false,
    "run_control": {
     "read_only": false
    }
   },
   "source": [
    "**2.3 Convert the categorical attributes...**"
   ]
  },
  {
   "cell_type": "code",
   "execution_count": 86,
   "metadata": {
    "button": false,
    "new_sheet": false,
    "run_control": {
     "read_only": false
    }
   },
   "outputs": [
    {
     "data": {
      "text/html": [
       "<div>\n",
       "<style scoped>\n",
       "    .dataframe tbody tr th:only-of-type {\n",
       "        vertical-align: middle;\n",
       "    }\n",
       "\n",
       "    .dataframe tbody tr th {\n",
       "        vertical-align: top;\n",
       "    }\n",
       "\n",
       "    .dataframe thead th {\n",
       "        text-align: right;\n",
       "    }\n",
       "</style>\n",
       "<table border=\"1\" class=\"dataframe\">\n",
       "  <thead>\n",
       "    <tr style=\"text-align: right;\">\n",
       "      <th></th>\n",
       "      <th>dteday</th>\n",
       "      <th>hour</th>\n",
       "      <th>holiday</th>\n",
       "      <th>workingday</th>\n",
       "      <th>temp</th>\n",
       "      <th>atemp</th>\n",
       "      <th>hum</th>\n",
       "      <th>windspeed</th>\n",
       "      <th>casual</th>\n",
       "      <th>registered</th>\n",
       "      <th>year</th>\n",
       "      <th>counts</th>\n",
       "      <th>season_2</th>\n",
       "      <th>season_3</th>\n",
       "      <th>season_4</th>\n",
       "      <th>month_2</th>\n",
       "      <th>month_3</th>\n",
       "      <th>month_4</th>\n",
       "      <th>month_5</th>\n",
       "      <th>month_6</th>\n",
       "      <th>month_7</th>\n",
       "      <th>month_8</th>\n",
       "      <th>month_9</th>\n",
       "      <th>month_10</th>\n",
       "      <th>month_11</th>\n",
       "      <th>month_12</th>\n",
       "      <th>weekday_1</th>\n",
       "      <th>weekday_2</th>\n",
       "      <th>weekday_3</th>\n",
       "      <th>weekday_4</th>\n",
       "      <th>weekday_5</th>\n",
       "      <th>weekday_6</th>\n",
       "      <th>weather_2</th>\n",
       "      <th>weather_3</th>\n",
       "      <th>weather_4</th>\n",
       "    </tr>\n",
       "  </thead>\n",
       "  <tbody>\n",
       "    <tr>\n",
       "      <th>0</th>\n",
       "      <td>2011-01-01</td>\n",
       "      <td>0</td>\n",
       "      <td>0</td>\n",
       "      <td>0</td>\n",
       "      <td>0.24</td>\n",
       "      <td>0.2879</td>\n",
       "      <td>0.81</td>\n",
       "      <td>0.0</td>\n",
       "      <td>3</td>\n",
       "      <td>13</td>\n",
       "      <td>0</td>\n",
       "      <td>16</td>\n",
       "      <td>0</td>\n",
       "      <td>0</td>\n",
       "      <td>0</td>\n",
       "      <td>0</td>\n",
       "      <td>0</td>\n",
       "      <td>0</td>\n",
       "      <td>0</td>\n",
       "      <td>0</td>\n",
       "      <td>0</td>\n",
       "      <td>0</td>\n",
       "      <td>0</td>\n",
       "      <td>0</td>\n",
       "      <td>0</td>\n",
       "      <td>0</td>\n",
       "      <td>0</td>\n",
       "      <td>0</td>\n",
       "      <td>0</td>\n",
       "      <td>0</td>\n",
       "      <td>0</td>\n",
       "      <td>1</td>\n",
       "      <td>0</td>\n",
       "      <td>0</td>\n",
       "      <td>0</td>\n",
       "    </tr>\n",
       "    <tr>\n",
       "      <th>1</th>\n",
       "      <td>2011-01-01</td>\n",
       "      <td>1</td>\n",
       "      <td>0</td>\n",
       "      <td>0</td>\n",
       "      <td>0.22</td>\n",
       "      <td>0.2727</td>\n",
       "      <td>0.80</td>\n",
       "      <td>0.0</td>\n",
       "      <td>8</td>\n",
       "      <td>32</td>\n",
       "      <td>0</td>\n",
       "      <td>40</td>\n",
       "      <td>0</td>\n",
       "      <td>0</td>\n",
       "      <td>0</td>\n",
       "      <td>0</td>\n",
       "      <td>0</td>\n",
       "      <td>0</td>\n",
       "      <td>0</td>\n",
       "      <td>0</td>\n",
       "      <td>0</td>\n",
       "      <td>0</td>\n",
       "      <td>0</td>\n",
       "      <td>0</td>\n",
       "      <td>0</td>\n",
       "      <td>0</td>\n",
       "      <td>0</td>\n",
       "      <td>0</td>\n",
       "      <td>0</td>\n",
       "      <td>0</td>\n",
       "      <td>0</td>\n",
       "      <td>1</td>\n",
       "      <td>0</td>\n",
       "      <td>0</td>\n",
       "      <td>0</td>\n",
       "    </tr>\n",
       "    <tr>\n",
       "      <th>2</th>\n",
       "      <td>2011-01-01</td>\n",
       "      <td>2</td>\n",
       "      <td>0</td>\n",
       "      <td>0</td>\n",
       "      <td>0.22</td>\n",
       "      <td>0.2727</td>\n",
       "      <td>0.80</td>\n",
       "      <td>0.0</td>\n",
       "      <td>5</td>\n",
       "      <td>27</td>\n",
       "      <td>0</td>\n",
       "      <td>32</td>\n",
       "      <td>0</td>\n",
       "      <td>0</td>\n",
       "      <td>0</td>\n",
       "      <td>0</td>\n",
       "      <td>0</td>\n",
       "      <td>0</td>\n",
       "      <td>0</td>\n",
       "      <td>0</td>\n",
       "      <td>0</td>\n",
       "      <td>0</td>\n",
       "      <td>0</td>\n",
       "      <td>0</td>\n",
       "      <td>0</td>\n",
       "      <td>0</td>\n",
       "      <td>0</td>\n",
       "      <td>0</td>\n",
       "      <td>0</td>\n",
       "      <td>0</td>\n",
       "      <td>0</td>\n",
       "      <td>1</td>\n",
       "      <td>0</td>\n",
       "      <td>0</td>\n",
       "      <td>0</td>\n",
       "    </tr>\n",
       "    <tr>\n",
       "      <th>3</th>\n",
       "      <td>2011-01-01</td>\n",
       "      <td>3</td>\n",
       "      <td>0</td>\n",
       "      <td>0</td>\n",
       "      <td>0.24</td>\n",
       "      <td>0.2879</td>\n",
       "      <td>0.75</td>\n",
       "      <td>0.0</td>\n",
       "      <td>3</td>\n",
       "      <td>10</td>\n",
       "      <td>0</td>\n",
       "      <td>13</td>\n",
       "      <td>0</td>\n",
       "      <td>0</td>\n",
       "      <td>0</td>\n",
       "      <td>0</td>\n",
       "      <td>0</td>\n",
       "      <td>0</td>\n",
       "      <td>0</td>\n",
       "      <td>0</td>\n",
       "      <td>0</td>\n",
       "      <td>0</td>\n",
       "      <td>0</td>\n",
       "      <td>0</td>\n",
       "      <td>0</td>\n",
       "      <td>0</td>\n",
       "      <td>0</td>\n",
       "      <td>0</td>\n",
       "      <td>0</td>\n",
       "      <td>0</td>\n",
       "      <td>0</td>\n",
       "      <td>1</td>\n",
       "      <td>0</td>\n",
       "      <td>0</td>\n",
       "      <td>0</td>\n",
       "    </tr>\n",
       "    <tr>\n",
       "      <th>4</th>\n",
       "      <td>2011-01-01</td>\n",
       "      <td>4</td>\n",
       "      <td>0</td>\n",
       "      <td>0</td>\n",
       "      <td>0.24</td>\n",
       "      <td>0.2879</td>\n",
       "      <td>0.75</td>\n",
       "      <td>0.0</td>\n",
       "      <td>0</td>\n",
       "      <td>1</td>\n",
       "      <td>0</td>\n",
       "      <td>1</td>\n",
       "      <td>0</td>\n",
       "      <td>0</td>\n",
       "      <td>0</td>\n",
       "      <td>0</td>\n",
       "      <td>0</td>\n",
       "      <td>0</td>\n",
       "      <td>0</td>\n",
       "      <td>0</td>\n",
       "      <td>0</td>\n",
       "      <td>0</td>\n",
       "      <td>0</td>\n",
       "      <td>0</td>\n",
       "      <td>0</td>\n",
       "      <td>0</td>\n",
       "      <td>0</td>\n",
       "      <td>0</td>\n",
       "      <td>0</td>\n",
       "      <td>0</td>\n",
       "      <td>0</td>\n",
       "      <td>1</td>\n",
       "      <td>0</td>\n",
       "      <td>0</td>\n",
       "      <td>0</td>\n",
       "    </tr>\n",
       "  </tbody>\n",
       "</table>\n",
       "</div>"
      ],
      "text/plain": [
       "      dteday  hour  holiday  workingday  temp   atemp   hum  windspeed  \\\n",
       "0 2011-01-01     0        0           0  0.24  0.2879  0.81        0.0   \n",
       "1 2011-01-01     1        0           0  0.22  0.2727  0.80        0.0   \n",
       "2 2011-01-01     2        0           0  0.22  0.2727  0.80        0.0   \n",
       "3 2011-01-01     3        0           0  0.24  0.2879  0.75        0.0   \n",
       "4 2011-01-01     4        0           0  0.24  0.2879  0.75        0.0   \n",
       "\n",
       "   casual  registered  year  counts  season_2  season_3  season_4  month_2  \\\n",
       "0       3          13     0      16         0         0         0        0   \n",
       "1       8          32     0      40         0         0         0        0   \n",
       "2       5          27     0      32         0         0         0        0   \n",
       "3       3          10     0      13         0         0         0        0   \n",
       "4       0           1     0       1         0         0         0        0   \n",
       "\n",
       "   month_3  month_4  month_5  month_6  month_7  month_8  month_9  month_10  \\\n",
       "0        0        0        0        0        0        0        0         0   \n",
       "1        0        0        0        0        0        0        0         0   \n",
       "2        0        0        0        0        0        0        0         0   \n",
       "3        0        0        0        0        0        0        0         0   \n",
       "4        0        0        0        0        0        0        0         0   \n",
       "\n",
       "   month_11  month_12  weekday_1  weekday_2  weekday_3  weekday_4  weekday_5  \\\n",
       "0         0         0          0          0          0          0          0   \n",
       "1         0         0          0          0          0          0          0   \n",
       "2         0         0          0          0          0          0          0   \n",
       "3         0         0          0          0          0          0          0   \n",
       "4         0         0          0          0          0          0          0   \n",
       "\n",
       "   weekday_6  weather_2  weather_3  weather_4  \n",
       "0          1          0          0          0  \n",
       "1          1          0          0          0  \n",
       "2          1          0          0          0  \n",
       "3          1          0          0          0  \n",
       "4          1          0          0          0  "
      ]
     },
     "execution_count": 86,
     "metadata": {},
     "output_type": "execute_result"
    }
   ],
   "source": [
    "# your code here\n",
    "bikes_df = pd.get_dummies(bikes_df_raw, columns=['season','month','weekday','weather'], drop_first=True)\n",
    "bikes_df.head()"
   ]
  },
  {
   "cell_type": "markdown",
   "metadata": {
    "button": false,
    "new_sheet": false,
    "run_control": {
     "read_only": false
    }
   },
   "source": [
    "**2.4 Split the updated `bikes_df` dataset into a 50-50 train-test split...** "
   ]
  },
  {
   "cell_type": "code",
   "execution_count": 87,
   "metadata": {
    "button": false,
    "new_sheet": false,
    "run_control": {
     "read_only": false
    },
    "scrolled": true
   },
   "outputs": [
    {
     "name": "stdout",
     "output_type": "stream",
     "text": [
      "(8689, 35) (8690, 35)\n"
     ]
    }
   ],
   "source": [
    "# your code here\n",
    "bikes_train, bikes_test = train_test_split(bikes_df, test_size = 0.5, random_state = 90, stratify=bikes_df['dteday'].dt.month)\n",
    "print(bikes_train.shape, bikes_test.shape)"
   ]
  },
  {
   "cell_type": "markdown",
   "metadata": {
    "button": false,
    "new_sheet": false,
    "run_control": {
     "read_only": false
    }
   },
   "source": [
    "**2.5 Although we asked you to create your train and test set...**"
   ]
  },
  {
   "cell_type": "code",
   "execution_count": 88,
   "metadata": {
    "button": false,
    "new_sheet": false,
    "run_control": {
     "read_only": false
    }
   },
   "outputs": [
    {
     "data": {
      "text/html": [
       "<div>\n",
       "<style scoped>\n",
       "    .dataframe tbody tr th:only-of-type {\n",
       "        vertical-align: middle;\n",
       "    }\n",
       "\n",
       "    .dataframe tbody tr th {\n",
       "        vertical-align: top;\n",
       "    }\n",
       "\n",
       "    .dataframe thead th {\n",
       "        text-align: right;\n",
       "    }\n",
       "</style>\n",
       "<table border=\"1\" class=\"dataframe\">\n",
       "  <thead>\n",
       "    <tr style=\"text-align: right;\">\n",
       "      <th></th>\n",
       "      <th>hour</th>\n",
       "      <th>holiday</th>\n",
       "      <th>year</th>\n",
       "      <th>workingday</th>\n",
       "      <th>temp</th>\n",
       "      <th>atemp</th>\n",
       "      <th>hum</th>\n",
       "      <th>windspeed</th>\n",
       "      <th>casual</th>\n",
       "      <th>registered</th>\n",
       "      <th>counts</th>\n",
       "      <th>spring</th>\n",
       "      <th>summer</th>\n",
       "      <th>fall</th>\n",
       "      <th>Feb</th>\n",
       "      <th>Mar</th>\n",
       "      <th>Apr</th>\n",
       "      <th>May</th>\n",
       "      <th>Jun</th>\n",
       "      <th>Jul</th>\n",
       "      <th>Aug</th>\n",
       "      <th>Sept</th>\n",
       "      <th>Oct</th>\n",
       "      <th>Nov</th>\n",
       "      <th>Dec</th>\n",
       "      <th>Mon</th>\n",
       "      <th>Tue</th>\n",
       "      <th>Wed</th>\n",
       "      <th>Thu</th>\n",
       "      <th>Fri</th>\n",
       "      <th>Sat</th>\n",
       "      <th>Cloudy</th>\n",
       "      <th>Snow</th>\n",
       "      <th>Storm</th>\n",
       "    </tr>\n",
       "  </thead>\n",
       "  <tbody>\n",
       "    <tr>\n",
       "      <th>0</th>\n",
       "      <td>21</td>\n",
       "      <td>0</td>\n",
       "      <td>1</td>\n",
       "      <td>1</td>\n",
       "      <td>0.24</td>\n",
       "      <td>0.2273</td>\n",
       "      <td>0.60</td>\n",
       "      <td>0.2537</td>\n",
       "      <td>12</td>\n",
       "      <td>51</td>\n",
       "      <td>63</td>\n",
       "      <td>0</td>\n",
       "      <td>0</td>\n",
       "      <td>0</td>\n",
       "      <td>0</td>\n",
       "      <td>0</td>\n",
       "      <td>0</td>\n",
       "      <td>0</td>\n",
       "      <td>0</td>\n",
       "      <td>0</td>\n",
       "      <td>0</td>\n",
       "      <td>0</td>\n",
       "      <td>0</td>\n",
       "      <td>0</td>\n",
       "      <td>1</td>\n",
       "      <td>0</td>\n",
       "      <td>0</td>\n",
       "      <td>0</td>\n",
       "      <td>1</td>\n",
       "      <td>0</td>\n",
       "      <td>0</td>\n",
       "      <td>1</td>\n",
       "      <td>0</td>\n",
       "      <td>0</td>\n",
       "    </tr>\n",
       "    <tr>\n",
       "      <th>1</th>\n",
       "      <td>17</td>\n",
       "      <td>0</td>\n",
       "      <td>0</td>\n",
       "      <td>1</td>\n",
       "      <td>0.62</td>\n",
       "      <td>0.5758</td>\n",
       "      <td>0.83</td>\n",
       "      <td>0.2537</td>\n",
       "      <td>47</td>\n",
       "      <td>432</td>\n",
       "      <td>479</td>\n",
       "      <td>0</td>\n",
       "      <td>0</td>\n",
       "      <td>1</td>\n",
       "      <td>0</td>\n",
       "      <td>0</td>\n",
       "      <td>0</td>\n",
       "      <td>0</td>\n",
       "      <td>0</td>\n",
       "      <td>0</td>\n",
       "      <td>0</td>\n",
       "      <td>0</td>\n",
       "      <td>1</td>\n",
       "      <td>0</td>\n",
       "      <td>0</td>\n",
       "      <td>0</td>\n",
       "      <td>0</td>\n",
       "      <td>0</td>\n",
       "      <td>1</td>\n",
       "      <td>0</td>\n",
       "      <td>0</td>\n",
       "      <td>0</td>\n",
       "      <td>1</td>\n",
       "      <td>0</td>\n",
       "    </tr>\n",
       "    <tr>\n",
       "      <th>2</th>\n",
       "      <td>9</td>\n",
       "      <td>0</td>\n",
       "      <td>1</td>\n",
       "      <td>1</td>\n",
       "      <td>0.76</td>\n",
       "      <td>0.7273</td>\n",
       "      <td>0.66</td>\n",
       "      <td>0.1642</td>\n",
       "      <td>54</td>\n",
       "      <td>299</td>\n",
       "      <td>353</td>\n",
       "      <td>0</td>\n",
       "      <td>1</td>\n",
       "      <td>0</td>\n",
       "      <td>0</td>\n",
       "      <td>0</td>\n",
       "      <td>0</td>\n",
       "      <td>0</td>\n",
       "      <td>0</td>\n",
       "      <td>0</td>\n",
       "      <td>1</td>\n",
       "      <td>0</td>\n",
       "      <td>0</td>\n",
       "      <td>0</td>\n",
       "      <td>0</td>\n",
       "      <td>0</td>\n",
       "      <td>0</td>\n",
       "      <td>0</td>\n",
       "      <td>1</td>\n",
       "      <td>0</td>\n",
       "      <td>0</td>\n",
       "      <td>0</td>\n",
       "      <td>0</td>\n",
       "      <td>0</td>\n",
       "    </tr>\n",
       "    <tr>\n",
       "      <th>3</th>\n",
       "      <td>17</td>\n",
       "      <td>0</td>\n",
       "      <td>1</td>\n",
       "      <td>0</td>\n",
       "      <td>0.62</td>\n",
       "      <td>0.6061</td>\n",
       "      <td>0.22</td>\n",
       "      <td>0.2985</td>\n",
       "      <td>185</td>\n",
       "      <td>226</td>\n",
       "      <td>411</td>\n",
       "      <td>1</td>\n",
       "      <td>0</td>\n",
       "      <td>0</td>\n",
       "      <td>0</td>\n",
       "      <td>0</td>\n",
       "      <td>1</td>\n",
       "      <td>0</td>\n",
       "      <td>0</td>\n",
       "      <td>0</td>\n",
       "      <td>0</td>\n",
       "      <td>0</td>\n",
       "      <td>0</td>\n",
       "      <td>0</td>\n",
       "      <td>0</td>\n",
       "      <td>0</td>\n",
       "      <td>0</td>\n",
       "      <td>0</td>\n",
       "      <td>0</td>\n",
       "      <td>0</td>\n",
       "      <td>0</td>\n",
       "      <td>0</td>\n",
       "      <td>0</td>\n",
       "      <td>0</td>\n",
       "    </tr>\n",
       "    <tr>\n",
       "      <th>4</th>\n",
       "      <td>8</td>\n",
       "      <td>0</td>\n",
       "      <td>1</td>\n",
       "      <td>0</td>\n",
       "      <td>0.18</td>\n",
       "      <td>0.1970</td>\n",
       "      <td>0.40</td>\n",
       "      <td>0.1343</td>\n",
       "      <td>9</td>\n",
       "      <td>61</td>\n",
       "      <td>70</td>\n",
       "      <td>0</td>\n",
       "      <td>0</td>\n",
       "      <td>0</td>\n",
       "      <td>0</td>\n",
       "      <td>0</td>\n",
       "      <td>0</td>\n",
       "      <td>0</td>\n",
       "      <td>0</td>\n",
       "      <td>0</td>\n",
       "      <td>0</td>\n",
       "      <td>0</td>\n",
       "      <td>0</td>\n",
       "      <td>0</td>\n",
       "      <td>0</td>\n",
       "      <td>0</td>\n",
       "      <td>0</td>\n",
       "      <td>0</td>\n",
       "      <td>0</td>\n",
       "      <td>0</td>\n",
       "      <td>0</td>\n",
       "      <td>0</td>\n",
       "      <td>0</td>\n",
       "      <td>0</td>\n",
       "    </tr>\n",
       "  </tbody>\n",
       "</table>\n",
       "</div>"
      ],
      "text/plain": [
       "   hour  holiday  year  workingday  temp   atemp   hum  windspeed  casual  \\\n",
       "0    21        0     1           1  0.24  0.2273  0.60     0.2537      12   \n",
       "1    17        0     0           1  0.62  0.5758  0.83     0.2537      47   \n",
       "2     9        0     1           1  0.76  0.7273  0.66     0.1642      54   \n",
       "3    17        0     1           0  0.62  0.6061  0.22     0.2985     185   \n",
       "4     8        0     1           0  0.18  0.1970  0.40     0.1343       9   \n",
       "\n",
       "   registered  counts  spring  summer  fall  Feb  Mar  Apr  May  Jun  Jul  \\\n",
       "0          51      63       0       0     0    0    0    0    0    0    0   \n",
       "1         432     479       0       0     1    0    0    0    0    0    0   \n",
       "2         299     353       0       1     0    0    0    0    0    0    0   \n",
       "3         226     411       1       0     0    0    0    1    0    0    0   \n",
       "4          61      70       0       0     0    0    0    0    0    0    0   \n",
       "\n",
       "   Aug  Sept  Oct  Nov  Dec  Mon  Tue  Wed  Thu  Fri  Sat  Cloudy  Snow  Storm  \n",
       "0    0     0    0    0    1    0    0    0    1    0    0       1     0      0  \n",
       "1    0     0    1    0    0    0    0    0    1    0    0       0     1      0  \n",
       "2    1     0    0    0    0    0    0    0    1    0    0       0     0      0  \n",
       "3    0     0    0    0    0    0    0    0    0    0    0       0     0      0  \n",
       "4    0     0    0    0    0    0    0    0    0    0    0       0     0      0  "
      ]
     },
     "execution_count": 88,
     "metadata": {},
     "output_type": "execute_result"
    }
   ],
   "source": [
    "BSS_train = pd.read_csv(\"data/BSS_train.csv\")\n",
    "BSS_test = pd.read_csv(\"data/BSS_test.csv\")\n",
    "BSS_train = BSS_train.drop(columns = \"dteday\")\n",
    "BSS_test = BSS_test.drop(columns = \"dteday\")\n",
    "pd.options.display.max_columns = 50\n",
    "BSS_train.head()"
   ]
  },
  {
   "cell_type": "markdown",
   "metadata": {
    "button": false,
    "new_sheet": false,
    "run_control": {
     "read_only": false
    }
   },
   "source": [
    "**2.6 Use pandas' `scatter_matrix` command to visualize...**"
   ]
  },
  {
   "cell_type": "code",
   "execution_count": 89,
   "metadata": {
    "button": false,
    "new_sheet": false,
    "run_control": {
     "read_only": false
    }
   },
   "outputs": [
    {
     "name": "stderr",
     "output_type": "stream",
     "text": [
      "//anaconda3/lib/python3.7/site-packages/pandas/plotting/_misc.py:108: UserWarning: Attempting to set identical left == right == 0.0 results in singular transformations; automatically expanding.\n",
      "  ax.set_xlim(boundaries_list[j])\n",
      "//anaconda3/lib/python3.7/site-packages/pandas/plotting/_misc.py:109: UserWarning: Attempting to set identical bottom == top == 0.0 results in singular transformations; automatically expanding.\n",
      "  ax.set_ylim(boundaries_list[i])\n",
      "//anaconda3/lib/python3.7/site-packages/pandas/plotting/_misc.py:100: UserWarning: Attempting to set identical left == right == 0.0 results in singular transformations; automatically expanding.\n",
      "  ax.set_xlim(boundaries_list[i])\n"
     ]
    },
    {
     "data": {
      "image/png": "[encoded data removed]",
      "text/plain": [
       "<Figure size 1080x720 with 256 Axes>"
      ]
     },
     "metadata": {
      "needs_background": "light"
     },
     "output_type": "display_data"
    }
   ],
   "source": [
    "# your code here\n",
    "df_scatter = BSS_train[['hour', 'holiday', 'temp', 'atemp', \n",
    "               'workingday', 'hum', 'windspeed', \n",
    "               'counts', 'casual', 'registered',\n",
    "               'fall', 'summer', 'spring', \n",
    "               'Snow', 'Storm', 'Cloudy']].copy()\n",
    "pd.plotting.scatter_matrix(df_scatter.sample(frac = .02), figsize = (15,10));"
   ]
  },
  {
   "cell_type": "markdown",
   "metadata": {
    "button": false,
    "new_sheet": false,
    "run_control": {
     "read_only": false
    }
   },
   "source": [
    "**2.7 Make a plot showing the _average_ number of casual and registered riders...**"
   ]
  },
  {
   "cell_type": "code",
   "execution_count": 90,
   "metadata": {
    "button": false,
    "new_sheet": false,
    "run_control": {
     "read_only": false
    }
   },
   "outputs": [
    {
     "data": {
      "image/png": "[encoded data removed]",
      "text/plain": [
       "<Figure size 432x288 with 1 Axes>"
      ]
     },
     "metadata": {
      "needs_background": "light"
     },
     "output_type": "display_data"
    }
   ],
   "source": [
    "# your code here\n",
    "BSS_train_hour = BSS_train.groupby(\"hour\").agg({\n",
    "    'hour': np.median,\n",
    "    'casual': np.mean,\n",
    "    'registered': np.mean\n",
    "})\n",
    "plt.scatter(BSS_train_hour[\"hour\"], BSS_train_hour[\"casual\"], label = 'casual')\n",
    "plt.scatter(BSS_train_hour[\"hour\"], BSS_train_hour[\"registered\"], label = 'registered')\n",
    "plt.legend()\n",
    "plt.title(\"Num of Casual & Registered Riders vs. Time of Day (hrs)\")\n",
    "plt.xlabel(\"Time of day (hrs)\")\n",
    "plt.ylabel(\"Num Riders\")\n",
    "plt.show()"
   ]
  },
  {
   "cell_type": "markdown",
   "metadata": {},
   "source": [
    "The average number of registered riders is higher than the average number of casual riders at every point of the day. The number of casual riders increases at around 11am, and stays high until the late afternoon at around 5pm. This makes sense since these are the nice hours of the day when it is warmest and people are most inclined to go on a casual bikeride. The number of registered riders has spikes during the morning and evening commutes (at around 7-8am and at around 5-7pm). "
   ]
  },
  {
   "cell_type": "markdown",
   "metadata": {
    "button": false,
    "new_sheet": false,
    "run_control": {
     "read_only": false
    }
   },
   "source": [
    "**2.8 Use the weather related variables to show how each weather...** "
   ]
  },
  {
   "cell_type": "code",
   "execution_count": 129,
   "metadata": {},
   "outputs": [
    {
     "data": {
      "image/png": "[encoded data removed]",
      "text/plain": [
       "<Figure size 432x288 with 1 Axes>"
      ]
     },
     "metadata": {
      "needs_background": "light"
     },
     "output_type": "display_data"
    },
    {
     "data": {
      "image/png": "[encoded data removed]",
      "text/plain": [
       "<Figure size 432x288 with 1 Axes>"
      ]
     },
     "metadata": {
      "needs_background": "light"
     },
     "output_type": "display_data"
    },
    {
     "data": {
      "image/png": "[encoded data removed]",
      "text/plain": [
       "<Figure size 432x288 with 1 Axes>"
      ]
     },
     "metadata": {
      "needs_background": "light"
     },
     "output_type": "display_data"
    },
    {
     "data": {
      "image/png": "[encoded data removed]",
      "text/plain": [
       "<Figure size 432x288 with 1 Axes>"
      ]
     },
     "metadata": {
      "needs_background": "light"
     },
     "output_type": "display_data"
    }
   ],
   "source": [
    "BSS_snow = BSS_train.loc[BSS_train['Snow'] == 1]\n",
    "BSS_storm = BSS_train.loc[BSS_train['Storm'] == 1]\n",
    "BSS_cloudy = BSS_train.loc[BSS_train['Cloudy'] == 1]\n",
    "BSS_clear = BSS_train.loc[(BSS_train['Cloudy'] == 0) & (BSS_train['Storm'] == 0) & (BSS_train['Snow'] == 0)]\n",
    "\n",
    "BSS_train_list = [BSS_snow, BSS_storm, BSS_cloudy, BSS_clear]\n",
    "\n",
    "for index, item in enumerate(BSS_train_list):\n",
    "\n",
    "    BSS_train_hour = item.groupby(\"hour\").agg({\n",
    "        'hour': np.median,\n",
    "        'casual': np.mean,\n",
    "        'registered': np.mean\n",
    "    })\n",
    "    \n",
    "    if index == 0:\n",
    "        x = \"snow\"\n",
    "    elif index == 1:\n",
    "        x = \"storm\"\n",
    "    elif index == 2:\n",
    "        x = \"cloudy\"\n",
    "    else:\n",
    "        x = \"clear\"\n",
    "    \n",
    "    plt.scatter(BSS_train_hour[\"hour\"], BSS_train_hour[\"casual\"], label = 'casual')\n",
    "    plt.scatter(BSS_train_hour[\"hour\"], BSS_train_hour[\"registered\"], label = 'registered')\n",
    "    plt.legend()\n",
    "    plt.title(\"Num of Casual & Registered Riders vs. Time of Day (hrs) for: \" + x) \n",
    "    plt.xlabel(\"Time of day (hrs)\")\n",
    "    plt.ylabel(\"Num Riders\")\n",
    "    plt.show()"
   ]
  },
  {
   "cell_type": "markdown",
   "metadata": {},
   "source": [
    "Observations: There were only 2 stormy days, so no real patterns are able to determined from such a small sample. The other 3 plots (clear, cloudy, and snow) all seem to follow the same shaped distribution. However, there are important differences in these plots. While the number of registered riders is basically the same for clear and cloudy days, the number of casual riders is greater on clear days, as can be seen by comparing the blue dots from the bottom two graphs. Furthermore, on snowy days, the number of both casual and registered riders decreases (approximately proportionally), as can be seen by comparing the y values of the points on the top graph to the bottom two graphs. "
   ]
  },
  {
   "cell_type": "markdown",
   "metadata": {
    "button": false,
    "new_sheet": false,
    "run_control": {
     "read_only": false
    }
   },
   "source": [
    "<div class='exercise'> <b> Question 3 [18pts]: Multiple Linear Regression to Predict Hourly Ridership </b> </div>\n",
    "\n",
    "\n",
    "**3.1** Use statsmodels to fit a multiple linear regression model to the training set using all the useable predictors (nothing that `count` was derived of and no interactions or polynomial terms) to predict `counts`, and report its $R^2$ score on the train and test sets.  Call this set of predictors `X_train`.\n",
    "\n",
    "**3.2** Examine the estimated coefficients and report which ones are statistically significant at a significance level of 5% (p-value < 0.05). \n",
    "\n",
    "**3.3** You should see some strange estimates for the predictors representing months.  Carefully interpret the `July` coefficient, and explain why this result is likely occurring (be as specific as possible). \n",
    "\n",
    "**3.4** To diagnose the model, make two plots: first a histogram of the residuals, and second a plot of the residuals of the fitted model ${e} = y - \\hat{y}$ as a function of the predicted value $\\hat{y}$. Draw a horizontal line denoting the zero residual value on the Y-axis. What do the plots reveal about the OLS assumptions (linearity, constant variance, and normality)?\n",
    "\n",
    "**3.5** Perhaps we can do better via a model with polynomial terms. Build a dataset `X_train_poly` from your `X_train` data from question 3.1 with added $x^2$ terms for `temp`, `hour`, and `humidity`. Are these polynomial terms important? How does predicted ridership change as each of `temp`, `hour`, and `humidity` increase?\n",
    "\n",
    "**3.6** You should have received a warning regarding the presence of _multicolinearity_ in the model in 3.1.  Create a new dataset `X_train_drop` by dropping the following predictors from `X_train`:  `workingday` `atemp` `spring` `summer` and `fall` and fit a multiple linear regression model to the variables the remain.  Are the estimates more sensible in this model?  And explain in your own words why multicolinearity can lead to erroneous coefficient values.\n",
    "\n"
   ]
  },
  {
   "cell_type": "markdown",
   "metadata": {
    "button": false,
    "new_sheet": false,
    "run_control": {
     "read_only": false
    }
   },
   "source": [
    "### Answers"
   ]
  },
  {
   "cell_type": "markdown",
   "metadata": {
    "button": false,
    "new_sheet": false,
    "run_control": {
     "read_only": false
    }
   },
   "source": [
    "**3.1 Use statsmodels to fit a multiple linear regression model...**"
   ]
  },
  {
   "cell_type": "code",
   "execution_count": 95,
   "metadata": {
    "button": false,
    "new_sheet": false,
    "run_control": {
     "read_only": false
    }
   },
   "outputs": [
    {
     "name": "stdout",
     "output_type": "stream",
     "text": [
      "train_score:  0.4115699822629325\n",
      "test_score:  0.40072109229413466\n"
     ]
    },
    {
     "name": "stderr",
     "output_type": "stream",
     "text": [
      "//anaconda3/lib/python3.7/site-packages/numpy/core/fromnumeric.py:2389: FutureWarning: Method .ptp is deprecated and will be removed in a future version. Use numpy.ptp instead.\n",
      "  return ptp(axis=axis, out=out, **kwargs)\n"
     ]
    }
   ],
   "source": [
    "# your code here\n",
    "\n",
    "# get y train and test\n",
    "y_train = BSS_train['counts']\n",
    "y_test = BSS_test['counts']\n",
    "\n",
    "# get x train and test\n",
    "def build_data1(df):\n",
    "    x_matrix = df.drop(columns = ['casual', 'registered', 'counts'])\n",
    "    x_matrix = sm.add_constant(x_matrix)\n",
    "    return x_matrix\n",
    "\n",
    "X_train = build_data1(BSS_train)\n",
    "X_test = build_data1(BSS_test)\n",
    "\n",
    "# build model and get r2 score on train\n",
    "fitted_model_1 = OLS(endog= y_train, exog=X_train, hasconst=True).fit()\n",
    "fitted_model_1.summary()\n",
    "train_score = fitted_model_1.rsquared\n",
    "\n",
    "# r2 score on test\n",
    "test_score = r2_score(y_test, fitted_model_1.predict(X_test))\n",
    "\n",
    "print(\"train_score: \", train_score)\n",
    "print(\"test_score: \", test_score)"
   ]
  },
  {
   "cell_type": "markdown",
   "metadata": {
    "button": false,
    "new_sheet": false,
    "run_control": {
     "read_only": false
    }
   },
   "source": [
    "**3.2 Examine the estimated coefficients and report...**"
   ]
  },
  {
   "cell_type": "code",
   "execution_count": 96,
   "metadata": {},
   "outputs": [
    {
     "data": {
      "text/html": [
       "<table class=\"simpletable\">\n",
       "<caption>OLS Regression Results</caption>\n",
       "<tr>\n",
       "  <th>Dep. Variable:</th>         <td>counts</td>      <th>  R-squared:         </th> <td>   0.412</td> \n",
       "</tr>\n",
       "<tr>\n",
       "  <th>Model:</th>                   <td>OLS</td>       <th>  Adj. R-squared:    </th> <td>   0.410</td> \n",
       "</tr>\n",
       "<tr>\n",
       "  <th>Method:</th>             <td>Least Squares</td>  <th>  F-statistic:       </th> <td>   201.9</td> \n",
       "</tr>\n",
       "<tr>\n",
       "  <th>Date:</th>             <td>Mon, 07 Oct 2019</td> <th>  Prob (F-statistic):</th>  <td>  0.00</td>  \n",
       "</tr>\n",
       "<tr>\n",
       "  <th>Time:</th>                 <td>21:39:52</td>     <th>  Log-Likelihood:    </th> <td> -55215.</td> \n",
       "</tr>\n",
       "<tr>\n",
       "  <th>No. Observations:</th>      <td>  8689</td>      <th>  AIC:               </th> <td>1.105e+05</td>\n",
       "</tr>\n",
       "<tr>\n",
       "  <th>Df Residuals:</th>          <td>  8658</td>      <th>  BIC:               </th> <td>1.107e+05</td>\n",
       "</tr>\n",
       "<tr>\n",
       "  <th>Df Model:</th>              <td>    30</td>      <th>                     </th>     <td> </td>    \n",
       "</tr>\n",
       "<tr>\n",
       "  <th>Covariance Type:</th>      <td>nonrobust</td>    <th>                     </th>     <td> </td>    \n",
       "</tr>\n",
       "</table>\n",
       "<table class=\"simpletable\">\n",
       "<tr>\n",
       "       <td></td>         <th>coef</th>     <th>std err</th>      <th>t</th>      <th>P>|t|</th>  <th>[0.025</th>    <th>0.975]</th>  \n",
       "</tr>\n",
       "<tr>\n",
       "  <th>const</th>      <td>  -30.4075</td> <td>   10.908</td> <td>   -2.788</td> <td> 0.005</td> <td>  -51.789</td> <td>   -9.026</td>\n",
       "</tr>\n",
       "<tr>\n",
       "  <th>hour</th>       <td>    7.2092</td> <td>    0.233</td> <td>   30.975</td> <td> 0.000</td> <td>    6.753</td> <td>    7.665</td>\n",
       "</tr>\n",
       "<tr>\n",
       "  <th>holiday</th>    <td>  -19.1510</td> <td>    8.369</td> <td>   -2.288</td> <td> 0.022</td> <td>  -35.556</td> <td>   -2.746</td>\n",
       "</tr>\n",
       "<tr>\n",
       "  <th>year</th>       <td>   78.1211</td> <td>    3.020</td> <td>   25.864</td> <td> 0.000</td> <td>   72.200</td> <td>   84.042</td>\n",
       "</tr>\n",
       "<tr>\n",
       "  <th>workingday</th> <td>   10.9484</td> <td>    3.512</td> <td>    3.118</td> <td> 0.002</td> <td>    4.065</td> <td>   17.832</td>\n",
       "</tr>\n",
       "<tr>\n",
       "  <th>temp</th>       <td>  273.6625</td> <td>   61.680</td> <td>    4.437</td> <td> 0.000</td> <td>  152.755</td> <td>  394.570</td>\n",
       "</tr>\n",
       "<tr>\n",
       "  <th>atemp</th>      <td>  162.5353</td> <td>   64.909</td> <td>    2.504</td> <td> 0.012</td> <td>   35.298</td> <td>  289.773</td>\n",
       "</tr>\n",
       "<tr>\n",
       "  <th>hum</th>        <td> -202.0080</td> <td>    9.927</td> <td>  -20.349</td> <td> 0.000</td> <td> -221.468</td> <td> -182.548</td>\n",
       "</tr>\n",
       "<tr>\n",
       "  <th>windspeed</th>  <td>   19.3827</td> <td>   13.595</td> <td>    1.426</td> <td> 0.154</td> <td>   -7.268</td> <td>   46.033</td>\n",
       "</tr>\n",
       "<tr>\n",
       "  <th>spring</th>     <td>   50.0754</td> <td>    9.528</td> <td>    5.256</td> <td> 0.000</td> <td>   31.398</td> <td>   68.753</td>\n",
       "</tr>\n",
       "<tr>\n",
       "  <th>summer</th>     <td>   22.6879</td> <td>   11.138</td> <td>    2.037</td> <td> 0.042</td> <td>    0.855</td> <td>   44.521</td>\n",
       "</tr>\n",
       "<tr>\n",
       "  <th>fall</th>       <td>   70.9474</td> <td>    9.448</td> <td>    7.509</td> <td> 0.000</td> <td>   52.426</td> <td>   89.469</td>\n",
       "</tr>\n",
       "<tr>\n",
       "  <th>Feb</th>        <td>  -10.7198</td> <td>    7.590</td> <td>   -1.412</td> <td> 0.158</td> <td>  -25.598</td> <td>    4.158</td>\n",
       "</tr>\n",
       "<tr>\n",
       "  <th>Mar</th>        <td>  -11.2938</td> <td>    8.385</td> <td>   -1.347</td> <td> 0.178</td> <td>  -27.731</td> <td>    5.143</td>\n",
       "</tr>\n",
       "<tr>\n",
       "  <th>Apr</th>        <td>  -44.8326</td> <td>   12.635</td> <td>   -3.548</td> <td> 0.000</td> <td>  -69.600</td> <td>  -20.065</td>\n",
       "</tr>\n",
       "<tr>\n",
       "  <th>May</th>        <td>  -50.1605</td> <td>   13.493</td> <td>   -3.718</td> <td> 0.000</td> <td>  -76.609</td> <td>  -23.712</td>\n",
       "</tr>\n",
       "<tr>\n",
       "  <th>Jun</th>        <td>  -72.2042</td> <td>   13.700</td> <td>   -5.271</td> <td> 0.000</td> <td>  -99.058</td> <td>  -45.350</td>\n",
       "</tr>\n",
       "<tr>\n",
       "  <th>Jul</th>        <td>  -90.8965</td> <td>   15.387</td> <td>   -5.907</td> <td> 0.000</td> <td> -121.058</td> <td>  -60.735</td>\n",
       "</tr>\n",
       "<tr>\n",
       "  <th>Aug</th>        <td>  -58.3246</td> <td>   15.061</td> <td>   -3.873</td> <td> 0.000</td> <td>  -87.847</td> <td>  -28.802</td>\n",
       "</tr>\n",
       "<tr>\n",
       "  <th>Sept</th>       <td>  -16.1686</td> <td>   13.432</td> <td>   -1.204</td> <td> 0.229</td> <td>  -42.499</td> <td>   10.162</td>\n",
       "</tr>\n",
       "<tr>\n",
       "  <th>Oct</th>        <td>  -15.8838</td> <td>   12.484</td> <td>   -1.272</td> <td> 0.203</td> <td>  -40.356</td> <td>    8.588</td>\n",
       "</tr>\n",
       "<tr>\n",
       "  <th>Nov</th>        <td>  -32.7232</td> <td>   12.049</td> <td>   -2.716</td> <td> 0.007</td> <td>  -56.342</td> <td>   -9.104</td>\n",
       "</tr>\n",
       "<tr>\n",
       "  <th>Dec</th>        <td>  -19.2088</td> <td>    9.560</td> <td>   -2.009</td> <td> 0.045</td> <td>  -37.949</td> <td>   -0.469</td>\n",
       "</tr>\n",
       "<tr>\n",
       "  <th>Mon</th>        <td>   -3.3336</td> <td>    3.756</td> <td>   -0.888</td> <td> 0.375</td> <td>  -10.697</td> <td>    4.029</td>\n",
       "</tr>\n",
       "<tr>\n",
       "  <th>Tue</th>        <td>   -0.0074</td> <td>    4.105</td> <td>   -0.002</td> <td> 0.999</td> <td>   -8.055</td> <td>    8.040</td>\n",
       "</tr>\n",
       "<tr>\n",
       "  <th>Wed</th>        <td>   -2.2059</td> <td>    4.082</td> <td>   -0.540</td> <td> 0.589</td> <td>  -10.207</td> <td>    5.795</td>\n",
       "</tr>\n",
       "<tr>\n",
       "  <th>Thu</th>        <td>   -5.5698</td> <td>    4.013</td> <td>   -1.388</td> <td> 0.165</td> <td>  -13.436</td> <td>    2.297</td>\n",
       "</tr>\n",
       "<tr>\n",
       "  <th>Fri</th>        <td>    2.9140</td> <td>    4.015</td> <td>    0.726</td> <td> 0.468</td> <td>   -4.956</td> <td>   10.784</td>\n",
       "</tr>\n",
       "<tr>\n",
       "  <th>Sat</th>        <td>   12.7461</td> <td>    5.587</td> <td>    2.281</td> <td> 0.023</td> <td>    1.793</td> <td>   23.699</td>\n",
       "</tr>\n",
       "<tr>\n",
       "  <th>Cloudy</th>     <td>    6.9163</td> <td>    3.676</td> <td>    1.882</td> <td> 0.060</td> <td>   -0.289</td> <td>   14.122</td>\n",
       "</tr>\n",
       "<tr>\n",
       "  <th>Snow</th>       <td>  -26.8155</td> <td>    6.094</td> <td>   -4.401</td> <td> 0.000</td> <td>  -38.760</td> <td>  -14.871</td>\n",
       "</tr>\n",
       "<tr>\n",
       "  <th>Storm</th>      <td>   48.2045</td> <td>   98.839</td> <td>    0.488</td> <td> 0.626</td> <td> -145.543</td> <td>  241.952</td>\n",
       "</tr>\n",
       "</table>\n",
       "<table class=\"simpletable\">\n",
       "<tr>\n",
       "  <th>Omnibus:</th>       <td>1691.839</td> <th>  Durbin-Watson:     </th> <td>   1.982</td>\n",
       "</tr>\n",
       "<tr>\n",
       "  <th>Prob(Omnibus):</th>  <td> 0.000</td>  <th>  Jarque-Bera (JB):  </th> <td>3250.657</td>\n",
       "</tr>\n",
       "<tr>\n",
       "  <th>Skew:</th>           <td> 1.191</td>  <th>  Prob(JB):          </th> <td>    0.00</td>\n",
       "</tr>\n",
       "<tr>\n",
       "  <th>Kurtosis:</th>       <td> 4.818</td>  <th>  Cond. No.          </th> <td>1.17e+16</td>\n",
       "</tr>\n",
       "</table><br/><br/>Warnings:<br/>[1] Standard Errors assume that the covariance matrix of the errors is correctly specified.<br/>[2] The smallest eigenvalue is 1.18e-26. This might indicate that there are<br/>strong multicollinearity problems or that the design matrix is singular."
      ],
      "text/plain": [
       "<class 'statsmodels.iolib.summary.Summary'>\n",
       "\"\"\"\n",
       "                            OLS Regression Results                            \n",
       "==============================================================================\n",
       "Dep. Variable:                 counts   R-squared:                       0.412\n",
       "Model:                            OLS   Adj. R-squared:                  0.410\n",
       "Method:                 Least Squares   F-statistic:                     201.9\n",
       "Date:                Mon, 07 Oct 2019   Prob (F-statistic):               0.00\n",
       "Time:                        21:39:52   Log-Likelihood:                -55215.\n",
       "No. Observations:                8689   AIC:                         1.105e+05\n",
       "Df Residuals:                    8658   BIC:                         1.107e+05\n",
       "Df Model:                          30                                         \n",
       "Covariance Type:            nonrobust                                         \n",
       "==============================================================================\n",
       "                 coef    std err          t      P>|t|      [0.025      0.975]\n",
       "------------------------------------------------------------------------------\n",
       "const        -30.4075     10.908     -2.788      0.005     -51.789      -9.026\n",
       "hour           7.2092      0.233     30.975      0.000       6.753       7.665\n",
       "holiday      -19.1510      8.369     -2.288      0.022     -35.556      -2.746\n",
       "year          78.1211      3.020     25.864      0.000      72.200      84.042\n",
       "workingday    10.9484      3.512      3.118      0.002       4.065      17.832\n",
       "temp         273.6625     61.680      4.437      0.000     152.755     394.570\n",
       "atemp        162.5353     64.909      2.504      0.012      35.298     289.773\n",
       "hum         -202.0080      9.927    -20.349      0.000    -221.468    -182.548\n",
       "windspeed     19.3827     13.595      1.426      0.154      -7.268      46.033\n",
       "spring        50.0754      9.528      5.256      0.000      31.398      68.753\n",
       "summer        22.6879     11.138      2.037      0.042       0.855      44.521\n",
       "fall          70.9474      9.448      7.509      0.000      52.426      89.469\n",
       "Feb          -10.7198      7.590     -1.412      0.158     -25.598       4.158\n",
       "Mar          -11.2938      8.385     -1.347      0.178     -27.731       5.143\n",
       "Apr          -44.8326     12.635     -3.548      0.000     -69.600     -20.065\n",
       "May          -50.1605     13.493     -3.718      0.000     -76.609     -23.712\n",
       "Jun          -72.2042     13.700     -5.271      0.000     -99.058     -45.350\n",
       "Jul          -90.8965     15.387     -5.907      0.000    -121.058     -60.735\n",
       "Aug          -58.3246     15.061     -3.873      0.000     -87.847     -28.802\n",
       "Sept         -16.1686     13.432     -1.204      0.229     -42.499      10.162\n",
       "Oct          -15.8838     12.484     -1.272      0.203     -40.356       8.588\n",
       "Nov          -32.7232     12.049     -2.716      0.007     -56.342      -9.104\n",
       "Dec          -19.2088      9.560     -2.009      0.045     -37.949      -0.469\n",
       "Mon           -3.3336      3.756     -0.888      0.375     -10.697       4.029\n",
       "Tue           -0.0074      4.105     -0.002      0.999      -8.055       8.040\n",
       "Wed           -2.2059      4.082     -0.540      0.589     -10.207       5.795\n",
       "Thu           -5.5698      4.013     -1.388      0.165     -13.436       2.297\n",
       "Fri            2.9140      4.015      0.726      0.468      -4.956      10.784\n",
       "Sat           12.7461      5.587      2.281      0.023       1.793      23.699\n",
       "Cloudy         6.9163      3.676      1.882      0.060      -0.289      14.122\n",
       "Snow         -26.8155      6.094     -4.401      0.000     -38.760     -14.871\n",
       "Storm         48.2045     98.839      0.488      0.626    -145.543     241.952\n",
       "==============================================================================\n",
       "Omnibus:                     1691.839   Durbin-Watson:                   1.982\n",
       "Prob(Omnibus):                  0.000   Jarque-Bera (JB):             3250.657\n",
       "Skew:                           1.191   Prob(JB):                         0.00\n",
       "Kurtosis:                       4.818   Cond. No.                     1.17e+16\n",
       "==============================================================================\n",
       "\n",
       "Warnings:\n",
       "[1] Standard Errors assume that the covariance matrix of the errors is correctly specified.\n",
       "[2] The smallest eigenvalue is 1.18e-26. This might indicate that there are\n",
       "strong multicollinearity problems or that the design matrix is singular.\n",
       "\"\"\""
      ]
     },
     "execution_count": 96,
     "metadata": {},
     "output_type": "execute_result"
    }
   ],
   "source": [
    "fitted_model_1.summary()"
   ]
  },
  {
   "cell_type": "code",
   "execution_count": 97,
   "metadata": {
    "button": false,
    "new_sheet": false,
    "run_control": {
     "read_only": false
    }
   },
   "outputs": [],
   "source": [
    "# your code here\n",
    "list = [elem for elem in fitted_model_1.pvalues if elem < .05]"
   ]
  },
  {
   "cell_type": "markdown",
   "metadata": {},
   "source": [
    "The columns with p-values of less than .05 are const, hour, holiday, year, workingday, temp, atemp, hum, spring, summer, fall, Apr, May, Jun, Jul, Aug, Nov, Dec, Sat, and Snow."
   ]
  },
  {
   "cell_type": "markdown",
   "metadata": {
    "run_control": {}
   },
   "source": [
    "**3.3 You should see some strange estimates for the predictors representing months...** "
   ]
  },
  {
   "cell_type": "markdown",
   "metadata": {
    "run_control": {}
   },
   "source": [
    "*your answer here*\n",
    "The coefficient for July was -90. This means that if a day is in July the model will decrease the prediction by 90  bikeriders. This might be because July is much hotter, and so less people want to go biking. "
   ]
  },
  {
   "cell_type": "markdown",
   "metadata": {
    "button": false,
    "new_sheet": false,
    "run_control": {
     "read_only": false
    }
   },
   "source": [
    "**3.4 To diagnose the model, make two plots:...**"
   ]
  },
  {
   "cell_type": "markdown",
   "metadata": {},
   "source": [
    "To diagnose the model, make two plots: first a histogram of the residuals, and second a plot of the residuals of the fitted model  𝑒=𝑦−𝑦̂   as a function of the predicted value  𝑦̂  . Draw a horizontal line denoting the zero residual value on the Y-axis. What do the plots reveal about the OLS assumptions (linearity, constant variance, and normality)"
   ]
  },
  {
   "cell_type": "code",
   "execution_count": 98,
   "metadata": {},
   "outputs": [
    {
     "data": {
      "text/plain": [
       "const         -30.407500\n",
       "hour            7.209247\n",
       "holiday       -19.151036\n",
       "year           78.121108\n",
       "workingday     10.948441\n",
       "temp          273.662515\n",
       "atemp         162.535266\n",
       "hum          -202.008009\n",
       "windspeed      19.382705\n",
       "spring         50.075412\n",
       "summer         22.687920\n",
       "fall           70.947417\n",
       "Feb           -10.719770\n",
       "Mar           -11.293840\n",
       "Apr           -44.832594\n",
       "May           -50.160547\n",
       "Jun           -72.204151\n",
       "Jul           -90.896453\n",
       "Aug           -58.324552\n",
       "Sept          -16.168637\n",
       "Oct           -15.883815\n",
       "Nov           -32.723179\n",
       "Dec           -19.208751\n",
       "Mon            -3.333610\n",
       "Tue            -0.007375\n",
       "Wed            -2.205852\n",
       "Thu            -5.569800\n",
       "Fri             2.914043\n",
       "Sat            12.746077\n",
       "Cloudy          6.916314\n",
       "Snow          -26.815450\n",
       "Storm          48.204539\n",
       "dtype: float64"
      ]
     },
     "execution_count": 98,
     "metadata": {},
     "output_type": "execute_result"
    }
   ],
   "source": [
    "fitted_model_1.params"
   ]
  },
  {
   "cell_type": "code",
   "execution_count": 99,
   "metadata": {
    "button": false,
    "new_sheet": false,
    "run_control": {
     "read_only": false
    }
   },
   "outputs": [
    {
     "data": {
      "image/png": "[encoded data removed]",
      "text/plain": [
       "<Figure size 432x288 with 1 Axes>"
      ]
     },
     "metadata": {
      "needs_background": "light"
     },
     "output_type": "display_data"
    }
   ],
   "source": [
    "# your code here\n",
    "predictions = fitted_model_1.predict(X_train)\n",
    "residuals = y_train - predictions\n",
    "plt.hist(residuals)\n",
    "plt.xlabel(\"residual amount\")\n",
    "plt.ylabel(\"Num residuals\")\n",
    "plt.title(\"Histogram of residuals\");"
   ]
  },
  {
   "cell_type": "code",
   "execution_count": 100,
   "metadata": {},
   "outputs": [
    {
     "data": {
      "image/png": "[encoded data removed]",
      "text/plain": [
       "<Figure size 720x432 with 1 Axes>"
      ]
     },
     "metadata": {
      "needs_background": "light"
     },
     "output_type": "display_data"
    }
   ],
   "source": [
    "fig, ax = plt.subplots(figsize=(10,6))\n",
    "ax.scatter(predictions, residuals, s=3)\n",
    "ax.set_xlabel(\"Predicted Y\")\n",
    "ax.set_ylabel(\"Residual\")\n",
    "ax.set_title(\"Residuals vs. Predictions\")\n",
    "xgrid = np.linspace(-200, 500, 100)\n",
    "\n",
    "ax.plot(xgrid, np.zeros(100), color = 'red');"
   ]
  },
  {
   "cell_type": "markdown",
   "metadata": {},
   "source": [
    "The OLS model assumes that a linear model will fit the data well. Meaning, it assumes that the dependent variable (in this case, counts) varies linearly with every independent variable (in this case, all the other variables). As can be seen from the above graphs, a linear model clearly doesn't fit out data. The residuals of this model are not distributed normally, and have a mean of 200 (instead of 0).  "
   ]
  },
  {
   "cell_type": "markdown",
   "metadata": {
    "button": false,
    "new_sheet": false,
    "run_control": {
     "read_only": false
    }
   },
   "source": [
    "**3.5 Perhaps we can do better via a model...**"
   ]
  },
  {
   "cell_type": "markdown",
   "metadata": {},
   "source": [
    "Perhaps we can do better via a model with polynomial terms. Build a dataset X_train_poly from your X_train data from question 3.1 with added  𝑥2  terms for temp, hour, and humidity. Are these polynomial terms important? How does predicted ridership change as each of temp, hour, and humidity increase?"
   ]
  },
  {
   "cell_type": "code",
   "execution_count": 101,
   "metadata": {
    "button": false,
    "new_sheet": false,
    "run_control": {
     "read_only": false
    }
   },
   "outputs": [
    {
     "data": {
      "text/html": [
       "<table class=\"simpletable\">\n",
       "<caption>OLS Regression Results</caption>\n",
       "<tr>\n",
       "  <th>Dep. Variable:</th>         <td>counts</td>      <th>  R-squared:         </th> <td>   0.508</td> \n",
       "</tr>\n",
       "<tr>\n",
       "  <th>Model:</th>                   <td>OLS</td>       <th>  Adj. R-squared:    </th> <td>   0.507</td> \n",
       "</tr>\n",
       "<tr>\n",
       "  <th>Method:</th>             <td>Least Squares</td>  <th>  F-statistic:       </th> <td>   271.3</td> \n",
       "</tr>\n",
       "<tr>\n",
       "  <th>Date:</th>             <td>Mon, 07 Oct 2019</td> <th>  Prob (F-statistic):</th>  <td>  0.00</td>  \n",
       "</tr>\n",
       "<tr>\n",
       "  <th>Time:</th>                 <td>21:39:53</td>     <th>  Log-Likelihood:    </th> <td> -54433.</td> \n",
       "</tr>\n",
       "<tr>\n",
       "  <th>No. Observations:</th>      <td>  8689</td>      <th>  AIC:               </th> <td>1.089e+05</td>\n",
       "</tr>\n",
       "<tr>\n",
       "  <th>Df Residuals:</th>          <td>  8655</td>      <th>  BIC:               </th> <td>1.092e+05</td>\n",
       "</tr>\n",
       "<tr>\n",
       "  <th>Df Model:</th>              <td>    33</td>      <th>                     </th>     <td> </td>    \n",
       "</tr>\n",
       "<tr>\n",
       "  <th>Covariance Type:</th>      <td>nonrobust</td>    <th>                     </th>     <td> </td>    \n",
       "</tr>\n",
       "</table>\n",
       "<table class=\"simpletable\">\n",
       "<tr>\n",
       "        <td></td>          <th>coef</th>     <th>std err</th>      <th>t</th>      <th>P>|t|</th>  <th>[0.025</th>    <th>0.975]</th>  \n",
       "</tr>\n",
       "<tr>\n",
       "  <th>const</th>        <td> -193.3332</td> <td>   17.588</td> <td>  -10.992</td> <td> 0.000</td> <td> -227.810</td> <td> -158.857</td>\n",
       "</tr>\n",
       "<tr>\n",
       "  <th>hour</th>         <td>   40.2211</td> <td>    0.840</td> <td>   47.896</td> <td> 0.000</td> <td>   38.575</td> <td>   41.867</td>\n",
       "</tr>\n",
       "<tr>\n",
       "  <th>holiday</th>      <td>  -14.0310</td> <td>    7.656</td> <td>   -1.833</td> <td> 0.067</td> <td>  -29.039</td> <td>    0.977</td>\n",
       "</tr>\n",
       "<tr>\n",
       "  <th>year</th>         <td>   83.2098</td> <td>    2.781</td> <td>   29.921</td> <td> 0.000</td> <td>   77.758</td> <td>   88.661</td>\n",
       "</tr>\n",
       "<tr>\n",
       "  <th>workingday</th>   <td>   13.2241</td> <td>    3.212</td> <td>    4.117</td> <td> 0.000</td> <td>    6.928</td> <td>   19.520</td>\n",
       "</tr>\n",
       "<tr>\n",
       "  <th>temp</th>         <td>   46.0096</td> <td>   78.769</td> <td>    0.584</td> <td> 0.559</td> <td> -108.397</td> <td>  200.416</td>\n",
       "</tr>\n",
       "<tr>\n",
       "  <th>atemp</th>        <td>  148.5309</td> <td>   61.182</td> <td>    2.428</td> <td> 0.015</td> <td>   28.599</td> <td>  268.463</td>\n",
       "</tr>\n",
       "<tr>\n",
       "  <th>hum</th>          <td>   42.3171</td> <td>   45.426</td> <td>    0.932</td> <td> 0.352</td> <td>  -46.729</td> <td>  131.363</td>\n",
       "</tr>\n",
       "<tr>\n",
       "  <th>windspeed</th>    <td>  -19.4101</td> <td>   12.531</td> <td>   -1.549</td> <td> 0.121</td> <td>  -43.973</td> <td>    5.153</td>\n",
       "</tr>\n",
       "<tr>\n",
       "  <th>spring</th>       <td>   46.8322</td> <td>    8.714</td> <td>    5.374</td> <td> 0.000</td> <td>   29.750</td> <td>   63.914</td>\n",
       "</tr>\n",
       "<tr>\n",
       "  <th>summer</th>       <td>   25.4085</td> <td>   10.202</td> <td>    2.490</td> <td> 0.013</td> <td>    5.410</td> <td>   45.407</td>\n",
       "</tr>\n",
       "<tr>\n",
       "  <th>fall</th>         <td>   74.7289</td> <td>    8.643</td> <td>    8.646</td> <td> 0.000</td> <td>   57.787</td> <td>   91.671</td>\n",
       "</tr>\n",
       "<tr>\n",
       "  <th>Feb</th>          <td>   -2.2754</td> <td>    7.037</td> <td>   -0.323</td> <td> 0.746</td> <td>  -16.070</td> <td>   11.519</td>\n",
       "</tr>\n",
       "<tr>\n",
       "  <th>Mar</th>          <td>    9.1429</td> <td>    7.906</td> <td>    1.156</td> <td> 0.248</td> <td>   -6.355</td> <td>   24.641</td>\n",
       "</tr>\n",
       "<tr>\n",
       "  <th>Apr</th>          <td>  -12.2792</td> <td>   11.781</td> <td>   -1.042</td> <td> 0.297</td> <td>  -35.373</td> <td>   10.814</td>\n",
       "</tr>\n",
       "<tr>\n",
       "  <th>May</th>          <td>  -15.6791</td> <td>   12.489</td> <td>   -1.255</td> <td> 0.209</td> <td>  -40.160</td> <td>    8.802</td>\n",
       "</tr>\n",
       "<tr>\n",
       "  <th>Jun</th>          <td>  -29.8762</td> <td>   12.639</td> <td>   -2.364</td> <td> 0.018</td> <td>  -54.652</td> <td>   -5.100</td>\n",
       "</tr>\n",
       "<tr>\n",
       "  <th>Jul</th>          <td>  -51.5208</td> <td>   14.156</td> <td>   -3.640</td> <td> 0.000</td> <td>  -79.269</td> <td>  -23.773</td>\n",
       "</tr>\n",
       "<tr>\n",
       "  <th>Aug</th>          <td>  -23.3642</td> <td>   13.901</td> <td>   -1.681</td> <td> 0.093</td> <td>  -50.613</td> <td>    3.884</td>\n",
       "</tr>\n",
       "<tr>\n",
       "  <th>Sept</th>         <td>   11.0442</td> <td>   12.519</td> <td>    0.882</td> <td> 0.378</td> <td>  -13.495</td> <td>   35.584</td>\n",
       "</tr>\n",
       "<tr>\n",
       "  <th>Oct</th>          <td>   -1.9320</td> <td>   11.682</td> <td>   -0.165</td> <td> 0.869</td> <td>  -24.831</td> <td>   20.967</td>\n",
       "</tr>\n",
       "<tr>\n",
       "  <th>Nov</th>          <td>  -27.7996</td> <td>   11.221</td> <td>   -2.478</td> <td> 0.013</td> <td>  -49.795</td> <td>   -5.804</td>\n",
       "</tr>\n",
       "<tr>\n",
       "  <th>Dec</th>          <td>  -19.1169</td> <td>    8.871</td> <td>   -2.155</td> <td> 0.031</td> <td>  -36.506</td> <td>   -1.728</td>\n",
       "</tr>\n",
       "<tr>\n",
       "  <th>Mon</th>          <td>   -0.9673</td> <td>    3.434</td> <td>   -0.282</td> <td> 0.778</td> <td>   -7.699</td> <td>    5.764</td>\n",
       "</tr>\n",
       "<tr>\n",
       "  <th>Tue</th>          <td>    0.9441</td> <td>    3.753</td> <td>    0.252</td> <td> 0.801</td> <td>   -6.412</td> <td>    8.301</td>\n",
       "</tr>\n",
       "<tr>\n",
       "  <th>Wed</th>          <td>   -1.8581</td> <td>    3.731</td> <td>   -0.498</td> <td> 0.619</td> <td>   -9.172</td> <td>    5.456</td>\n",
       "</tr>\n",
       "<tr>\n",
       "  <th>Thu</th>          <td>   -2.7283</td> <td>    3.669</td> <td>   -0.744</td> <td> 0.457</td> <td>   -9.921</td> <td>    4.465</td>\n",
       "</tr>\n",
       "<tr>\n",
       "  <th>Fri</th>          <td>    3.8028</td> <td>    3.671</td> <td>    1.036</td> <td> 0.300</td> <td>   -3.393</td> <td>   10.999</td>\n",
       "</tr>\n",
       "<tr>\n",
       "  <th>Sat</th>          <td>   18.1315</td> <td>    5.113</td> <td>    3.546</td> <td> 0.000</td> <td>    8.109</td> <td>   28.154</td>\n",
       "</tr>\n",
       "<tr>\n",
       "  <th>Cloudy</th>       <td>   -9.5074</td> <td>    3.389</td> <td>   -2.805</td> <td> 0.005</td> <td>  -16.151</td> <td>   -2.864</td>\n",
       "</tr>\n",
       "<tr>\n",
       "  <th>Snow</th>         <td>  -46.9213</td> <td>    5.765</td> <td>   -8.139</td> <td> 0.000</td> <td>  -58.222</td> <td>  -35.620</td>\n",
       "</tr>\n",
       "<tr>\n",
       "  <th>Storm</th>        <td>   34.1383</td> <td>   90.378</td> <td>    0.378</td> <td> 0.706</td> <td> -143.024</td> <td>  211.301</td>\n",
       "</tr>\n",
       "<tr>\n",
       "  <th>temp_squared</th> <td>  140.6804</td> <td>   46.276</td> <td>    3.040</td> <td> 0.002</td> <td>   49.968</td> <td>  231.393</td>\n",
       "</tr>\n",
       "<tr>\n",
       "  <th>hour_squared</th> <td>   -1.3881</td> <td>    0.034</td> <td>  -40.654</td> <td> 0.000</td> <td>   -1.455</td> <td>   -1.321</td>\n",
       "</tr>\n",
       "<tr>\n",
       "  <th>hum_squared</th>  <td> -126.8873</td> <td>   36.621</td> <td>   -3.465</td> <td> 0.001</td> <td> -198.673</td> <td>  -55.102</td>\n",
       "</tr>\n",
       "</table>\n",
       "<table class=\"simpletable\">\n",
       "<tr>\n",
       "  <th>Omnibus:</th>       <td>1734.231</td> <th>  Durbin-Watson:     </th> <td>   1.984</td>\n",
       "</tr>\n",
       "<tr>\n",
       "  <th>Prob(Omnibus):</th>  <td> 0.000</td>  <th>  Jarque-Bera (JB):  </th> <td>3424.267</td>\n",
       "</tr>\n",
       "<tr>\n",
       "  <th>Skew:</th>           <td> 1.204</td>  <th>  Prob(JB):          </th> <td>    0.00</td>\n",
       "</tr>\n",
       "<tr>\n",
       "  <th>Kurtosis:</th>       <td> 4.913</td>  <th>  Cond. No.          </th> <td>1.35e+16</td>\n",
       "</tr>\n",
       "</table><br/><br/>Warnings:<br/>[1] Standard Errors assume that the covariance matrix of the errors is correctly specified.<br/>[2] The smallest eigenvalue is 2.92e-24. This might indicate that there are<br/>strong multicollinearity problems or that the design matrix is singular."
      ],
      "text/plain": [
       "<class 'statsmodels.iolib.summary.Summary'>\n",
       "\"\"\"\n",
       "                            OLS Regression Results                            \n",
       "==============================================================================\n",
       "Dep. Variable:                 counts   R-squared:                       0.508\n",
       "Model:                            OLS   Adj. R-squared:                  0.507\n",
       "Method:                 Least Squares   F-statistic:                     271.3\n",
       "Date:                Mon, 07 Oct 2019   Prob (F-statistic):               0.00\n",
       "Time:                        21:39:53   Log-Likelihood:                -54433.\n",
       "No. Observations:                8689   AIC:                         1.089e+05\n",
       "Df Residuals:                    8655   BIC:                         1.092e+05\n",
       "Df Model:                          33                                         \n",
       "Covariance Type:            nonrobust                                         \n",
       "================================================================================\n",
       "                   coef    std err          t      P>|t|      [0.025      0.975]\n",
       "--------------------------------------------------------------------------------\n",
       "const         -193.3332     17.588    -10.992      0.000    -227.810    -158.857\n",
       "hour            40.2211      0.840     47.896      0.000      38.575      41.867\n",
       "holiday        -14.0310      7.656     -1.833      0.067     -29.039       0.977\n",
       "year            83.2098      2.781     29.921      0.000      77.758      88.661\n",
       "workingday      13.2241      3.212      4.117      0.000       6.928      19.520\n",
       "temp            46.0096     78.769      0.584      0.559    -108.397     200.416\n",
       "atemp          148.5309     61.182      2.428      0.015      28.599     268.463\n",
       "hum             42.3171     45.426      0.932      0.352     -46.729     131.363\n",
       "windspeed      -19.4101     12.531     -1.549      0.121     -43.973       5.153\n",
       "spring          46.8322      8.714      5.374      0.000      29.750      63.914\n",
       "summer          25.4085     10.202      2.490      0.013       5.410      45.407\n",
       "fall            74.7289      8.643      8.646      0.000      57.787      91.671\n",
       "Feb             -2.2754      7.037     -0.323      0.746     -16.070      11.519\n",
       "Mar              9.1429      7.906      1.156      0.248      -6.355      24.641\n",
       "Apr            -12.2792     11.781     -1.042      0.297     -35.373      10.814\n",
       "May            -15.6791     12.489     -1.255      0.209     -40.160       8.802\n",
       "Jun            -29.8762     12.639     -2.364      0.018     -54.652      -5.100\n",
       "Jul            -51.5208     14.156     -3.640      0.000     -79.269     -23.773\n",
       "Aug            -23.3642     13.901     -1.681      0.093     -50.613       3.884\n",
       "Sept            11.0442     12.519      0.882      0.378     -13.495      35.584\n",
       "Oct             -1.9320     11.682     -0.165      0.869     -24.831      20.967\n",
       "Nov            -27.7996     11.221     -2.478      0.013     -49.795      -5.804\n",
       "Dec            -19.1169      8.871     -2.155      0.031     -36.506      -1.728\n",
       "Mon             -0.9673      3.434     -0.282      0.778      -7.699       5.764\n",
       "Tue              0.9441      3.753      0.252      0.801      -6.412       8.301\n",
       "Wed             -1.8581      3.731     -0.498      0.619      -9.172       5.456\n",
       "Thu             -2.7283      3.669     -0.744      0.457      -9.921       4.465\n",
       "Fri              3.8028      3.671      1.036      0.300      -3.393      10.999\n",
       "Sat             18.1315      5.113      3.546      0.000       8.109      28.154\n",
       "Cloudy          -9.5074      3.389     -2.805      0.005     -16.151      -2.864\n",
       "Snow           -46.9213      5.765     -8.139      0.000     -58.222     -35.620\n",
       "Storm           34.1383     90.378      0.378      0.706    -143.024     211.301\n",
       "temp_squared   140.6804     46.276      3.040      0.002      49.968     231.393\n",
       "hour_squared    -1.3881      0.034    -40.654      0.000      -1.455      -1.321\n",
       "hum_squared   -126.8873     36.621     -3.465      0.001    -198.673     -55.102\n",
       "==============================================================================\n",
       "Omnibus:                     1734.231   Durbin-Watson:                   1.984\n",
       "Prob(Omnibus):                  0.000   Jarque-Bera (JB):             3424.267\n",
       "Skew:                           1.204   Prob(JB):                         0.00\n",
       "Kurtosis:                       4.913   Cond. No.                     1.35e+16\n",
       "==============================================================================\n",
       "\n",
       "Warnings:\n",
       "[1] Standard Errors assume that the covariance matrix of the errors is correctly specified.\n",
       "[2] The smallest eigenvalue is 2.92e-24. This might indicate that there are\n",
       "strong multicollinearity problems or that the design matrix is singular.\n",
       "\"\"\""
      ]
     },
     "execution_count": 101,
     "metadata": {},
     "output_type": "execute_result"
    }
   ],
   "source": [
    "# make new datasets\n",
    "X_train_poly = X_train.copy()\n",
    "X_train_poly['temp_squared'] = X_train_poly['temp']**2\n",
    "X_train_poly['hour_squared'] = X_train_poly['hour']**2\n",
    "X_train_poly['hum_squared'] = X_train_poly['hum']**2\n",
    "\n",
    "# X_test_poly = X_test.copy()\n",
    "# X_test_poly['temp_squared'] = X_test_poly['temp']**2\n",
    "# X_test_poly['hour_squared'] = X_test_poly['hour']**2\n",
    "# X_test_poly['hum_squared'] = X_test_poly['hum']**2\n",
    "\n",
    "# build model\n",
    "fitted_model_2 = OLS(endog= y_train, exog=X_train_poly, hasconst=True).fit()\n",
    "fitted_model_2.summary()"
   ]
  },
  {
   "cell_type": "code",
   "execution_count": 102,
   "metadata": {},
   "outputs": [
    {
     "data": {
      "image/png": "[encoded data removed]",
      "text/plain": [
       "<Figure size 720x432 with 1 Axes>"
      ]
     },
     "metadata": {
      "needs_background": "light"
     },
     "output_type": "display_data"
    }
   ],
   "source": [
    "predictions2 = fitted_model_2.predict(X_train_poly)\n",
    "residuals = y_train - predictions2\n",
    "fig, ax = plt.subplots(figsize=(10,6))\n",
    "ax.scatter(predictions2, residuals, s=3)\n",
    "ax.set_xlabel(\"Predicted Y\")\n",
    "ax.set_ylabel(\"Residual\")\n",
    "ax.set_title(\"Residuals vs. Predictions\")\n",
    "xgrid = np.linspace(-200, 500, 100)\n",
    "\n",
    "ax.plot(xgrid, np.zeros(100), color = 'red');"
   ]
  },
  {
   "cell_type": "code",
   "execution_count": 103,
   "metadata": {},
   "outputs": [
    {
     "name": "stdout",
     "output_type": "stream",
     "text": [
      "train_score:  0.5084917032962087\n"
     ]
    }
   ],
   "source": [
    "# r2 score on train\n",
    "train_score = fitted_model_2.rsquared\n",
    "print(\"train_score: \", train_score)"
   ]
  },
  {
   "cell_type": "markdown",
   "metadata": {},
   "source": [
    "These polynomial terms are important because they reduce error in the predictions of the values (the r2 scores improve). As temp increases, the predicted ridership increases (because the coefficient is positive for both the 1st and 2nd degree terms). As humidity increases, the predicted ridership decreases (because the coefficient is positive for the 1st degree but then negative and a greater magnitude for 2nd degree). As hour increases, predicted ridership increaess (because the coefficient of the 1st degree term is positive and the coefficient of the 2nd degree term is only slightly negative). "
   ]
  },
  {
   "cell_type": "markdown",
   "metadata": {
    "button": false,
    "new_sheet": false,
    "run_control": {
     "read_only": false
    }
   },
   "source": [
    "**3.6 You should have received a warning regarding the presence of _multicollinearity_...**"
   ]
  },
  {
   "cell_type": "markdown",
   "metadata": {},
   "source": [
    "You should have received a warning regarding the presence of multicolinearity in the model in 3.1. Create a new dataset X_train_drop by dropping the following predictors from X_train: workingday atemp spring summer and fall and fit a multiple linear regression model to the variables the remain. Are the estimates more sensible in this model? And explain in your own words why multicolinearity can lead to erroneous coefficient values."
   ]
  },
  {
   "cell_type": "code",
   "execution_count": 104,
   "metadata": {
    "button": false,
    "new_sheet": false,
    "run_control": {
     "read_only": false
    }
   },
   "outputs": [
    {
     "data": {
      "text/html": [
       "<table class=\"simpletable\">\n",
       "<caption>OLS Regression Results</caption>\n",
       "<tr>\n",
       "  <th>Dep. Variable:</th>         <td>counts</td>      <th>  R-squared:         </th> <td>   0.405</td> \n",
       "</tr>\n",
       "<tr>\n",
       "  <th>Model:</th>                   <td>OLS</td>       <th>  Adj. R-squared:    </th> <td>   0.403</td> \n",
       "</tr>\n",
       "<tr>\n",
       "  <th>Method:</th>             <td>Least Squares</td>  <th>  F-statistic:       </th> <td>   226.9</td> \n",
       "</tr>\n",
       "<tr>\n",
       "  <th>Date:</th>             <td>Mon, 07 Oct 2019</td> <th>  Prob (F-statistic):</th>  <td>  0.00</td>  \n",
       "</tr>\n",
       "<tr>\n",
       "  <th>Time:</th>                 <td>21:39:53</td>     <th>  Log-Likelihood:    </th> <td> -55263.</td> \n",
       "</tr>\n",
       "<tr>\n",
       "  <th>No. Observations:</th>      <td>  8689</td>      <th>  AIC:               </th> <td>1.106e+05</td>\n",
       "</tr>\n",
       "<tr>\n",
       "  <th>Df Residuals:</th>          <td>  8662</td>      <th>  BIC:               </th> <td>1.108e+05</td>\n",
       "</tr>\n",
       "<tr>\n",
       "  <th>Df Model:</th>              <td>    26</td>      <th>                     </th>     <td> </td>    \n",
       "</tr>\n",
       "<tr>\n",
       "  <th>Covariance Type:</th>      <td>nonrobust</td>    <th>                     </th>     <td> </td>    \n",
       "</tr>\n",
       "</table>\n",
       "<table class=\"simpletable\">\n",
       "<tr>\n",
       "      <td></td>         <th>coef</th>     <th>std err</th>      <th>t</th>      <th>P>|t|</th>  <th>[0.025</th>    <th>0.975]</th>  \n",
       "</tr>\n",
       "<tr>\n",
       "  <th>const</th>     <td>  -26.2056</td> <td>   10.772</td> <td>   -2.433</td> <td> 0.015</td> <td>  -47.322</td> <td>   -5.089</td>\n",
       "</tr>\n",
       "<tr>\n",
       "  <th>hour</th>      <td>    7.2218</td> <td>    0.234</td> <td>   30.871</td> <td> 0.000</td> <td>    6.763</td> <td>    7.680</td>\n",
       "</tr>\n",
       "<tr>\n",
       "  <th>holiday</th>   <td>  -37.2529</td> <td>    9.390</td> <td>   -3.967</td> <td> 0.000</td> <td>  -55.659</td> <td>  -18.846</td>\n",
       "</tr>\n",
       "<tr>\n",
       "  <th>year</th>      <td>   77.9687</td> <td>    3.035</td> <td>   25.691</td> <td> 0.000</td> <td>   72.020</td> <td>   83.918</td>\n",
       "</tr>\n",
       "<tr>\n",
       "  <th>temp</th>      <td>  425.3856</td> <td>   16.922</td> <td>   25.137</td> <td> 0.000</td> <td>  392.214</td> <td>  458.557</td>\n",
       "</tr>\n",
       "<tr>\n",
       "  <th>hum</th>       <td> -198.2002</td> <td>    9.944</td> <td>  -19.933</td> <td> 0.000</td> <td> -217.692</td> <td> -178.709</td>\n",
       "</tr>\n",
       "<tr>\n",
       "  <th>windspeed</th> <td>    3.0647</td> <td>   13.166</td> <td>    0.233</td> <td> 0.816</td> <td>  -22.743</td> <td>   28.872</td>\n",
       "</tr>\n",
       "<tr>\n",
       "  <th>Feb</th>       <td>  -10.3801</td> <td>    7.624</td> <td>   -1.362</td> <td> 0.173</td> <td>  -25.324</td> <td>    4.564</td>\n",
       "</tr>\n",
       "<tr>\n",
       "  <th>Mar</th>       <td>    4.8473</td> <td>    7.834</td> <td>    0.619</td> <td> 0.536</td> <td>  -10.510</td> <td>   20.205</td>\n",
       "</tr>\n",
       "<tr>\n",
       "  <th>Apr</th>       <td>    5.6103</td> <td>    8.422</td> <td>    0.666</td> <td> 0.505</td> <td>  -10.899</td> <td>   22.119</td>\n",
       "</tr>\n",
       "<tr>\n",
       "  <th>May</th>       <td>   -2.4330</td> <td>    9.725</td> <td>   -0.250</td> <td> 0.802</td> <td>  -21.497</td> <td>   16.631</td>\n",
       "</tr>\n",
       "<tr>\n",
       "  <th>Jun</th>       <td>  -35.3982</td> <td>   10.671</td> <td>   -3.317</td> <td> 0.001</td> <td>  -56.316</td> <td>  -14.480</td>\n",
       "</tr>\n",
       "<tr>\n",
       "  <th>Jul</th>       <td>  -72.2768</td> <td>   11.583</td> <td>   -6.240</td> <td> 0.000</td> <td>  -94.982</td> <td>  -49.571</td>\n",
       "</tr>\n",
       "<tr>\n",
       "  <th>Aug</th>       <td>  -40.9043</td> <td>   11.043</td> <td>   -3.704</td> <td> 0.000</td> <td>  -62.551</td> <td>  -19.258</td>\n",
       "</tr>\n",
       "<tr>\n",
       "  <th>Sept</th>      <td>   15.9133</td> <td>   10.059</td> <td>    1.582</td> <td> 0.114</td> <td>   -3.805</td> <td>   35.632</td>\n",
       "</tr>\n",
       "<tr>\n",
       "  <th>Oct</th>       <td>   54.0377</td> <td>    8.686</td> <td>    6.221</td> <td> 0.000</td> <td>   37.010</td> <td>   71.065</td>\n",
       "</tr>\n",
       "<tr>\n",
       "  <th>Nov</th>       <td>   38.3870</td> <td>    7.796</td> <td>    4.924</td> <td> 0.000</td> <td>   23.106</td> <td>   53.668</td>\n",
       "</tr>\n",
       "<tr>\n",
       "  <th>Dec</th>       <td>   26.2086</td> <td>    7.582</td> <td>    3.457</td> <td> 0.001</td> <td>   11.346</td> <td>   41.071</td>\n",
       "</tr>\n",
       "<tr>\n",
       "  <th>Mon</th>       <td>    9.6638</td> <td>    5.802</td> <td>    1.666</td> <td> 0.096</td> <td>   -1.709</td> <td>   21.036</td>\n",
       "</tr>\n",
       "<tr>\n",
       "  <th>Tue</th>       <td>   11.4788</td> <td>    5.705</td> <td>    2.012</td> <td> 0.044</td> <td>    0.295</td> <td>   22.663</td>\n",
       "</tr>\n",
       "<tr>\n",
       "  <th>Wed</th>       <td>    8.5964</td> <td>    5.676</td> <td>    1.515</td> <td> 0.130</td> <td>   -2.529</td> <td>   19.722</td>\n",
       "</tr>\n",
       "<tr>\n",
       "  <th>Thu</th>       <td>    5.9261</td> <td>    5.641</td> <td>    1.050</td> <td> 0.294</td> <td>   -5.132</td> <td>   16.984</td>\n",
       "</tr>\n",
       "<tr>\n",
       "  <th>Fri</th>       <td>   13.5104</td> <td>    5.640</td> <td>    2.396</td> <td> 0.017</td> <td>    2.455</td> <td>   24.566</td>\n",
       "</tr>\n",
       "<tr>\n",
       "  <th>Sat</th>       <td>   12.3255</td> <td>    5.614</td> <td>    2.196</td> <td> 0.028</td> <td>    1.321</td> <td>   23.330</td>\n",
       "</tr>\n",
       "<tr>\n",
       "  <th>Cloudy</th>    <td>    7.0689</td> <td>    3.692</td> <td>    1.915</td> <td> 0.056</td> <td>   -0.169</td> <td>   14.306</td>\n",
       "</tr>\n",
       "<tr>\n",
       "  <th>Snow</th>      <td>  -27.3958</td> <td>    6.112</td> <td>   -4.483</td> <td> 0.000</td> <td>  -39.376</td> <td>  -15.415</td>\n",
       "</tr>\n",
       "<tr>\n",
       "  <th>Storm</th>     <td>   44.8939</td> <td>   99.348</td> <td>    0.452</td> <td> 0.651</td> <td> -149.852</td> <td>  239.640</td>\n",
       "</tr>\n",
       "</table>\n",
       "<table class=\"simpletable\">\n",
       "<tr>\n",
       "  <th>Omnibus:</th>       <td>1712.709</td> <th>  Durbin-Watson:     </th> <td>   1.975</td>\n",
       "</tr>\n",
       "<tr>\n",
       "  <th>Prob(Omnibus):</th>  <td> 0.000</td>  <th>  Jarque-Bera (JB):  </th> <td>3312.120</td>\n",
       "</tr>\n",
       "<tr>\n",
       "  <th>Skew:</th>           <td> 1.202</td>  <th>  Prob(JB):          </th> <td>    0.00</td>\n",
       "</tr>\n",
       "<tr>\n",
       "  <th>Kurtosis:</th>       <td> 4.837</td>  <th>  Cond. No.          </th> <td>    898.</td>\n",
       "</tr>\n",
       "</table><br/><br/>Warnings:<br/>[1] Standard Errors assume that the covariance matrix of the errors is correctly specified."
      ],
      "text/plain": [
       "<class 'statsmodels.iolib.summary.Summary'>\n",
       "\"\"\"\n",
       "                            OLS Regression Results                            \n",
       "==============================================================================\n",
       "Dep. Variable:                 counts   R-squared:                       0.405\n",
       "Model:                            OLS   Adj. R-squared:                  0.403\n",
       "Method:                 Least Squares   F-statistic:                     226.9\n",
       "Date:                Mon, 07 Oct 2019   Prob (F-statistic):               0.00\n",
       "Time:                        21:39:53   Log-Likelihood:                -55263.\n",
       "No. Observations:                8689   AIC:                         1.106e+05\n",
       "Df Residuals:                    8662   BIC:                         1.108e+05\n",
       "Df Model:                          26                                         \n",
       "Covariance Type:            nonrobust                                         \n",
       "==============================================================================\n",
       "                 coef    std err          t      P>|t|      [0.025      0.975]\n",
       "------------------------------------------------------------------------------\n",
       "const        -26.2056     10.772     -2.433      0.015     -47.322      -5.089\n",
       "hour           7.2218      0.234     30.871      0.000       6.763       7.680\n",
       "holiday      -37.2529      9.390     -3.967      0.000     -55.659     -18.846\n",
       "year          77.9687      3.035     25.691      0.000      72.020      83.918\n",
       "temp         425.3856     16.922     25.137      0.000     392.214     458.557\n",
       "hum         -198.2002      9.944    -19.933      0.000    -217.692    -178.709\n",
       "windspeed      3.0647     13.166      0.233      0.816     -22.743      28.872\n",
       "Feb          -10.3801      7.624     -1.362      0.173     -25.324       4.564\n",
       "Mar            4.8473      7.834      0.619      0.536     -10.510      20.205\n",
       "Apr            5.6103      8.422      0.666      0.505     -10.899      22.119\n",
       "May           -2.4330      9.725     -0.250      0.802     -21.497      16.631\n",
       "Jun          -35.3982     10.671     -3.317      0.001     -56.316     -14.480\n",
       "Jul          -72.2768     11.583     -6.240      0.000     -94.982     -49.571\n",
       "Aug          -40.9043     11.043     -3.704      0.000     -62.551     -19.258\n",
       "Sept          15.9133     10.059      1.582      0.114      -3.805      35.632\n",
       "Oct           54.0377      8.686      6.221      0.000      37.010      71.065\n",
       "Nov           38.3870      7.796      4.924      0.000      23.106      53.668\n",
       "Dec           26.2086      7.582      3.457      0.001      11.346      41.071\n",
       "Mon            9.6638      5.802      1.666      0.096      -1.709      21.036\n",
       "Tue           11.4788      5.705      2.012      0.044       0.295      22.663\n",
       "Wed            8.5964      5.676      1.515      0.130      -2.529      19.722\n",
       "Thu            5.9261      5.641      1.050      0.294      -5.132      16.984\n",
       "Fri           13.5104      5.640      2.396      0.017       2.455      24.566\n",
       "Sat           12.3255      5.614      2.196      0.028       1.321      23.330\n",
       "Cloudy         7.0689      3.692      1.915      0.056      -0.169      14.306\n",
       "Snow         -27.3958      6.112     -4.483      0.000     -39.376     -15.415\n",
       "Storm         44.8939     99.348      0.452      0.651    -149.852     239.640\n",
       "==============================================================================\n",
       "Omnibus:                     1712.709   Durbin-Watson:                   1.975\n",
       "Prob(Omnibus):                  0.000   Jarque-Bera (JB):             3312.120\n",
       "Skew:                           1.202   Prob(JB):                         0.00\n",
       "Kurtosis:                       4.837   Cond. No.                         898.\n",
       "==============================================================================\n",
       "\n",
       "Warnings:\n",
       "[1] Standard Errors assume that the covariance matrix of the errors is correctly specified.\n",
       "\"\"\""
      ]
     },
     "execution_count": 104,
     "metadata": {},
     "output_type": "execute_result"
    }
   ],
   "source": [
    "# make x train drop\n",
    "X_train_drop = X_train.copy().drop(columns = ['workingday', 'atemp', 'spring', 'summer', 'fall'])\n",
    "X_train_drop.head()\n",
    "\n",
    "# make model\n",
    "fitted_model_3 = OLS(endog= y_train, exog=X_train_drop, hasconst=True).fit()\n",
    "fitted_model_3.summary()"
   ]
  },
  {
   "cell_type": "markdown",
   "metadata": {
    "run_control": {}
   },
   "source": [
    "---"
   ]
  },
  {
   "cell_type": "markdown",
   "metadata": {},
   "source": [
    "In this model, the estimates are more sensible because the seasons do not have an apparently enormous impact on the number of bike registrations per day. Previously, the season was highly colinear with the humidity, making it seem like each of the seasons as well as the humidity had a significant impact on the ridership. Now, it seems like the humidity, not the season, has a significant influence on ridership because even without seasons in the model, it still has a very high magnitude of a coefficient. Multicolinearity can make variables that are not directly related to the response variable seem like they have a disproportionate impact on the response variable simply because these variables are colinear with other explanatory variables that are correlated to the response variable. People are not increasing or decreasing their ridership in response to the season, but rather in response to the humidity levels."
   ]
  },
  {
   "cell_type": "markdown",
   "metadata": {
    "button": false,
    "new_sheet": false,
    "run_control": {
     "read_only": false
    }
   },
   "source": [
    "<div class='exercise'> <b> Question 4 [20pts]: Regression Models with Polynomial and Interaction Terms </b> </div>\n",
    "\n",
    "**4.1** Drop the variables `workingday`, `atemp`, `spring`, `summer`, `fall`, and  `dteday` from `BSS_train` (if any of them still remain).\n",
    "\n",
    "**4.2** Write a function to standardize a provided subset of columns in your training/validation/test sets. Remember that while you will be scaling all of your data, you must learn the scaling parameters (mean and SD) from only the training set.\n",
    "\n",
    "Test your code by building a list of all non-binary columns from `X_train` into a dataset called `practice_X_train` and scaling only those columns. Call the result `practice_X_train_scaled`. Display the `.describe()` and verify that you have correctly scaled all columns, including the polynomial columns.\n",
    "\n",
    "**Hint: employ the provided list of binary columns and use `pd.columns.difference()`**\n",
    "\n",
    "`binary_columns = [ 'holiday', 'workingday','Feb', 'Mar', 'Apr',\n",
    "       'May', 'Jun', 'Jul', 'Aug', 'Sept', 'Oct', 'Nov', 'Dec', 'spring',\n",
    "       'summer', 'fall', 'Mon', 'Tue', 'Wed', 'Thu', 'Fri', 'Sat',\n",
    "       'Cloudy', 'Snow', 'Storm']`\n",
    "\n",
    "\n",
    "**4.3** Write a code to augment your a dataset with higher-order features for `temp`, `hum`,`windspeed`, and `hour`. You should include ONLY the pure powers of these columns. So with degree=2 you should produce `temp^2` and `hum^2` but not `temp*hum` or any other two-feature interactions. \n",
    "\n",
    "Encapsulate this process as a function with appropriate inputs and outputs, and test your code by producing `practice_X_train_poly`, a training dataset with quadratic and cubic features built from `practice_X_train_scaled`, and printing `practice_X_train_poly`'s column names and `.head()`.\n",
    "\n",
    "**4.4** Write code to add interaction terms to the model. Specifically, we want interactions between the continuous predictors (`temp`, `hum`,`windspeed`) and the month and weekday dummies (`Feb`, `Mar`...`Dec`, `Mon`, `Tue`, ... `Sat`). That means you SHOULD build `temp*Feb` and `hum*Mon` and so on, but NOT `Feb*Mar` and NOT `Feb*Tue`. The interaction terms should always be a continuous feature times a month dummy or a continuous feature times a weekday dummy.\n",
    "\n",
    "Encapsulate this process as a function with appropriate inputs and outputs, and test your code by adding interaction terms to `practice_X_train_poly` and show its column names and `.head()`**\n",
    "\n",
    "**4.5** Combine all your code so far into a function named `get_design_mats` that takes in `BSS_train`, `BSS_test`, the names of columns for polynomial, the target column, the columns to be dropped and produces computation-ready design matrices `X_train` and `X_test` and responses `y_train` and `y_test`. Your final function should build correct, scaled design matrices with the stated interaction terms and any polynomial degree.\n",
    "\n",
    "\n",
    "**4.6** For each degree in 1 through 8:\n",
    "\n",
    "1.  Build the training design matrix and validation design matrix using the function `get_design_mats` with polynomial terms up through the specified degree.\n",
    "\n",
    "2.  Fit a regression model to the training data.\n",
    "\n",
    "3.  Report the model's score on the test data.\n",
    "\n",
    "**4.7** Discuss patterns you see in the results from 4.5. Which model would you select, and why?"
   ]
  },
  {
   "cell_type": "markdown",
   "metadata": {
    "button": false,
    "new_sheet": false,
    "run_control": {
     "read_only": false
    }
   },
   "source": [
    "### Answers"
   ]
  },
  {
   "cell_type": "markdown",
   "metadata": {
    "button": false,
    "new_sheet": false,
    "run_control": {
     "read_only": false
    }
   },
   "source": [
    "**4.1 Drop...**"
   ]
  },
  {
   "cell_type": "code",
   "execution_count": 105,
   "metadata": {
    "button": false,
    "new_sheet": false,
    "run_control": {
     "read_only": false
    }
   },
   "outputs": [
    {
     "data": {
      "text/html": [
       "<div>\n",
       "<style scoped>\n",
       "    .dataframe tbody tr th:only-of-type {\n",
       "        vertical-align: middle;\n",
       "    }\n",
       "\n",
       "    .dataframe tbody tr th {\n",
       "        vertical-align: top;\n",
       "    }\n",
       "\n",
       "    .dataframe thead th {\n",
       "        text-align: right;\n",
       "    }\n",
       "</style>\n",
       "<table border=\"1\" class=\"dataframe\">\n",
       "  <thead>\n",
       "    <tr style=\"text-align: right;\">\n",
       "      <th></th>\n",
       "      <th>hour</th>\n",
       "      <th>holiday</th>\n",
       "      <th>year</th>\n",
       "      <th>temp</th>\n",
       "      <th>hum</th>\n",
       "      <th>windspeed</th>\n",
       "      <th>casual</th>\n",
       "      <th>registered</th>\n",
       "      <th>counts</th>\n",
       "      <th>Feb</th>\n",
       "      <th>Mar</th>\n",
       "      <th>Apr</th>\n",
       "      <th>May</th>\n",
       "      <th>Jun</th>\n",
       "      <th>Jul</th>\n",
       "      <th>Aug</th>\n",
       "      <th>Sept</th>\n",
       "      <th>Oct</th>\n",
       "      <th>Nov</th>\n",
       "      <th>Dec</th>\n",
       "      <th>Mon</th>\n",
       "      <th>Tue</th>\n",
       "      <th>Wed</th>\n",
       "      <th>Thu</th>\n",
       "      <th>Fri</th>\n",
       "      <th>Sat</th>\n",
       "      <th>Cloudy</th>\n",
       "      <th>Snow</th>\n",
       "      <th>Storm</th>\n",
       "    </tr>\n",
       "  </thead>\n",
       "  <tbody>\n",
       "    <tr>\n",
       "      <th>0</th>\n",
       "      <td>21</td>\n",
       "      <td>0</td>\n",
       "      <td>1</td>\n",
       "      <td>0.24</td>\n",
       "      <td>0.60</td>\n",
       "      <td>0.2537</td>\n",
       "      <td>12</td>\n",
       "      <td>51</td>\n",
       "      <td>63</td>\n",
       "      <td>0</td>\n",
       "      <td>0</td>\n",
       "      <td>0</td>\n",
       "      <td>0</td>\n",
       "      <td>0</td>\n",
       "      <td>0</td>\n",
       "      <td>0</td>\n",
       "      <td>0</td>\n",
       "      <td>0</td>\n",
       "      <td>0</td>\n",
       "      <td>1</td>\n",
       "      <td>0</td>\n",
       "      <td>0</td>\n",
       "      <td>0</td>\n",
       "      <td>1</td>\n",
       "      <td>0</td>\n",
       "      <td>0</td>\n",
       "      <td>1</td>\n",
       "      <td>0</td>\n",
       "      <td>0</td>\n",
       "    </tr>\n",
       "    <tr>\n",
       "      <th>1</th>\n",
       "      <td>17</td>\n",
       "      <td>0</td>\n",
       "      <td>0</td>\n",
       "      <td>0.62</td>\n",
       "      <td>0.83</td>\n",
       "      <td>0.2537</td>\n",
       "      <td>47</td>\n",
       "      <td>432</td>\n",
       "      <td>479</td>\n",
       "      <td>0</td>\n",
       "      <td>0</td>\n",
       "      <td>0</td>\n",
       "      <td>0</td>\n",
       "      <td>0</td>\n",
       "      <td>0</td>\n",
       "      <td>0</td>\n",
       "      <td>0</td>\n",
       "      <td>1</td>\n",
       "      <td>0</td>\n",
       "      <td>0</td>\n",
       "      <td>0</td>\n",
       "      <td>0</td>\n",
       "      <td>0</td>\n",
       "      <td>1</td>\n",
       "      <td>0</td>\n",
       "      <td>0</td>\n",
       "      <td>0</td>\n",
       "      <td>1</td>\n",
       "      <td>0</td>\n",
       "    </tr>\n",
       "    <tr>\n",
       "      <th>2</th>\n",
       "      <td>9</td>\n",
       "      <td>0</td>\n",
       "      <td>1</td>\n",
       "      <td>0.76</td>\n",
       "      <td>0.66</td>\n",
       "      <td>0.1642</td>\n",
       "      <td>54</td>\n",
       "      <td>299</td>\n",
       "      <td>353</td>\n",
       "      <td>0</td>\n",
       "      <td>0</td>\n",
       "      <td>0</td>\n",
       "      <td>0</td>\n",
       "      <td>0</td>\n",
       "      <td>0</td>\n",
       "      <td>1</td>\n",
       "      <td>0</td>\n",
       "      <td>0</td>\n",
       "      <td>0</td>\n",
       "      <td>0</td>\n",
       "      <td>0</td>\n",
       "      <td>0</td>\n",
       "      <td>0</td>\n",
       "      <td>1</td>\n",
       "      <td>0</td>\n",
       "      <td>0</td>\n",
       "      <td>0</td>\n",
       "      <td>0</td>\n",
       "      <td>0</td>\n",
       "    </tr>\n",
       "    <tr>\n",
       "      <th>3</th>\n",
       "      <td>17</td>\n",
       "      <td>0</td>\n",
       "      <td>1</td>\n",
       "      <td>0.62</td>\n",
       "      <td>0.22</td>\n",
       "      <td>0.2985</td>\n",
       "      <td>185</td>\n",
       "      <td>226</td>\n",
       "      <td>411</td>\n",
       "      <td>0</td>\n",
       "      <td>0</td>\n",
       "      <td>1</td>\n",
       "      <td>0</td>\n",
       "      <td>0</td>\n",
       "      <td>0</td>\n",
       "      <td>0</td>\n",
       "      <td>0</td>\n",
       "      <td>0</td>\n",
       "      <td>0</td>\n",
       "      <td>0</td>\n",
       "      <td>0</td>\n",
       "      <td>0</td>\n",
       "      <td>0</td>\n",
       "      <td>0</td>\n",
       "      <td>0</td>\n",
       "      <td>0</td>\n",
       "      <td>0</td>\n",
       "      <td>0</td>\n",
       "      <td>0</td>\n",
       "    </tr>\n",
       "    <tr>\n",
       "      <th>4</th>\n",
       "      <td>8</td>\n",
       "      <td>0</td>\n",
       "      <td>1</td>\n",
       "      <td>0.18</td>\n",
       "      <td>0.40</td>\n",
       "      <td>0.1343</td>\n",
       "      <td>9</td>\n",
       "      <td>61</td>\n",
       "      <td>70</td>\n",
       "      <td>0</td>\n",
       "      <td>0</td>\n",
       "      <td>0</td>\n",
       "      <td>0</td>\n",
       "      <td>0</td>\n",
       "      <td>0</td>\n",
       "      <td>0</td>\n",
       "      <td>0</td>\n",
       "      <td>0</td>\n",
       "      <td>0</td>\n",
       "      <td>0</td>\n",
       "      <td>0</td>\n",
       "      <td>0</td>\n",
       "      <td>0</td>\n",
       "      <td>0</td>\n",
       "      <td>0</td>\n",
       "      <td>0</td>\n",
       "      <td>0</td>\n",
       "      <td>0</td>\n",
       "      <td>0</td>\n",
       "    </tr>\n",
       "  </tbody>\n",
       "</table>\n",
       "</div>"
      ],
      "text/plain": [
       "   hour  holiday  year  temp   hum  windspeed  casual  registered  counts  \\\n",
       "0    21        0     1  0.24  0.60     0.2537      12          51      63   \n",
       "1    17        0     0  0.62  0.83     0.2537      47         432     479   \n",
       "2     9        0     1  0.76  0.66     0.1642      54         299     353   \n",
       "3    17        0     1  0.62  0.22     0.2985     185         226     411   \n",
       "4     8        0     1  0.18  0.40     0.1343       9          61      70   \n",
       "\n",
       "   Feb  Mar  Apr  May  Jun  Jul  Aug  Sept  Oct  Nov  Dec  Mon  Tue  Wed  Thu  \\\n",
       "0    0    0    0    0    0    0    0     0    0    0    1    0    0    0    1   \n",
       "1    0    0    0    0    0    0    0     0    1    0    0    0    0    0    1   \n",
       "2    0    0    0    0    0    0    1     0    0    0    0    0    0    0    1   \n",
       "3    0    0    1    0    0    0    0     0    0    0    0    0    0    0    0   \n",
       "4    0    0    0    0    0    0    0     0    0    0    0    0    0    0    0   \n",
       "\n",
       "   Fri  Sat  Cloudy  Snow  Storm  \n",
       "0    0    0       1     0      0  \n",
       "1    0    0       0     1      0  \n",
       "2    0    0       0     0      0  \n",
       "3    0    0       0     0      0  \n",
       "4    0    0       0     0      0  "
      ]
     },
     "execution_count": 105,
     "metadata": {},
     "output_type": "execute_result"
    }
   ],
   "source": [
    "# your code here\n",
    "BSS_train = BSS_train.drop(columns = ['workingday', 'atemp', 'spring', 'summer', 'fall'])\n",
    "BSS_train.head()"
   ]
  },
  {
   "cell_type": "markdown",
   "metadata": {
    "button": false,
    "new_sheet": false,
    "run_control": {
     "read_only": false
    }
   },
   "source": [
    "**4.2 Write a function to standardize...**"
   ]
  },
  {
   "cell_type": "markdown",
   "metadata": {},
   "source": [
    " Write a function to standardize a provided subset of columns in your training/validation/test sets. Remember that while you will be scaling all of your data, you must learn the scaling parameters (mean and SD) from only the training set.\n",
    "\n",
    "Test your code by building a list of all non-binary columns from X_train into a dataset called practice_X_train and scaling only those columns. Call the result practice_X_train_scaled. Display the .describe() and verify that you have correctly scaled all columns,"
   ]
  },
  {
   "cell_type": "code",
   "execution_count": 106,
   "metadata": {
    "button": false,
    "new_sheet": false,
    "run_control": {
     "read_only": false
    }
   },
   "outputs": [],
   "source": [
    "# your code here\n",
    "\n",
    "def standarddf(df, columns: list):\n",
    "    \n",
    "    scaler = StandardScaler()\n",
    "    df[columns] = scaler.fit_transform(df[columns])\n",
    "    return df"
   ]
  },
  {
   "cell_type": "code",
   "execution_count": 61,
   "metadata": {},
   "outputs": [
    {
     "data": {
      "text/html": [
       "<div>\n",
       "<style scoped>\n",
       "    .dataframe tbody tr th:only-of-type {\n",
       "        vertical-align: middle;\n",
       "    }\n",
       "\n",
       "    .dataframe tbody tr th {\n",
       "        vertical-align: top;\n",
       "    }\n",
       "\n",
       "    .dataframe thead th {\n",
       "        text-align: right;\n",
       "    }\n",
       "</style>\n",
       "<table border=\"1\" class=\"dataframe\">\n",
       "  <thead>\n",
       "    <tr style=\"text-align: right;\">\n",
       "      <th></th>\n",
       "      <th>hour</th>\n",
       "      <th>holiday</th>\n",
       "      <th>year</th>\n",
       "      <th>temp</th>\n",
       "      <th>hum</th>\n",
       "      <th>windspeed</th>\n",
       "      <th>casual</th>\n",
       "      <th>registered</th>\n",
       "      <th>counts</th>\n",
       "      <th>Feb</th>\n",
       "      <th>Mar</th>\n",
       "      <th>Apr</th>\n",
       "      <th>May</th>\n",
       "      <th>Jun</th>\n",
       "      <th>Jul</th>\n",
       "      <th>Aug</th>\n",
       "      <th>Sept</th>\n",
       "      <th>Oct</th>\n",
       "      <th>Nov</th>\n",
       "      <th>Dec</th>\n",
       "      <th>Mon</th>\n",
       "      <th>Tue</th>\n",
       "      <th>Wed</th>\n",
       "      <th>Thu</th>\n",
       "      <th>Fri</th>\n",
       "      <th>Sat</th>\n",
       "      <th>Cloudy</th>\n",
       "      <th>Snow</th>\n",
       "      <th>Storm</th>\n",
       "    </tr>\n",
       "  </thead>\n",
       "  <tbody>\n",
       "    <tr>\n",
       "      <th>count</th>\n",
       "      <td>6.951000e+03</td>\n",
       "      <td>6951.000000</td>\n",
       "      <td>6.951000e+03</td>\n",
       "      <td>6.951000e+03</td>\n",
       "      <td>6.951000e+03</td>\n",
       "      <td>6.951000e+03</td>\n",
       "      <td>6.951000e+03</td>\n",
       "      <td>6.951000e+03</td>\n",
       "      <td>6.951000e+03</td>\n",
       "      <td>6951.000000</td>\n",
       "      <td>6951.000000</td>\n",
       "      <td>6951.000000</td>\n",
       "      <td>6951.000000</td>\n",
       "      <td>6951.000000</td>\n",
       "      <td>6951.000000</td>\n",
       "      <td>6951.000000</td>\n",
       "      <td>6951.000000</td>\n",
       "      <td>6951.000000</td>\n",
       "      <td>6951.000000</td>\n",
       "      <td>6951.000000</td>\n",
       "      <td>6951.000000</td>\n",
       "      <td>6951.000000</td>\n",
       "      <td>6951.000000</td>\n",
       "      <td>6951.000000</td>\n",
       "      <td>6951.000000</td>\n",
       "      <td>6951.000000</td>\n",
       "      <td>6951.000000</td>\n",
       "      <td>6951.000000</td>\n",
       "      <td>6951.000000</td>\n",
       "    </tr>\n",
       "    <tr>\n",
       "      <th>mean</th>\n",
       "      <td>-5.444900e-17</td>\n",
       "      <td>0.028773</td>\n",
       "      <td>7.736902e-17</td>\n",
       "      <td>3.053872e-17</td>\n",
       "      <td>1.087702e-17</td>\n",
       "      <td>7.334404e-17</td>\n",
       "      <td>2.232904e-17</td>\n",
       "      <td>-4.625530e-17</td>\n",
       "      <td>6.868018e-19</td>\n",
       "      <td>0.078838</td>\n",
       "      <td>0.084880</td>\n",
       "      <td>0.081571</td>\n",
       "      <td>0.086175</td>\n",
       "      <td>0.082722</td>\n",
       "      <td>0.086175</td>\n",
       "      <td>0.086750</td>\n",
       "      <td>0.084592</td>\n",
       "      <td>0.083010</td>\n",
       "      <td>0.080708</td>\n",
       "      <td>0.082578</td>\n",
       "      <td>0.146310</td>\n",
       "      <td>0.137534</td>\n",
       "      <td>0.141275</td>\n",
       "      <td>0.141419</td>\n",
       "      <td>0.143720</td>\n",
       "      <td>0.149187</td>\n",
       "      <td>0.256654</td>\n",
       "      <td>0.083297</td>\n",
       "      <td>0.000288</td>\n",
       "    </tr>\n",
       "    <tr>\n",
       "      <th>std</th>\n",
       "      <td>1.000072e+00</td>\n",
       "      <td>0.167179</td>\n",
       "      <td>1.000072e+00</td>\n",
       "      <td>1.000072e+00</td>\n",
       "      <td>1.000072e+00</td>\n",
       "      <td>1.000072e+00</td>\n",
       "      <td>1.000072e+00</td>\n",
       "      <td>1.000072e+00</td>\n",
       "      <td>1.000072e+00</td>\n",
       "      <td>0.269504</td>\n",
       "      <td>0.278723</td>\n",
       "      <td>0.273730</td>\n",
       "      <td>0.280642</td>\n",
       "      <td>0.275481</td>\n",
       "      <td>0.280642</td>\n",
       "      <td>0.281489</td>\n",
       "      <td>0.278294</td>\n",
       "      <td>0.275917</td>\n",
       "      <td>0.272405</td>\n",
       "      <td>0.275263</td>\n",
       "      <td>0.353442</td>\n",
       "      <td>0.344435</td>\n",
       "      <td>0.348330</td>\n",
       "      <td>0.348478</td>\n",
       "      <td>0.350831</td>\n",
       "      <td>0.356298</td>\n",
       "      <td>0.436818</td>\n",
       "      <td>0.276351</td>\n",
       "      <td>0.016961</td>\n",
       "    </tr>\n",
       "    <tr>\n",
       "      <th>min</th>\n",
       "      <td>-1.659279e+00</td>\n",
       "      <td>0.000000</td>\n",
       "      <td>-1.005627e+00</td>\n",
       "      <td>-2.483223e+00</td>\n",
       "      <td>-3.238285e+00</td>\n",
       "      <td>-1.540687e+00</td>\n",
       "      <td>-7.238733e-01</td>\n",
       "      <td>-1.015631e+00</td>\n",
       "      <td>-1.042194e+00</td>\n",
       "      <td>0.000000</td>\n",
       "      <td>0.000000</td>\n",
       "      <td>0.000000</td>\n",
       "      <td>0.000000</td>\n",
       "      <td>0.000000</td>\n",
       "      <td>0.000000</td>\n",
       "      <td>0.000000</td>\n",
       "      <td>0.000000</td>\n",
       "      <td>0.000000</td>\n",
       "      <td>0.000000</td>\n",
       "      <td>0.000000</td>\n",
       "      <td>0.000000</td>\n",
       "      <td>0.000000</td>\n",
       "      <td>0.000000</td>\n",
       "      <td>0.000000</td>\n",
       "      <td>0.000000</td>\n",
       "      <td>0.000000</td>\n",
       "      <td>0.000000</td>\n",
       "      <td>0.000000</td>\n",
       "      <td>0.000000</td>\n",
       "    </tr>\n",
       "    <tr>\n",
       "      <th>25%</th>\n",
       "      <td>-9.412351e-01</td>\n",
       "      <td>0.000000</td>\n",
       "      <td>-1.005627e+00</td>\n",
       "      <td>-8.193532e-01</td>\n",
       "      <td>-7.535213e-01</td>\n",
       "      <td>-6.949113e-01</td>\n",
       "      <td>-6.428957e-01</td>\n",
       "      <td>-7.931419e-01</td>\n",
       "      <td>-8.282267e-01</td>\n",
       "      <td>0.000000</td>\n",
       "      <td>0.000000</td>\n",
       "      <td>0.000000</td>\n",
       "      <td>0.000000</td>\n",
       "      <td>0.000000</td>\n",
       "      <td>0.000000</td>\n",
       "      <td>0.000000</td>\n",
       "      <td>0.000000</td>\n",
       "      <td>0.000000</td>\n",
       "      <td>0.000000</td>\n",
       "      <td>0.000000</td>\n",
       "      <td>0.000000</td>\n",
       "      <td>0.000000</td>\n",
       "      <td>0.000000</td>\n",
       "      <td>0.000000</td>\n",
       "      <td>0.000000</td>\n",
       "      <td>0.000000</td>\n",
       "      <td>0.000000</td>\n",
       "      <td>0.000000</td>\n",
       "      <td>0.000000</td>\n",
       "    </tr>\n",
       "    <tr>\n",
       "      <th>50%</th>\n",
       "      <td>6.402580e-02</td>\n",
       "      <td>0.000000</td>\n",
       "      <td>9.944049e-01</td>\n",
       "      <td>1.258196e-02</td>\n",
       "      <td>2.296735e-02</td>\n",
       "      <td>2.946141e-02</td>\n",
       "      <td>-3.797186e-01</td>\n",
       "      <td>-2.500067e-01</td>\n",
       "      <td>-2.576484e-01</td>\n",
       "      <td>0.000000</td>\n",
       "      <td>0.000000</td>\n",
       "      <td>0.000000</td>\n",
       "      <td>0.000000</td>\n",
       "      <td>0.000000</td>\n",
       "      <td>0.000000</td>\n",
       "      <td>0.000000</td>\n",
       "      <td>0.000000</td>\n",
       "      <td>0.000000</td>\n",
       "      <td>0.000000</td>\n",
       "      <td>0.000000</td>\n",
       "      <td>0.000000</td>\n",
       "      <td>0.000000</td>\n",
       "      <td>0.000000</td>\n",
       "      <td>0.000000</td>\n",
       "      <td>0.000000</td>\n",
       "      <td>0.000000</td>\n",
       "      <td>0.000000</td>\n",
       "      <td>0.000000</td>\n",
       "      <td>0.000000</td>\n",
       "    </tr>\n",
       "    <tr>\n",
       "      <th>75%</th>\n",
       "      <td>9.256780e-01</td>\n",
       "      <td>0.000000</td>\n",
       "      <td>9.944049e-01</td>\n",
       "      <td>8.445171e-01</td>\n",
       "      <td>7.994560e-01</td>\n",
       "      <td>5.126464e-01</td>\n",
       "      <td>2.478577e-01</td>\n",
       "      <td>4.370919e-01</td>\n",
       "      <td>5.159242e-01</td>\n",
       "      <td>0.000000</td>\n",
       "      <td>0.000000</td>\n",
       "      <td>0.000000</td>\n",
       "      <td>0.000000</td>\n",
       "      <td>0.000000</td>\n",
       "      <td>0.000000</td>\n",
       "      <td>0.000000</td>\n",
       "      <td>0.000000</td>\n",
       "      <td>0.000000</td>\n",
       "      <td>0.000000</td>\n",
       "      <td>0.000000</td>\n",
       "      <td>0.000000</td>\n",
       "      <td>0.000000</td>\n",
       "      <td>0.000000</td>\n",
       "      <td>0.000000</td>\n",
       "      <td>0.000000</td>\n",
       "      <td>0.000000</td>\n",
       "      <td>1.000000</td>\n",
       "      <td>0.000000</td>\n",
       "      <td>0.000000</td>\n",
       "    </tr>\n",
       "    <tr>\n",
       "      <th>max</th>\n",
       "      <td>1.643722e+00</td>\n",
       "      <td>1.000000</td>\n",
       "      <td>9.944049e-01</td>\n",
       "      <td>2.508387e+00</td>\n",
       "      <td>1.938306e+00</td>\n",
       "      <td>5.344496e+00</td>\n",
       "      <td>6.604598e+00</td>\n",
       "      <td>4.782173e+00</td>\n",
       "      <td>4.312465e+00</td>\n",
       "      <td>1.000000</td>\n",
       "      <td>1.000000</td>\n",
       "      <td>1.000000</td>\n",
       "      <td>1.000000</td>\n",
       "      <td>1.000000</td>\n",
       "      <td>1.000000</td>\n",
       "      <td>1.000000</td>\n",
       "      <td>1.000000</td>\n",
       "      <td>1.000000</td>\n",
       "      <td>1.000000</td>\n",
       "      <td>1.000000</td>\n",
       "      <td>1.000000</td>\n",
       "      <td>1.000000</td>\n",
       "      <td>1.000000</td>\n",
       "      <td>1.000000</td>\n",
       "      <td>1.000000</td>\n",
       "      <td>1.000000</td>\n",
       "      <td>1.000000</td>\n",
       "      <td>1.000000</td>\n",
       "      <td>1.000000</td>\n",
       "    </tr>\n",
       "  </tbody>\n",
       "</table>\n",
       "</div>"
      ],
      "text/plain": [
       "               hour      holiday          year          temp           hum  \\\n",
       "count  6.951000e+03  6951.000000  6.951000e+03  6.951000e+03  6.951000e+03   \n",
       "mean  -5.444900e-17     0.028773  7.736902e-17  3.053872e-17  1.087702e-17   \n",
       "std    1.000072e+00     0.167179  1.000072e+00  1.000072e+00  1.000072e+00   \n",
       "min   -1.659279e+00     0.000000 -1.005627e+00 -2.483223e+00 -3.238285e+00   \n",
       "25%   -9.412351e-01     0.000000 -1.005627e+00 -8.193532e-01 -7.535213e-01   \n",
       "50%    6.402580e-02     0.000000  9.944049e-01  1.258196e-02  2.296735e-02   \n",
       "75%    9.256780e-01     0.000000  9.944049e-01  8.445171e-01  7.994560e-01   \n",
       "max    1.643722e+00     1.000000  9.944049e-01  2.508387e+00  1.938306e+00   \n",
       "\n",
       "          windspeed        casual    registered        counts          Feb  \\\n",
       "count  6.951000e+03  6.951000e+03  6.951000e+03  6.951000e+03  6951.000000   \n",
       "mean   7.334404e-17  2.232904e-17 -4.625530e-17  6.868018e-19     0.078838   \n",
       "std    1.000072e+00  1.000072e+00  1.000072e+00  1.000072e+00     0.269504   \n",
       "min   -1.540687e+00 -7.238733e-01 -1.015631e+00 -1.042194e+00     0.000000   \n",
       "25%   -6.949113e-01 -6.428957e-01 -7.931419e-01 -8.282267e-01     0.000000   \n",
       "50%    2.946141e-02 -3.797186e-01 -2.500067e-01 -2.576484e-01     0.000000   \n",
       "75%    5.126464e-01  2.478577e-01  4.370919e-01  5.159242e-01     0.000000   \n",
       "max    5.344496e+00  6.604598e+00  4.782173e+00  4.312465e+00     1.000000   \n",
       "\n",
       "               Mar          Apr          May          Jun          Jul  \\\n",
       "count  6951.000000  6951.000000  6951.000000  6951.000000  6951.000000   \n",
       "mean      0.084880     0.081571     0.086175     0.082722     0.086175   \n",
       "std       0.278723     0.273730     0.280642     0.275481     0.280642   \n",
       "min       0.000000     0.000000     0.000000     0.000000     0.000000   \n",
       "25%       0.000000     0.000000     0.000000     0.000000     0.000000   \n",
       "50%       0.000000     0.000000     0.000000     0.000000     0.000000   \n",
       "75%       0.000000     0.000000     0.000000     0.000000     0.000000   \n",
       "max       1.000000     1.000000     1.000000     1.000000     1.000000   \n",
       "\n",
       "               Aug         Sept          Oct          Nov          Dec  \\\n",
       "count  6951.000000  6951.000000  6951.000000  6951.000000  6951.000000   \n",
       "mean      0.086750     0.084592     0.083010     0.080708     0.082578   \n",
       "std       0.281489     0.278294     0.275917     0.272405     0.275263   \n",
       "min       0.000000     0.000000     0.000000     0.000000     0.000000   \n",
       "25%       0.000000     0.000000     0.000000     0.000000     0.000000   \n",
       "50%       0.000000     0.000000     0.000000     0.000000     0.000000   \n",
       "75%       0.000000     0.000000     0.000000     0.000000     0.000000   \n",
       "max       1.000000     1.000000     1.000000     1.000000     1.000000   \n",
       "\n",
       "               Mon          Tue          Wed          Thu          Fri  \\\n",
       "count  6951.000000  6951.000000  6951.000000  6951.000000  6951.000000   \n",
       "mean      0.146310     0.137534     0.141275     0.141419     0.143720   \n",
       "std       0.353442     0.344435     0.348330     0.348478     0.350831   \n",
       "min       0.000000     0.000000     0.000000     0.000000     0.000000   \n",
       "25%       0.000000     0.000000     0.000000     0.000000     0.000000   \n",
       "50%       0.000000     0.000000     0.000000     0.000000     0.000000   \n",
       "75%       0.000000     0.000000     0.000000     0.000000     0.000000   \n",
       "max       1.000000     1.000000     1.000000     1.000000     1.000000   \n",
       "\n",
       "               Sat       Cloudy         Snow        Storm  \n",
       "count  6951.000000  6951.000000  6951.000000  6951.000000  \n",
       "mean      0.149187     0.256654     0.083297     0.000288  \n",
       "std       0.356298     0.436818     0.276351     0.016961  \n",
       "min       0.000000     0.000000     0.000000     0.000000  \n",
       "25%       0.000000     0.000000     0.000000     0.000000  \n",
       "50%       0.000000     0.000000     0.000000     0.000000  \n",
       "75%       0.000000     1.000000     0.000000     0.000000  \n",
       "max       1.000000     1.000000     1.000000     1.000000  "
      ]
     },
     "execution_count": 61,
     "metadata": {},
     "output_type": "execute_result"
    }
   ],
   "source": [
    "binary_columns = [ 'holiday', 'workingday','Feb', 'Mar', 'Apr',\n",
    "       'May', 'Jun', 'Jul', 'Aug', 'Sept', 'Oct', 'Nov', 'Dec', 'spring',\n",
    "       'summer', 'fall', 'Mon', 'Tue', 'Wed', 'Thu', 'Fri', 'Sat',\n",
    "       'Cloudy', 'Snow', 'Storm']\n",
    "\n",
    "practice_X_train = BSS_train.columns.difference(binary_columns)\n",
    "practice_X_train_scaled = standarddf(BSS_train, practice_X_train)\n",
    "\n",
    "practice_X_train_scaled.describe()"
   ]
  },
  {
   "cell_type": "code",
   "execution_count": 73,
   "metadata": {},
   "outputs": [
    {
     "data": {
      "text/html": [
       "<div>\n",
       "<style scoped>\n",
       "    .dataframe tbody tr th:only-of-type {\n",
       "        vertical-align: middle;\n",
       "    }\n",
       "\n",
       "    .dataframe tbody tr th {\n",
       "        vertical-align: top;\n",
       "    }\n",
       "\n",
       "    .dataframe thead th {\n",
       "        text-align: right;\n",
       "    }\n",
       "</style>\n",
       "<table border=\"1\" class=\"dataframe\">\n",
       "  <thead>\n",
       "    <tr style=\"text-align: right;\">\n",
       "      <th></th>\n",
       "      <th>hour</th>\n",
       "      <th>holiday</th>\n",
       "      <th>year</th>\n",
       "      <th>temp</th>\n",
       "      <th>hum</th>\n",
       "      <th>windspeed</th>\n",
       "      <th>casual</th>\n",
       "      <th>registered</th>\n",
       "      <th>counts</th>\n",
       "      <th>Feb</th>\n",
       "      <th>Mar</th>\n",
       "      <th>Apr</th>\n",
       "      <th>May</th>\n",
       "      <th>Jun</th>\n",
       "      <th>Jul</th>\n",
       "      <th>Aug</th>\n",
       "      <th>Sept</th>\n",
       "      <th>Oct</th>\n",
       "      <th>Nov</th>\n",
       "      <th>Dec</th>\n",
       "      <th>Mon</th>\n",
       "      <th>Tue</th>\n",
       "      <th>Wed</th>\n",
       "      <th>Thu</th>\n",
       "      <th>Fri</th>\n",
       "      <th>Sat</th>\n",
       "      <th>Cloudy</th>\n",
       "      <th>Snow</th>\n",
       "      <th>Storm</th>\n",
       "    </tr>\n",
       "  </thead>\n",
       "  <tbody>\n",
       "    <tr>\n",
       "      <th>count</th>\n",
       "      <td>6.951000e+03</td>\n",
       "      <td>6951.000000</td>\n",
       "      <td>6.951000e+03</td>\n",
       "      <td>6.951000e+03</td>\n",
       "      <td>6.951000e+03</td>\n",
       "      <td>6.951000e+03</td>\n",
       "      <td>6.951000e+03</td>\n",
       "      <td>6.951000e+03</td>\n",
       "      <td>6.951000e+03</td>\n",
       "      <td>6951.000000</td>\n",
       "      <td>6951.000000</td>\n",
       "      <td>6951.000000</td>\n",
       "      <td>6951.000000</td>\n",
       "      <td>6951.000000</td>\n",
       "      <td>6951.000000</td>\n",
       "      <td>6951.000000</td>\n",
       "      <td>6951.000000</td>\n",
       "      <td>6951.000000</td>\n",
       "      <td>6951.000000</td>\n",
       "      <td>6951.000000</td>\n",
       "      <td>6951.000000</td>\n",
       "      <td>6951.000000</td>\n",
       "      <td>6951.000000</td>\n",
       "      <td>6951.000000</td>\n",
       "      <td>6951.000000</td>\n",
       "      <td>6951.000000</td>\n",
       "      <td>6951.000000</td>\n",
       "      <td>6951.000000</td>\n",
       "      <td>6951.000000</td>\n",
       "    </tr>\n",
       "    <tr>\n",
       "      <th>mean</th>\n",
       "      <td>-5.444900e-17</td>\n",
       "      <td>0.028773</td>\n",
       "      <td>7.736902e-17</td>\n",
       "      <td>3.053872e-17</td>\n",
       "      <td>1.087702e-17</td>\n",
       "      <td>7.334404e-17</td>\n",
       "      <td>2.232904e-17</td>\n",
       "      <td>-4.625530e-17</td>\n",
       "      <td>6.868018e-19</td>\n",
       "      <td>0.078838</td>\n",
       "      <td>0.084880</td>\n",
       "      <td>0.081571</td>\n",
       "      <td>0.086175</td>\n",
       "      <td>0.082722</td>\n",
       "      <td>0.086175</td>\n",
       "      <td>0.086750</td>\n",
       "      <td>0.084592</td>\n",
       "      <td>0.083010</td>\n",
       "      <td>0.080708</td>\n",
       "      <td>0.082578</td>\n",
       "      <td>0.146310</td>\n",
       "      <td>0.137534</td>\n",
       "      <td>0.141275</td>\n",
       "      <td>0.141419</td>\n",
       "      <td>0.143720</td>\n",
       "      <td>0.149187</td>\n",
       "      <td>0.256654</td>\n",
       "      <td>0.083297</td>\n",
       "      <td>0.000288</td>\n",
       "    </tr>\n",
       "    <tr>\n",
       "      <th>std</th>\n",
       "      <td>1.000072e+00</td>\n",
       "      <td>0.167179</td>\n",
       "      <td>1.000072e+00</td>\n",
       "      <td>1.000072e+00</td>\n",
       "      <td>1.000072e+00</td>\n",
       "      <td>1.000072e+00</td>\n",
       "      <td>1.000072e+00</td>\n",
       "      <td>1.000072e+00</td>\n",
       "      <td>1.000072e+00</td>\n",
       "      <td>0.269504</td>\n",
       "      <td>0.278723</td>\n",
       "      <td>0.273730</td>\n",
       "      <td>0.280642</td>\n",
       "      <td>0.275481</td>\n",
       "      <td>0.280642</td>\n",
       "      <td>0.281489</td>\n",
       "      <td>0.278294</td>\n",
       "      <td>0.275917</td>\n",
       "      <td>0.272405</td>\n",
       "      <td>0.275263</td>\n",
       "      <td>0.353442</td>\n",
       "      <td>0.344435</td>\n",
       "      <td>0.348330</td>\n",
       "      <td>0.348478</td>\n",
       "      <td>0.350831</td>\n",
       "      <td>0.356298</td>\n",
       "      <td>0.436818</td>\n",
       "      <td>0.276351</td>\n",
       "      <td>0.016961</td>\n",
       "    </tr>\n",
       "    <tr>\n",
       "      <th>min</th>\n",
       "      <td>-1.659279e+00</td>\n",
       "      <td>0.000000</td>\n",
       "      <td>-1.005627e+00</td>\n",
       "      <td>-2.483223e+00</td>\n",
       "      <td>-3.238285e+00</td>\n",
       "      <td>-1.540687e+00</td>\n",
       "      <td>-7.238733e-01</td>\n",
       "      <td>-1.015631e+00</td>\n",
       "      <td>-1.042194e+00</td>\n",
       "      <td>0.000000</td>\n",
       "      <td>0.000000</td>\n",
       "      <td>0.000000</td>\n",
       "      <td>0.000000</td>\n",
       "      <td>0.000000</td>\n",
       "      <td>0.000000</td>\n",
       "      <td>0.000000</td>\n",
       "      <td>0.000000</td>\n",
       "      <td>0.000000</td>\n",
       "      <td>0.000000</td>\n",
       "      <td>0.000000</td>\n",
       "      <td>0.000000</td>\n",
       "      <td>0.000000</td>\n",
       "      <td>0.000000</td>\n",
       "      <td>0.000000</td>\n",
       "      <td>0.000000</td>\n",
       "      <td>0.000000</td>\n",
       "      <td>0.000000</td>\n",
       "      <td>0.000000</td>\n",
       "      <td>0.000000</td>\n",
       "    </tr>\n",
       "    <tr>\n",
       "      <th>25%</th>\n",
       "      <td>-9.412351e-01</td>\n",
       "      <td>0.000000</td>\n",
       "      <td>-1.005627e+00</td>\n",
       "      <td>-8.193532e-01</td>\n",
       "      <td>-7.535213e-01</td>\n",
       "      <td>-6.949113e-01</td>\n",
       "      <td>-6.428957e-01</td>\n",
       "      <td>-7.931419e-01</td>\n",
       "      <td>-8.282267e-01</td>\n",
       "      <td>0.000000</td>\n",
       "      <td>0.000000</td>\n",
       "      <td>0.000000</td>\n",
       "      <td>0.000000</td>\n",
       "      <td>0.000000</td>\n",
       "      <td>0.000000</td>\n",
       "      <td>0.000000</td>\n",
       "      <td>0.000000</td>\n",
       "      <td>0.000000</td>\n",
       "      <td>0.000000</td>\n",
       "      <td>0.000000</td>\n",
       "      <td>0.000000</td>\n",
       "      <td>0.000000</td>\n",
       "      <td>0.000000</td>\n",
       "      <td>0.000000</td>\n",
       "      <td>0.000000</td>\n",
       "      <td>0.000000</td>\n",
       "      <td>0.000000</td>\n",
       "      <td>0.000000</td>\n",
       "      <td>0.000000</td>\n",
       "    </tr>\n",
       "    <tr>\n",
       "      <th>50%</th>\n",
       "      <td>6.402580e-02</td>\n",
       "      <td>0.000000</td>\n",
       "      <td>9.944049e-01</td>\n",
       "      <td>1.258196e-02</td>\n",
       "      <td>2.296735e-02</td>\n",
       "      <td>2.946141e-02</td>\n",
       "      <td>-3.797186e-01</td>\n",
       "      <td>-2.500067e-01</td>\n",
       "      <td>-2.576484e-01</td>\n",
       "      <td>0.000000</td>\n",
       "      <td>0.000000</td>\n",
       "      <td>0.000000</td>\n",
       "      <td>0.000000</td>\n",
       "      <td>0.000000</td>\n",
       "      <td>0.000000</td>\n",
       "      <td>0.000000</td>\n",
       "      <td>0.000000</td>\n",
       "      <td>0.000000</td>\n",
       "      <td>0.000000</td>\n",
       "      <td>0.000000</td>\n",
       "      <td>0.000000</td>\n",
       "      <td>0.000000</td>\n",
       "      <td>0.000000</td>\n",
       "      <td>0.000000</td>\n",
       "      <td>0.000000</td>\n",
       "      <td>0.000000</td>\n",
       "      <td>0.000000</td>\n",
       "      <td>0.000000</td>\n",
       "      <td>0.000000</td>\n",
       "    </tr>\n",
       "    <tr>\n",
       "      <th>75%</th>\n",
       "      <td>9.256780e-01</td>\n",
       "      <td>0.000000</td>\n",
       "      <td>9.944049e-01</td>\n",
       "      <td>8.445171e-01</td>\n",
       "      <td>7.994560e-01</td>\n",
       "      <td>5.126464e-01</td>\n",
       "      <td>2.478577e-01</td>\n",
       "      <td>4.370919e-01</td>\n",
       "      <td>5.159242e-01</td>\n",
       "      <td>0.000000</td>\n",
       "      <td>0.000000</td>\n",
       "      <td>0.000000</td>\n",
       "      <td>0.000000</td>\n",
       "      <td>0.000000</td>\n",
       "      <td>0.000000</td>\n",
       "      <td>0.000000</td>\n",
       "      <td>0.000000</td>\n",
       "      <td>0.000000</td>\n",
       "      <td>0.000000</td>\n",
       "      <td>0.000000</td>\n",
       "      <td>0.000000</td>\n",
       "      <td>0.000000</td>\n",
       "      <td>0.000000</td>\n",
       "      <td>0.000000</td>\n",
       "      <td>0.000000</td>\n",
       "      <td>0.000000</td>\n",
       "      <td>1.000000</td>\n",
       "      <td>0.000000</td>\n",
       "      <td>0.000000</td>\n",
       "    </tr>\n",
       "    <tr>\n",
       "      <th>max</th>\n",
       "      <td>1.643722e+00</td>\n",
       "      <td>1.000000</td>\n",
       "      <td>9.944049e-01</td>\n",
       "      <td>2.508387e+00</td>\n",
       "      <td>1.938306e+00</td>\n",
       "      <td>5.344496e+00</td>\n",
       "      <td>6.604598e+00</td>\n",
       "      <td>4.782173e+00</td>\n",
       "      <td>4.312465e+00</td>\n",
       "      <td>1.000000</td>\n",
       "      <td>1.000000</td>\n",
       "      <td>1.000000</td>\n",
       "      <td>1.000000</td>\n",
       "      <td>1.000000</td>\n",
       "      <td>1.000000</td>\n",
       "      <td>1.000000</td>\n",
       "      <td>1.000000</td>\n",
       "      <td>1.000000</td>\n",
       "      <td>1.000000</td>\n",
       "      <td>1.000000</td>\n",
       "      <td>1.000000</td>\n",
       "      <td>1.000000</td>\n",
       "      <td>1.000000</td>\n",
       "      <td>1.000000</td>\n",
       "      <td>1.000000</td>\n",
       "      <td>1.000000</td>\n",
       "      <td>1.000000</td>\n",
       "      <td>1.000000</td>\n",
       "      <td>1.000000</td>\n",
       "    </tr>\n",
       "  </tbody>\n",
       "</table>\n",
       "</div>"
      ],
      "text/plain": [
       "               hour      holiday          year          temp           hum  \\\n",
       "count  6.951000e+03  6951.000000  6.951000e+03  6.951000e+03  6.951000e+03   \n",
       "mean  -5.444900e-17     0.028773  7.736902e-17  3.053872e-17  1.087702e-17   \n",
       "std    1.000072e+00     0.167179  1.000072e+00  1.000072e+00  1.000072e+00   \n",
       "min   -1.659279e+00     0.000000 -1.005627e+00 -2.483223e+00 -3.238285e+00   \n",
       "25%   -9.412351e-01     0.000000 -1.005627e+00 -8.193532e-01 -7.535213e-01   \n",
       "50%    6.402580e-02     0.000000  9.944049e-01  1.258196e-02  2.296735e-02   \n",
       "75%    9.256780e-01     0.000000  9.944049e-01  8.445171e-01  7.994560e-01   \n",
       "max    1.643722e+00     1.000000  9.944049e-01  2.508387e+00  1.938306e+00   \n",
       "\n",
       "          windspeed        casual    registered        counts          Feb  \\\n",
       "count  6.951000e+03  6.951000e+03  6.951000e+03  6.951000e+03  6951.000000   \n",
       "mean   7.334404e-17  2.232904e-17 -4.625530e-17  6.868018e-19     0.078838   \n",
       "std    1.000072e+00  1.000072e+00  1.000072e+00  1.000072e+00     0.269504   \n",
       "min   -1.540687e+00 -7.238733e-01 -1.015631e+00 -1.042194e+00     0.000000   \n",
       "25%   -6.949113e-01 -6.428957e-01 -7.931419e-01 -8.282267e-01     0.000000   \n",
       "50%    2.946141e-02 -3.797186e-01 -2.500067e-01 -2.576484e-01     0.000000   \n",
       "75%    5.126464e-01  2.478577e-01  4.370919e-01  5.159242e-01     0.000000   \n",
       "max    5.344496e+00  6.604598e+00  4.782173e+00  4.312465e+00     1.000000   \n",
       "\n",
       "               Mar          Apr          May          Jun          Jul  \\\n",
       "count  6951.000000  6951.000000  6951.000000  6951.000000  6951.000000   \n",
       "mean      0.084880     0.081571     0.086175     0.082722     0.086175   \n",
       "std       0.278723     0.273730     0.280642     0.275481     0.280642   \n",
       "min       0.000000     0.000000     0.000000     0.000000     0.000000   \n",
       "25%       0.000000     0.000000     0.000000     0.000000     0.000000   \n",
       "50%       0.000000     0.000000     0.000000     0.000000     0.000000   \n",
       "75%       0.000000     0.000000     0.000000     0.000000     0.000000   \n",
       "max       1.000000     1.000000     1.000000     1.000000     1.000000   \n",
       "\n",
       "               Aug         Sept          Oct          Nov          Dec  \\\n",
       "count  6951.000000  6951.000000  6951.000000  6951.000000  6951.000000   \n",
       "mean      0.086750     0.084592     0.083010     0.080708     0.082578   \n",
       "std       0.281489     0.278294     0.275917     0.272405     0.275263   \n",
       "min       0.000000     0.000000     0.000000     0.000000     0.000000   \n",
       "25%       0.000000     0.000000     0.000000     0.000000     0.000000   \n",
       "50%       0.000000     0.000000     0.000000     0.000000     0.000000   \n",
       "75%       0.000000     0.000000     0.000000     0.000000     0.000000   \n",
       "max       1.000000     1.000000     1.000000     1.000000     1.000000   \n",
       "\n",
       "               Mon          Tue          Wed          Thu          Fri  \\\n",
       "count  6951.000000  6951.000000  6951.000000  6951.000000  6951.000000   \n",
       "mean      0.146310     0.137534     0.141275     0.141419     0.143720   \n",
       "std       0.353442     0.344435     0.348330     0.348478     0.350831   \n",
       "min       0.000000     0.000000     0.000000     0.000000     0.000000   \n",
       "25%       0.000000     0.000000     0.000000     0.000000     0.000000   \n",
       "50%       0.000000     0.000000     0.000000     0.000000     0.000000   \n",
       "75%       0.000000     0.000000     0.000000     0.000000     0.000000   \n",
       "max       1.000000     1.000000     1.000000     1.000000     1.000000   \n",
       "\n",
       "               Sat       Cloudy         Snow        Storm  \n",
       "count  6951.000000  6951.000000  6951.000000  6951.000000  \n",
       "mean      0.149187     0.256654     0.083297     0.000288  \n",
       "std       0.356298     0.436818     0.276351     0.016961  \n",
       "min       0.000000     0.000000     0.000000     0.000000  \n",
       "25%       0.000000     0.000000     0.000000     0.000000  \n",
       "50%       0.000000     0.000000     0.000000     0.000000  \n",
       "75%       0.000000     1.000000     0.000000     0.000000  \n",
       "max       1.000000     1.000000     1.000000     1.000000  "
      ]
     },
     "execution_count": 73,
     "metadata": {},
     "output_type": "execute_result"
    }
   ],
   "source": [
    "BSS_train.describe()"
   ]
  },
  {
   "cell_type": "markdown",
   "metadata": {
    "button": false,
    "new_sheet": false,
    "run_control": {
     "read_only": false
    }
   },
   "source": [
    "**4.3 Write code to augment your a dataset with higher-order features for...**"
   ]
  },
  {
   "cell_type": "code",
   "execution_count": null,
   "metadata": {
    "button": false,
    "new_sheet": false,
    "run_control": {
     "read_only": false
    }
   },
   "outputs": [],
   "source": [
    "# your code here"
   ]
  },
  {
   "cell_type": "markdown",
   "metadata": {
    "button": false,
    "new_sheet": false,
    "run_control": {
     "read_only": false
    }
   },
   "source": [
    "**4.4 Write code to add interaction terms to the model...**"
   ]
  },
  {
   "cell_type": "code",
   "execution_count": null,
   "metadata": {
    "button": false,
    "new_sheet": false,
    "run_control": {
     "read_only": false
    }
   },
   "outputs": [],
   "source": [
    "# your code here"
   ]
  },
  {
   "cell_type": "markdown",
   "metadata": {
    "button": false,
    "new_sheet": false,
    "run_control": {
     "read_only": false
    }
   },
   "source": [
    "**4.5 Combine all your code so far into a function named...**"
   ]
  },
  {
   "cell_type": "code",
   "execution_count": null,
   "metadata": {
    "button": false,
    "collapsed": true,
    "new_sheet": false,
    "run_control": {
     "read_only": false
    }
   },
   "outputs": [],
   "source": [
    "def get_design_mats(train_df, val_df,  degree, \n",
    "                    columns_forpoly=['temp', 'hum','windspeed', 'hour'],\n",
    "                    target_col='counts', \n",
    "                    bad_columns=['counts']):\n",
    "    \"\"\"\n",
    "    :param train_df: The training data\n",
    "    :param val_df: Your test/validation data\n",
    "    :param columns_forpoly: List containing the column name for which we want to create \n",
    "                            polynomial terms\n",
    "    :param target_col: The response variable column\n",
    "    :param bad_columns: The columns you want to drop\n",
    "    \"\"\"\n",
    "    \n",
    "    # add code here \n",
    "    return x_train,y_train, x_val,y_val"
   ]
  },
  {
   "cell_type": "markdown",
   "metadata": {
    "button": false,
    "new_sheet": false,
    "run_control": {
     "read_only": false
    }
   },
   "source": [
    "**4.6 For each degree in 1 through 8...**"
   ]
  },
  {
   "cell_type": "code",
   "execution_count": null,
   "metadata": {
    "button": false,
    "new_sheet": false,
    "run_control": {
     "read_only": false
    }
   },
   "outputs": [],
   "source": [
    "# your code here"
   ]
  },
  {
   "cell_type": "markdown",
   "metadata": {
    "button": false,
    "new_sheet": false,
    "run_control": {
     "read_only": false
    }
   },
   "source": [
    "**4.7 Discuss patterns you see in the results...**"
   ]
  },
  {
   "cell_type": "markdown",
   "metadata": {
    "button": false,
    "new_sheet": false,
    "run_control": {
     "read_only": false
    }
   },
   "source": [
    "*your answer here*"
   ]
  },
  {
   "cell_type": "markdown",
   "metadata": {},
   "source": [
    "---"
   ]
  },
  {
   "cell_type": "markdown",
   "metadata": {
    "button": false,
    "new_sheet": false,
    "run_control": {
     "read_only": false
    }
   },
   "source": [
    "<div class='exercise'> <b> Question 5 [20pts]: Regularized Models </b> </div>\n",
    "\n",
    "**5.1** Let's try regularizing our models via ridge regression. Split the training set, `BSS_train`, into an 80-20 train-validation split.  Build a table showing the validation set $R^2$ of polynomial models with degree from 1-8, regularized at the levels $\\lambda = (.01, .05, .1,.5, 1, 5, 10, 50, 100)$. Do not perform cross validation at this point, simply report performance on the single validation set. \n",
    "\n",
    "**5.2** Find the best-scoring degree and regularization combination.\n",
    "\n",
    "**5.3** It's time to see how well our selected model will do on future data. Use the earlier created test dataset, do any required formatting, and report the best model's $R^2$ score. How does it compare to the validation set score that made us choose this model? Does the test set simply have observations that are more difficult or easier to predict?\n",
    "\n",
    "**5.4** Build a dataset with polynomial degree 1 and fit an OLS model, a Ridge model, and a Lasso model. Use `RidgeCV` and `LassoCV` to select the best regularization level from among `(.1,.5,1,5,10,50,100)`. \n",
    "\n",
    "Note: On the lasso model, you may need to increase `max_iter` (start with 100,000) for the optimization to converge.\n",
    "\n",
    "**5.5** Plot histograms of the coefficients found by each of OLS, ridge, and lasso. What trends do you see in the magnitude of the coefficients?\n",
    "\n",
    "**5.6** The plots above show the overall distribution of coefficient values in each model, but do not show how each model treats individual coefficients. Build a plot which cleanly presents, for each feature in the data, 1) The coefficient assigned by OLS, 2) the coefficient assigned by ridge, and 3) the coefficient assigned by lasso.\n",
    "\n",
    "**Hint: Bar plots are a possible choice, but you are not required to use them**\n",
    "\n",
    "**Hint: use `xticks` to label coefficients with their feature names**\n",
    "\n",
    "**5.7** What trends do you see in the plot above? How do the three approaches handle the correlated pair `temp` and `atemp`?"
   ]
  },
  {
   "cell_type": "markdown",
   "metadata": {
    "button": false,
    "new_sheet": false,
    "run_control": {
     "read_only": false
    }
   },
   "source": [
    "### Answers"
   ]
  },
  {
   "cell_type": "markdown",
   "metadata": {
    "button": false,
    "new_sheet": false,
    "run_control": {
     "read_only": false
    }
   },
   "source": [
    "**5.1 Let's try regularizing our models via...** "
   ]
  },
  {
   "cell_type": "code",
   "execution_count": 46,
   "metadata": {
    "button": false,
    "new_sheet": false,
    "run_control": {
     "read_only": false
    }
   },
   "outputs": [
    {
     "name": "stdout",
     "output_type": "stream",
     "text": [
      "(5560, 29) (1391, 29)\n"
     ]
    },
    {
     "data": {
      "text/html": [
       "<div>\n",
       "<style scoped>\n",
       "    .dataframe tbody tr th:only-of-type {\n",
       "        vertical-align: middle;\n",
       "    }\n",
       "\n",
       "    .dataframe tbody tr th {\n",
       "        vertical-align: top;\n",
       "    }\n",
       "\n",
       "    .dataframe thead th {\n",
       "        text-align: right;\n",
       "    }\n",
       "</style>\n",
       "<table border=\"1\" class=\"dataframe\">\n",
       "  <thead>\n",
       "    <tr style=\"text-align: right;\">\n",
       "      <th></th>\n",
       "      <th>hour</th>\n",
       "      <th>holiday</th>\n",
       "      <th>year</th>\n",
       "      <th>temp</th>\n",
       "      <th>hum</th>\n",
       "      <th>windspeed</th>\n",
       "      <th>casual</th>\n",
       "      <th>registered</th>\n",
       "      <th>counts</th>\n",
       "      <th>Feb</th>\n",
       "      <th>Mar</th>\n",
       "      <th>Apr</th>\n",
       "      <th>May</th>\n",
       "      <th>Jun</th>\n",
       "      <th>Jul</th>\n",
       "      <th>Aug</th>\n",
       "      <th>Sept</th>\n",
       "      <th>Oct</th>\n",
       "      <th>Nov</th>\n",
       "      <th>Dec</th>\n",
       "      <th>Mon</th>\n",
       "      <th>Tue</th>\n",
       "      <th>Wed</th>\n",
       "      <th>Thu</th>\n",
       "      <th>Fri</th>\n",
       "      <th>Sat</th>\n",
       "      <th>Cloudy</th>\n",
       "      <th>Snow</th>\n",
       "      <th>Storm</th>\n",
       "    </tr>\n",
       "  </thead>\n",
       "  <tbody>\n",
       "    <tr>\n",
       "      <th>4271</th>\n",
       "      <td>1</td>\n",
       "      <td>0</td>\n",
       "      <td>0</td>\n",
       "      <td>0.26</td>\n",
       "      <td>1.00</td>\n",
       "      <td>0.1642</td>\n",
       "      <td>0</td>\n",
       "      <td>4</td>\n",
       "      <td>4</td>\n",
       "      <td>0</td>\n",
       "      <td>0</td>\n",
       "      <td>1</td>\n",
       "      <td>0</td>\n",
       "      <td>0</td>\n",
       "      <td>0</td>\n",
       "      <td>0</td>\n",
       "      <td>0</td>\n",
       "      <td>0</td>\n",
       "      <td>0</td>\n",
       "      <td>0</td>\n",
       "      <td>0</td>\n",
       "      <td>0</td>\n",
       "      <td>0</td>\n",
       "      <td>0</td>\n",
       "      <td>1</td>\n",
       "      <td>0</td>\n",
       "      <td>0</td>\n",
       "      <td>1</td>\n",
       "      <td>0</td>\n",
       "    </tr>\n",
       "    <tr>\n",
       "      <th>4920</th>\n",
       "      <td>0</td>\n",
       "      <td>0</td>\n",
       "      <td>1</td>\n",
       "      <td>0.34</td>\n",
       "      <td>0.53</td>\n",
       "      <td>0.1642</td>\n",
       "      <td>9</td>\n",
       "      <td>99</td>\n",
       "      <td>108</td>\n",
       "      <td>0</td>\n",
       "      <td>0</td>\n",
       "      <td>0</td>\n",
       "      <td>0</td>\n",
       "      <td>0</td>\n",
       "      <td>0</td>\n",
       "      <td>0</td>\n",
       "      <td>0</td>\n",
       "      <td>0</td>\n",
       "      <td>1</td>\n",
       "      <td>0</td>\n",
       "      <td>0</td>\n",
       "      <td>0</td>\n",
       "      <td>0</td>\n",
       "      <td>0</td>\n",
       "      <td>0</td>\n",
       "      <td>1</td>\n",
       "      <td>0</td>\n",
       "      <td>0</td>\n",
       "      <td>0</td>\n",
       "    </tr>\n",
       "    <tr>\n",
       "      <th>2954</th>\n",
       "      <td>4</td>\n",
       "      <td>0</td>\n",
       "      <td>0</td>\n",
       "      <td>0.36</td>\n",
       "      <td>0.53</td>\n",
       "      <td>0.1045</td>\n",
       "      <td>0</td>\n",
       "      <td>4</td>\n",
       "      <td>4</td>\n",
       "      <td>0</td>\n",
       "      <td>0</td>\n",
       "      <td>0</td>\n",
       "      <td>0</td>\n",
       "      <td>0</td>\n",
       "      <td>0</td>\n",
       "      <td>0</td>\n",
       "      <td>0</td>\n",
       "      <td>0</td>\n",
       "      <td>0</td>\n",
       "      <td>1</td>\n",
       "      <td>0</td>\n",
       "      <td>1</td>\n",
       "      <td>0</td>\n",
       "      <td>0</td>\n",
       "      <td>0</td>\n",
       "      <td>0</td>\n",
       "      <td>1</td>\n",
       "      <td>0</td>\n",
       "      <td>0</td>\n",
       "    </tr>\n",
       "    <tr>\n",
       "      <th>607</th>\n",
       "      <td>6</td>\n",
       "      <td>0</td>\n",
       "      <td>1</td>\n",
       "      <td>0.60</td>\n",
       "      <td>0.78</td>\n",
       "      <td>0.1642</td>\n",
       "      <td>3</td>\n",
       "      <td>162</td>\n",
       "      <td>165</td>\n",
       "      <td>0</td>\n",
       "      <td>0</td>\n",
       "      <td>0</td>\n",
       "      <td>0</td>\n",
       "      <td>0</td>\n",
       "      <td>0</td>\n",
       "      <td>1</td>\n",
       "      <td>0</td>\n",
       "      <td>0</td>\n",
       "      <td>0</td>\n",
       "      <td>0</td>\n",
       "      <td>0</td>\n",
       "      <td>0</td>\n",
       "      <td>0</td>\n",
       "      <td>1</td>\n",
       "      <td>0</td>\n",
       "      <td>0</td>\n",
       "      <td>0</td>\n",
       "      <td>0</td>\n",
       "      <td>0</td>\n",
       "    </tr>\n",
       "    <tr>\n",
       "      <th>2205</th>\n",
       "      <td>19</td>\n",
       "      <td>0</td>\n",
       "      <td>1</td>\n",
       "      <td>0.70</td>\n",
       "      <td>0.45</td>\n",
       "      <td>0.1642</td>\n",
       "      <td>164</td>\n",
       "      <td>324</td>\n",
       "      <td>488</td>\n",
       "      <td>0</td>\n",
       "      <td>0</td>\n",
       "      <td>0</td>\n",
       "      <td>0</td>\n",
       "      <td>0</td>\n",
       "      <td>0</td>\n",
       "      <td>1</td>\n",
       "      <td>0</td>\n",
       "      <td>0</td>\n",
       "      <td>0</td>\n",
       "      <td>0</td>\n",
       "      <td>0</td>\n",
       "      <td>0</td>\n",
       "      <td>0</td>\n",
       "      <td>0</td>\n",
       "      <td>0</td>\n",
       "      <td>1</td>\n",
       "      <td>0</td>\n",
       "      <td>0</td>\n",
       "      <td>0</td>\n",
       "    </tr>\n",
       "  </tbody>\n",
       "</table>\n",
       "</div>"
      ],
      "text/plain": [
       "      hour  holiday  year  temp   hum  windspeed  casual  registered  counts  \\\n",
       "4271     1        0     0  0.26  1.00     0.1642       0           4       4   \n",
       "4920     0        0     1  0.34  0.53     0.1642       9          99     108   \n",
       "2954     4        0     0  0.36  0.53     0.1045       0           4       4   \n",
       "607      6        0     1  0.60  0.78     0.1642       3         162     165   \n",
       "2205    19        0     1  0.70  0.45     0.1642     164         324     488   \n",
       "\n",
       "      Feb  Mar  Apr  May  Jun  Jul  Aug  Sept  Oct  Nov  Dec  Mon  Tue  Wed  \\\n",
       "4271    0    0    1    0    0    0    0     0    0    0    0    0    0    0   \n",
       "4920    0    0    0    0    0    0    0     0    0    1    0    0    0    0   \n",
       "2954    0    0    0    0    0    0    0     0    0    0    1    0    1    0   \n",
       "607     0    0    0    0    0    0    1     0    0    0    0    0    0    0   \n",
       "2205    0    0    0    0    0    0    1     0    0    0    0    0    0    0   \n",
       "\n",
       "      Thu  Fri  Sat  Cloudy  Snow  Storm  \n",
       "4271    0    1    0       0     1      0  \n",
       "4920    0    0    1       0     0      0  \n",
       "2954    0    0    0       1     0      0  \n",
       "607     1    0    0       0     0      0  \n",
       "2205    0    0    1       0     0      0  "
      ]
     },
     "execution_count": 46,
     "metadata": {},
     "output_type": "execute_result"
    }
   ],
   "source": [
    "# your code here\n",
    "BSS_train1, BSS_validate = train_test_split(BSS_train, test_size = 0.2, random_state = 90)\n",
    "print(BSS_train1.shape, BSS_validate.shape)\n",
    "BSS_train1.head()"
   ]
  },
  {
   "cell_type": "markdown",
   "metadata": {
    "button": false,
    "new_sheet": false,
    "run_control": {
     "read_only": false
    }
   },
   "source": [
    "**5.2 Find the best-scoring degree and regularization combination.**"
   ]
  },
  {
   "cell_type": "code",
   "execution_count": null,
   "metadata": {
    "button": false,
    "new_sheet": false,
    "run_control": {
     "read_only": false
    }
   },
   "outputs": [],
   "source": [
    "# your code here"
   ]
  },
  {
   "cell_type": "markdown",
   "metadata": {
    "button": false,
    "new_sheet": false,
    "run_control": {
     "read_only": false
    }
   },
   "source": [
    "**5.3 It's time to see how well our selected model...**\n"
   ]
  },
  {
   "cell_type": "code",
   "execution_count": null,
   "metadata": {
    "button": false,
    "new_sheet": false,
    "run_control": {
     "read_only": false
    }
   },
   "outputs": [],
   "source": [
    "# your code here"
   ]
  },
  {
   "cell_type": "markdown",
   "metadata": {
    "button": false,
    "new_sheet": false,
    "run_control": {
     "read_only": false
    }
   },
   "source": [
    "**5.4 Build a dataset with polynomial degree 1...**"
   ]
  },
  {
   "cell_type": "code",
   "execution_count": null,
   "metadata": {
    "button": false,
    "new_sheet": false,
    "run_control": {
     "read_only": false
    }
   },
   "outputs": [],
   "source": [
    "# your code here"
   ]
  },
  {
   "cell_type": "markdown",
   "metadata": {
    "button": false,
    "new_sheet": false,
    "run_control": {
     "read_only": false
    }
   },
   "source": [
    "**5.5 Plot histograms of the coefficients found...**"
   ]
  },
  {
   "cell_type": "code",
   "execution_count": null,
   "metadata": {
    "button": false,
    "new_sheet": false,
    "run_control": {
     "read_only": false
    }
   },
   "outputs": [],
   "source": [
    "# your code here"
   ]
  },
  {
   "cell_type": "markdown",
   "metadata": {
    "button": false,
    "new_sheet": false,
    "run_control": {
     "read_only": false
    }
   },
   "source": [
    "**5.6 The plots above show the overall distribution of... **"
   ]
  },
  {
   "cell_type": "code",
   "execution_count": null,
   "metadata": {
    "button": false,
    "new_sheet": false,
    "run_control": {
     "read_only": false
    }
   },
   "outputs": [],
   "source": [
    "# your code here"
   ]
  },
  {
   "cell_type": "markdown",
   "metadata": {
    "button": false,
    "new_sheet": false,
    "run_control": {
     "read_only": false
    }
   },
   "source": [
    "**5.7 What trends do you see...**"
   ]
  },
  {
   "cell_type": "code",
   "execution_count": null,
   "metadata": {
    "button": false,
    "collapsed": true,
    "new_sheet": false,
    "run_control": {
     "read_only": false
    }
   },
   "outputs": [],
   "source": [
    "# your code here"
   ]
  },
  {
   "cell_type": "markdown",
   "metadata": {
    "button": false,
    "new_sheet": false,
    "run_control": {
     "read_only": false
    }
   },
   "source": [
    "*your answer here*"
   ]
  },
  {
   "cell_type": "markdown",
   "metadata": {},
   "source": [
    "---"
   ]
  },
  {
   "cell_type": "markdown",
   "metadata": {
    "button": false,
    "new_sheet": false,
    "run_control": {
     "read_only": false
    }
   },
   "source": [
    "<div class='exercise'> <b> Question 6 [16 pts]: Reflection </b></div>\n",
    "These problems are open-ended, and you are not expected to write more than 2-3 sentences. We are interested in seeing that you have thought about these issues; you will be graded on how well you justify your conclusions here, not on what you conclude.\n",
    "\n",
    "**6.1** Reflect back on the `get_design_mats` function you built. In what way was writing this function useful in your analysis? What issues might you have encountered if you copy/pasted the model-building code instead of tying it together in a function? Does a `get_design_mat` function seem wise in general, or are there better options?\n",
    "\n",
    "**6.2** What are the costs and benefits of applying ridge/lasso regularization to an overfit OLS model, versus setting a specific degree of polynomial or forward selecting polynomial features for the model?\n",
    "\n",
    "**6.3** This pset posed a purely predictive goal: forecast ridership as accurately as possible. How important is interpretability in this context? Considering, e.g., your lasso and ridge models from Question 5, how would you react if the models predicted well, but the coefficient values didn't make sense once interpreted?\n",
    "\n",
    "**6.4** Reflect back on our original goal of helping BikeShare predict what demand will be like in the week ahead, and thus how many bikes they can bring in for maintenance. In your view, did we accomplish this goal? If yes, which model would you put into production and why? If not, which model came closest, what other analyses might you conduct, and how likely do you think they are to work?\n"
   ]
  },
  {
   "cell_type": "markdown",
   "metadata": {
    "button": false,
    "new_sheet": false,
    "run_control": {
     "read_only": false
    }
   },
   "source": [
    "### Answers"
   ]
  },
  {
   "cell_type": "markdown",
   "metadata": {},
   "source": [
    "**6.1 Reflect back on the get_design_mats function you built...**"
   ]
  },
  {
   "cell_type": "markdown",
   "metadata": {},
   "source": [
    "*your answer here*"
   ]
  },
  {
   "cell_type": "markdown",
   "metadata": {},
   "source": [
    "**6.2 What are the costs and benefits of applying ridge/lasso...**"
   ]
  },
  {
   "cell_type": "markdown",
   "metadata": {},
   "source": [
    "*your answer here*"
   ]
  },
  {
   "cell_type": "markdown",
   "metadata": {},
   "source": [
    "**6.3 This pset posed a purely predictive goal: forecast ridership...**"
   ]
  },
  {
   "cell_type": "markdown",
   "metadata": {},
   "source": [
    "*your answer here*"
   ]
  },
  {
   "cell_type": "markdown",
   "metadata": {},
   "source": [
    "**6.4 Reflect back on our original goal of helping BikeShare predict...**"
   ]
  },
  {
   "cell_type": "markdown",
   "metadata": {},
   "source": [
    "*your answer here*"
   ]
  },
  {
   "cell_type": "code",
   "execution_count": null,
   "metadata": {
    "button": false,
    "collapsed": true,
    "new_sheet": false,
    "run_control": {
     "read_only": false
    }
   },
   "outputs": [],
   "source": []
  }
 ],
 "metadata": {
  "kernelspec": {
   "display_name": "Python 3",
   "language": "python",
   "name": "python3"
  },
  "language_info": {
   "codemirror_mode": {
    "name": "ipython",
    "version": 3
   },
   "file_extension": ".py",
   "mimetype": "text/x-python",
   "name": "python",
   "nbconvert_exporter": "python",
   "pygments_lexer": "ipython3",
   "version": "3.7.3"
  }
 },
 "nbformat": 4,
 "nbformat_minor": 1
}
